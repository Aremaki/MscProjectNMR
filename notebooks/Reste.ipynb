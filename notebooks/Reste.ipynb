{
 "cells": [
  {
   "cell_type": "markdown",
   "metadata": {
    "collapsed": true
   },
   "source": [
    "# Training of DL models for Multi-regression of the metabolites concentrations"
   ]
  },
  {
   "cell_type": "markdown",
   "metadata": {},
   "source": [
    "### Install project packages"
   ]
  },
  {
   "cell_type": "code",
   "execution_count": 4,
   "metadata": {},
   "outputs": [
    {
     "name": "stdout",
     "output_type": "stream",
     "text": [
      "Defaulting to user installation because normal site-packages is not writeable\n",
      "Obtaining file:///data/ar1220/MscProjectNMR\n",
      "Installing collected packages: MscProjectNMR\n",
      "  Attempting uninstall: MscProjectNMR\n",
      "    Found existing installation: MscProjectNMR 0\n",
      "    Uninstalling MscProjectNMR-0:\n",
      "      Successfully uninstalled MscProjectNMR-0\n",
      "  Running setup.py develop for MscProjectNMR\n",
      "Successfully installed MscProjectNMR-0\n"
     ]
    }
   ],
   "source": [
    "%%bash\n",
    "pip install -e ../."
   ]
  },
  {
   "cell_type": "markdown",
   "metadata": {},
   "source": [
    "### Install required python modules"
   ]
  },
  {
   "cell_type": "code",
   "execution_count": null,
   "metadata": {},
   "outputs": [],
   "source": [
    "%%bash\n",
    "pip install -r ../requirements.txt"
   ]
  },
  {
   "cell_type": "code",
   "execution_count": null,
   "metadata": {},
   "outputs": [],
   "source": [
    "gpus = tf.config.list_physical_devices('GPU')\n",
    "if gpus:\n",
    "  # Restrict TensorFlow to only allocate 1GB of memory on the first GPU\n",
    "    try:\n",
    "        tf.config.experimental.set_virtual_device_configuration(\n",
    "            gpus[0],\n",
    "            [tf.config.experimental.VirtualDeviceConfiguration(memory_limit=2048)])\n",
    "        logical_gpus = tf.config.experimental.list_logical_devices('GPU')\n",
    "        print(len(gpus), \"Physical GPUs,\", len(logical_gpus), \"Logical GPUs\")\n",
    "    except RuntimeError as e:\n",
    "    # Virtual devices must be set before GPUs have been initialized\n",
    "        print(e)"
   ]
  },
  {
   "cell_type": "code",
   "execution_count": 2,
   "metadata": {},
   "outputs": [
    {
     "name": "stdout",
     "output_type": "stream",
     "text": [
      "8 Physical GPUs, 8 Logical GPUs\n"
     ]
    }
   ],
   "source": [
    "gpus = tf.config.list_physical_devices('GPU')\n",
    "if gpus:\n",
    "    try:\n",
    "        # Currently, memory growth needs to be the same across GPUs\n",
    "        for gpu in gpus:\n",
    "            tf.config.experimental.set_memory_growth(gpu, True)\n",
    "        logical_gpus = tf.config.experimental.list_logical_devices('GPU')\n",
    "        print(len(gpus), \"Physical GPUs,\", len(logical_gpus), \"Logical GPUs\")\n",
    "    except RuntimeError as e:\n",
    "        # Memory growth must be set before GPUs have been initialized\n",
    "        print(e)"
   ]
  },
  {
   "cell_type": "markdown",
   "metadata": {},
   "source": [
    "### Import fucntions"
   ]
  },
  {
   "cell_type": "code",
   "execution_count": 1,
   "metadata": {},
   "outputs": [],
   "source": [
    "import tensorflow as tf\n",
    "import tensorflow_datasets as tfds\n",
    "import numpy as np\n",
    "import pandas as pd\n",
    "import matplotlib.pyplot as plt\n",
    "import time\n",
    "\n",
    "from sklearn.utils import shuffle\n",
    "from sklearn.model_selection import train_test_split, cross_validate\n",
    "from sklearn.ensemble import RandomForestRegressor\n",
    "from sklearn.metrics import mean_squared_error\n",
    "from sklearn.cross_decomposition import PLSRegression\n",
    "from numba import cuda\n",
    "\n",
    "import joblib\n",
    "import os\n",
    "\n",
    "from tfrecords import read_tfrecords_concentrations, read_tfrecords_concentrations_single\n",
    "from models import get_simple_mutli_regressor_mlp, get_regularised_bn_dropout_mutli_regressor_mlp, CheckpointCallback"
   ]
  },
  {
   "cell_type": "code",
   "execution_count": 2,
   "metadata": {
    "scrolled": true
   },
   "outputs": [
    {
     "data": {
      "text/plain": [
       "'2.4.2'"
      ]
     },
     "execution_count": 2,
     "metadata": {},
     "output_type": "execute_result"
    }
   ],
   "source": [
    "tf.__version__"
   ]
  },
  {
   "cell_type": "markdown",
   "metadata": {},
   "source": [
    "---\n",
    "# I. Read the tf.Record files"
   ]
  },
  {
   "cell_type": "markdown",
   "metadata": {},
   "source": [
    "## I.1 Small independent dataset (1000 spectra)"
   ]
  },
  {
   "cell_type": "code",
   "execution_count": 2,
   "metadata": {},
   "outputs": [],
   "source": [
    "small_train_file_paths = ['../data/tfrecords/Concentrations_data/Small_sample/train/data_{}.tfrecord'.format(i)\n",
    "                    for i in range(8)]\n",
    "small_val_file_paths = ['../data/tfrecords/Concentrations_data/Small_sample/validation/data_{}.tfrecord'.format(i)\n",
    "                    for i in range(2)]\n",
    "\n",
    "small_train_dataset = read_tfrecords_concentrations(small_train_file_paths, 32)\n",
    "\n",
    "small_val_dataset = read_tfrecords_concentrations(small_val_file_paths, 32)"
   ]
  },
  {
   "cell_type": "markdown",
   "metadata": {},
   "source": [
    "## I.2 Small correlated dataset (1000 spectra)"
   ]
  },
  {
   "cell_type": "code",
   "execution_count": 5,
   "metadata": {},
   "outputs": [],
   "source": [
    "small_corr_train_file_paths = ['../data/tfrecords/Concentrations_data/Small_correlated/train/data_{}.tfrecord'\n",
    "                               .format(i) for i in range(8)]\n",
    "small_corr_val_file_paths = ['../data/tfrecords/Concentrations_data/Small_correlated/validation/data_{}.tfrecord'\n",
    "                             .format(i) for i in range(2)]\n",
    "\n",
    "small_corr_train_dataset = read_tfrecords_concentrations(small_corr_train_file_paths, 32)\n",
    "\n",
    "small_corr_val_dataset = read_tfrecords_concentrations(small_corr_val_file_paths, 32)\n"
   ]
  },
  {
   "cell_type": "markdown",
   "metadata": {},
   "source": [
    "## I.3 Large independent dataset (10000 spectra)"
   ]
  },
  {
   "cell_type": "code",
   "execution_count": 6,
   "metadata": {},
   "outputs": [],
   "source": [
    "large_train_file_paths = ['../data/tfrecords/Concentrations_data/Large_sample/train/data_{}.tfrecord'.format(i) \n",
    "                        for i in range(32)]\n",
    "large_val_file_paths = ['../data/tfrecords/Concentrations_data/Large_sample/validation/data_{}.tfrecord'.format(i) \n",
    "                      for i in range(8)]\n",
    "\n",
    "large_train_dataset = read_tfrecords_concentrations(large_train_file_paths, 64)\n",
    "\n",
    "large_val_dataset = read_tfrecords_concentrations(large_val_file_paths, 64)\n",
    "\n",
    "large_train_datasets_single = []\n",
    "large_val_datasets_single = []\n",
    "for k in range(48):\n",
    "    large_train_single_file_paths = ['../data/tfrecords/Concentrations_data/Large_sample_single/metabolite_{}/train/data_{}.tfrecord'.format(k, i) \n",
    "                        for i in range(32)]\n",
    "    large_val_single_file_paths = ['../data/tfrecords/Concentrations_data/Large_sample_single/metabolite_{}/validation/data_{}.tfrecord'.format(k, i) \n",
    "                      for i in range(8)]\n",
    "    large_train_datasets_single.append(read_tfrecords_concentrations_single(large_train_single_file_paths, 64))\n",
    "\n",
    "    large_val_datasets_single.append(read_tfrecords_concentrations_single(large_val_single_file_paths, 64))"
   ]
  },
  {
   "cell_type": "markdown",
   "metadata": {},
   "source": [
    "## I.4 Large correlated dataset (10000 spectra)"
   ]
  },
  {
   "cell_type": "code",
   "execution_count": 7,
   "metadata": {},
   "outputs": [],
   "source": [
    "large_corr_train_file_paths = ['../data/tfrecords/Concentrations_data/Large_correlated/train/data_{}.tfrecord'\n",
    "                               .format(i) for i in range(32)]\n",
    "large_corr_val_file_paths = ['../data/tfrecords/Concentrations_data/Large_correlated/validation/data_{}.tfrecord'\n",
    "                             .format(i) for i in range(8)]\n",
    "\n",
    "large_corr_train_dataset = read_tfrecords_concentrations(large_corr_train_file_paths, 64)\n",
    "\n",
    "large_corr_val_dataset = read_tfrecords_concentrations(large_corr_val_file_paths, 64)\n",
    "\n",
    "large_corr_train_datasets_single = []\n",
    "large_corr_val_datasets_single = []\n",
    "for k in range(48):\n",
    "    large_corr_train_single_file_paths = ['../data/tfrecords/Concentrations_data/Large_corr_single/metabolite_{}/train/data_{}.tfrecord'.format(k, i) \n",
    "                        for i in range(32)]\n",
    "    large_corr_val_single_file_paths = ['../data/tfrecords/Concentrations_data/Large_corr_single/metabolite_{}/validation/data_{}.tfrecord'.format(k, i) \n",
    "                      for i in range(8)]\n",
    "    large_corr_train_datasets_single.append(read_tfrecords_concentrations_single(large_corr_train_single_file_paths, 64))\n",
    "\n",
    "    large_corr_val_datasets_single.append(read_tfrecords_concentrations_single(large_corr_val_single_file_paths, 64))\n"
   ]
  },
  {
   "cell_type": "markdown",
   "metadata": {},
   "source": [
    "## I.5 Extra small independent dataset (100 spectra)"
   ]
  },
  {
   "cell_type": "code",
   "execution_count": 8,
   "metadata": {},
   "outputs": [],
   "source": [
    "xsmall_train_file_paths = ['../data/tfrecords/Concentrations_data/Extra_small_sample/train/data_{}.tfrecord'\n",
    "                           .format(i) for i in range(4)]\n",
    "xsmall_val_file_paths = ['../data/tfrecords/Concentrations_data/Extra_small_sample/validation/data_{}.tfrecord'\n",
    "                         .format(i) for i in range(1)]\n",
    "\n",
    "xsmall_train_dataset = read_tfrecords_concentrations(xsmall_train_file_paths, 16)\n",
    "\n",
    "xsmall_val_dataset = read_tfrecords_concentrations(xsmall_val_file_paths, 16)\n"
   ]
  },
  {
   "cell_type": "markdown",
   "metadata": {},
   "source": [
    "## I.6 Extra small correlated dataset (100 spectra)"
   ]
  },
  {
   "cell_type": "code",
   "execution_count": 9,
   "metadata": {},
   "outputs": [],
   "source": [
    "xsmall_corr_train_file_paths = ['../data/tfrecords/Concentrations_data/Extra_small_correlated/train/data_{}.tfrecord'\n",
    "                               .format(i) for i in range(4)]\n",
    "xsmall_corr_val_file_paths = ['../data/tfrecords/Concentrations_data/Extra_small_correlated/validation/data_{}.tfrecord'\n",
    "                             .format(i) for i in range(1)]\n",
    "\n",
    "xsmall_corr_train_dataset = read_tfrecords_concentrations(xsmall_corr_train_file_paths, 16)\n",
    "\n",
    "xsmall_corr_val_dataset = read_tfrecords_concentrations(xsmall_corr_val_file_paths, 16)"
   ]
  },
  {
   "cell_type": "markdown",
   "metadata": {},
   "source": [
    "## I.11 Extract each metabolite from small dataset (for independent quantification)"
   ]
  },
  {
   "cell_type": "code",
   "execution_count": 10,
   "metadata": {},
   "outputs": [],
   "source": [
    "def extract_metabolite(x, y, metab_index):\n",
    "    return(x, y[..., metab_index])\n",
    "\n",
    "xsmall_train_datasets_single = [xsmall_train_dataset.map(lambda x, y: extract_metabolite(x, y, i)) for i in range(48)]\n",
    "xsmall_val_datasets_single = [xsmall_val_dataset.map(lambda x, y: extract_metabolite(x, y, i)) for i in range(48)]\n",
    "xsmall_corr_train_datasets_single = [xsmall_corr_train_dataset.map(lambda x, y: extract_metabolite(x, y, i)) \n",
    "                                    for i in range(48)]\n",
    "xsmall_corr_val_datasets_single = [xsmall_corr_val_dataset.map(lambda x, y: extract_metabolite(x, y, i)) \n",
    "                                   for i in range(48)]\n",
    "small_train_datasets_single = [small_train_dataset.map(lambda x, y: extract_metabolite(x, y, i)) for i in range(48)]\n",
    "small_val_datasets_single = [small_val_dataset.map(lambda x, y: extract_metabolite(x, y, i)) for i in range(48)]\n",
    "small_corr_train_datasets_single = [small_corr_train_dataset.map(lambda x, y: extract_metabolite(x, y, i)) \n",
    "                                    for i in range(48)]\n",
    "small_corr_val_datasets_single = [small_corr_val_dataset.map(lambda x, y: extract_metabolite(x, y, i)) \n",
    "                                   for i in range(48)]"
   ]
  },
  {
   "cell_type": "markdown",
   "metadata": {},
   "source": [
    "---\n",
    "# II. Define Callbacks"
   ]
  },
  {
   "cell_type": "markdown",
   "metadata": {},
   "source": [
    "## II.1 Checkpoints"
   ]
  },
  {
   "cell_type": "code",
   "execution_count": 3,
   "metadata": {},
   "outputs": [],
   "source": [
    "ckpt_xsmall_multi = CheckpointCallback(\"../saved_models/concentrations/extra_small_multi\")\n",
    "ckpt_xsmall_corr_multi = CheckpointCallback(\"../saved_models/concentrations/extra_small_corr_multi\")\n",
    "ckpt_xsmall_single = [CheckpointCallback(\"../saved_models/concentrations/extra_small_single/metabolite_{}\"\n",
    "                                        .format(i)) for i in range(48)]\n",
    "ckpt_xsmall_corr_single = [CheckpointCallback(\"../saved_models/concentrations/extra_small_corr_single/metabolite_{}\"\n",
    "                                             .format(i)) for i in range(48)]\n",
    "ckpt_small_multi = CheckpointCallback(\"../saved_models/concentrations/small_multi\")\n",
    "ckpt_small_corr_multi = CheckpointCallback(\"../saved_models/concentrations/small_corr_multi\")\n",
    "ckpt_small_single = [CheckpointCallback(\"../saved_models/concentrations/small_single/metabolite_{}\"\n",
    "                                        .format(i)) for i in range(48)]\n",
    "ckpt_small_corr_single = [CheckpointCallback(\"../saved_models/concentrations/small_corr_single/metabolite_{}\"\n",
    "                                             .format(i)) for i in range(48)]\n",
    "ckpt_large_multi = CheckpointCallback(\"../saved_models/concentrations/large_multi\")\n",
    "ckpt_large_corr_multi = CheckpointCallback(\"../saved_models/concentrations/large_corr_multi\")\n",
    "ckpt_large_single = [CheckpointCallback(\"../saved_models/concentrations/large_single/metabolite_{}\"\n",
    "                                      .format(i)) for i in range(48)]\n",
    "ckpt_large_corr_single = [CheckpointCallback(\"../saved_models/concentrations/large_corr_single/metabolite_{}\"\n",
    "                                      .format(i)) for i in range(48)]"
   ]
  },
  {
   "cell_type": "markdown",
   "metadata": {},
   "source": [
    "## II.2 Earlystopping"
   ]
  },
  {
   "cell_type": "code",
   "execution_count": 4,
   "metadata": {},
   "outputs": [],
   "source": [
    "earlystopping_100 = tf.keras.callbacks.EarlyStopping(patience=100) #for small dataset\n",
    "earlystopping_50 = tf.keras.callbacks.EarlyStopping(patience=50) #for large dataset"
   ]
  },
  {
   "cell_type": "markdown",
   "metadata": {},
   "source": [
    "## II.3 Training logs"
   ]
  },
  {
   "cell_type": "code",
   "execution_count": 5,
   "metadata": {},
   "outputs": [],
   "source": [
    "logs_xsmall_multi = tf.keras.callbacks.CSVLogger(\"../saved_logs/concentrations/extra_small_multi.csv\")\n",
    "logs_xsmall_corr_multi = tf.keras.callbacks.CSVLogger(\"../saved_logs/concentrations/extra_small_corr_multi.csv\")\n",
    "logs_xsmall_single = [tf.keras.callbacks.CSVLogger(\"../saved_logs/concentrations/extra_small_single/metabolite_{}.csv\"\n",
    "                                        .format(i)) for i in range(48)]\n",
    "logs_xsmall_corr_single = [tf.keras.callbacks.CSVLogger(\"../saved_logs/concentrations/extra_small_corr_single/metabolite_{}.csv\"\n",
    "                                             .format(i)) for i in range(48)]\n",
    "logs_small_multi = tf.keras.callbacks.CSVLogger(\"../saved_logs/concentrations/small_multi.csv\")\n",
    "logs_small_corr_multi = tf.keras.callbacks.CSVLogger(\"../saved_logs/concentrations/small_corr_multi.csv\")\n",
    "logs_small_single = [tf.keras.callbacks.CSVLogger(\"../saved_logs/concentrations/small_single/metabolite_{}.csv\"\n",
    "                                        .format(i)) for i in range(48)]\n",
    "logs_small_corr_single = [tf.keras.callbacks.CSVLogger(\"../saved_logs/concentrations/small_corr_single/metabolite_{}.csv\"\n",
    "                                             .format(i)) for i in range(48)]\n",
    "logs_large_multi = tf.keras.callbacks.CSVLogger(\"../saved_logs/concentrations/large_multi.csv\")\n",
    "logs_large_corr_multi = tf.keras.callbacks.CSVLogger(\"../saved_logs/concentrations/large_corr_multi.csv\")\n",
    "logs_large_single = [tf.keras.callbacks.CSVLogger(\"../saved_logs/concentrations/large_single/metabolite_{}.csv\"\n",
    "                                      .format(i)) for i in range(48)]\n",
    "logs_large_corr_single = [tf.keras.callbacks.CSVLogger(\"../saved_logs/concentrations/large_corr_single/metabolite_{}.csv\"\n",
    "                                      .format(i)) for i in range(48)]"
   ]
  },
  {
   "cell_type": "markdown",
   "metadata": {},
   "source": [
    "---\n",
    "# III. Train Models"
   ]
  },
  {
   "cell_type": "markdown",
   "metadata": {},
   "source": [
    "## III.1 Small independent dataset"
   ]
  },
  {
   "cell_type": "markdown",
   "metadata": {},
   "source": [
    "### III.1.a Define mutli-output MLP"
   ]
  },
  {
   "cell_type": "code",
   "execution_count": 13,
   "metadata": {
    "scrolled": false
   },
   "outputs": [
    {
     "name": "stdout",
     "output_type": "stream",
     "text": [
      "Model: \"model\"\n",
      "_________________________________________________________________\n",
      "Layer (type)                 Output Shape              Param #   \n",
      "=================================================================\n",
      "input_1 (InputLayer)         [(None, 10000)]           0         \n",
      "_________________________________________________________________\n",
      "dense (Dense)                (None, 512)               5120512   \n",
      "_________________________________________________________________\n",
      "dense_1 (Dense)              (None, 48)                24624     \n",
      "=================================================================\n",
      "Total params: 5,145,136\n",
      "Trainable params: 5,145,136\n",
      "Non-trainable params: 0\n",
      "_________________________________________________________________\n"
     ]
    }
   ],
   "source": [
    "small_multi_mlp = get_simple_mutli_regressor_mlp(input_shape=(10000,), hidden_units=[512], num_outputs=48)\n",
    "small_multi_mlp.summary()"
   ]
  },
  {
   "cell_type": "markdown",
   "metadata": {},
   "source": [
    "### III.1.b Compile mutli-output MLP"
   ]
  },
  {
   "cell_type": "code",
   "execution_count": 14,
   "metadata": {},
   "outputs": [],
   "source": [
    "small_multi_mlp.compile(optimizer=\"Adam\", loss=\"mse\", metrics=[tf.keras.metrics.RootMeanSquaredError()])"
   ]
  },
  {
   "cell_type": "markdown",
   "metadata": {},
   "source": [
    "### III.1.c Fit mutli-output MLP"
   ]
  },
  {
   "cell_type": "code",
   "execution_count": 15,
   "metadata": {},
   "outputs": [
    {
     "name": "stdout",
     "output_type": "stream",
     "text": [
      "Epoch 1/1000\n",
      "25/25 [==============================] - 2s 32ms/step - loss: 0.8924 - root_mean_squared_error: 0.9446 - val_loss: 0.8883 - val_root_mean_squared_error: 0.9425\n",
      "Epoch 2/1000\n",
      "25/25 [==============================] - 0s 14ms/step - loss: 0.8614 - root_mean_squared_error: 0.9281 - val_loss: 0.8665 - val_root_mean_squared_error: 0.9309\n",
      "Epoch 3/1000\n",
      "25/25 [==============================] - 0s 16ms/step - loss: 0.8388 - root_mean_squared_error: 0.9159 - val_loss: 0.8466 - val_root_mean_squared_error: 0.9201\n",
      "Epoch 4/1000\n",
      "25/25 [==============================] - 0s 15ms/step - loss: 0.8183 - root_mean_squared_error: 0.9046 - val_loss: 0.8236 - val_root_mean_squared_error: 0.9075\n",
      "Epoch 5/1000\n",
      "25/25 [==============================] - 0s 13ms/step - loss: 0.7980 - root_mean_squared_error: 0.8933 - val_loss: 0.8119 - val_root_mean_squared_error: 0.9010\n",
      "Epoch 6/1000\n",
      "25/25 [==============================] - 0s 14ms/step - loss: 0.7828 - root_mean_squared_error: 0.8847 - val_loss: 0.8013 - val_root_mean_squared_error: 0.8951\n",
      "Epoch 7/1000\n",
      "25/25 [==============================] - 0s 13ms/step - loss: 0.7691 - root_mean_squared_error: 0.8770 - val_loss: 0.7909 - val_root_mean_squared_error: 0.8893\n",
      "Epoch 8/1000\n",
      "25/25 [==============================] - 0s 14ms/step - loss: 0.7562 - root_mean_squared_error: 0.8696 - val_loss: 0.7810 - val_root_mean_squared_error: 0.8838\n",
      "Epoch 9/1000\n",
      "25/25 [==============================] - 0s 14ms/step - loss: 0.7447 - root_mean_squared_error: 0.8629 - val_loss: 0.7706 - val_root_mean_squared_error: 0.8779\n",
      "Epoch 10/1000\n",
      "25/25 [==============================] - 0s 11ms/step - loss: 0.7338 - root_mean_squared_error: 0.8566 - val_loss: 0.7602 - val_root_mean_squared_error: 0.8719\n",
      "Epoch 11/1000\n",
      "25/25 [==============================] - 0s 15ms/step - loss: 0.7232 - root_mean_squared_error: 0.8504 - val_loss: 0.7517 - val_root_mean_squared_error: 0.8670\n",
      "Epoch 12/1000\n",
      "25/25 [==============================] - 0s 13ms/step - loss: 0.7127 - root_mean_squared_error: 0.8442 - val_loss: 0.7399 - val_root_mean_squared_error: 0.8602\n",
      "Epoch 13/1000\n",
      "25/25 [==============================] - 0s 14ms/step - loss: 0.7009 - root_mean_squared_error: 0.8372 - val_loss: 0.7271 - val_root_mean_squared_error: 0.8527\n",
      "Epoch 14/1000\n",
      "25/25 [==============================] - 0s 12ms/step - loss: 0.6881 - root_mean_squared_error: 0.8295 - val_loss: 0.7160 - val_root_mean_squared_error: 0.8461\n",
      "Epoch 15/1000\n",
      "25/25 [==============================] - 0s 13ms/step - loss: 0.6758 - root_mean_squared_error: 0.8220 - val_loss: 0.7059 - val_root_mean_squared_error: 0.8402\n",
      "Epoch 16/1000\n",
      "25/25 [==============================] - 0s 6ms/step - loss: 0.6646 - root_mean_squared_error: 0.8152 - val_loss: 0.6963 - val_root_mean_squared_error: 0.8345\n",
      "Epoch 17/1000\n",
      "25/25 [==============================] - 0s 9ms/step - loss: 0.6540 - root_mean_squared_error: 0.8087 - val_loss: 0.6882 - val_root_mean_squared_error: 0.8296\n",
      "Epoch 18/1000\n",
      "25/25 [==============================] - 0s 15ms/step - loss: 0.6443 - root_mean_squared_error: 0.8026 - val_loss: 0.6816 - val_root_mean_squared_error: 0.8256\n",
      "Epoch 19/1000\n",
      "25/25 [==============================] - 0s 16ms/step - loss: 0.6354 - root_mean_squared_error: 0.7971 - val_loss: 0.6747 - val_root_mean_squared_error: 0.8214\n",
      "Epoch 20/1000\n",
      "25/25 [==============================] - 0s 16ms/step - loss: 0.6271 - root_mean_squared_error: 0.7919 - val_loss: 0.6659 - val_root_mean_squared_error: 0.8160\n",
      "Epoch 21/1000\n",
      "25/25 [==============================] - 0s 13ms/step - loss: 0.6188 - root_mean_squared_error: 0.7866 - val_loss: 0.6557 - val_root_mean_squared_error: 0.8097\n",
      "Epoch 22/1000\n",
      "25/25 [==============================] - 0s 15ms/step - loss: 0.6101 - root_mean_squared_error: 0.7810 - val_loss: 0.6460 - val_root_mean_squared_error: 0.8037\n",
      "Epoch 23/1000\n",
      "25/25 [==============================] - 0s 15ms/step - loss: 0.6013 - root_mean_squared_error: 0.7754 - val_loss: 0.6389 - val_root_mean_squared_error: 0.7993\n",
      "Epoch 24/1000\n",
      "25/25 [==============================] - 0s 14ms/step - loss: 0.5934 - root_mean_squared_error: 0.7703 - val_loss: 0.6334 - val_root_mean_squared_error: 0.7959\n",
      "Epoch 25/1000\n",
      "25/25 [==============================] - 0s 15ms/step - loss: 0.5864 - root_mean_squared_error: 0.7657 - val_loss: 0.6282 - val_root_mean_squared_error: 0.7926\n",
      "Epoch 26/1000\n",
      "25/25 [==============================] - 0s 15ms/step - loss: 0.5797 - root_mean_squared_error: 0.7614 - val_loss: 0.6224 - val_root_mean_squared_error: 0.7890\n",
      "Epoch 27/1000\n",
      "25/25 [==============================] - 0s 18ms/step - loss: 0.5731 - root_mean_squared_error: 0.7570 - val_loss: 0.6166 - val_root_mean_squared_error: 0.7852\n",
      "Epoch 28/1000\n",
      "25/25 [==============================] - 0s 13ms/step - loss: 0.5666 - root_mean_squared_error: 0.7527 - val_loss: 0.6104 - val_root_mean_squared_error: 0.7813\n",
      "Epoch 29/1000\n",
      "25/25 [==============================] - 0s 15ms/step - loss: 0.5601 - root_mean_squared_error: 0.7484 - val_loss: 0.6043 - val_root_mean_squared_error: 0.7774\n",
      "Epoch 30/1000\n",
      "25/25 [==============================] - 0s 14ms/step - loss: 0.5540 - root_mean_squared_error: 0.7443 - val_loss: 0.5987 - val_root_mean_squared_error: 0.7737\n",
      "Epoch 31/1000\n",
      "25/25 [==============================] - 0s 15ms/step - loss: 0.5482 - root_mean_squared_error: 0.7404 - val_loss: 0.5935 - val_root_mean_squared_error: 0.7704\n",
      "Epoch 32/1000\n",
      "25/25 [==============================] - 0s 16ms/step - loss: 0.5427 - root_mean_squared_error: 0.7367 - val_loss: 0.5888 - val_root_mean_squared_error: 0.7673\n",
      "Epoch 33/1000\n",
      "25/25 [==============================] - 0s 17ms/step - loss: 0.5377 - root_mean_squared_error: 0.7333 - val_loss: 0.5845 - val_root_mean_squared_error: 0.7645\n",
      "Epoch 34/1000\n",
      "25/25 [==============================] - 0s 16ms/step - loss: 0.5328 - root_mean_squared_error: 0.7299 - val_loss: 0.5804 - val_root_mean_squared_error: 0.7618\n",
      "Epoch 35/1000\n",
      "25/25 [==============================] - 0s 17ms/step - loss: 0.5282 - root_mean_squared_error: 0.7268 - val_loss: 0.5768 - val_root_mean_squared_error: 0.7595\n",
      "Epoch 36/1000\n",
      "25/25 [==============================] - 0s 17ms/step - loss: 0.5238 - root_mean_squared_error: 0.7237 - val_loss: 0.5733 - val_root_mean_squared_error: 0.7572\n",
      "Epoch 37/1000\n",
      "25/25 [==============================] - 0s 15ms/step - loss: 0.5195 - root_mean_squared_error: 0.7208 - val_loss: 0.5699 - val_root_mean_squared_error: 0.7549\n",
      "Epoch 38/1000\n",
      "25/25 [==============================] - 0s 16ms/step - loss: 0.5155 - root_mean_squared_error: 0.7180 - val_loss: 0.5652 - val_root_mean_squared_error: 0.7518\n",
      "Epoch 39/1000\n",
      "25/25 [==============================] - 0s 17ms/step - loss: 0.5114 - root_mean_squared_error: 0.7151 - val_loss: 0.5593 - val_root_mean_squared_error: 0.7479\n",
      "Epoch 40/1000\n",
      "25/25 [==============================] - 0s 16ms/step - loss: 0.5067 - root_mean_squared_error: 0.7118 - val_loss: 0.5541 - val_root_mean_squared_error: 0.7444\n",
      "Epoch 41/1000\n",
      "25/25 [==============================] - 0s 16ms/step - loss: 0.5013 - root_mean_squared_error: 0.7080 - val_loss: 0.5504 - val_root_mean_squared_error: 0.7419\n",
      "Epoch 42/1000\n",
      "25/25 [==============================] - 0s 17ms/step - loss: 0.4964 - root_mean_squared_error: 0.7045 - val_loss: 0.5464 - val_root_mean_squared_error: 0.7392\n",
      "Epoch 43/1000\n",
      "25/25 [==============================] - 0s 17ms/step - loss: 0.4917 - root_mean_squared_error: 0.7012 - val_loss: 0.5428 - val_root_mean_squared_error: 0.7368\n",
      "Epoch 44/1000\n",
      "25/25 [==============================] - 0s 15ms/step - loss: 0.4873 - root_mean_squared_error: 0.6980 - val_loss: 0.5398 - val_root_mean_squared_error: 0.7347\n",
      "Epoch 45/1000\n",
      "25/25 [==============================] - 0s 18ms/step - loss: 0.4831 - root_mean_squared_error: 0.6951 - val_loss: 0.5368 - val_root_mean_squared_error: 0.7327\n",
      "Epoch 46/1000\n",
      "25/25 [==============================] - 0s 16ms/step - loss: 0.4793 - root_mean_squared_error: 0.6923 - val_loss: 0.5335 - val_root_mean_squared_error: 0.7304\n",
      "Epoch 47/1000\n",
      "25/25 [==============================] - 0s 16ms/step - loss: 0.4754 - root_mean_squared_error: 0.6895 - val_loss: 0.5293 - val_root_mean_squared_error: 0.7276\n",
      "Epoch 48/1000\n"
     ]
    },
    {
     "name": "stdout",
     "output_type": "stream",
     "text": [
      "25/25 [==============================] - 0s 17ms/step - loss: 0.4718 - root_mean_squared_error: 0.6869 - val_loss: 0.5240 - val_root_mean_squared_error: 0.7239\n",
      "Epoch 49/1000\n",
      "25/25 [==============================] - 0s 17ms/step - loss: 0.4682 - root_mean_squared_error: 0.6842 - val_loss: 0.5182 - val_root_mean_squared_error: 0.7198\n",
      "Epoch 50/1000\n",
      "25/25 [==============================] - 0s 17ms/step - loss: 0.4644 - root_mean_squared_error: 0.6815 - val_loss: 0.5142 - val_root_mean_squared_error: 0.7170\n",
      "Epoch 51/1000\n",
      "25/25 [==============================] - 0s 17ms/step - loss: 0.4608 - root_mean_squared_error: 0.6788 - val_loss: 0.5121 - val_root_mean_squared_error: 0.7156\n",
      "Epoch 52/1000\n",
      "25/25 [==============================] - 0s 17ms/step - loss: 0.4574 - root_mean_squared_error: 0.6763 - val_loss: 0.5095 - val_root_mean_squared_error: 0.7138\n",
      "Epoch 53/1000\n",
      "25/25 [==============================] - 0s 17ms/step - loss: 0.4542 - root_mean_squared_error: 0.6739 - val_loss: 0.5060 - val_root_mean_squared_error: 0.7113\n",
      "Epoch 54/1000\n",
      "25/25 [==============================] - 0s 12ms/step - loss: 0.4509 - root_mean_squared_error: 0.6715 - val_loss: 0.5032 - val_root_mean_squared_error: 0.7094\n",
      "Epoch 55/1000\n",
      "25/25 [==============================] - 0s 15ms/step - loss: 0.4480 - root_mean_squared_error: 0.6693 - val_loss: 0.5039 - val_root_mean_squared_error: 0.7099\n",
      "Epoch 56/1000\n",
      "25/25 [==============================] - 0s 19ms/step - loss: 0.4455 - root_mean_squared_error: 0.6674 - val_loss: 0.5024 - val_root_mean_squared_error: 0.7088\n",
      "Epoch 57/1000\n",
      "25/25 [==============================] - 0s 16ms/step - loss: 0.4423 - root_mean_squared_error: 0.6651 - val_loss: 0.4942 - val_root_mean_squared_error: 0.7030\n",
      "Epoch 58/1000\n",
      "25/25 [==============================] - 0s 13ms/step - loss: 0.4380 - root_mean_squared_error: 0.6618 - val_loss: 0.4855 - val_root_mean_squared_error: 0.6968\n",
      "Epoch 59/1000\n",
      "25/25 [==============================] - 0s 17ms/step - loss: 0.4331 - root_mean_squared_error: 0.6581 - val_loss: 0.4806 - val_root_mean_squared_error: 0.6932\n",
      "Epoch 60/1000\n",
      "25/25 [==============================] - 0s 15ms/step - loss: 0.4288 - root_mean_squared_error: 0.6548 - val_loss: 0.4774 - val_root_mean_squared_error: 0.6909\n",
      "Epoch 61/1000\n",
      "25/25 [==============================] - 0s 16ms/step - loss: 0.4253 - root_mean_squared_error: 0.6521 - val_loss: 0.4746 - val_root_mean_squared_error: 0.6889\n",
      "Epoch 62/1000\n",
      "25/25 [==============================] - 0s 17ms/step - loss: 0.4219 - root_mean_squared_error: 0.6495 - val_loss: 0.4723 - val_root_mean_squared_error: 0.6872\n",
      "Epoch 63/1000\n",
      "25/25 [==============================] - 0s 16ms/step - loss: 0.4186 - root_mean_squared_error: 0.6469 - val_loss: 0.4700 - val_root_mean_squared_error: 0.6855\n",
      "Epoch 64/1000\n",
      "25/25 [==============================] - 0s 17ms/step - loss: 0.4154 - root_mean_squared_error: 0.6445 - val_loss: 0.4677 - val_root_mean_squared_error: 0.6839\n",
      "Epoch 65/1000\n",
      "25/25 [==============================] - 0s 16ms/step - loss: 0.4123 - root_mean_squared_error: 0.6421 - val_loss: 0.4652 - val_root_mean_squared_error: 0.6821\n",
      "Epoch 66/1000\n",
      "25/25 [==============================] - 0s 17ms/step - loss: 0.4093 - root_mean_squared_error: 0.6398 - val_loss: 0.4627 - val_root_mean_squared_error: 0.6802\n",
      "Epoch 67/1000\n",
      "25/25 [==============================] - 0s 18ms/step - loss: 0.4064 - root_mean_squared_error: 0.6375 - val_loss: 0.4600 - val_root_mean_squared_error: 0.6782\n",
      "Epoch 68/1000\n",
      "25/25 [==============================] - 0s 17ms/step - loss: 0.4036 - root_mean_squared_error: 0.6353 - val_loss: 0.4571 - val_root_mean_squared_error: 0.6761\n",
      "Epoch 69/1000\n",
      "25/25 [==============================] - 0s 18ms/step - loss: 0.4008 - root_mean_squared_error: 0.6330 - val_loss: 0.4540 - val_root_mean_squared_error: 0.6738\n",
      "Epoch 70/1000\n",
      "25/25 [==============================] - 0s 14ms/step - loss: 0.3979 - root_mean_squared_error: 0.6308 - val_loss: 0.4509 - val_root_mean_squared_error: 0.6715\n",
      "Epoch 71/1000\n",
      "25/25 [==============================] - 0s 15ms/step - loss: 0.3952 - root_mean_squared_error: 0.6287 - val_loss: 0.4479 - val_root_mean_squared_error: 0.6692\n",
      "Epoch 72/1000\n",
      "25/25 [==============================] - 0s 15ms/step - loss: 0.3926 - root_mean_squared_error: 0.6266 - val_loss: 0.4451 - val_root_mean_squared_error: 0.6672\n",
      "Epoch 73/1000\n",
      "25/25 [==============================] - 0s 17ms/step - loss: 0.3901 - root_mean_squared_error: 0.6246 - val_loss: 0.4427 - val_root_mean_squared_error: 0.6653\n",
      "Epoch 74/1000\n",
      "25/25 [==============================] - 0s 17ms/step - loss: 0.3876 - root_mean_squared_error: 0.6226 - val_loss: 0.4407 - val_root_mean_squared_error: 0.6638\n",
      "Epoch 75/1000\n",
      "25/25 [==============================] - 0s 14ms/step - loss: 0.3854 - root_mean_squared_error: 0.6208 - val_loss: 0.4391 - val_root_mean_squared_error: 0.6627\n",
      "Epoch 76/1000\n",
      "25/25 [==============================] - 0s 16ms/step - loss: 0.3832 - root_mean_squared_error: 0.6190 - val_loss: 0.4379 - val_root_mean_squared_error: 0.6618\n",
      "Epoch 77/1000\n",
      "25/25 [==============================] - 0s 18ms/step - loss: 0.3810 - root_mean_squared_error: 0.6173 - val_loss: 0.4365 - val_root_mean_squared_error: 0.6607\n",
      "Epoch 78/1000\n",
      "25/25 [==============================] - 0s 16ms/step - loss: 0.3788 - root_mean_squared_error: 0.6155 - val_loss: 0.4347 - val_root_mean_squared_error: 0.6593\n",
      "Epoch 79/1000\n",
      "25/25 [==============================] - 0s 15ms/step - loss: 0.3766 - root_mean_squared_error: 0.6137 - val_loss: 0.4323 - val_root_mean_squared_error: 0.6575\n",
      "Epoch 80/1000\n",
      "25/25 [==============================] - 0s 15ms/step - loss: 0.3744 - root_mean_squared_error: 0.6119 - val_loss: 0.4299 - val_root_mean_squared_error: 0.6557\n",
      "Epoch 81/1000\n",
      "25/25 [==============================] - 0s 17ms/step - loss: 0.3722 - root_mean_squared_error: 0.6101 - val_loss: 0.4278 - val_root_mean_squared_error: 0.6540\n",
      "Epoch 82/1000\n",
      "25/25 [==============================] - 0s 16ms/step - loss: 0.3700 - root_mean_squared_error: 0.6083 - val_loss: 0.4262 - val_root_mean_squared_error: 0.6528\n",
      "Epoch 83/1000\n",
      "25/25 [==============================] - 0s 16ms/step - loss: 0.3678 - root_mean_squared_error: 0.6064 - val_loss: 0.4248 - val_root_mean_squared_error: 0.6517\n",
      "Epoch 84/1000\n",
      "25/25 [==============================] - 0s 17ms/step - loss: 0.3656 - root_mean_squared_error: 0.6047 - val_loss: 0.4233 - val_root_mean_squared_error: 0.6506\n",
      "Epoch 85/1000\n",
      "25/25 [==============================] - 0s 18ms/step - loss: 0.3636 - root_mean_squared_error: 0.6029 - val_loss: 0.4214 - val_root_mean_squared_error: 0.6492\n",
      "Epoch 86/1000\n",
      "25/25 [==============================] - 0s 18ms/step - loss: 0.3616 - root_mean_squared_error: 0.6013 - val_loss: 0.4196 - val_root_mean_squared_error: 0.6478\n",
      "Epoch 87/1000\n",
      "25/25 [==============================] - 0s 13ms/step - loss: 0.3596 - root_mean_squared_error: 0.5997 - val_loss: 0.4176 - val_root_mean_squared_error: 0.6462\n",
      "Epoch 88/1000\n",
      "25/25 [==============================] - 0s 17ms/step - loss: 0.3578 - root_mean_squared_error: 0.5981 - val_loss: 0.4156 - val_root_mean_squared_error: 0.6446\n",
      "Epoch 89/1000\n",
      "25/25 [==============================] - 0s 18ms/step - loss: 0.3560 - root_mean_squared_error: 0.5966 - val_loss: 0.4134 - val_root_mean_squared_error: 0.6430\n",
      "Epoch 90/1000\n",
      "25/25 [==============================] - 0s 16ms/step - loss: 0.3542 - root_mean_squared_error: 0.5951 - val_loss: 0.4113 - val_root_mean_squared_error: 0.6414\n",
      "Epoch 91/1000\n",
      "25/25 [==============================] - 0s 16ms/step - loss: 0.3525 - root_mean_squared_error: 0.5937 - val_loss: 0.4093 - val_root_mean_squared_error: 0.6398\n",
      "Epoch 92/1000\n",
      "25/25 [==============================] - 0s 16ms/step - loss: 0.3507 - root_mean_squared_error: 0.5922 - val_loss: 0.4074 - val_root_mean_squared_error: 0.6382\n",
      "Epoch 93/1000\n",
      "25/25 [==============================] - 0s 15ms/step - loss: 0.3489 - root_mean_squared_error: 0.5907 - val_loss: 0.4054 - val_root_mean_squared_error: 0.6367\n",
      "Epoch 94/1000\n",
      "25/25 [==============================] - 0s 15ms/step - loss: 0.3471 - root_mean_squared_error: 0.5891 - val_loss: 0.4036 - val_root_mean_squared_error: 0.6353\n",
      "Epoch 95/1000\n"
     ]
    },
    {
     "name": "stdout",
     "output_type": "stream",
     "text": [
      "25/25 [==============================] - 0s 14ms/step - loss: 0.3452 - root_mean_squared_error: 0.5875 - val_loss: 0.4018 - val_root_mean_squared_error: 0.6339\n",
      "Epoch 96/1000\n",
      "25/25 [==============================] - 0s 15ms/step - loss: 0.3433 - root_mean_squared_error: 0.5859 - val_loss: 0.4000 - val_root_mean_squared_error: 0.6324\n",
      "Epoch 97/1000\n",
      "25/25 [==============================] - 0s 17ms/step - loss: 0.3414 - root_mean_squared_error: 0.5842 - val_loss: 0.3984 - val_root_mean_squared_error: 0.6312\n",
      "Epoch 98/1000\n",
      "25/25 [==============================] - 0s 17ms/step - loss: 0.3395 - root_mean_squared_error: 0.5827 - val_loss: 0.3969 - val_root_mean_squared_error: 0.6300\n",
      "Epoch 99/1000\n",
      "25/25 [==============================] - 0s 17ms/step - loss: 0.3377 - root_mean_squared_error: 0.5811 - val_loss: 0.3956 - val_root_mean_squared_error: 0.6290\n",
      "Epoch 100/1000\n",
      "25/25 [==============================] - 0s 17ms/step - loss: 0.3361 - root_mean_squared_error: 0.5797 - val_loss: 0.3944 - val_root_mean_squared_error: 0.6280\n",
      "Epoch 101/1000\n",
      "25/25 [==============================] - 0s 15ms/step - loss: 0.3345 - root_mean_squared_error: 0.5783 - val_loss: 0.3934 - val_root_mean_squared_error: 0.6272\n",
      "Epoch 102/1000\n",
      "25/25 [==============================] - 0s 17ms/step - loss: 0.3330 - root_mean_squared_error: 0.5770 - val_loss: 0.3924 - val_root_mean_squared_error: 0.6264\n",
      "Epoch 103/1000\n",
      "25/25 [==============================] - 0s 18ms/step - loss: 0.3315 - root_mean_squared_error: 0.5757 - val_loss: 0.3914 - val_root_mean_squared_error: 0.6256\n",
      "Epoch 104/1000\n",
      "25/25 [==============================] - 0s 17ms/step - loss: 0.3301 - root_mean_squared_error: 0.5745 - val_loss: 0.3904 - val_root_mean_squared_error: 0.6248\n",
      "Epoch 105/1000\n",
      "25/25 [==============================] - 0s 14ms/step - loss: 0.3288 - root_mean_squared_error: 0.5734 - val_loss: 0.3892 - val_root_mean_squared_error: 0.6238\n",
      "Epoch 106/1000\n",
      "25/25 [==============================] - 0s 15ms/step - loss: 0.3274 - root_mean_squared_error: 0.5722 - val_loss: 0.3879 - val_root_mean_squared_error: 0.6228\n",
      "Epoch 107/1000\n",
      "25/25 [==============================] - 0s 16ms/step - loss: 0.3261 - root_mean_squared_error: 0.5710 - val_loss: 0.3864 - val_root_mean_squared_error: 0.6216\n",
      "Epoch 108/1000\n",
      "25/25 [==============================] - 0s 17ms/step - loss: 0.3247 - root_mean_squared_error: 0.5698 - val_loss: 0.3847 - val_root_mean_squared_error: 0.6203\n",
      "Epoch 109/1000\n",
      "25/25 [==============================] - 0s 15ms/step - loss: 0.3233 - root_mean_squared_error: 0.5685 - val_loss: 0.3831 - val_root_mean_squared_error: 0.6190\n",
      "Epoch 110/1000\n",
      "25/25 [==============================] - 0s 18ms/step - loss: 0.3218 - root_mean_squared_error: 0.5672 - val_loss: 0.3814 - val_root_mean_squared_error: 0.6176\n",
      "Epoch 111/1000\n",
      "25/25 [==============================] - 0s 16ms/step - loss: 0.3202 - root_mean_squared_error: 0.5658 - val_loss: 0.3799 - val_root_mean_squared_error: 0.6164\n",
      "Epoch 112/1000\n",
      "25/25 [==============================] - 0s 17ms/step - loss: 0.3186 - root_mean_squared_error: 0.5644 - val_loss: 0.3786 - val_root_mean_squared_error: 0.6153\n",
      "Epoch 113/1000\n",
      "25/25 [==============================] - 0s 15ms/step - loss: 0.3171 - root_mean_squared_error: 0.5631 - val_loss: 0.3773 - val_root_mean_squared_error: 0.6142\n",
      "Epoch 114/1000\n",
      "25/25 [==============================] - 0s 17ms/step - loss: 0.3157 - root_mean_squared_error: 0.5618 - val_loss: 0.3760 - val_root_mean_squared_error: 0.6132\n",
      "Epoch 115/1000\n",
      "25/25 [==============================] - 0s 15ms/step - loss: 0.3143 - root_mean_squared_error: 0.5606 - val_loss: 0.3746 - val_root_mean_squared_error: 0.6120\n",
      "Epoch 116/1000\n",
      "25/25 [==============================] - 0s 17ms/step - loss: 0.3130 - root_mean_squared_error: 0.5594 - val_loss: 0.3731 - val_root_mean_squared_error: 0.6108\n",
      "Epoch 117/1000\n",
      "25/25 [==============================] - 0s 15ms/step - loss: 0.3118 - root_mean_squared_error: 0.5584 - val_loss: 0.3716 - val_root_mean_squared_error: 0.6096\n",
      "Epoch 118/1000\n",
      "25/25 [==============================] - 0s 18ms/step - loss: 0.3107 - root_mean_squared_error: 0.5573 - val_loss: 0.3700 - val_root_mean_squared_error: 0.6083\n",
      "Epoch 119/1000\n",
      "25/25 [==============================] - 0s 16ms/step - loss: 0.3096 - root_mean_squared_error: 0.5564 - val_loss: 0.3683 - val_root_mean_squared_error: 0.6068\n",
      "Epoch 120/1000\n",
      "25/25 [==============================] - 0s 15ms/step - loss: 0.3085 - root_mean_squared_error: 0.5554 - val_loss: 0.3665 - val_root_mean_squared_error: 0.6054\n",
      "Epoch 121/1000\n",
      "25/25 [==============================] - 0s 12ms/step - loss: 0.3075 - root_mean_squared_error: 0.5545 - val_loss: 0.3646 - val_root_mean_squared_error: 0.6038\n",
      "Epoch 122/1000\n",
      "25/25 [==============================] - 0s 17ms/step - loss: 0.3063 - root_mean_squared_error: 0.5534 - val_loss: 0.3631 - val_root_mean_squared_error: 0.6026\n",
      "Epoch 123/1000\n",
      "25/25 [==============================] - 0s 17ms/step - loss: 0.3053 - root_mean_squared_error: 0.5525 - val_loss: 0.3617 - val_root_mean_squared_error: 0.6014\n",
      "Epoch 124/1000\n",
      "25/25 [==============================] - 0s 17ms/step - loss: 0.3042 - root_mean_squared_error: 0.5515 - val_loss: 0.3607 - val_root_mean_squared_error: 0.6006\n",
      "Epoch 125/1000\n",
      "25/25 [==============================] - 0s 18ms/step - loss: 0.3031 - root_mean_squared_error: 0.5505 - val_loss: 0.3600 - val_root_mean_squared_error: 0.6000\n",
      "Epoch 126/1000\n",
      "25/25 [==============================] - 0s 16ms/step - loss: 0.3021 - root_mean_squared_error: 0.5496 - val_loss: 0.3595 - val_root_mean_squared_error: 0.5996\n",
      "Epoch 127/1000\n",
      "25/25 [==============================] - 0s 17ms/step - loss: 0.3011 - root_mean_squared_error: 0.5487 - val_loss: 0.3592 - val_root_mean_squared_error: 0.5993\n",
      "Epoch 128/1000\n",
      "25/25 [==============================] - 0s 15ms/step - loss: 0.3003 - root_mean_squared_error: 0.5480 - val_loss: 0.3591 - val_root_mean_squared_error: 0.5992\n",
      "Epoch 129/1000\n",
      "25/25 [==============================] - 0s 17ms/step - loss: 0.2996 - root_mean_squared_error: 0.5473 - val_loss: 0.3594 - val_root_mean_squared_error: 0.5995\n",
      "Epoch 130/1000\n",
      "25/25 [==============================] - 0s 17ms/step - loss: 0.2989 - root_mean_squared_error: 0.5467 - val_loss: 0.3598 - val_root_mean_squared_error: 0.5999\n",
      "Epoch 131/1000\n",
      "25/25 [==============================] - 0s 17ms/step - loss: 0.2985 - root_mean_squared_error: 0.5463 - val_loss: 0.3604 - val_root_mean_squared_error: 0.6003\n",
      "Epoch 132/1000\n",
      "25/25 [==============================] - 0s 18ms/step - loss: 0.2981 - root_mean_squared_error: 0.5460 - val_loss: 0.3594 - val_root_mean_squared_error: 0.5995\n",
      "Epoch 133/1000\n",
      "25/25 [==============================] - 0s 14ms/step - loss: 0.2977 - root_mean_squared_error: 0.5456 - val_loss: 0.3553 - val_root_mean_squared_error: 0.5961\n",
      "Epoch 134/1000\n",
      "25/25 [==============================] - 0s 17ms/step - loss: 0.2966 - root_mean_squared_error: 0.5446 - val_loss: 0.3510 - val_root_mean_squared_error: 0.5924\n",
      "Epoch 135/1000\n",
      "25/25 [==============================] - 0s 17ms/step - loss: 0.2946 - root_mean_squared_error: 0.5428 - val_loss: 0.3515 - val_root_mean_squared_error: 0.5929\n",
      "Epoch 136/1000\n",
      "25/25 [==============================] - 0s 17ms/step - loss: 0.2922 - root_mean_squared_error: 0.5406 - val_loss: 0.3515 - val_root_mean_squared_error: 0.5929\n",
      "Epoch 137/1000\n",
      "25/25 [==============================] - 0s 18ms/step - loss: 0.2903 - root_mean_squared_error: 0.5388 - val_loss: 0.3507 - val_root_mean_squared_error: 0.5922\n",
      "Epoch 138/1000\n",
      "25/25 [==============================] - 0s 17ms/step - loss: 0.2890 - root_mean_squared_error: 0.5375 - val_loss: 0.3501 - val_root_mean_squared_error: 0.5917\n",
      "Epoch 139/1000\n",
      "25/25 [==============================] - 0s 17ms/step - loss: 0.2880 - root_mean_squared_error: 0.5366 - val_loss: 0.3498 - val_root_mean_squared_error: 0.5915\n",
      "Epoch 140/1000\n",
      "25/25 [==============================] - 0s 19ms/step - loss: 0.2871 - root_mean_squared_error: 0.5358 - val_loss: 0.3493 - val_root_mean_squared_error: 0.5910\n",
      "Epoch 141/1000\n",
      "25/25 [==============================] - 0s 15ms/step - loss: 0.2862 - root_mean_squared_error: 0.5350 - val_loss: 0.3489 - val_root_mean_squared_error: 0.5907\n"
     ]
    },
    {
     "name": "stdout",
     "output_type": "stream",
     "text": [
      "Epoch 142/1000\n",
      "25/25 [==============================] - 0s 17ms/step - loss: 0.2854 - root_mean_squared_error: 0.5342 - val_loss: 0.3484 - val_root_mean_squared_error: 0.5902\n",
      "Epoch 143/1000\n",
      "25/25 [==============================] - 0s 16ms/step - loss: 0.2846 - root_mean_squared_error: 0.5335 - val_loss: 0.3480 - val_root_mean_squared_error: 0.5899\n",
      "Epoch 144/1000\n",
      "25/25 [==============================] - 0s 17ms/step - loss: 0.2839 - root_mean_squared_error: 0.5329 - val_loss: 0.3474 - val_root_mean_squared_error: 0.5894\n",
      "Epoch 145/1000\n",
      "25/25 [==============================] - 0s 17ms/step - loss: 0.2832 - root_mean_squared_error: 0.5322 - val_loss: 0.3469 - val_root_mean_squared_error: 0.5890\n",
      "Epoch 146/1000\n",
      "25/25 [==============================] - 0s 17ms/step - loss: 0.2826 - root_mean_squared_error: 0.5316 - val_loss: 0.3463 - val_root_mean_squared_error: 0.5885\n",
      "Epoch 147/1000\n",
      "25/25 [==============================] - 0s 17ms/step - loss: 0.2819 - root_mean_squared_error: 0.5309 - val_loss: 0.3456 - val_root_mean_squared_error: 0.5879\n",
      "Epoch 148/1000\n",
      "25/25 [==============================] - 0s 18ms/step - loss: 0.2813 - root_mean_squared_error: 0.5304 - val_loss: 0.3450 - val_root_mean_squared_error: 0.5873\n",
      "Epoch 149/1000\n",
      "25/25 [==============================] - 0s 17ms/step - loss: 0.2807 - root_mean_squared_error: 0.5298 - val_loss: 0.3443 - val_root_mean_squared_error: 0.5868\n",
      "Epoch 150/1000\n",
      "25/25 [==============================] - 0s 17ms/step - loss: 0.2801 - root_mean_squared_error: 0.5292 - val_loss: 0.3436 - val_root_mean_squared_error: 0.5861\n",
      "Epoch 151/1000\n",
      "25/25 [==============================] - 0s 17ms/step - loss: 0.2795 - root_mean_squared_error: 0.5287 - val_loss: 0.3427 - val_root_mean_squared_error: 0.5854\n",
      "Epoch 152/1000\n",
      "25/25 [==============================] - 0s 17ms/step - loss: 0.2789 - root_mean_squared_error: 0.5281 - val_loss: 0.3419 - val_root_mean_squared_error: 0.5847\n",
      "Epoch 153/1000\n",
      "25/25 [==============================] - 0s 14ms/step - loss: 0.2784 - root_mean_squared_error: 0.5276 - val_loss: 0.3408 - val_root_mean_squared_error: 0.5837\n",
      "Epoch 154/1000\n",
      "25/25 [==============================] - 0s 17ms/step - loss: 0.2777 - root_mean_squared_error: 0.5270 - val_loss: 0.3398 - val_root_mean_squared_error: 0.5829\n",
      "Epoch 155/1000\n",
      "25/25 [==============================] - 0s 17ms/step - loss: 0.2771 - root_mean_squared_error: 0.5264 - val_loss: 0.3387 - val_root_mean_squared_error: 0.5820\n",
      "Epoch 156/1000\n",
      "25/25 [==============================] - 0s 16ms/step - loss: 0.2764 - root_mean_squared_error: 0.5257 - val_loss: 0.3376 - val_root_mean_squared_error: 0.5810\n",
      "Epoch 157/1000\n",
      "25/25 [==============================] - 0s 16ms/step - loss: 0.2757 - root_mean_squared_error: 0.5251 - val_loss: 0.3367 - val_root_mean_squared_error: 0.5802\n",
      "Epoch 158/1000\n",
      "25/25 [==============================] - 0s 16ms/step - loss: 0.2750 - root_mean_squared_error: 0.5244 - val_loss: 0.3358 - val_root_mean_squared_error: 0.5795\n",
      "Epoch 159/1000\n",
      "25/25 [==============================] - 0s 16ms/step - loss: 0.2743 - root_mean_squared_error: 0.5237 - val_loss: 0.3351 - val_root_mean_squared_error: 0.5789\n",
      "Epoch 160/1000\n",
      "25/25 [==============================] - 0s 13ms/step - loss: 0.2736 - root_mean_squared_error: 0.5230 - val_loss: 0.3343 - val_root_mean_squared_error: 0.5782\n",
      "Epoch 161/1000\n",
      "25/25 [==============================] - 0s 17ms/step - loss: 0.2730 - root_mean_squared_error: 0.5224 - val_loss: 0.3335 - val_root_mean_squared_error: 0.5775\n",
      "Epoch 162/1000\n",
      "25/25 [==============================] - 0s 15ms/step - loss: 0.2722 - root_mean_squared_error: 0.5217 - val_loss: 0.3328 - val_root_mean_squared_error: 0.5769\n",
      "Epoch 163/1000\n",
      "25/25 [==============================] - 0s 7ms/step - loss: 0.2716 - root_mean_squared_error: 0.5211 - val_loss: 0.3321 - val_root_mean_squared_error: 0.5763\n",
      "Epoch 164/1000\n",
      "25/25 [==============================] - 0s 7ms/step - loss: 0.2710 - root_mean_squared_error: 0.5205 - val_loss: 0.3313 - val_root_mean_squared_error: 0.5756\n",
      "Epoch 165/1000\n",
      "25/25 [==============================] - 0s 6ms/step - loss: 0.2703 - root_mean_squared_error: 0.5199 - val_loss: 0.3308 - val_root_mean_squared_error: 0.5751\n",
      "Epoch 166/1000\n",
      "25/25 [==============================] - 0s 16ms/step - loss: 0.2698 - root_mean_squared_error: 0.5194 - val_loss: 0.3300 - val_root_mean_squared_error: 0.5745\n",
      "Epoch 167/1000\n",
      "25/25 [==============================] - 0s 17ms/step - loss: 0.2692 - root_mean_squared_error: 0.5188 - val_loss: 0.3295 - val_root_mean_squared_error: 0.5741\n",
      "Epoch 168/1000\n",
      "25/25 [==============================] - 0s 18ms/step - loss: 0.2687 - root_mean_squared_error: 0.5183 - val_loss: 0.3288 - val_root_mean_squared_error: 0.5734\n",
      "Epoch 169/1000\n",
      "25/25 [==============================] - 0s 17ms/step - loss: 0.2681 - root_mean_squared_error: 0.5178 - val_loss: 0.3284 - val_root_mean_squared_error: 0.5731\n",
      "Epoch 170/1000\n",
      "25/25 [==============================] - 0s 17ms/step - loss: 0.2676 - root_mean_squared_error: 0.5172 - val_loss: 0.3278 - val_root_mean_squared_error: 0.5725\n",
      "Epoch 171/1000\n",
      "25/25 [==============================] - 0s 17ms/step - loss: 0.2671 - root_mean_squared_error: 0.5168 - val_loss: 0.3274 - val_root_mean_squared_error: 0.5722\n",
      "Epoch 172/1000\n",
      "25/25 [==============================] - 0s 17ms/step - loss: 0.2666 - root_mean_squared_error: 0.5163 - val_loss: 0.3268 - val_root_mean_squared_error: 0.5717\n",
      "Epoch 173/1000\n",
      "25/25 [==============================] - 0s 15ms/step - loss: 0.2661 - root_mean_squared_error: 0.5158 - val_loss: 0.3265 - val_root_mean_squared_error: 0.5714\n",
      "Epoch 174/1000\n",
      "25/25 [==============================] - 0s 18ms/step - loss: 0.2656 - root_mean_squared_error: 0.5154 - val_loss: 0.3260 - val_root_mean_squared_error: 0.5709\n",
      "Epoch 175/1000\n",
      "25/25 [==============================] - 0s 17ms/step - loss: 0.2651 - root_mean_squared_error: 0.5149 - val_loss: 0.3257 - val_root_mean_squared_error: 0.5707\n",
      "Epoch 176/1000\n",
      "25/25 [==============================] - 0s 15ms/step - loss: 0.2647 - root_mean_squared_error: 0.5145 - val_loss: 0.3253 - val_root_mean_squared_error: 0.5704\n",
      "Epoch 177/1000\n",
      "25/25 [==============================] - 0s 16ms/step - loss: 0.2642 - root_mean_squared_error: 0.5140 - val_loss: 0.3250 - val_root_mean_squared_error: 0.5701\n",
      "Epoch 178/1000\n",
      "25/25 [==============================] - 0s 18ms/step - loss: 0.2638 - root_mean_squared_error: 0.5136 - val_loss: 0.3246 - val_root_mean_squared_error: 0.5697\n",
      "Epoch 179/1000\n",
      "25/25 [==============================] - 0s 16ms/step - loss: 0.2633 - root_mean_squared_error: 0.5132 - val_loss: 0.3243 - val_root_mean_squared_error: 0.5695\n",
      "Epoch 180/1000\n",
      "25/25 [==============================] - 0s 17ms/step - loss: 0.2629 - root_mean_squared_error: 0.5127 - val_loss: 0.3240 - val_root_mean_squared_error: 0.5692\n",
      "Epoch 181/1000\n",
      "25/25 [==============================] - 0s 15ms/step - loss: 0.2625 - root_mean_squared_error: 0.5123 - val_loss: 0.3238 - val_root_mean_squared_error: 0.5690\n",
      "Epoch 182/1000\n",
      "25/25 [==============================] - 0s 18ms/step - loss: 0.2621 - root_mean_squared_error: 0.5120 - val_loss: 0.3237 - val_root_mean_squared_error: 0.5690\n",
      "Epoch 183/1000\n",
      "25/25 [==============================] - 0s 17ms/step - loss: 0.2617 - root_mean_squared_error: 0.5116 - val_loss: 0.3236 - val_root_mean_squared_error: 0.5689\n",
      "Epoch 184/1000\n",
      "25/25 [==============================] - 0s 17ms/step - loss: 0.2613 - root_mean_squared_error: 0.5112 - val_loss: 0.3236 - val_root_mean_squared_error: 0.5689\n",
      "Epoch 185/1000\n",
      "25/25 [==============================] - 0s 17ms/step - loss: 0.2609 - root_mean_squared_error: 0.5108 - val_loss: 0.3237 - val_root_mean_squared_error: 0.5690\n",
      "Epoch 186/1000\n",
      "25/25 [==============================] - 0s 17ms/step - loss: 0.2605 - root_mean_squared_error: 0.5104 - val_loss: 0.3239 - val_root_mean_squared_error: 0.5691\n",
      "Epoch 187/1000\n",
      "25/25 [==============================] - 0s 17ms/step - loss: 0.2602 - root_mean_squared_error: 0.5100 - val_loss: 0.3240 - val_root_mean_squared_error: 0.5692\n",
      "Epoch 188/1000\n",
      "25/25 [==============================] - 0s 15ms/step - loss: 0.2597 - root_mean_squared_error: 0.5096 - val_loss: 0.3242 - val_root_mean_squared_error: 0.5694\n"
     ]
    },
    {
     "name": "stdout",
     "output_type": "stream",
     "text": [
      "Epoch 189/1000\n",
      "25/25 [==============================] - 0s 17ms/step - loss: 0.2594 - root_mean_squared_error: 0.5093 - val_loss: 0.3243 - val_root_mean_squared_error: 0.5695\n",
      "Epoch 190/1000\n",
      "25/25 [==============================] - 0s 17ms/step - loss: 0.2589 - root_mean_squared_error: 0.5089 - val_loss: 0.3243 - val_root_mean_squared_error: 0.5695\n",
      "Epoch 191/1000\n",
      "25/25 [==============================] - 0s 16ms/step - loss: 0.2586 - root_mean_squared_error: 0.5085 - val_loss: 0.3240 - val_root_mean_squared_error: 0.5692\n",
      "Epoch 192/1000\n",
      "25/25 [==============================] - 0s 17ms/step - loss: 0.2581 - root_mean_squared_error: 0.5080 - val_loss: 0.3237 - val_root_mean_squared_error: 0.5689\n",
      "Epoch 193/1000\n",
      "25/25 [==============================] - 0s 15ms/step - loss: 0.2576 - root_mean_squared_error: 0.5075 - val_loss: 0.3231 - val_root_mean_squared_error: 0.5684\n",
      "Epoch 194/1000\n",
      "25/25 [==============================] - 0s 17ms/step - loss: 0.2571 - root_mean_squared_error: 0.5070 - val_loss: 0.3225 - val_root_mean_squared_error: 0.5679\n",
      "Epoch 195/1000\n",
      "25/25 [==============================] - 0s 16ms/step - loss: 0.2566 - root_mean_squared_error: 0.5065 - val_loss: 0.3218 - val_root_mean_squared_error: 0.5673\n",
      "Epoch 196/1000\n",
      "25/25 [==============================] - 0s 16ms/step - loss: 0.2561 - root_mean_squared_error: 0.5060 - val_loss: 0.3214 - val_root_mean_squared_error: 0.5669\n",
      "Epoch 197/1000\n",
      "25/25 [==============================] - 0s 17ms/step - loss: 0.2557 - root_mean_squared_error: 0.5056 - val_loss: 0.3208 - val_root_mean_squared_error: 0.5664\n",
      "Epoch 198/1000\n",
      "25/25 [==============================] - 0s 17ms/step - loss: 0.2552 - root_mean_squared_error: 0.5052 - val_loss: 0.3205 - val_root_mean_squared_error: 0.5661\n",
      "Epoch 199/1000\n",
      "25/25 [==============================] - 0s 16ms/step - loss: 0.2549 - root_mean_squared_error: 0.5049 - val_loss: 0.3201 - val_root_mean_squared_error: 0.5658\n",
      "Epoch 200/1000\n",
      "25/25 [==============================] - 0s 17ms/step - loss: 0.2546 - root_mean_squared_error: 0.5046 - val_loss: 0.3197 - val_root_mean_squared_error: 0.5654\n",
      "Epoch 201/1000\n",
      "25/25 [==============================] - 0s 17ms/step - loss: 0.2543 - root_mean_squared_error: 0.5043 - val_loss: 0.3193 - val_root_mean_squared_error: 0.5651\n",
      "Epoch 202/1000\n",
      "25/25 [==============================] - 0s 17ms/step - loss: 0.2541 - root_mean_squared_error: 0.5041 - val_loss: 0.3190 - val_root_mean_squared_error: 0.5648\n",
      "Epoch 203/1000\n",
      "25/25 [==============================] - 0s 16ms/step - loss: 0.2539 - root_mean_squared_error: 0.5038 - val_loss: 0.3189 - val_root_mean_squared_error: 0.5647\n",
      "Epoch 204/1000\n",
      "25/25 [==============================] - 0s 14ms/step - loss: 0.2537 - root_mean_squared_error: 0.5037 - val_loss: 0.3190 - val_root_mean_squared_error: 0.5648\n",
      "Epoch 205/1000\n",
      "25/25 [==============================] - 0s 18ms/step - loss: 0.2538 - root_mean_squared_error: 0.5038 - val_loss: 0.3196 - val_root_mean_squared_error: 0.5653\n",
      "Epoch 206/1000\n",
      "25/25 [==============================] - 0s 17ms/step - loss: 0.2541 - root_mean_squared_error: 0.5041 - val_loss: 0.3201 - val_root_mean_squared_error: 0.5658\n",
      "Epoch 207/1000\n",
      "25/25 [==============================] - 0s 18ms/step - loss: 0.2551 - root_mean_squared_error: 0.5051 - val_loss: 0.3204 - val_root_mean_squared_error: 0.5660\n",
      "Epoch 208/1000\n",
      "25/25 [==============================] - 0s 17ms/step - loss: 0.2571 - root_mean_squared_error: 0.5070 - val_loss: 0.3195 - val_root_mean_squared_error: 0.5653\n",
      "Epoch 209/1000\n",
      "25/25 [==============================] - 0s 18ms/step - loss: 0.2597 - root_mean_squared_error: 0.5096 - val_loss: 0.3277 - val_root_mean_squared_error: 0.5724\n",
      "Epoch 210/1000\n",
      "25/25 [==============================] - 0s 17ms/step - loss: 0.2605 - root_mean_squared_error: 0.5104 - val_loss: 0.3279 - val_root_mean_squared_error: 0.5726\n",
      "Epoch 211/1000\n",
      "25/25 [==============================] - 0s 16ms/step - loss: 0.2542 - root_mean_squared_error: 0.5041 - val_loss: 0.3196 - val_root_mean_squared_error: 0.5654\n",
      "Epoch 212/1000\n",
      "25/25 [==============================] - 0s 17ms/step - loss: 0.2501 - root_mean_squared_error: 0.5001 - val_loss: 0.3231 - val_root_mean_squared_error: 0.5684\n",
      "Epoch 213/1000\n",
      "25/25 [==============================] - 0s 18ms/step - loss: 0.2511 - root_mean_squared_error: 0.5011 - val_loss: 0.3251 - val_root_mean_squared_error: 0.5702\n",
      "Epoch 214/1000\n",
      "25/25 [==============================] - 0s 17ms/step - loss: 0.2510 - root_mean_squared_error: 0.5010 - val_loss: 0.3226 - val_root_mean_squared_error: 0.5680\n",
      "Epoch 215/1000\n",
      "25/25 [==============================] - 0s 17ms/step - loss: 0.2500 - root_mean_squared_error: 0.5000 - val_loss: 0.3203 - val_root_mean_squared_error: 0.5659\n",
      "Epoch 216/1000\n",
      "25/25 [==============================] - 0s 18ms/step - loss: 0.2490 - root_mean_squared_error: 0.4990 - val_loss: 0.3209 - val_root_mean_squared_error: 0.5664\n",
      "Epoch 217/1000\n",
      "25/25 [==============================] - 0s 18ms/step - loss: 0.2483 - root_mean_squared_error: 0.4983 - val_loss: 0.3216 - val_root_mean_squared_error: 0.5671\n",
      "Epoch 218/1000\n",
      "25/25 [==============================] - 0s 16ms/step - loss: 0.2482 - root_mean_squared_error: 0.4981 - val_loss: 0.3228 - val_root_mean_squared_error: 0.5681\n",
      "Epoch 219/1000\n",
      "25/25 [==============================] - 0s 17ms/step - loss: 0.2487 - root_mean_squared_error: 0.4987 - val_loss: 0.3249 - val_root_mean_squared_error: 0.5700\n",
      "Epoch 220/1000\n",
      "25/25 [==============================] - 0s 17ms/step - loss: 0.2497 - root_mean_squared_error: 0.4997 - val_loss: 0.3271 - val_root_mean_squared_error: 0.5719\n",
      "Epoch 221/1000\n",
      "25/25 [==============================] - 0s 17ms/step - loss: 0.2513 - root_mean_squared_error: 0.5013 - val_loss: 0.3261 - val_root_mean_squared_error: 0.5711\n",
      "Epoch 222/1000\n",
      "25/25 [==============================] - 0s 16ms/step - loss: 0.2522 - root_mean_squared_error: 0.5022 - val_loss: 0.3235 - val_root_mean_squared_error: 0.5688\n",
      "Epoch 223/1000\n",
      "25/25 [==============================] - 0s 17ms/step - loss: 0.2506 - root_mean_squared_error: 0.5006 - val_loss: 0.3200 - val_root_mean_squared_error: 0.5657\n",
      "Epoch 224/1000\n",
      "25/25 [==============================] - 0s 17ms/step - loss: 0.2470 - root_mean_squared_error: 0.4970 - val_loss: 0.3183 - val_root_mean_squared_error: 0.5642\n",
      "Epoch 225/1000\n",
      "25/25 [==============================] - 0s 17ms/step - loss: 0.2452 - root_mean_squared_error: 0.4952 - val_loss: 0.3197 - val_root_mean_squared_error: 0.5654\n",
      "Epoch 226/1000\n",
      "25/25 [==============================] - 0s 15ms/step - loss: 0.2453 - root_mean_squared_error: 0.4953 - val_loss: 0.3203 - val_root_mean_squared_error: 0.5660\n",
      "Epoch 227/1000\n",
      "25/25 [==============================] - 0s 16ms/step - loss: 0.2454 - root_mean_squared_error: 0.4953 - val_loss: 0.3206 - val_root_mean_squared_error: 0.5662\n",
      "Epoch 228/1000\n",
      "25/25 [==============================] - 0s 16ms/step - loss: 0.2455 - root_mean_squared_error: 0.4955 - val_loss: 0.3208 - val_root_mean_squared_error: 0.5664\n",
      "Epoch 229/1000\n",
      "25/25 [==============================] - 0s 16ms/step - loss: 0.2455 - root_mean_squared_error: 0.4955 - val_loss: 0.3205 - val_root_mean_squared_error: 0.5662\n",
      "Epoch 230/1000\n",
      "25/25 [==============================] - 0s 18ms/step - loss: 0.2454 - root_mean_squared_error: 0.4954 - val_loss: 0.3189 - val_root_mean_squared_error: 0.5647\n",
      "Epoch 231/1000\n",
      "25/25 [==============================] - 0s 17ms/step - loss: 0.2449 - root_mean_squared_error: 0.4948 - val_loss: 0.3155 - val_root_mean_squared_error: 0.5617\n",
      "Epoch 232/1000\n",
      "25/25 [==============================] - 0s 16ms/step - loss: 0.2439 - root_mean_squared_error: 0.4938 - val_loss: 0.3132 - val_root_mean_squared_error: 0.5596\n",
      "Epoch 233/1000\n",
      "25/25 [==============================] - 0s 17ms/step - loss: 0.2429 - root_mean_squared_error: 0.4929 - val_loss: 0.3144 - val_root_mean_squared_error: 0.5607\n",
      "Epoch 234/1000\n",
      "25/25 [==============================] - 0s 17ms/step - loss: 0.2425 - root_mean_squared_error: 0.4924 - val_loss: 0.3190 - val_root_mean_squared_error: 0.5648\n",
      "Epoch 235/1000\n",
      "25/25 [==============================] - 0s 18ms/step - loss: 0.2425 - root_mean_squared_error: 0.4924 - val_loss: 0.3216 - val_root_mean_squared_error: 0.5671\n"
     ]
    },
    {
     "name": "stdout",
     "output_type": "stream",
     "text": [
      "Epoch 236/1000\n",
      "25/25 [==============================] - 0s 17ms/step - loss: 0.2420 - root_mean_squared_error: 0.4919 - val_loss: 0.3170 - val_root_mean_squared_error: 0.5630\n",
      "Epoch 237/1000\n",
      "25/25 [==============================] - 0s 18ms/step - loss: 0.2404 - root_mean_squared_error: 0.4903 - val_loss: 0.3139 - val_root_mean_squared_error: 0.5603\n",
      "Epoch 238/1000\n",
      "25/25 [==============================] - 0s 18ms/step - loss: 0.2386 - root_mean_squared_error: 0.4885 - val_loss: 0.3146 - val_root_mean_squared_error: 0.5609\n",
      "Epoch 239/1000\n",
      "25/25 [==============================] - 0s 17ms/step - loss: 0.2376 - root_mean_squared_error: 0.4875 - val_loss: 0.3154 - val_root_mean_squared_error: 0.5616\n",
      "Epoch 240/1000\n",
      "25/25 [==============================] - 0s 18ms/step - loss: 0.2373 - root_mean_squared_error: 0.4871 - val_loss: 0.3143 - val_root_mean_squared_error: 0.5606\n",
      "Epoch 241/1000\n",
      "25/25 [==============================] - 0s 17ms/step - loss: 0.2368 - root_mean_squared_error: 0.4866 - val_loss: 0.3123 - val_root_mean_squared_error: 0.5589\n",
      "Epoch 242/1000\n",
      "25/25 [==============================] - 0s 16ms/step - loss: 0.2361 - root_mean_squared_error: 0.4859 - val_loss: 0.3104 - val_root_mean_squared_error: 0.5572\n",
      "Epoch 243/1000\n",
      "25/25 [==============================] - 0s 17ms/step - loss: 0.2354 - root_mean_squared_error: 0.4851 - val_loss: 0.3090 - val_root_mean_squared_error: 0.5559\n",
      "Epoch 244/1000\n",
      "25/25 [==============================] - 0s 16ms/step - loss: 0.2346 - root_mean_squared_error: 0.4844 - val_loss: 0.3080 - val_root_mean_squared_error: 0.5550\n",
      "Epoch 245/1000\n",
      "25/25 [==============================] - 0s 17ms/step - loss: 0.2338 - root_mean_squared_error: 0.4836 - val_loss: 0.3077 - val_root_mean_squared_error: 0.5547\n",
      "Epoch 246/1000\n",
      "25/25 [==============================] - 0s 16ms/step - loss: 0.2332 - root_mean_squared_error: 0.4829 - val_loss: 0.3077 - val_root_mean_squared_error: 0.5547\n",
      "Epoch 247/1000\n",
      "25/25 [==============================] - 0s 17ms/step - loss: 0.2326 - root_mean_squared_error: 0.4823 - val_loss: 0.3077 - val_root_mean_squared_error: 0.5547\n",
      "Epoch 248/1000\n",
      "25/25 [==============================] - 0s 17ms/step - loss: 0.2321 - root_mean_squared_error: 0.4817 - val_loss: 0.3078 - val_root_mean_squared_error: 0.5548\n",
      "Epoch 249/1000\n",
      "25/25 [==============================] - 0s 15ms/step - loss: 0.2315 - root_mean_squared_error: 0.4812 - val_loss: 0.3077 - val_root_mean_squared_error: 0.5547\n",
      "Epoch 250/1000\n",
      "25/25 [==============================] - 0s 16ms/step - loss: 0.2310 - root_mean_squared_error: 0.4806 - val_loss: 0.3078 - val_root_mean_squared_error: 0.5548\n",
      "Epoch 251/1000\n",
      "25/25 [==============================] - 0s 18ms/step - loss: 0.2306 - root_mean_squared_error: 0.4802 - val_loss: 0.3078 - val_root_mean_squared_error: 0.5548\n",
      "Epoch 252/1000\n",
      "25/25 [==============================] - 0s 17ms/step - loss: 0.2301 - root_mean_squared_error: 0.4797 - val_loss: 0.3076 - val_root_mean_squared_error: 0.5547\n",
      "Epoch 253/1000\n",
      "25/25 [==============================] - 0s 17ms/step - loss: 0.2297 - root_mean_squared_error: 0.4793 - val_loss: 0.3077 - val_root_mean_squared_error: 0.5547\n",
      "Epoch 254/1000\n",
      "25/25 [==============================] - 0s 18ms/step - loss: 0.2294 - root_mean_squared_error: 0.4789 - val_loss: 0.3077 - val_root_mean_squared_error: 0.5547\n",
      "Epoch 255/1000\n",
      "25/25 [==============================] - 0s 16ms/step - loss: 0.2290 - root_mean_squared_error: 0.4786 - val_loss: 0.3077 - val_root_mean_squared_error: 0.5547\n",
      "Epoch 256/1000\n",
      "25/25 [==============================] - 0s 18ms/step - loss: 0.2287 - root_mean_squared_error: 0.4783 - val_loss: 0.3075 - val_root_mean_squared_error: 0.5545\n",
      "Epoch 257/1000\n",
      "25/25 [==============================] - 0s 17ms/step - loss: 0.2284 - root_mean_squared_error: 0.4779 - val_loss: 0.3076 - val_root_mean_squared_error: 0.5546\n",
      "Epoch 258/1000\n",
      "25/25 [==============================] - 0s 16ms/step - loss: 0.2282 - root_mean_squared_error: 0.4777 - val_loss: 0.3075 - val_root_mean_squared_error: 0.5545\n",
      "Epoch 259/1000\n",
      "25/25 [==============================] - 0s 17ms/step - loss: 0.2279 - root_mean_squared_error: 0.4774 - val_loss: 0.3073 - val_root_mean_squared_error: 0.5543\n",
      "Epoch 260/1000\n",
      "25/25 [==============================] - 0s 15ms/step - loss: 0.2277 - root_mean_squared_error: 0.4771 - val_loss: 0.3072 - val_root_mean_squared_error: 0.5542\n",
      "Epoch 261/1000\n",
      "25/25 [==============================] - 0s 17ms/step - loss: 0.2274 - root_mean_squared_error: 0.4769 - val_loss: 0.3068 - val_root_mean_squared_error: 0.5539\n",
      "Epoch 262/1000\n",
      "25/25 [==============================] - 0s 17ms/step - loss: 0.2272 - root_mean_squared_error: 0.4766 - val_loss: 0.3062 - val_root_mean_squared_error: 0.5534\n",
      "Epoch 263/1000\n",
      "25/25 [==============================] - 0s 18ms/step - loss: 0.2269 - root_mean_squared_error: 0.4763 - val_loss: 0.3054 - val_root_mean_squared_error: 0.5526\n",
      "Epoch 264/1000\n",
      "25/25 [==============================] - 0s 17ms/step - loss: 0.2265 - root_mean_squared_error: 0.4759 - val_loss: 0.3043 - val_root_mean_squared_error: 0.5516\n",
      "Epoch 265/1000\n",
      "25/25 [==============================] - 0s 17ms/step - loss: 0.2261 - root_mean_squared_error: 0.4755 - val_loss: 0.3029 - val_root_mean_squared_error: 0.5504\n",
      "Epoch 266/1000\n",
      "25/25 [==============================] - 0s 18ms/step - loss: 0.2255 - root_mean_squared_error: 0.4749 - val_loss: 0.3017 - val_root_mean_squared_error: 0.5493\n",
      "Epoch 267/1000\n",
      "25/25 [==============================] - 0s 15ms/step - loss: 0.2251 - root_mean_squared_error: 0.4744 - val_loss: 0.3006 - val_root_mean_squared_error: 0.5483\n",
      "Epoch 268/1000\n",
      "25/25 [==============================] - 0s 16ms/step - loss: 0.2246 - root_mean_squared_error: 0.4739 - val_loss: 0.2998 - val_root_mean_squared_error: 0.5475\n",
      "Epoch 269/1000\n",
      "25/25 [==============================] - 0s 17ms/step - loss: 0.2243 - root_mean_squared_error: 0.4736 - val_loss: 0.2995 - val_root_mean_squared_error: 0.5473\n",
      "Epoch 270/1000\n",
      "25/25 [==============================] - 0s 17ms/step - loss: 0.2242 - root_mean_squared_error: 0.4735 - val_loss: 0.2995 - val_root_mean_squared_error: 0.5473\n",
      "Epoch 271/1000\n",
      "25/25 [==============================] - 0s 17ms/step - loss: 0.2242 - root_mean_squared_error: 0.4735 - val_loss: 0.3006 - val_root_mean_squared_error: 0.5482\n",
      "Epoch 272/1000\n",
      "25/25 [==============================] - 0s 17ms/step - loss: 0.2248 - root_mean_squared_error: 0.4741 - val_loss: 0.3030 - val_root_mean_squared_error: 0.5504\n",
      "Epoch 273/1000\n",
      "25/25 [==============================] - 0s 16ms/step - loss: 0.2256 - root_mean_squared_error: 0.4750 - val_loss: 0.3058 - val_root_mean_squared_error: 0.5530\n",
      "Epoch 274/1000\n",
      "25/25 [==============================] - 0s 17ms/step - loss: 0.2265 - root_mean_squared_error: 0.4759 - val_loss: 0.3047 - val_root_mean_squared_error: 0.5520\n",
      "Epoch 275/1000\n",
      "25/25 [==============================] - 0s 17ms/step - loss: 0.2260 - root_mean_squared_error: 0.4754 - val_loss: 0.2984 - val_root_mean_squared_error: 0.5463\n",
      "Epoch 276/1000\n",
      "25/25 [==============================] - 0s 18ms/step - loss: 0.2237 - root_mean_squared_error: 0.4730 - val_loss: 0.2953 - val_root_mean_squared_error: 0.5434\n",
      "Epoch 277/1000\n",
      "25/25 [==============================] - 0s 18ms/step - loss: 0.2219 - root_mean_squared_error: 0.4710 - val_loss: 0.2972 - val_root_mean_squared_error: 0.5452\n",
      "Epoch 278/1000\n",
      "25/25 [==============================] - 0s 16ms/step - loss: 0.2215 - root_mean_squared_error: 0.4706 - val_loss: 0.3005 - val_root_mean_squared_error: 0.5482\n",
      "Epoch 279/1000\n",
      "25/25 [==============================] - 0s 17ms/step - loss: 0.2216 - root_mean_squared_error: 0.4708 - val_loss: 0.3029 - val_root_mean_squared_error: 0.5504\n",
      "Epoch 280/1000\n",
      "25/25 [==============================] - 0s 15ms/step - loss: 0.2213 - root_mean_squared_error: 0.4704 - val_loss: 0.2993 - val_root_mean_squared_error: 0.5471\n",
      "Epoch 281/1000\n",
      "25/25 [==============================] - 0s 17ms/step - loss: 0.2192 - root_mean_squared_error: 0.4682 - val_loss: 0.2963 - val_root_mean_squared_error: 0.5443\n",
      "Epoch 282/1000\n",
      "25/25 [==============================] - 0s 17ms/step - loss: 0.2169 - root_mean_squared_error: 0.4658 - val_loss: 0.2966 - val_root_mean_squared_error: 0.5446\n"
     ]
    },
    {
     "name": "stdout",
     "output_type": "stream",
     "text": [
      "Epoch 283/1000\n",
      "25/25 [==============================] - 0s 17ms/step - loss: 0.2162 - root_mean_squared_error: 0.4649 - val_loss: 0.2976 - val_root_mean_squared_error: 0.5456\n",
      "Epoch 284/1000\n",
      "25/25 [==============================] - 0s 18ms/step - loss: 0.2160 - root_mean_squared_error: 0.4648 - val_loss: 0.2986 - val_root_mean_squared_error: 0.5464\n",
      "Epoch 285/1000\n",
      "25/25 [==============================] - 0s 16ms/step - loss: 0.2160 - root_mean_squared_error: 0.4647 - val_loss: 0.2994 - val_root_mean_squared_error: 0.5472\n",
      "Epoch 286/1000\n",
      "25/25 [==============================] - 0s 16ms/step - loss: 0.2160 - root_mean_squared_error: 0.4648 - val_loss: 0.3001 - val_root_mean_squared_error: 0.5478\n",
      "Epoch 287/1000\n",
      "25/25 [==============================] - 0s 18ms/step - loss: 0.2160 - root_mean_squared_error: 0.4648 - val_loss: 0.3003 - val_root_mean_squared_error: 0.5480\n",
      "Epoch 288/1000\n",
      "25/25 [==============================] - 0s 15ms/step - loss: 0.2161 - root_mean_squared_error: 0.4649 - val_loss: 0.2996 - val_root_mean_squared_error: 0.5473\n",
      "Epoch 289/1000\n",
      "25/25 [==============================] - 0s 17ms/step - loss: 0.2161 - root_mean_squared_error: 0.4648 - val_loss: 0.2980 - val_root_mean_squared_error: 0.5459\n",
      "Epoch 290/1000\n",
      "25/25 [==============================] - 0s 17ms/step - loss: 0.2157 - root_mean_squared_error: 0.4644 - val_loss: 0.2958 - val_root_mean_squared_error: 0.5439\n",
      "Epoch 291/1000\n",
      "25/25 [==============================] - 0s 18ms/step - loss: 0.2148 - root_mean_squared_error: 0.4635 - val_loss: 0.2947 - val_root_mean_squared_error: 0.5428\n",
      "Epoch 292/1000\n",
      "25/25 [==============================] - 0s 17ms/step - loss: 0.2137 - root_mean_squared_error: 0.4622 - val_loss: 0.2944 - val_root_mean_squared_error: 0.5426\n",
      "Epoch 293/1000\n",
      "25/25 [==============================] - 0s 16ms/step - loss: 0.2126 - root_mean_squared_error: 0.4611 - val_loss: 0.2945 - val_root_mean_squared_error: 0.5427\n",
      "Epoch 294/1000\n",
      "25/25 [==============================] - 0s 17ms/step - loss: 0.2117 - root_mean_squared_error: 0.4601 - val_loss: 0.2948 - val_root_mean_squared_error: 0.5429\n",
      "Epoch 295/1000\n",
      "25/25 [==============================] - 0s 17ms/step - loss: 0.2111 - root_mean_squared_error: 0.4595 - val_loss: 0.2948 - val_root_mean_squared_error: 0.5429\n",
      "Epoch 296/1000\n",
      "25/25 [==============================] - 0s 17ms/step - loss: 0.2105 - root_mean_squared_error: 0.4588 - val_loss: 0.2950 - val_root_mean_squared_error: 0.5431\n",
      "Epoch 297/1000\n",
      "25/25 [==============================] - 0s 17ms/step - loss: 0.2101 - root_mean_squared_error: 0.4584 - val_loss: 0.2949 - val_root_mean_squared_error: 0.5431\n",
      "Epoch 298/1000\n",
      "25/25 [==============================] - 0s 15ms/step - loss: 0.2097 - root_mean_squared_error: 0.4579 - val_loss: 0.2951 - val_root_mean_squared_error: 0.5432\n",
      "Epoch 299/1000\n",
      "25/25 [==============================] - 0s 17ms/step - loss: 0.2093 - root_mean_squared_error: 0.4575 - val_loss: 0.2949 - val_root_mean_squared_error: 0.5431\n",
      "Epoch 300/1000\n",
      "25/25 [==============================] - 0s 17ms/step - loss: 0.2089 - root_mean_squared_error: 0.4571 - val_loss: 0.2949 - val_root_mean_squared_error: 0.5431\n",
      "Epoch 301/1000\n",
      "25/25 [==============================] - 0s 17ms/step - loss: 0.2085 - root_mean_squared_error: 0.4567 - val_loss: 0.2947 - val_root_mean_squared_error: 0.5429\n",
      "Epoch 302/1000\n",
      "25/25 [==============================] - 0s 16ms/step - loss: 0.2081 - root_mean_squared_error: 0.4562 - val_loss: 0.2946 - val_root_mean_squared_error: 0.5428\n",
      "Epoch 303/1000\n",
      "25/25 [==============================] - 0s 17ms/step - loss: 0.2077 - root_mean_squared_error: 0.4558 - val_loss: 0.2943 - val_root_mean_squared_error: 0.5425\n",
      "Epoch 304/1000\n",
      "25/25 [==============================] - 0s 17ms/step - loss: 0.2074 - root_mean_squared_error: 0.4554 - val_loss: 0.2943 - val_root_mean_squared_error: 0.5425\n",
      "Epoch 305/1000\n",
      "25/25 [==============================] - 0s 17ms/step - loss: 0.2071 - root_mean_squared_error: 0.4551 - val_loss: 0.2940 - val_root_mean_squared_error: 0.5422\n",
      "Epoch 306/1000\n",
      "25/25 [==============================] - 0s 17ms/step - loss: 0.2067 - root_mean_squared_error: 0.4547 - val_loss: 0.2938 - val_root_mean_squared_error: 0.5421\n",
      "Epoch 307/1000\n",
      "25/25 [==============================] - 0s 16ms/step - loss: 0.2064 - root_mean_squared_error: 0.4543 - val_loss: 0.2936 - val_root_mean_squared_error: 0.5418\n",
      "Epoch 308/1000\n",
      "25/25 [==============================] - 0s 18ms/step - loss: 0.2061 - root_mean_squared_error: 0.4540 - val_loss: 0.2934 - val_root_mean_squared_error: 0.5417\n",
      "Epoch 309/1000\n",
      "25/25 [==============================] - 0s 15ms/step - loss: 0.2058 - root_mean_squared_error: 0.4537 - val_loss: 0.2931 - val_root_mean_squared_error: 0.5414\n",
      "Epoch 310/1000\n",
      "25/25 [==============================] - 0s 17ms/step - loss: 0.2055 - root_mean_squared_error: 0.4534 - val_loss: 0.2928 - val_root_mean_squared_error: 0.5412\n",
      "Epoch 311/1000\n",
      "25/25 [==============================] - 0s 17ms/step - loss: 0.2053 - root_mean_squared_error: 0.4531 - val_loss: 0.2923 - val_root_mean_squared_error: 0.5407\n",
      "Epoch 312/1000\n",
      "25/25 [==============================] - 0s 17ms/step - loss: 0.2051 - root_mean_squared_error: 0.4528 - val_loss: 0.2920 - val_root_mean_squared_error: 0.5404\n",
      "Epoch 313/1000\n",
      "25/25 [==============================] - 0s 17ms/step - loss: 0.2050 - root_mean_squared_error: 0.4527 - val_loss: 0.2914 - val_root_mean_squared_error: 0.5398\n",
      "Epoch 314/1000\n",
      "25/25 [==============================] - 0s 12ms/step - loss: 0.2049 - root_mean_squared_error: 0.4527 - val_loss: 0.2908 - val_root_mean_squared_error: 0.5392\n",
      "Epoch 315/1000\n",
      "25/25 [==============================] - 0s 7ms/step - loss: 0.2050 - root_mean_squared_error: 0.4528 - val_loss: 0.2897 - val_root_mean_squared_error: 0.5383\n",
      "Epoch 316/1000\n",
      "25/25 [==============================] - 0s 7ms/step - loss: 0.2053 - root_mean_squared_error: 0.4531 - val_loss: 0.2887 - val_root_mean_squared_error: 0.5373\n",
      "Epoch 317/1000\n",
      "25/25 [==============================] - 0s 12ms/step - loss: 0.2054 - root_mean_squared_error: 0.4532 - val_loss: 0.2881 - val_root_mean_squared_error: 0.5368\n",
      "Epoch 318/1000\n",
      "25/25 [==============================] - 0s 16ms/step - loss: 0.2055 - root_mean_squared_error: 0.4533 - val_loss: 0.2893 - val_root_mean_squared_error: 0.5378\n",
      "Epoch 319/1000\n",
      "25/25 [==============================] - 0s 16ms/step - loss: 0.2051 - root_mean_squared_error: 0.4528 - val_loss: 0.2915 - val_root_mean_squared_error: 0.5399\n",
      "Epoch 320/1000\n",
      "25/25 [==============================] - 0s 17ms/step - loss: 0.2042 - root_mean_squared_error: 0.4519 - val_loss: 0.2911 - val_root_mean_squared_error: 0.5396\n",
      "Epoch 321/1000\n",
      "25/25 [==============================] - 0s 17ms/step - loss: 0.2025 - root_mean_squared_error: 0.4500 - val_loss: 0.2896 - val_root_mean_squared_error: 0.5382\n",
      "Epoch 322/1000\n",
      "25/25 [==============================] - 0s 16ms/step - loss: 0.2007 - root_mean_squared_error: 0.4480 - val_loss: 0.2887 - val_root_mean_squared_error: 0.5373\n",
      "Epoch 323/1000\n",
      "25/25 [==============================] - 0s 15ms/step - loss: 0.1996 - root_mean_squared_error: 0.4468 - val_loss: 0.2885 - val_root_mean_squared_error: 0.5371\n",
      "Epoch 324/1000\n",
      "25/25 [==============================] - 0s 18ms/step - loss: 0.1991 - root_mean_squared_error: 0.4462 - val_loss: 0.2884 - val_root_mean_squared_error: 0.5370\n",
      "Epoch 325/1000\n",
      "25/25 [==============================] - 0s 17ms/step - loss: 0.1987 - root_mean_squared_error: 0.4457 - val_loss: 0.2884 - val_root_mean_squared_error: 0.5370\n",
      "Epoch 326/1000\n",
      "25/25 [==============================] - 0s 17ms/step - loss: 0.1983 - root_mean_squared_error: 0.4452 - val_loss: 0.2885 - val_root_mean_squared_error: 0.5371\n",
      "Epoch 327/1000\n",
      "25/25 [==============================] - 0s 17ms/step - loss: 0.1979 - root_mean_squared_error: 0.4448 - val_loss: 0.2886 - val_root_mean_squared_error: 0.5372\n",
      "Epoch 328/1000\n",
      "25/25 [==============================] - 0s 17ms/step - loss: 0.1976 - root_mean_squared_error: 0.4445 - val_loss: 0.2891 - val_root_mean_squared_error: 0.5377\n",
      "Epoch 329/1000\n",
      "25/25 [==============================] - 0s 16ms/step - loss: 0.1973 - root_mean_squared_error: 0.4442 - val_loss: 0.2900 - val_root_mean_squared_error: 0.5385\n"
     ]
    },
    {
     "name": "stdout",
     "output_type": "stream",
     "text": [
      "Epoch 330/1000\n",
      "25/25 [==============================] - 0s 12ms/step - loss: 0.1973 - root_mean_squared_error: 0.4442 - val_loss: 0.2909 - val_root_mean_squared_error: 0.5394\n",
      "Epoch 331/1000\n",
      "25/25 [==============================] - 0s 16ms/step - loss: 0.1974 - root_mean_squared_error: 0.4443 - val_loss: 0.2918 - val_root_mean_squared_error: 0.5402\n",
      "Epoch 332/1000\n",
      "25/25 [==============================] - 0s 16ms/step - loss: 0.1979 - root_mean_squared_error: 0.4449 - val_loss: 0.2928 - val_root_mean_squared_error: 0.5411\n",
      "Epoch 333/1000\n",
      "25/25 [==============================] - 0s 16ms/step - loss: 0.1986 - root_mean_squared_error: 0.4456 - val_loss: 0.2932 - val_root_mean_squared_error: 0.5415\n",
      "Epoch 334/1000\n",
      "25/25 [==============================] - 0s 17ms/step - loss: 0.1999 - root_mean_squared_error: 0.4470 - val_loss: 0.2926 - val_root_mean_squared_error: 0.5409\n",
      "Epoch 335/1000\n",
      "25/25 [==============================] - 0s 17ms/step - loss: 0.2015 - root_mean_squared_error: 0.4489 - val_loss: 0.2908 - val_root_mean_squared_error: 0.5392\n",
      "Epoch 336/1000\n",
      "25/25 [==============================] - 0s 18ms/step - loss: 0.2034 - root_mean_squared_error: 0.4510 - val_loss: 0.2906 - val_root_mean_squared_error: 0.5390\n",
      "Epoch 337/1000\n",
      "25/25 [==============================] - 0s 17ms/step - loss: 0.2050 - root_mean_squared_error: 0.4528 - val_loss: 0.2904 - val_root_mean_squared_error: 0.5389\n",
      "Epoch 338/1000\n",
      "25/25 [==============================] - 0s 18ms/step - loss: 0.2036 - root_mean_squared_error: 0.4513 - val_loss: 0.2878 - val_root_mean_squared_error: 0.5365\n",
      "Epoch 339/1000\n",
      "25/25 [==============================] - 0s 17ms/step - loss: 0.1998 - root_mean_squared_error: 0.4470 - val_loss: 0.2885 - val_root_mean_squared_error: 0.5371\n",
      "Epoch 340/1000\n",
      "25/25 [==============================] - 0s 17ms/step - loss: 0.1980 - root_mean_squared_error: 0.4450 - val_loss: 0.2882 - val_root_mean_squared_error: 0.5368\n",
      "Epoch 341/1000\n",
      "25/25 [==============================] - 0s 15ms/step - loss: 0.1971 - root_mean_squared_error: 0.4440 - val_loss: 0.2862 - val_root_mean_squared_error: 0.5349\n",
      "Epoch 342/1000\n",
      "25/25 [==============================] - 0s 17ms/step - loss: 0.1963 - root_mean_squared_error: 0.4430 - val_loss: 0.2831 - val_root_mean_squared_error: 0.5321\n",
      "Epoch 343/1000\n",
      "25/25 [==============================] - 0s 16ms/step - loss: 0.1952 - root_mean_squared_error: 0.4418 - val_loss: 0.2808 - val_root_mean_squared_error: 0.5299\n",
      "Epoch 344/1000\n",
      "25/25 [==============================] - 0s 17ms/step - loss: 0.1938 - root_mean_squared_error: 0.4403 - val_loss: 0.2795 - val_root_mean_squared_error: 0.5286\n",
      "Epoch 345/1000\n",
      "25/25 [==============================] - 0s 14ms/step - loss: 0.1924 - root_mean_squared_error: 0.4386 - val_loss: 0.2789 - val_root_mean_squared_error: 0.5281\n",
      "Epoch 346/1000\n",
      "25/25 [==============================] - 0s 16ms/step - loss: 0.1913 - root_mean_squared_error: 0.4373 - val_loss: 0.2783 - val_root_mean_squared_error: 0.5276\n",
      "Epoch 347/1000\n",
      "25/25 [==============================] - 0s 17ms/step - loss: 0.1905 - root_mean_squared_error: 0.4365 - val_loss: 0.2779 - val_root_mean_squared_error: 0.5272\n",
      "Epoch 348/1000\n",
      "25/25 [==============================] - 0s 17ms/step - loss: 0.1900 - root_mean_squared_error: 0.4359 - val_loss: 0.2774 - val_root_mean_squared_error: 0.5267\n",
      "Epoch 349/1000\n",
      "25/25 [==============================] - 0s 17ms/step - loss: 0.1896 - root_mean_squared_error: 0.4354 - val_loss: 0.2769 - val_root_mean_squared_error: 0.5262\n",
      "Epoch 350/1000\n",
      "25/25 [==============================] - 0s 17ms/step - loss: 0.1892 - root_mean_squared_error: 0.4349 - val_loss: 0.2765 - val_root_mean_squared_error: 0.5258\n",
      "Epoch 351/1000\n",
      "25/25 [==============================] - 0s 17ms/step - loss: 0.1887 - root_mean_squared_error: 0.4344 - val_loss: 0.2760 - val_root_mean_squared_error: 0.5253\n",
      "Epoch 352/1000\n",
      "25/25 [==============================] - 0s 15ms/step - loss: 0.1884 - root_mean_squared_error: 0.4340 - val_loss: 0.2755 - val_root_mean_squared_error: 0.5248\n",
      "Epoch 353/1000\n",
      "25/25 [==============================] - 0s 16ms/step - loss: 0.1880 - root_mean_squared_error: 0.4335 - val_loss: 0.2750 - val_root_mean_squared_error: 0.5245\n",
      "Epoch 354/1000\n",
      "25/25 [==============================] - 0s 18ms/step - loss: 0.1875 - root_mean_squared_error: 0.4330 - val_loss: 0.2748 - val_root_mean_squared_error: 0.5242\n",
      "Epoch 355/1000\n",
      "25/25 [==============================] - 0s 17ms/step - loss: 0.1872 - root_mean_squared_error: 0.4327 - val_loss: 0.2744 - val_root_mean_squared_error: 0.5239\n",
      "Epoch 356/1000\n",
      "25/25 [==============================] - 0s 17ms/step - loss: 0.1867 - root_mean_squared_error: 0.4321 - val_loss: 0.2743 - val_root_mean_squared_error: 0.5237\n",
      "Epoch 357/1000\n",
      "25/25 [==============================] - 0s 14ms/step - loss: 0.1864 - root_mean_squared_error: 0.4317 - val_loss: 0.2741 - val_root_mean_squared_error: 0.5235\n",
      "Epoch 358/1000\n",
      "25/25 [==============================] - 0s 16ms/step - loss: 0.1859 - root_mean_squared_error: 0.4312 - val_loss: 0.2739 - val_root_mean_squared_error: 0.5234\n",
      "Epoch 359/1000\n",
      "25/25 [==============================] - 0s 16ms/step - loss: 0.1856 - root_mean_squared_error: 0.4308 - val_loss: 0.2737 - val_root_mean_squared_error: 0.5232\n",
      "Epoch 360/1000\n",
      "25/25 [==============================] - 0s 15ms/step - loss: 0.1852 - root_mean_squared_error: 0.4303 - val_loss: 0.2734 - val_root_mean_squared_error: 0.5229\n",
      "Epoch 361/1000\n",
      "25/25 [==============================] - 0s 16ms/step - loss: 0.1847 - root_mean_squared_error: 0.4298 - val_loss: 0.2731 - val_root_mean_squared_error: 0.5226\n",
      "Epoch 362/1000\n",
      "25/25 [==============================] - 0s 17ms/step - loss: 0.1843 - root_mean_squared_error: 0.4293 - val_loss: 0.2727 - val_root_mean_squared_error: 0.5222\n",
      "Epoch 363/1000\n",
      "25/25 [==============================] - 0s 17ms/step - loss: 0.1839 - root_mean_squared_error: 0.4289 - val_loss: 0.2723 - val_root_mean_squared_error: 0.5218\n",
      "Epoch 364/1000\n",
      "25/25 [==============================] - 0s 14ms/step - loss: 0.1836 - root_mean_squared_error: 0.4284 - val_loss: 0.2719 - val_root_mean_squared_error: 0.5215\n",
      "Epoch 365/1000\n",
      "25/25 [==============================] - 0s 16ms/step - loss: 0.1831 - root_mean_squared_error: 0.4279 - val_loss: 0.2715 - val_root_mean_squared_error: 0.5211\n",
      "Epoch 366/1000\n",
      "25/25 [==============================] - 0s 17ms/step - loss: 0.1827 - root_mean_squared_error: 0.4274 - val_loss: 0.2711 - val_root_mean_squared_error: 0.5207\n",
      "Epoch 367/1000\n",
      "25/25 [==============================] - 0s 18ms/step - loss: 0.1822 - root_mean_squared_error: 0.4269 - val_loss: 0.2707 - val_root_mean_squared_error: 0.5203\n",
      "Epoch 368/1000\n",
      "25/25 [==============================] - 0s 15ms/step - loss: 0.1818 - root_mean_squared_error: 0.4264 - val_loss: 0.2704 - val_root_mean_squared_error: 0.5200\n",
      "Epoch 369/1000\n",
      "25/25 [==============================] - 0s 18ms/step - loss: 0.1814 - root_mean_squared_error: 0.4259 - val_loss: 0.2700 - val_root_mean_squared_error: 0.5196\n",
      "Epoch 370/1000\n",
      "25/25 [==============================] - 0s 18ms/step - loss: 0.1809 - root_mean_squared_error: 0.4254 - val_loss: 0.2696 - val_root_mean_squared_error: 0.5193\n",
      "Epoch 371/1000\n",
      "25/25 [==============================] - 0s 17ms/step - loss: 0.1804 - root_mean_squared_error: 0.4248 - val_loss: 0.2694 - val_root_mean_squared_error: 0.5191\n",
      "Epoch 372/1000\n",
      "25/25 [==============================] - 0s 17ms/step - loss: 0.1800 - root_mean_squared_error: 0.4243 - val_loss: 0.2692 - val_root_mean_squared_error: 0.5188\n",
      "Epoch 373/1000\n",
      "25/25 [==============================] - 0s 17ms/step - loss: 0.1797 - root_mean_squared_error: 0.4239 - val_loss: 0.2690 - val_root_mean_squared_error: 0.5186\n",
      "Epoch 374/1000\n",
      "25/25 [==============================] - 0s 17ms/step - loss: 0.1792 - root_mean_squared_error: 0.4233 - val_loss: 0.2688 - val_root_mean_squared_error: 0.5184\n",
      "Epoch 375/1000\n",
      "25/25 [==============================] - 0s 17ms/step - loss: 0.1789 - root_mean_squared_error: 0.4229 - val_loss: 0.2687 - val_root_mean_squared_error: 0.5184\n",
      "Epoch 376/1000\n",
      "25/25 [==============================] - 0s 17ms/step - loss: 0.1785 - root_mean_squared_error: 0.4225 - val_loss: 0.2686 - val_root_mean_squared_error: 0.5182\n"
     ]
    },
    {
     "name": "stdout",
     "output_type": "stream",
     "text": [
      "Epoch 377/1000\n",
      "25/25 [==============================] - 0s 16ms/step - loss: 0.1782 - root_mean_squared_error: 0.4222 - val_loss: 0.2686 - val_root_mean_squared_error: 0.5183\n",
      "Epoch 378/1000\n",
      "25/25 [==============================] - 0s 18ms/step - loss: 0.1779 - root_mean_squared_error: 0.4218 - val_loss: 0.2685 - val_root_mean_squared_error: 0.5182\n",
      "Epoch 379/1000\n",
      "25/25 [==============================] - 0s 17ms/step - loss: 0.1775 - root_mean_squared_error: 0.4213 - val_loss: 0.2685 - val_root_mean_squared_error: 0.5181\n",
      "Epoch 380/1000\n",
      "25/25 [==============================] - 0s 17ms/step - loss: 0.1772 - root_mean_squared_error: 0.4209 - val_loss: 0.2687 - val_root_mean_squared_error: 0.5184\n",
      "Epoch 381/1000\n",
      "25/25 [==============================] - 0s 17ms/step - loss: 0.1769 - root_mean_squared_error: 0.4206 - val_loss: 0.2687 - val_root_mean_squared_error: 0.5184\n",
      "Epoch 382/1000\n",
      "25/25 [==============================] - 0s 18ms/step - loss: 0.1766 - root_mean_squared_error: 0.4203 - val_loss: 0.2690 - val_root_mean_squared_error: 0.5186\n",
      "Epoch 383/1000\n",
      "25/25 [==============================] - 0s 17ms/step - loss: 0.1763 - root_mean_squared_error: 0.4199 - val_loss: 0.2691 - val_root_mean_squared_error: 0.5187\n",
      "Epoch 384/1000\n",
      "25/25 [==============================] - 0s 17ms/step - loss: 0.1761 - root_mean_squared_error: 0.4196 - val_loss: 0.2692 - val_root_mean_squared_error: 0.5189\n",
      "Epoch 385/1000\n",
      "25/25 [==============================] - 0s 17ms/step - loss: 0.1757 - root_mean_squared_error: 0.4192 - val_loss: 0.2693 - val_root_mean_squared_error: 0.5189\n",
      "Epoch 386/1000\n",
      "25/25 [==============================] - 0s 17ms/step - loss: 0.1755 - root_mean_squared_error: 0.4189 - val_loss: 0.2696 - val_root_mean_squared_error: 0.5192\n",
      "Epoch 387/1000\n",
      "25/25 [==============================] - 0s 17ms/step - loss: 0.1751 - root_mean_squared_error: 0.4185 - val_loss: 0.2694 - val_root_mean_squared_error: 0.5191\n",
      "Epoch 388/1000\n",
      "25/25 [==============================] - 0s 17ms/step - loss: 0.1748 - root_mean_squared_error: 0.4181 - val_loss: 0.2697 - val_root_mean_squared_error: 0.5194\n",
      "Epoch 389/1000\n",
      "25/25 [==============================] - 0s 17ms/step - loss: 0.1746 - root_mean_squared_error: 0.4178 - val_loss: 0.2698 - val_root_mean_squared_error: 0.5194\n",
      "Epoch 390/1000\n",
      "25/25 [==============================] - 0s 17ms/step - loss: 0.1743 - root_mean_squared_error: 0.4175 - val_loss: 0.2699 - val_root_mean_squared_error: 0.5195\n",
      "Epoch 391/1000\n",
      "25/25 [==============================] - 0s 16ms/step - loss: 0.1740 - root_mean_squared_error: 0.4171 - val_loss: 0.2697 - val_root_mean_squared_error: 0.5193\n",
      "Epoch 392/1000\n",
      "25/25 [==============================] - 0s 17ms/step - loss: 0.1737 - root_mean_squared_error: 0.4168 - val_loss: 0.2697 - val_root_mean_squared_error: 0.5193\n",
      "Epoch 393/1000\n",
      "25/25 [==============================] - 0s 18ms/step - loss: 0.1734 - root_mean_squared_error: 0.4165 - val_loss: 0.2696 - val_root_mean_squared_error: 0.5192\n",
      "Epoch 394/1000\n",
      "25/25 [==============================] - 0s 16ms/step - loss: 0.1732 - root_mean_squared_error: 0.4162 - val_loss: 0.2694 - val_root_mean_squared_error: 0.5191\n",
      "Epoch 395/1000\n",
      "25/25 [==============================] - 0s 17ms/step - loss: 0.1730 - root_mean_squared_error: 0.4160 - val_loss: 0.2690 - val_root_mean_squared_error: 0.5187\n",
      "Epoch 396/1000\n",
      "25/25 [==============================] - 0s 17ms/step - loss: 0.1727 - root_mean_squared_error: 0.4156 - val_loss: 0.2689 - val_root_mean_squared_error: 0.5185\n",
      "Epoch 397/1000\n",
      "25/25 [==============================] - 0s 17ms/step - loss: 0.1726 - root_mean_squared_error: 0.4154 - val_loss: 0.2687 - val_root_mean_squared_error: 0.5183\n",
      "Epoch 398/1000\n",
      "25/25 [==============================] - 0s 13ms/step - loss: 0.1724 - root_mean_squared_error: 0.4152 - val_loss: 0.2690 - val_root_mean_squared_error: 0.5186\n",
      "Epoch 399/1000\n",
      "25/25 [==============================] - 0s 17ms/step - loss: 0.1722 - root_mean_squared_error: 0.4150 - val_loss: 0.2695 - val_root_mean_squared_error: 0.5192\n",
      "Epoch 400/1000\n",
      "25/25 [==============================] - 0s 17ms/step - loss: 0.1721 - root_mean_squared_error: 0.4148 - val_loss: 0.2704 - val_root_mean_squared_error: 0.5200\n",
      "Epoch 401/1000\n",
      "25/25 [==============================] - 0s 14ms/step - loss: 0.1719 - root_mean_squared_error: 0.4146 - val_loss: 0.2707 - val_root_mean_squared_error: 0.5203\n",
      "Epoch 402/1000\n",
      "25/25 [==============================] - 0s 15ms/step - loss: 0.1716 - root_mean_squared_error: 0.4143 - val_loss: 0.2704 - val_root_mean_squared_error: 0.5200\n",
      "Epoch 403/1000\n",
      "25/25 [==============================] - 0s 17ms/step - loss: 0.1714 - root_mean_squared_error: 0.4140 - val_loss: 0.2692 - val_root_mean_squared_error: 0.5188\n",
      "Epoch 404/1000\n",
      "25/25 [==============================] - 0s 17ms/step - loss: 0.1712 - root_mean_squared_error: 0.4138 - val_loss: 0.2692 - val_root_mean_squared_error: 0.5189\n",
      "Epoch 405/1000\n",
      "25/25 [==============================] - 0s 16ms/step - loss: 0.1714 - root_mean_squared_error: 0.4140 - val_loss: 0.2714 - val_root_mean_squared_error: 0.5209\n",
      "Epoch 406/1000\n",
      "25/25 [==============================] - 0s 16ms/step - loss: 0.1718 - root_mean_squared_error: 0.4145 - val_loss: 0.2750 - val_root_mean_squared_error: 0.5244\n",
      "Epoch 407/1000\n",
      "25/25 [==============================] - 0s 16ms/step - loss: 0.1720 - root_mean_squared_error: 0.4147 - val_loss: 0.2748 - val_root_mean_squared_error: 0.5242\n",
      "Epoch 408/1000\n",
      "25/25 [==============================] - 0s 17ms/step - loss: 0.1712 - root_mean_squared_error: 0.4138 - val_loss: 0.2735 - val_root_mean_squared_error: 0.5230\n",
      "Epoch 409/1000\n",
      "25/25 [==============================] - 0s 18ms/step - loss: 0.1703 - root_mean_squared_error: 0.4127 - val_loss: 0.2735 - val_root_mean_squared_error: 0.5230\n",
      "Epoch 410/1000\n",
      "25/25 [==============================] - 0s 17ms/step - loss: 0.1700 - root_mean_squared_error: 0.4123 - val_loss: 0.2747 - val_root_mean_squared_error: 0.5241\n",
      "Epoch 411/1000\n",
      "25/25 [==============================] - 0s 17ms/step - loss: 0.1703 - root_mean_squared_error: 0.4126 - val_loss: 0.2762 - val_root_mean_squared_error: 0.5255\n",
      "Epoch 412/1000\n",
      "25/25 [==============================] - 0s 17ms/step - loss: 0.1706 - root_mean_squared_error: 0.4130 - val_loss: 0.2779 - val_root_mean_squared_error: 0.5272\n",
      "Epoch 413/1000\n",
      "25/25 [==============================] - 0s 18ms/step - loss: 0.1711 - root_mean_squared_error: 0.4136 - val_loss: 0.2792 - val_root_mean_squared_error: 0.5284\n",
      "Epoch 414/1000\n",
      "25/25 [==============================] - 0s 17ms/step - loss: 0.1715 - root_mean_squared_error: 0.4142 - val_loss: 0.2797 - val_root_mean_squared_error: 0.5289\n",
      "Epoch 415/1000\n",
      "25/25 [==============================] - 0s 18ms/step - loss: 0.1719 - root_mean_squared_error: 0.4146 - val_loss: 0.2790 - val_root_mean_squared_error: 0.5282\n",
      "Epoch 416/1000\n",
      "25/25 [==============================] - 0s 16ms/step - loss: 0.1717 - root_mean_squared_error: 0.4144 - val_loss: 0.2778 - val_root_mean_squared_error: 0.5271\n",
      "Epoch 417/1000\n",
      "25/25 [==============================] - 0s 16ms/step - loss: 0.1716 - root_mean_squared_error: 0.4142 - val_loss: 0.2766 - val_root_mean_squared_error: 0.5259\n",
      "Epoch 418/1000\n",
      "25/25 [==============================] - 0s 17ms/step - loss: 0.1712 - root_mean_squared_error: 0.4138 - val_loss: 0.2767 - val_root_mean_squared_error: 0.5260\n",
      "Epoch 419/1000\n",
      "25/25 [==============================] - 0s 17ms/step - loss: 0.1709 - root_mean_squared_error: 0.4134 - val_loss: 0.2778 - val_root_mean_squared_error: 0.5271\n",
      "Epoch 420/1000\n",
      "25/25 [==============================] - 0s 18ms/step - loss: 0.1709 - root_mean_squared_error: 0.4134 - val_loss: 0.2796 - val_root_mean_squared_error: 0.5288\n",
      "Epoch 421/1000\n",
      "25/25 [==============================] - 0s 17ms/step - loss: 0.1710 - root_mean_squared_error: 0.4135 - val_loss: 0.2811 - val_root_mean_squared_error: 0.5302\n",
      "Epoch 422/1000\n",
      "25/25 [==============================] - 0s 17ms/step - loss: 0.1711 - root_mean_squared_error: 0.4136 - val_loss: 0.2826 - val_root_mean_squared_error: 0.5316\n",
      "Epoch 423/1000\n",
      "25/25 [==============================] - 0s 17ms/step - loss: 0.1716 - root_mean_squared_error: 0.4143 - val_loss: 0.2849 - val_root_mean_squared_error: 0.5337\n"
     ]
    },
    {
     "name": "stdout",
     "output_type": "stream",
     "text": [
      "Epoch 424/1000\n",
      "25/25 [==============================] - 0s 17ms/step - loss: 0.1728 - root_mean_squared_error: 0.4156 - val_loss: 0.2895 - val_root_mean_squared_error: 0.5380\n",
      "Epoch 425/1000\n",
      "25/25 [==============================] - 0s 17ms/step - loss: 0.1752 - root_mean_squared_error: 0.4186 - val_loss: 0.2999 - val_root_mean_squared_error: 0.5476\n",
      "Epoch 426/1000\n",
      "25/25 [==============================] - 0s 18ms/step - loss: 0.1802 - root_mean_squared_error: 0.4245 - val_loss: 0.3135 - val_root_mean_squared_error: 0.5599\n",
      "Epoch 427/1000\n",
      "25/25 [==============================] - 0s 16ms/step - loss: 0.1861 - root_mean_squared_error: 0.4314 - val_loss: 0.2932 - val_root_mean_squared_error: 0.5415\n",
      "Epoch 428/1000\n",
      "25/25 [==============================] - 0s 18ms/step - loss: 0.1802 - root_mean_squared_error: 0.4245 - val_loss: 0.2857 - val_root_mean_squared_error: 0.5345\n",
      "Epoch 429/1000\n",
      "25/25 [==============================] - 0s 16ms/step - loss: 0.1700 - root_mean_squared_error: 0.4123 - val_loss: 0.2856 - val_root_mean_squared_error: 0.5344\n",
      "Epoch 430/1000\n",
      "25/25 [==============================] - 0s 16ms/step - loss: 0.1705 - root_mean_squared_error: 0.4129 - val_loss: 0.2862 - val_root_mean_squared_error: 0.5350\n",
      "Epoch 431/1000\n",
      "25/25 [==============================] - 0s 18ms/step - loss: 0.1720 - root_mean_squared_error: 0.4147 - val_loss: 0.2856 - val_root_mean_squared_error: 0.5344\n",
      "Epoch 432/1000\n",
      "25/25 [==============================] - 0s 18ms/step - loss: 0.1727 - root_mean_squared_error: 0.4156 - val_loss: 0.2865 - val_root_mean_squared_error: 0.5353\n",
      "Epoch 433/1000\n",
      "25/25 [==============================] - 0s 17ms/step - loss: 0.1737 - root_mean_squared_error: 0.4168 - val_loss: 0.2922 - val_root_mean_squared_error: 0.5405\n",
      "Epoch 434/1000\n",
      "25/25 [==============================] - 0s 18ms/step - loss: 0.1757 - root_mean_squared_error: 0.4192 - val_loss: 0.2987 - val_root_mean_squared_error: 0.5465\n",
      "Epoch 435/1000\n",
      "25/25 [==============================] - 0s 17ms/step - loss: 0.1790 - root_mean_squared_error: 0.4231 - val_loss: 0.2883 - val_root_mean_squared_error: 0.5370\n",
      "Epoch 436/1000\n",
      "25/25 [==============================] - 0s 18ms/step - loss: 0.1820 - root_mean_squared_error: 0.4266 - val_loss: 0.2696 - val_root_mean_squared_error: 0.5192\n",
      "Epoch 437/1000\n",
      "25/25 [==============================] - 0s 16ms/step - loss: 0.1768 - root_mean_squared_error: 0.4205 - val_loss: 0.2702 - val_root_mean_squared_error: 0.5198\n",
      "Epoch 438/1000\n",
      "25/25 [==============================] - 0s 15ms/step - loss: 0.1693 - root_mean_squared_error: 0.4115 - val_loss: 0.2646 - val_root_mean_squared_error: 0.5144\n",
      "Epoch 439/1000\n",
      "25/25 [==============================] - 0s 17ms/step - loss: 0.1676 - root_mean_squared_error: 0.4094 - val_loss: 0.2625 - val_root_mean_squared_error: 0.5124\n",
      "Epoch 440/1000\n",
      "25/25 [==============================] - 0s 17ms/step - loss: 0.1663 - root_mean_squared_error: 0.4078 - val_loss: 0.2633 - val_root_mean_squared_error: 0.5131\n",
      "Epoch 441/1000\n",
      "25/25 [==============================] - 0s 17ms/step - loss: 0.1645 - root_mean_squared_error: 0.4056 - val_loss: 0.2636 - val_root_mean_squared_error: 0.5134\n",
      "Epoch 442/1000\n",
      "25/25 [==============================] - 0s 16ms/step - loss: 0.1631 - root_mean_squared_error: 0.4039 - val_loss: 0.2635 - val_root_mean_squared_error: 0.5133\n",
      "Epoch 443/1000\n",
      "25/25 [==============================] - 0s 17ms/step - loss: 0.1622 - root_mean_squared_error: 0.4027 - val_loss: 0.2635 - val_root_mean_squared_error: 0.5134\n",
      "Epoch 444/1000\n",
      "25/25 [==============================] - 0s 16ms/step - loss: 0.1617 - root_mean_squared_error: 0.4021 - val_loss: 0.2637 - val_root_mean_squared_error: 0.5136\n",
      "Epoch 445/1000\n",
      "25/25 [==============================] - 0s 16ms/step - loss: 0.1612 - root_mean_squared_error: 0.4015 - val_loss: 0.2638 - val_root_mean_squared_error: 0.5136\n",
      "Epoch 446/1000\n",
      "25/25 [==============================] - 0s 17ms/step - loss: 0.1608 - root_mean_squared_error: 0.4010 - val_loss: 0.2642 - val_root_mean_squared_error: 0.5140\n",
      "Epoch 447/1000\n",
      "25/25 [==============================] - 0s 16ms/step - loss: 0.1604 - root_mean_squared_error: 0.4005 - val_loss: 0.2642 - val_root_mean_squared_error: 0.5140\n",
      "Epoch 448/1000\n",
      "25/25 [==============================] - 0s 17ms/step - loss: 0.1602 - root_mean_squared_error: 0.4002 - val_loss: 0.2646 - val_root_mean_squared_error: 0.5144\n",
      "Epoch 449/1000\n",
      "25/25 [==============================] - 0s 17ms/step - loss: 0.1598 - root_mean_squared_error: 0.3998 - val_loss: 0.2647 - val_root_mean_squared_error: 0.5145\n",
      "Epoch 450/1000\n",
      "25/25 [==============================] - 0s 17ms/step - loss: 0.1596 - root_mean_squared_error: 0.3995 - val_loss: 0.2648 - val_root_mean_squared_error: 0.5146\n",
      "Epoch 451/1000\n",
      "25/25 [==============================] - 0s 18ms/step - loss: 0.1593 - root_mean_squared_error: 0.3991 - val_loss: 0.2651 - val_root_mean_squared_error: 0.5149\n",
      "Epoch 452/1000\n",
      "25/25 [==============================] - 0s 16ms/step - loss: 0.1590 - root_mean_squared_error: 0.3988 - val_loss: 0.2654 - val_root_mean_squared_error: 0.5152\n",
      "Epoch 453/1000\n",
      "25/25 [==============================] - 0s 18ms/step - loss: 0.1588 - root_mean_squared_error: 0.3984 - val_loss: 0.2659 - val_root_mean_squared_error: 0.5156\n",
      "Epoch 454/1000\n",
      "25/25 [==============================] - 0s 16ms/step - loss: 0.1586 - root_mean_squared_error: 0.3983 - val_loss: 0.2664 - val_root_mean_squared_error: 0.5162\n",
      "Epoch 455/1000\n",
      "25/25 [==============================] - 0s 17ms/step - loss: 0.1586 - root_mean_squared_error: 0.3982 - val_loss: 0.2667 - val_root_mean_squared_error: 0.5164\n",
      "Epoch 456/1000\n",
      "25/25 [==============================] - 0s 17ms/step - loss: 0.1584 - root_mean_squared_error: 0.3980 - val_loss: 0.2670 - val_root_mean_squared_error: 0.5167\n",
      "Epoch 457/1000\n",
      "25/25 [==============================] - 0s 17ms/step - loss: 0.1582 - root_mean_squared_error: 0.3977 - val_loss: 0.2676 - val_root_mean_squared_error: 0.5173\n",
      "Epoch 458/1000\n",
      "25/25 [==============================] - 0s 17ms/step - loss: 0.1581 - root_mean_squared_error: 0.3977 - val_loss: 0.2679 - val_root_mean_squared_error: 0.5176\n",
      "Epoch 459/1000\n",
      "25/25 [==============================] - 0s 16ms/step - loss: 0.1579 - root_mean_squared_error: 0.3974 - val_loss: 0.2688 - val_root_mean_squared_error: 0.5185\n",
      "Epoch 460/1000\n",
      "25/25 [==============================] - 0s 17ms/step - loss: 0.1581 - root_mean_squared_error: 0.3976 - val_loss: 0.2693 - val_root_mean_squared_error: 0.5189\n",
      "Epoch 461/1000\n",
      "25/25 [==============================] - 0s 17ms/step - loss: 0.1580 - root_mean_squared_error: 0.3975 - val_loss: 0.2702 - val_root_mean_squared_error: 0.5198\n",
      "Epoch 462/1000\n",
      "25/25 [==============================] - 0s 17ms/step - loss: 0.1582 - root_mean_squared_error: 0.3978 - val_loss: 0.2713 - val_root_mean_squared_error: 0.5208\n",
      "Epoch 463/1000\n",
      "25/25 [==============================] - 0s 16ms/step - loss: 0.1586 - root_mean_squared_error: 0.3983 - val_loss: 0.2732 - val_root_mean_squared_error: 0.5227\n",
      "Epoch 464/1000\n",
      "25/25 [==============================] - 0s 18ms/step - loss: 0.1593 - root_mean_squared_error: 0.3992 - val_loss: 0.2762 - val_root_mean_squared_error: 0.5255\n",
      "Epoch 465/1000\n",
      "25/25 [==============================] - 0s 17ms/step - loss: 0.1607 - root_mean_squared_error: 0.4009 - val_loss: 0.2811 - val_root_mean_squared_error: 0.5302\n",
      "Epoch 466/1000\n",
      "25/25 [==============================] - 0s 17ms/step - loss: 0.1632 - root_mean_squared_error: 0.4040 - val_loss: 0.2877 - val_root_mean_squared_error: 0.5363\n",
      "Epoch 467/1000\n",
      "25/25 [==============================] - 0s 17ms/step - loss: 0.1673 - root_mean_squared_error: 0.4090 - val_loss: 0.2829 - val_root_mean_squared_error: 0.5319\n",
      "Epoch 468/1000\n",
      "25/25 [==============================] - 0s 16ms/step - loss: 0.1690 - root_mean_squared_error: 0.4111 - val_loss: 0.2699 - val_root_mean_squared_error: 0.5195\n",
      "Epoch 469/1000\n",
      "25/25 [==============================] - 0s 17ms/step - loss: 0.1631 - root_mean_squared_error: 0.4039 - val_loss: 0.2670 - val_root_mean_squared_error: 0.5167\n",
      "Epoch 470/1000\n",
      "25/25 [==============================] - 0s 17ms/step - loss: 0.1577 - root_mean_squared_error: 0.3971 - val_loss: 0.2646 - val_root_mean_squared_error: 0.5144\n"
     ]
    },
    {
     "name": "stdout",
     "output_type": "stream",
     "text": [
      "Epoch 471/1000\n",
      "25/25 [==============================] - 0s 8ms/step - loss: 0.1568 - root_mean_squared_error: 0.3960 - val_loss: 0.2646 - val_root_mean_squared_error: 0.5144\n",
      "Epoch 472/1000\n",
      "25/25 [==============================] - 0s 7ms/step - loss: 0.1564 - root_mean_squared_error: 0.3955 - val_loss: 0.2651 - val_root_mean_squared_error: 0.5149\n",
      "Epoch 473/1000\n",
      "25/25 [==============================] - 0s 7ms/step - loss: 0.1557 - root_mean_squared_error: 0.3946 - val_loss: 0.2665 - val_root_mean_squared_error: 0.5162\n",
      "Epoch 474/1000\n",
      "25/25 [==============================] - 0s 6ms/step - loss: 0.1556 - root_mean_squared_error: 0.3945 - val_loss: 0.2684 - val_root_mean_squared_error: 0.5181\n",
      "Epoch 475/1000\n",
      "25/25 [==============================] - 0s 12ms/step - loss: 0.1563 - root_mean_squared_error: 0.3953 - val_loss: 0.2717 - val_root_mean_squared_error: 0.5212\n",
      "Epoch 476/1000\n",
      "25/25 [==============================] - 0s 18ms/step - loss: 0.1574 - root_mean_squared_error: 0.3968 - val_loss: 0.2751 - val_root_mean_squared_error: 0.5245\n",
      "Epoch 477/1000\n",
      "25/25 [==============================] - 0s 15ms/step - loss: 0.1591 - root_mean_squared_error: 0.3988 - val_loss: 0.2780 - val_root_mean_squared_error: 0.5272\n",
      "Epoch 478/1000\n",
      "25/25 [==============================] - 0s 16ms/step - loss: 0.1612 - root_mean_squared_error: 0.4015 - val_loss: 0.2735 - val_root_mean_squared_error: 0.5229\n",
      "Epoch 479/1000\n",
      "25/25 [==============================] - 0s 16ms/step - loss: 0.1617 - root_mean_squared_error: 0.4021 - val_loss: 0.2671 - val_root_mean_squared_error: 0.5168\n",
      "Epoch 480/1000\n",
      "25/25 [==============================] - 0s 17ms/step - loss: 0.1584 - root_mean_squared_error: 0.3980 - val_loss: 0.2673 - val_root_mean_squared_error: 0.5170\n",
      "Epoch 481/1000\n",
      "25/25 [==============================] - 0s 17ms/step - loss: 0.1545 - root_mean_squared_error: 0.3930 - val_loss: 0.2651 - val_root_mean_squared_error: 0.5149\n",
      "Epoch 482/1000\n",
      "25/25 [==============================] - 0s 16ms/step - loss: 0.1529 - root_mean_squared_error: 0.3911 - val_loss: 0.2638 - val_root_mean_squared_error: 0.5136\n",
      "Epoch 483/1000\n",
      "25/25 [==============================] - 0s 17ms/step - loss: 0.1521 - root_mean_squared_error: 0.3899 - val_loss: 0.2635 - val_root_mean_squared_error: 0.5133\n",
      "Epoch 484/1000\n",
      "25/25 [==============================] - 0s 17ms/step - loss: 0.1512 - root_mean_squared_error: 0.3888 - val_loss: 0.2631 - val_root_mean_squared_error: 0.5129\n",
      "Epoch 485/1000\n",
      "25/25 [==============================] - 0s 18ms/step - loss: 0.1505 - root_mean_squared_error: 0.3879 - val_loss: 0.2630 - val_root_mean_squared_error: 0.5128\n",
      "Epoch 486/1000\n",
      "25/25 [==============================] - 0s 17ms/step - loss: 0.1500 - root_mean_squared_error: 0.3873 - val_loss: 0.2628 - val_root_mean_squared_error: 0.5126\n",
      "Epoch 487/1000\n",
      "25/25 [==============================] - 0s 14ms/step - loss: 0.1496 - root_mean_squared_error: 0.3868 - val_loss: 0.2628 - val_root_mean_squared_error: 0.5126\n",
      "Epoch 488/1000\n",
      "25/25 [==============================] - 0s 16ms/step - loss: 0.1492 - root_mean_squared_error: 0.3863 - val_loss: 0.2625 - val_root_mean_squared_error: 0.5124\n",
      "Epoch 489/1000\n",
      "25/25 [==============================] - 0s 18ms/step - loss: 0.1487 - root_mean_squared_error: 0.3856 - val_loss: 0.2625 - val_root_mean_squared_error: 0.5124\n",
      "Epoch 490/1000\n",
      "25/25 [==============================] - 0s 17ms/step - loss: 0.1484 - root_mean_squared_error: 0.3852 - val_loss: 0.2624 - val_root_mean_squared_error: 0.5122\n",
      "Epoch 491/1000\n",
      "25/25 [==============================] - 0s 17ms/step - loss: 0.1481 - root_mean_squared_error: 0.3848 - val_loss: 0.2624 - val_root_mean_squared_error: 0.5122\n",
      "Epoch 492/1000\n",
      "25/25 [==============================] - 0s 17ms/step - loss: 0.1478 - root_mean_squared_error: 0.3844 - val_loss: 0.2622 - val_root_mean_squared_error: 0.5121\n",
      "Epoch 493/1000\n",
      "25/25 [==============================] - 0s 17ms/step - loss: 0.1475 - root_mean_squared_error: 0.3840 - val_loss: 0.2621 - val_root_mean_squared_error: 0.5120\n",
      "Epoch 494/1000\n",
      "25/25 [==============================] - 0s 17ms/step - loss: 0.1472 - root_mean_squared_error: 0.3836 - val_loss: 0.2621 - val_root_mean_squared_error: 0.5120\n",
      "Epoch 495/1000\n",
      "25/25 [==============================] - 0s 18ms/step - loss: 0.1469 - root_mean_squared_error: 0.3833 - val_loss: 0.2620 - val_root_mean_squared_error: 0.5119\n",
      "Epoch 496/1000\n",
      "25/25 [==============================] - 0s 17ms/step - loss: 0.1466 - root_mean_squared_error: 0.3829 - val_loss: 0.2619 - val_root_mean_squared_error: 0.5118\n",
      "Epoch 497/1000\n",
      "25/25 [==============================] - 0s 16ms/step - loss: 0.1463 - root_mean_squared_error: 0.3825 - val_loss: 0.2617 - val_root_mean_squared_error: 0.5116\n",
      "Epoch 498/1000\n",
      "25/25 [==============================] - 0s 17ms/step - loss: 0.1460 - root_mean_squared_error: 0.3821 - val_loss: 0.2617 - val_root_mean_squared_error: 0.5116\n",
      "Epoch 499/1000\n",
      "25/25 [==============================] - 0s 16ms/step - loss: 0.1458 - root_mean_squared_error: 0.3819 - val_loss: 0.2617 - val_root_mean_squared_error: 0.5115\n",
      "Epoch 500/1000\n",
      "25/25 [==============================] - 0s 17ms/step - loss: 0.1455 - root_mean_squared_error: 0.3815 - val_loss: 0.2616 - val_root_mean_squared_error: 0.5115\n",
      "Epoch 501/1000\n",
      "25/25 [==============================] - 0s 18ms/step - loss: 0.1453 - root_mean_squared_error: 0.3812 - val_loss: 0.2616 - val_root_mean_squared_error: 0.5114\n",
      "Epoch 502/1000\n",
      "25/25 [==============================] - 0s 17ms/step - loss: 0.1450 - root_mean_squared_error: 0.3808 - val_loss: 0.2616 - val_root_mean_squared_error: 0.5115\n",
      "Epoch 503/1000\n",
      "25/25 [==============================] - 0s 16ms/step - loss: 0.1448 - root_mean_squared_error: 0.3806 - val_loss: 0.2615 - val_root_mean_squared_error: 0.5114\n",
      "Epoch 504/1000\n",
      "25/25 [==============================] - 0s 17ms/step - loss: 0.1446 - root_mean_squared_error: 0.3803 - val_loss: 0.2617 - val_root_mean_squared_error: 0.5115\n",
      "Epoch 505/1000\n",
      "25/25 [==============================] - 0s 16ms/step - loss: 0.1445 - root_mean_squared_error: 0.3801 - val_loss: 0.2616 - val_root_mean_squared_error: 0.5114\n",
      "Epoch 506/1000\n",
      "25/25 [==============================] - 0s 17ms/step - loss: 0.1442 - root_mean_squared_error: 0.3798 - val_loss: 0.2618 - val_root_mean_squared_error: 0.5117\n",
      "Epoch 507/1000\n",
      "25/25 [==============================] - 0s 16ms/step - loss: 0.1441 - root_mean_squared_error: 0.3797 - val_loss: 0.2617 - val_root_mean_squared_error: 0.5116\n",
      "Epoch 508/1000\n",
      "25/25 [==============================] - 0s 18ms/step - loss: 0.1439 - root_mean_squared_error: 0.3793 - val_loss: 0.2621 - val_root_mean_squared_error: 0.5120\n",
      "Epoch 509/1000\n",
      "25/25 [==============================] - 0s 16ms/step - loss: 0.1439 - root_mean_squared_error: 0.3793 - val_loss: 0.2622 - val_root_mean_squared_error: 0.5120\n",
      "Epoch 510/1000\n",
      "25/25 [==============================] - 0s 16ms/step - loss: 0.1437 - root_mean_squared_error: 0.3791 - val_loss: 0.2626 - val_root_mean_squared_error: 0.5125\n",
      "Epoch 511/1000\n",
      "25/25 [==============================] - 0s 13ms/step - loss: 0.1437 - root_mean_squared_error: 0.3791 - val_loss: 0.2630 - val_root_mean_squared_error: 0.5128\n",
      "Epoch 512/1000\n",
      "25/25 [==============================] - 0s 17ms/step - loss: 0.1437 - root_mean_squared_error: 0.3790 - val_loss: 0.2633 - val_root_mean_squared_error: 0.5131\n",
      "Epoch 513/1000\n",
      "25/25 [==============================] - 0s 16ms/step - loss: 0.1436 - root_mean_squared_error: 0.3790 - val_loss: 0.2640 - val_root_mean_squared_error: 0.5138\n",
      "Epoch 514/1000\n",
      "25/25 [==============================] - 0s 17ms/step - loss: 0.1436 - root_mean_squared_error: 0.3789 - val_loss: 0.2645 - val_root_mean_squared_error: 0.5143\n",
      "Epoch 515/1000\n",
      "25/25 [==============================] - 0s 17ms/step - loss: 0.1436 - root_mean_squared_error: 0.3789 - val_loss: 0.2652 - val_root_mean_squared_error: 0.5150\n",
      "Epoch 516/1000\n",
      "25/25 [==============================] - 0s 18ms/step - loss: 0.1436 - root_mean_squared_error: 0.3789 - val_loss: 0.2658 - val_root_mean_squared_error: 0.5156\n",
      "Epoch 517/1000\n",
      "25/25 [==============================] - 0s 16ms/step - loss: 0.1436 - root_mean_squared_error: 0.3789 - val_loss: 0.2664 - val_root_mean_squared_error: 0.5161\n"
     ]
    },
    {
     "name": "stdout",
     "output_type": "stream",
     "text": [
      "Epoch 518/1000\n",
      "25/25 [==============================] - 0s 17ms/step - loss: 0.1435 - root_mean_squared_error: 0.3788 - val_loss: 0.2667 - val_root_mean_squared_error: 0.5164\n",
      "Epoch 519/1000\n",
      "25/25 [==============================] - 0s 17ms/step - loss: 0.1433 - root_mean_squared_error: 0.3785 - val_loss: 0.2667 - val_root_mean_squared_error: 0.5164\n",
      "Epoch 520/1000\n",
      "25/25 [==============================] - 0s 17ms/step - loss: 0.1430 - root_mean_squared_error: 0.3781 - val_loss: 0.2665 - val_root_mean_squared_error: 0.5162\n",
      "Epoch 521/1000\n",
      "25/25 [==============================] - 0s 16ms/step - loss: 0.1426 - root_mean_squared_error: 0.3776 - val_loss: 0.2665 - val_root_mean_squared_error: 0.5163\n",
      "Epoch 522/1000\n",
      "25/25 [==============================] - 0s 17ms/step - loss: 0.1422 - root_mean_squared_error: 0.3771 - val_loss: 0.2661 - val_root_mean_squared_error: 0.5159\n",
      "Epoch 523/1000\n",
      "25/25 [==============================] - 0s 18ms/step - loss: 0.1418 - root_mean_squared_error: 0.3766 - val_loss: 0.2664 - val_root_mean_squared_error: 0.5161\n",
      "Epoch 524/1000\n",
      "25/25 [==============================] - 0s 17ms/step - loss: 0.1415 - root_mean_squared_error: 0.3762 - val_loss: 0.2665 - val_root_mean_squared_error: 0.5162\n",
      "Epoch 525/1000\n",
      "25/25 [==============================] - 0s 17ms/step - loss: 0.1413 - root_mean_squared_error: 0.3758 - val_loss: 0.2674 - val_root_mean_squared_error: 0.5171\n",
      "Epoch 526/1000\n",
      "25/25 [==============================] - 0s 15ms/step - loss: 0.1413 - root_mean_squared_error: 0.3759 - val_loss: 0.2682 - val_root_mean_squared_error: 0.5179\n",
      "Epoch 527/1000\n",
      "25/25 [==============================] - 0s 16ms/step - loss: 0.1413 - root_mean_squared_error: 0.3759 - val_loss: 0.2701 - val_root_mean_squared_error: 0.5197\n",
      "Epoch 528/1000\n",
      "25/25 [==============================] - 0s 16ms/step - loss: 0.1418 - root_mean_squared_error: 0.3765 - val_loss: 0.2723 - val_root_mean_squared_error: 0.5218\n",
      "Epoch 529/1000\n",
      "25/25 [==============================] - 0s 18ms/step - loss: 0.1425 - root_mean_squared_error: 0.3774 - val_loss: 0.2758 - val_root_mean_squared_error: 0.5252\n",
      "Epoch 530/1000\n",
      "25/25 [==============================] - 0s 17ms/step - loss: 0.1439 - root_mean_squared_error: 0.3793 - val_loss: 0.2783 - val_root_mean_squared_error: 0.5276\n",
      "Epoch 531/1000\n",
      "25/25 [==============================] - 0s 17ms/step - loss: 0.1457 - root_mean_squared_error: 0.3817 - val_loss: 0.2799 - val_root_mean_squared_error: 0.5291\n",
      "Epoch 532/1000\n",
      "25/25 [==============================] - 0s 17ms/step - loss: 0.1483 - root_mean_squared_error: 0.3851 - val_loss: 0.2778 - val_root_mean_squared_error: 0.5271\n",
      "Epoch 533/1000\n",
      "25/25 [==============================] - 0s 15ms/step - loss: 0.1504 - root_mean_squared_error: 0.3879 - val_loss: 0.2783 - val_root_mean_squared_error: 0.5276\n",
      "Epoch 534/1000\n",
      "25/25 [==============================] - 0s 17ms/step - loss: 0.1515 - root_mean_squared_error: 0.3892 - val_loss: 0.2825 - val_root_mean_squared_error: 0.5315\n",
      "Epoch 535/1000\n",
      "25/25 [==============================] - 0s 17ms/step - loss: 0.1527 - root_mean_squared_error: 0.3908 - val_loss: 0.2717 - val_root_mean_squared_error: 0.5212\n",
      "Epoch 536/1000\n",
      "25/25 [==============================] - 0s 17ms/step - loss: 0.1515 - root_mean_squared_error: 0.3893 - val_loss: 0.2688 - val_root_mean_squared_error: 0.5184\n",
      "Epoch 537/1000\n",
      "25/25 [==============================] - 0s 17ms/step - loss: 0.1475 - root_mean_squared_error: 0.3841 - val_loss: 0.2692 - val_root_mean_squared_error: 0.5189\n",
      "Epoch 538/1000\n",
      "25/25 [==============================] - 0s 18ms/step - loss: 0.1448 - root_mean_squared_error: 0.3805 - val_loss: 0.2681 - val_root_mean_squared_error: 0.5177\n",
      "Epoch 539/1000\n",
      "25/25 [==============================] - 0s 16ms/step - loss: 0.1455 - root_mean_squared_error: 0.3814 - val_loss: 0.2689 - val_root_mean_squared_error: 0.5186\n",
      "Epoch 540/1000\n",
      "25/25 [==============================] - 0s 18ms/step - loss: 0.1469 - root_mean_squared_error: 0.3832 - val_loss: 0.2718 - val_root_mean_squared_error: 0.5214\n",
      "Epoch 541/1000\n",
      "25/25 [==============================] - 0s 17ms/step - loss: 0.1484 - root_mean_squared_error: 0.3852 - val_loss: 0.2786 - val_root_mean_squared_error: 0.5278\n",
      "Epoch 542/1000\n",
      "25/25 [==============================] - 0s 17ms/step - loss: 0.1511 - root_mean_squared_error: 0.3887 - val_loss: 0.2869 - val_root_mean_squared_error: 0.5356\n",
      "Epoch 543/1000\n",
      "25/25 [==============================] - 0s 17ms/step - loss: 0.1548 - root_mean_squared_error: 0.3934 - val_loss: 0.2889 - val_root_mean_squared_error: 0.5375\n",
      "Epoch 544/1000\n",
      "25/25 [==============================] - 0s 16ms/step - loss: 0.1572 - root_mean_squared_error: 0.3964 - val_loss: 0.2872 - val_root_mean_squared_error: 0.5359\n",
      "Epoch 545/1000\n",
      "25/25 [==============================] - 0s 16ms/step - loss: 0.1571 - root_mean_squared_error: 0.3963 - val_loss: 0.2853 - val_root_mean_squared_error: 0.5341\n",
      "Epoch 546/1000\n",
      "25/25 [==============================] - 0s 17ms/step - loss: 0.1576 - root_mean_squared_error: 0.3970 - val_loss: 0.2766 - val_root_mean_squared_error: 0.5259\n",
      "Epoch 547/1000\n",
      "25/25 [==============================] - 0s 17ms/step - loss: 0.1557 - root_mean_squared_error: 0.3946 - val_loss: 0.2822 - val_root_mean_squared_error: 0.5312\n",
      "Epoch 548/1000\n",
      "25/25 [==============================] - 0s 16ms/step - loss: 0.1537 - root_mean_squared_error: 0.3920 - val_loss: 0.2759 - val_root_mean_squared_error: 0.5252\n",
      "Epoch 549/1000\n",
      "25/25 [==============================] - 0s 17ms/step - loss: 0.1555 - root_mean_squared_error: 0.3944 - val_loss: 0.2762 - val_root_mean_squared_error: 0.5256\n",
      "Epoch 550/1000\n",
      "25/25 [==============================] - 0s 17ms/step - loss: 0.1615 - root_mean_squared_error: 0.4019 - val_loss: 0.2981 - val_root_mean_squared_error: 0.5459\n",
      "Epoch 551/1000\n",
      "25/25 [==============================] - 0s 18ms/step - loss: 0.1662 - root_mean_squared_error: 0.4076 - val_loss: 0.2729 - val_root_mean_squared_error: 0.5224\n",
      "Epoch 552/1000\n",
      "25/25 [==============================] - 0s 17ms/step - loss: 0.1550 - root_mean_squared_error: 0.3937 - val_loss: 0.2648 - val_root_mean_squared_error: 0.5146\n",
      "Epoch 553/1000\n",
      "25/25 [==============================] - 0s 18ms/step - loss: 0.1563 - root_mean_squared_error: 0.3952 - val_loss: 0.2824 - val_root_mean_squared_error: 0.5314\n",
      "Epoch 554/1000\n",
      "25/25 [==============================] - 0s 18ms/step - loss: 0.1546 - root_mean_squared_error: 0.3932 - val_loss: 0.2668 - val_root_mean_squared_error: 0.5165\n",
      "Epoch 555/1000\n",
      "25/25 [==============================] - 0s 17ms/step - loss: 0.1437 - root_mean_squared_error: 0.3790 - val_loss: 0.2617 - val_root_mean_squared_error: 0.5116\n",
      "Epoch 556/1000\n",
      "25/25 [==============================] - 0s 16ms/step - loss: 0.1427 - root_mean_squared_error: 0.3777 - val_loss: 0.2645 - val_root_mean_squared_error: 0.5143\n",
      "Epoch 557/1000\n",
      "25/25 [==============================] - 0s 16ms/step - loss: 0.1436 - root_mean_squared_error: 0.3789 - val_loss: 0.2643 - val_root_mean_squared_error: 0.5141\n",
      "Epoch 558/1000\n",
      "25/25 [==============================] - 0s 15ms/step - loss: 0.1429 - root_mean_squared_error: 0.3780 - val_loss: 0.2649 - val_root_mean_squared_error: 0.5147\n",
      "Epoch 559/1000\n",
      "25/25 [==============================] - 0s 17ms/step - loss: 0.1432 - root_mean_squared_error: 0.3783 - val_loss: 0.2671 - val_root_mean_squared_error: 0.5168\n",
      "Epoch 560/1000\n",
      "25/25 [==============================] - 0s 17ms/step - loss: 0.1441 - root_mean_squared_error: 0.3796 - val_loss: 0.2720 - val_root_mean_squared_error: 0.5215\n",
      "Epoch 561/1000\n",
      "25/25 [==============================] - 0s 17ms/step - loss: 0.1458 - root_mean_squared_error: 0.3818 - val_loss: 0.2813 - val_root_mean_squared_error: 0.5303\n",
      "Epoch 562/1000\n",
      "25/25 [==============================] - 0s 17ms/step - loss: 0.1484 - root_mean_squared_error: 0.3852 - val_loss: 0.2930 - val_root_mean_squared_error: 0.5413\n",
      "Epoch 563/1000\n",
      "25/25 [==============================] - 0s 18ms/step - loss: 0.1515 - root_mean_squared_error: 0.3892 - val_loss: 0.2914 - val_root_mean_squared_error: 0.5398\n",
      "Epoch 564/1000\n",
      "25/25 [==============================] - 0s 18ms/step - loss: 0.1510 - root_mean_squared_error: 0.3886 - val_loss: 0.2811 - val_root_mean_squared_error: 0.5302\n"
     ]
    },
    {
     "name": "stdout",
     "output_type": "stream",
     "text": [
      "Epoch 565/1000\n",
      "25/25 [==============================] - 0s 16ms/step - loss: 0.1460 - root_mean_squared_error: 0.3821 - val_loss: 0.2815 - val_root_mean_squared_error: 0.5306\n",
      "Epoch 566/1000\n",
      "25/25 [==============================] - 0s 17ms/step - loss: 0.1434 - root_mean_squared_error: 0.3787 - val_loss: 0.2809 - val_root_mean_squared_error: 0.5300\n",
      "Epoch 567/1000\n",
      "25/25 [==============================] - 0s 18ms/step - loss: 0.1431 - root_mean_squared_error: 0.3783 - val_loss: 0.2798 - val_root_mean_squared_error: 0.5289\n",
      "Epoch 568/1000\n",
      "25/25 [==============================] - 0s 17ms/step - loss: 0.1430 - root_mean_squared_error: 0.3782 - val_loss: 0.2766 - val_root_mean_squared_error: 0.5259\n",
      "Epoch 569/1000\n",
      "25/25 [==============================] - 0s 16ms/step - loss: 0.1422 - root_mean_squared_error: 0.3770 - val_loss: 0.2745 - val_root_mean_squared_error: 0.5239\n",
      "Epoch 570/1000\n",
      "25/25 [==============================] - 0s 16ms/step - loss: 0.1413 - root_mean_squared_error: 0.3758 - val_loss: 0.2732 - val_root_mean_squared_error: 0.5227\n",
      "Epoch 571/1000\n",
      "25/25 [==============================] - 0s 18ms/step - loss: 0.1406 - root_mean_squared_error: 0.3749 - val_loss: 0.2735 - val_root_mean_squared_error: 0.5229\n",
      "Epoch 572/1000\n",
      "25/25 [==============================] - 0s 18ms/step - loss: 0.1403 - root_mean_squared_error: 0.3746 - val_loss: 0.2745 - val_root_mean_squared_error: 0.5240\n",
      "Epoch 573/1000\n",
      "25/25 [==============================] - 0s 18ms/step - loss: 0.1403 - root_mean_squared_error: 0.3746 - val_loss: 0.2767 - val_root_mean_squared_error: 0.5260\n",
      "Epoch 574/1000\n",
      "25/25 [==============================] - 0s 17ms/step - loss: 0.1406 - root_mean_squared_error: 0.3750 - val_loss: 0.2789 - val_root_mean_squared_error: 0.5281\n",
      "Epoch 575/1000\n",
      "25/25 [==============================] - 0s 17ms/step - loss: 0.1412 - root_mean_squared_error: 0.3758 - val_loss: 0.2811 - val_root_mean_squared_error: 0.5302\n",
      "Epoch 576/1000\n",
      "25/25 [==============================] - 0s 17ms/step - loss: 0.1419 - root_mean_squared_error: 0.3767 - val_loss: 0.2819 - val_root_mean_squared_error: 0.5309\n",
      "Epoch 577/1000\n",
      "25/25 [==============================] - 0s 15ms/step - loss: 0.1426 - root_mean_squared_error: 0.3777 - val_loss: 0.2805 - val_root_mean_squared_error: 0.5296\n",
      "Epoch 578/1000\n",
      "25/25 [==============================] - 0s 16ms/step - loss: 0.1430 - root_mean_squared_error: 0.3782 - val_loss: 0.2767 - val_root_mean_squared_error: 0.5260\n",
      "Epoch 579/1000\n",
      "25/25 [==============================] - 0s 17ms/step - loss: 0.1428 - root_mean_squared_error: 0.3779 - val_loss: 0.2736 - val_root_mean_squared_error: 0.5230\n",
      "Epoch 580/1000\n",
      "25/25 [==============================] - 0s 17ms/step - loss: 0.1425 - root_mean_squared_error: 0.3775 - val_loss: 0.2728 - val_root_mean_squared_error: 0.5223\n",
      "Epoch 581/1000\n",
      "25/25 [==============================] - 0s 16ms/step - loss: 0.1423 - root_mean_squared_error: 0.3773 - val_loss: 0.2767 - val_root_mean_squared_error: 0.5260\n",
      "Epoch 582/1000\n",
      "25/25 [==============================] - 0s 18ms/step - loss: 0.1433 - root_mean_squared_error: 0.3785 - val_loss: 0.2855 - val_root_mean_squared_error: 0.5343\n",
      "Epoch 583/1000\n",
      "25/25 [==============================] - 0s 17ms/step - loss: 0.1455 - root_mean_squared_error: 0.3814 - val_loss: 0.2987 - val_root_mean_squared_error: 0.5465\n",
      "Epoch 584/1000\n",
      "25/25 [==============================] - 0s 17ms/step - loss: 0.1486 - root_mean_squared_error: 0.3855 - val_loss: 0.2981 - val_root_mean_squared_error: 0.5460\n",
      "Epoch 585/1000\n",
      "25/25 [==============================] - 0s 17ms/step - loss: 0.1486 - root_mean_squared_error: 0.3855 - val_loss: 0.2766 - val_root_mean_squared_error: 0.5259\n",
      "Epoch 586/1000\n",
      "25/25 [==============================] - 0s 16ms/step - loss: 0.1418 - root_mean_squared_error: 0.3766 - val_loss: 0.2711 - val_root_mean_squared_error: 0.5207\n",
      "Epoch 587/1000\n",
      "25/25 [==============================] - 0s 17ms/step - loss: 0.1368 - root_mean_squared_error: 0.3699 - val_loss: 0.2704 - val_root_mean_squared_error: 0.5200\n",
      "Epoch 588/1000\n",
      "25/25 [==============================] - 0s 17ms/step - loss: 0.1362 - root_mean_squared_error: 0.3691 - val_loss: 0.2700 - val_root_mean_squared_error: 0.5196\n",
      "Epoch 589/1000\n",
      "25/25 [==============================] - 0s 17ms/step - loss: 0.1366 - root_mean_squared_error: 0.3696 - val_loss: 0.2675 - val_root_mean_squared_error: 0.5172\n",
      "Epoch 590/1000\n",
      "25/25 [==============================] - 0s 18ms/step - loss: 0.1367 - root_mean_squared_error: 0.3697 - val_loss: 0.2658 - val_root_mean_squared_error: 0.5156\n",
      "Epoch 591/1000\n",
      "25/25 [==============================] - 0s 16ms/step - loss: 0.1367 - root_mean_squared_error: 0.3697 - val_loss: 0.2653 - val_root_mean_squared_error: 0.5150\n",
      "Epoch 592/1000\n",
      "25/25 [==============================] - 0s 17ms/step - loss: 0.1368 - root_mean_squared_error: 0.3699 - val_loss: 0.2679 - val_root_mean_squared_error: 0.5176\n",
      "Epoch 593/1000\n",
      "25/25 [==============================] - 0s 17ms/step - loss: 0.1375 - root_mean_squared_error: 0.3709 - val_loss: 0.2735 - val_root_mean_squared_error: 0.5229\n",
      "Epoch 594/1000\n",
      "25/25 [==============================] - 0s 17ms/step - loss: 0.1387 - root_mean_squared_error: 0.3724 - val_loss: 0.2789 - val_root_mean_squared_error: 0.5281\n",
      "Epoch 595/1000\n",
      "25/25 [==============================] - 0s 17ms/step - loss: 0.1392 - root_mean_squared_error: 0.3731 - val_loss: 0.2773 - val_root_mean_squared_error: 0.5266\n",
      "Epoch 596/1000\n",
      "25/25 [==============================] - 0s 17ms/step - loss: 0.1376 - root_mean_squared_error: 0.3710 - val_loss: 0.2750 - val_root_mean_squared_error: 0.5244\n",
      "Epoch 597/1000\n",
      "25/25 [==============================] - 0s 17ms/step - loss: 0.1358 - root_mean_squared_error: 0.3685 - val_loss: 0.2755 - val_root_mean_squared_error: 0.5249\n",
      "Epoch 598/1000\n",
      "25/25 [==============================] - 0s 17ms/step - loss: 0.1353 - root_mean_squared_error: 0.3678 - val_loss: 0.2759 - val_root_mean_squared_error: 0.5252\n",
      "Epoch 599/1000\n",
      "25/25 [==============================] - 0s 18ms/step - loss: 0.1353 - root_mean_squared_error: 0.3678 - val_loss: 0.2759 - val_root_mean_squared_error: 0.5252\n",
      "Epoch 600/1000\n",
      "25/25 [==============================] - 0s 17ms/step - loss: 0.1352 - root_mean_squared_error: 0.3677 - val_loss: 0.2745 - val_root_mean_squared_error: 0.5239\n",
      "Epoch 601/1000\n",
      "25/25 [==============================] - 0s 16ms/step - loss: 0.1348 - root_mean_squared_error: 0.3671 - val_loss: 0.2724 - val_root_mean_squared_error: 0.5219\n",
      "Epoch 602/1000\n",
      "25/25 [==============================] - 0s 17ms/step - loss: 0.1341 - root_mean_squared_error: 0.3661 - val_loss: 0.2704 - val_root_mean_squared_error: 0.5200\n",
      "Epoch 603/1000\n",
      "25/25 [==============================] - 0s 16ms/step - loss: 0.1333 - root_mean_squared_error: 0.3652 - val_loss: 0.2688 - val_root_mean_squared_error: 0.5185\n"
     ]
    },
    {
     "data": {
      "image/png": "[encoded data removed]",
      "text/plain": [
       "<Figure size 640x480 with 1 Axes>"
      ]
     },
     "metadata": {},
     "output_type": "display_data"
    },
    {
     "data": {
      "text/plain": [
       "<tensorflow.python.keras.callbacks.History at 0x7fd794463ca0>"
      ]
     },
     "execution_count": 15,
     "metadata": {},
     "output_type": "execute_result"
    }
   ],
   "source": [
    "small_multi_mlp.fit(small_train_dataset, epochs=1000,\n",
    "                                          validation_data=small_val_dataset,\n",
    "                                          callbacks=[ckpt_small_multi, logs_small_multi,\n",
    "                                                     earlystopping_100])"
   ]
  },
  {
   "cell_type": "markdown",
   "metadata": {},
   "source": [
    "### III.1.d Reset GPU memory"
   ]
  },
  {
   "cell_type": "code",
   "execution_count": 6,
   "metadata": {},
   "outputs": [],
   "source": [
    "device = cuda.get_current_device()\n",
    "device.reset()"
   ]
  },
  {
   "cell_type": "markdown",
   "metadata": {},
   "source": [
    "### III.1.e Define single-output MLPs"
   ]
  },
  {
   "cell_type": "code",
   "execution_count": null,
   "metadata": {
    "scrolled": false
   },
   "outputs": [],
   "source": [
    "small_inde_mlps = []\n",
    "\n",
    "for i in range(48):\n",
    "    small_inde_mlps.append(get_simple_mutli_regressor_mlp(input_shape=(10000,),\n",
    "                                                              hidden_units=[512],\n",
    "                                                              num_outputs=1))\n",
    "\n",
    "small_inde_mlps[0].summary()"
   ]
  },
  {
   "cell_type": "markdown",
   "metadata": {},
   "source": [
    "### III.1.f Compile single-output MLPs"
   ]
  },
  {
   "cell_type": "code",
   "execution_count": null,
   "metadata": {},
   "outputs": [],
   "source": [
    "for i in range(48):\n",
    "    small_inde_mlp = small_inde_mlps[i]\n",
    "    small_inde_mlp.compile(optimizer=\"Adam\", loss=\"mse\",\n",
    "                           metrics=[tf.keras.metrics.RootMeanSquaredError()])"
   ]
  },
  {
   "cell_type": "markdown",
   "metadata": {},
   "source": [
    "### III.1.g Fit single-output MLPs"
   ]
  },
  {
   "cell_type": "code",
   "execution_count": null,
   "metadata": {},
   "outputs": [],
   "source": [
    "for i in range(48):\n",
    "    small_inde_mlp = small_inde_mlps[i]\n",
    "    small_inde_mlp.fit(small_train_datasets_single[i], epochs=1000,\n",
    "                       validation_data=small_val_datasets_single[i],\n",
    "                       callbacks=[ckpt_small_single[i], logs_small_single[i],\n",
    "                                                                    earlystopping_100])"
   ]
  },
  {
   "cell_type": "markdown",
   "metadata": {},
   "source": [
    "### III.1.h Reset GPU memory"
   ]
  },
  {
   "cell_type": "code",
   "execution_count": 3,
   "metadata": {},
   "outputs": [],
   "source": [
    "device = cuda.get_current_device()\n",
    "device.reset()"
   ]
  },
  {
   "cell_type": "markdown",
   "metadata": {},
   "source": [
    "## III.2 Small correlated dataset"
   ]
  },
  {
   "cell_type": "markdown",
   "metadata": {},
   "source": [
    "### III.2.a Define mutli-output MLP"
   ]
  },
  {
   "cell_type": "code",
   "execution_count": 14,
   "metadata": {
    "scrolled": false
   },
   "outputs": [
    {
     "name": "stdout",
     "output_type": "stream",
     "text": [
      "Model: \"model\"\n",
      "_________________________________________________________________\n",
      "Layer (type)                 Output Shape              Param #   \n",
      "=================================================================\n",
      "input_1 (InputLayer)         [(None, 10000)]           0         \n",
      "_________________________________________________________________\n",
      "dense (Dense)                (None, 512)               5120512   \n",
      "_________________________________________________________________\n",
      "dense_1 (Dense)              (None, 48)                24624     \n",
      "=================================================================\n",
      "Total params: 5,145,136\n",
      "Trainable params: 5,145,136\n",
      "Non-trainable params: 0\n",
      "_________________________________________________________________\n"
     ]
    }
   ],
   "source": [
    "small_corr_multi_mlp = get_simple_mutli_regressor_mlp(input_shape=(10000,), hidden_units=[512], num_outputs=48)\n",
    "small_corr_multi_mlp.summary()"
   ]
  },
  {
   "cell_type": "markdown",
   "metadata": {},
   "source": [
    "### III.2.b Compile mutli-output MLP"
   ]
  },
  {
   "cell_type": "code",
   "execution_count": null,
   "metadata": {},
   "outputs": [],
   "source": [
    "small_corr_multi_mlp.compile(optimizer=\"Adam\", loss=\"mse\", metrics=[tf.keras.metrics.RootMeanSquaredError()])\n"
   ]
  },
  {
   "cell_type": "markdown",
   "metadata": {},
   "source": [
    "### III.2.c Fit mutli-output MLP"
   ]
  },
  {
   "cell_type": "code",
   "execution_count": null,
   "metadata": {},
   "outputs": [],
   "source": [
    "small_corr_multi_mlp.fit(small_corr_train_dataset, epochs=1000,\n",
    "                                          validation_data=small_corr_val_dataset,\n",
    "                                          callbacks=[ckpt_small_corr_multi, logs_small_corr_multi,\n",
    "                                                     earlystopping_100])"
   ]
  },
  {
   "cell_type": "markdown",
   "metadata": {},
   "source": [
    "### III.2.d Reset GPU memory"
   ]
  },
  {
   "cell_type": "code",
   "execution_count": null,
   "metadata": {},
   "outputs": [],
   "source": [
    "device = cuda.get_current_device()\n",
    "device.reset()"
   ]
  },
  {
   "cell_type": "markdown",
   "metadata": {},
   "source": [
    "### III.2.e Define single-output MLPs"
   ]
  },
  {
   "cell_type": "code",
   "execution_count": 14,
   "metadata": {
    "scrolled": false
   },
   "outputs": [
    {
     "name": "stdout",
     "output_type": "stream",
     "text": [
      "Model: \"model\"\n",
      "_________________________________________________________________\n",
      "Layer (type)                 Output Shape              Param #   \n",
      "=================================================================\n",
      "input_1 (InputLayer)         [(None, 10000)]           0         \n",
      "_________________________________________________________________\n",
      "dense (Dense)                (None, 512)               5120512   \n",
      "_________________________________________________________________\n",
      "dense_1 (Dense)              (None, 48)                24624     \n",
      "=================================================================\n",
      "Total params: 5,145,136\n",
      "Trainable params: 5,145,136\n",
      "Non-trainable params: 0\n",
      "_________________________________________________________________\n"
     ]
    }
   ],
   "source": [
    "small_corr_inde_mlps = []\n",
    "\n",
    "for i in range(48):\n",
    "    small_corr_inde_mlps.append(get_simple_mutli_regressor_mlp(input_shape=(10000,),\n",
    "                                                              hidden_units=[512],\n",
    "                                                              num_outputs=1))\n",
    "\n",
    "small_inde_mlps[0].summary()"
   ]
  },
  {
   "cell_type": "markdown",
   "metadata": {},
   "source": [
    "### III.2.f Compile single-output MLPs"
   ]
  },
  {
   "cell_type": "code",
   "execution_count": null,
   "metadata": {},
   "outputs": [],
   "source": [
    "for i in range(48):\n",
    "    small_corr_inde_mlp = small_corr_inde_mlps[i]\n",
    "    small_corr_inde_mlp.compile(optimizer=\"Adam\", loss=\"mse\",\n",
    "                           metrics=[tf.keras.metrics.RootMeanSquaredError()])"
   ]
  },
  {
   "cell_type": "markdown",
   "metadata": {},
   "source": [
    "### III.2.g Fit single-output MLPs"
   ]
  },
  {
   "cell_type": "code",
   "execution_count": null,
   "metadata": {},
   "outputs": [],
   "source": [
    "for i in range(48):\n",
    "    small_corr_inde_mlp = small_corr_inde_mlps[i]\n",
    "    small_corr_inde_mlp.fit(small_corr_train_datasets_single[i], epochs=1000,\n",
    "                       validation_data=small_corr_val_datasets_single[i],\n",
    "                       callbacks=[ckpt_small_corr_single[i], logs_small_corr_single[i],\n",
    "                                                                    earlystopping_100])"
   ]
  },
  {
   "cell_type": "markdown",
   "metadata": {},
   "source": [
    "### III.2.h Reset GPU memory"
   ]
  },
  {
   "cell_type": "code",
   "execution_count": null,
   "metadata": {},
   "outputs": [],
   "source": [
    "device = cuda.get_current_device()\n",
    "device.reset()"
   ]
  },
  {
   "cell_type": "markdown",
   "metadata": {},
   "source": [
    "## III.3 Large independent dataset"
   ]
  },
  {
   "cell_type": "markdown",
   "metadata": {},
   "source": [
    "### III.3.a Define mutli-output MLP"
   ]
  },
  {
   "cell_type": "code",
   "execution_count": 14,
   "metadata": {
    "scrolled": false
   },
   "outputs": [
    {
     "name": "stdout",
     "output_type": "stream",
     "text": [
      "Model: \"model\"\n",
      "_________________________________________________________________\n",
      "Layer (type)                 Output Shape              Param #   \n",
      "=================================================================\n",
      "input_1 (InputLayer)         [(None, 10000)]           0         \n",
      "_________________________________________________________________\n",
      "dense (Dense)                (None, 512)               5120512   \n",
      "_________________________________________________________________\n",
      "dense_1 (Dense)              (None, 48)                24624     \n",
      "=================================================================\n",
      "Total params: 5,145,136\n",
      "Trainable params: 5,145,136\n",
      "Non-trainable params: 0\n",
      "_________________________________________________________________\n"
     ]
    }
   ],
   "source": [
    "large_multi_mlp = get_regularised_bn_dropout_mutli_regressor_mlp(input_shape=(10000,), hidden_units=[4096, 512],\n",
    "                                                                 l2_reg_coeff=0,\n",
    "                                                                 dropout_rate=0.2,\n",
    "                                                                 num_outputs=48)\n",
    "large_multi_mlp.summary()"
   ]
  },
  {
   "cell_type": "markdown",
   "metadata": {},
   "source": [
    "### III.3.b Compile mutli-output MLP"
   ]
  },
  {
   "cell_type": "code",
   "execution_count": null,
   "metadata": {},
   "outputs": [],
   "source": [
    "large_multi_mlp.compile(optimizer=tf.keras.optimizers.Adam(0.0008), loss=\"mse\",\n",
    "                        metrics=[tf.keras.metrics.RootMeanSquaredError()])"
   ]
  },
  {
   "cell_type": "markdown",
   "metadata": {},
   "source": [
    "### III.3.c Fit mutli-output MLP"
   ]
  },
  {
   "cell_type": "code",
   "execution_count": null,
   "metadata": {},
   "outputs": [],
   "source": [
    "large_multi_mlp.fit(large_train_dataset, epochs=1000,\n",
    "                                          validation_data=large_val_dataset,\n",
    "                                          callbacks=[ckpt_large_multi, logs_large_multi,\n",
    "                                                     earlystopping_100])"
   ]
  },
  {
   "cell_type": "markdown",
   "metadata": {},
   "source": [
    "### III.3.d Reset GPU memory"
   ]
  },
  {
   "cell_type": "code",
   "execution_count": null,
   "metadata": {},
   "outputs": [],
   "source": [
    "device = cuda.get_current_device()\n",
    "device.reset()"
   ]
  },
  {
   "cell_type": "markdown",
   "metadata": {},
   "source": [
    "### III.3.e Define single-output MLPs"
   ]
  },
  {
   "cell_type": "code",
   "execution_count": 14,
   "metadata": {
    "scrolled": true
   },
   "outputs": [
    {
     "name": "stdout",
     "output_type": "stream",
     "text": [
      "Model: \"model\"\n",
      "_________________________________________________________________\n",
      "Layer (type)                 Output Shape              Param #   \n",
      "=================================================================\n",
      "input_1 (InputLayer)         [(None, 10000)]           0         \n",
      "_________________________________________________________________\n",
      "dense (Dense)                (None, 512)               5120512   \n",
      "_________________________________________________________________\n",
      "dense_1 (Dense)              (None, 48)                24624     \n",
      "=================================================================\n",
      "Total params: 5,145,136\n",
      "Trainable params: 5,145,136\n",
      "Non-trainable params: 0\n",
      "_________________________________________________________________\n"
     ]
    }
   ],
   "source": [
    "large_inde_mlps = []\n",
    "\n",
    "for i in range(48):\n",
    "    large_inde_mlps.append(get_regularised_bn_dropout_mutli_regressor_mlp(input_shape=(10000,),\n",
    "                                                                          hidden_units=[4096, 512],\n",
    "                                                                          l2_reg_coeff=0,\n",
    "                                                                          dropout_rate=0.2,\n",
    "                                                                          num_outputs=1))\n",
    "\n",
    "large_inde_mlps[0].summary()"
   ]
  },
  {
   "cell_type": "markdown",
   "metadata": {},
   "source": [
    "### III.3.f Compile single-output MLPs"
   ]
  },
  {
   "cell_type": "code",
   "execution_count": null,
   "metadata": {},
   "outputs": [],
   "source": [
    "for i in range(48):\n",
    "    large_inde_mlp = large_inde_mlps[i]\n",
    "    large_inde_mlp.compile(optimizer=tf.keras.optimizers.Adam(0.0008), loss=\"mse\",\n",
    "                        metrics=[tf.keras.metrics.RootMeanSquaredError()])"
   ]
  },
  {
   "cell_type": "markdown",
   "metadata": {},
   "source": [
    "### III.3.g Fit single-output MLPs"
   ]
  },
  {
   "cell_type": "code",
   "execution_count": null,
   "metadata": {},
   "outputs": [],
   "source": [
    "for i in range(48):\n",
    "    large_inde_mlp = large_inde_mlps[i]\n",
    "    large_inde_mlp.fit(large_train_datasets_single[i], epochs=1000,\n",
    "                       validation_data=large_val_datasets_single[i],\n",
    "                       callbacks=[ckpt_large_single[i], logs_large_single[i], earlystopping_100])"
   ]
  },
  {
   "cell_type": "markdown",
   "metadata": {},
   "source": [
    "### III.3.h Reset GPU memory"
   ]
  },
  {
   "cell_type": "code",
   "execution_count": null,
   "metadata": {},
   "outputs": [],
   "source": [
    "device = cuda.get_current_device()\n",
    "device.reset()"
   ]
  },
  {
   "cell_type": "markdown",
   "metadata": {},
   "source": [
    "## III.4 Large correlated dataset"
   ]
  },
  {
   "cell_type": "markdown",
   "metadata": {},
   "source": [
    "### III.4.a Define mutli-output MLP"
   ]
  },
  {
   "cell_type": "code",
   "execution_count": 14,
   "metadata": {
    "scrolled": false
   },
   "outputs": [
    {
     "name": "stdout",
     "output_type": "stream",
     "text": [
      "Model: \"model\"\n",
      "_________________________________________________________________\n",
      "Layer (type)                 Output Shape              Param #   \n",
      "=================================================================\n",
      "input_1 (InputLayer)         [(None, 10000)]           0         \n",
      "_________________________________________________________________\n",
      "dense (Dense)                (None, 512)               5120512   \n",
      "_________________________________________________________________\n",
      "dense_1 (Dense)              (None, 48)                24624     \n",
      "=================================================================\n",
      "Total params: 5,145,136\n",
      "Trainable params: 5,145,136\n",
      "Non-trainable params: 0\n",
      "_________________________________________________________________\n"
     ]
    }
   ],
   "source": [
    "large_corr_multi_mlp = get_regularised_bn_dropout_mutli_regressor_mlp(input_shape=(10000,), hidden_units=[4096, 512],\n",
    "                                                                 l2_reg_coeff=0,\n",
    "                                                                 dropout_rate=0.2,\n",
    "                                                                 num_outputs=48)\n",
    "large_corr_multi_mlp.summary()"
   ]
  },
  {
   "cell_type": "markdown",
   "metadata": {},
   "source": [
    "### III.4.b Compile mutli-output MLP"
   ]
  },
  {
   "cell_type": "code",
   "execution_count": null,
   "metadata": {},
   "outputs": [],
   "source": [
    "large_corr_multi_mlp.compile(optimizer=tf.keras.optimizers.Adam(0.0008), loss=\"mse\",\n",
    "                        metrics=[tf.keras.metrics.RootMeanSquaredError()])"
   ]
  },
  {
   "cell_type": "markdown",
   "metadata": {},
   "source": [
    "### III.4.c Fit mutli-output MLP"
   ]
  },
  {
   "cell_type": "code",
   "execution_count": null,
   "metadata": {},
   "outputs": [],
   "source": [
    "large_corr_multi_mlp.fit(large_corr_train_dataset, epochs=1000,\n",
    "                                          validation_data=large_corr_val_dataset,\n",
    "                                          callbacks=[ckpt_large_corr_multi, logs_large_corr_multi,\n",
    "                                                     earlystopping_100])"
   ]
  },
  {
   "cell_type": "markdown",
   "metadata": {},
   "source": [
    "### III.4.d Reset GPU memory"
   ]
  },
  {
   "cell_type": "code",
   "execution_count": null,
   "metadata": {},
   "outputs": [],
   "source": [
    "device = cuda.get_current_device()\n",
    "device.reset()"
   ]
  },
  {
   "cell_type": "markdown",
   "metadata": {},
   "source": [
    "### III.4.d Define single-output MLPs"
   ]
  },
  {
   "cell_type": "code",
   "execution_count": 14,
   "metadata": {
    "scrolled": true
   },
   "outputs": [
    {
     "name": "stdout",
     "output_type": "stream",
     "text": [
      "Model: \"model\"\n",
      "_________________________________________________________________\n",
      "Layer (type)                 Output Shape              Param #   \n",
      "=================================================================\n",
      "input_1 (InputLayer)         [(None, 10000)]           0         \n",
      "_________________________________________________________________\n",
      "dense (Dense)                (None, 512)               5120512   \n",
      "_________________________________________________________________\n",
      "dense_1 (Dense)              (None, 48)                24624     \n",
      "=================================================================\n",
      "Total params: 5,145,136\n",
      "Trainable params: 5,145,136\n",
      "Non-trainable params: 0\n",
      "_________________________________________________________________\n"
     ]
    }
   ],
   "source": [
    "large_corr_inde_mlps = []\n",
    "\n",
    "for i in range(48):\n",
    "    large_corr_inde_mlps.append(get_regularised_bn_dropout_mutli_regressor_mlp(input_shape=(10000,),\n",
    "                                                                          hidden_units=[4096, 512],\n",
    "                                                                          l2_reg_coeff=0,\n",
    "                                                                          dropout_rate=0.2,\n",
    "                                                                          num_outputs=1))\n",
    "\n",
    "large_corr_inde_mlps[0].summary()"
   ]
  },
  {
   "cell_type": "markdown",
   "metadata": {},
   "source": [
    "### III.4.e Compile single-output MLPs"
   ]
  },
  {
   "cell_type": "code",
   "execution_count": null,
   "metadata": {},
   "outputs": [],
   "source": [
    "for i in range(48):\n",
    "    large_corr_inde_mlp = large_corr_inde_mlps[i]\n",
    "    large_corr_inde_mlp.compile(optimizer=tf.keras.optimizers.Adam(0.0008), loss=\"mse\",\n",
    "                        metrics=[tf.keras.metrics.RootMeanSquaredError()])"
   ]
  },
  {
   "cell_type": "markdown",
   "metadata": {},
   "source": [
    "### III.4.f Fit single-output MLPs"
   ]
  },
  {
   "cell_type": "code",
   "execution_count": null,
   "metadata": {},
   "outputs": [],
   "source": [
    "for i in range(48):\n",
    "    large_corr_inde_mlp = large_corr_inde_mlps[i]\n",
    "    large_corr_inde_mlp.fit(large_corr_train_datasets_single[i], epochs=1000,\n",
    "                       validation_data=large_corr_val_datasets_single[i],\n",
    "                       callbacks=[ckpt_large_corr_single[i], logs_large_corr_single[i], earlystopping_100])"
   ]
  },
  {
   "cell_type": "markdown",
   "metadata": {},
   "source": [
    "### III.4.h Reset GPU memory"
   ]
  },
  {
   "cell_type": "code",
   "execution_count": null,
   "metadata": {},
   "outputs": [],
   "source": [
    "device = cuda.get_current_device()\n",
    "device.reset()"
   ]
  },
  {
   "cell_type": "markdown",
   "metadata": {},
   "source": [
    "## III.5 Exrtra small independent dataset"
   ]
  },
  {
   "cell_type": "markdown",
   "metadata": {},
   "source": [
    "### III.5.a Mutli output MLP"
   ]
  },
  {
   "cell_type": "code",
   "execution_count": 39,
   "metadata": {
    "scrolled": false
   },
   "outputs": [
    {
     "name": "stdout",
     "output_type": "stream",
     "text": [
      "Model: \"model_144\"\n",
      "_________________________________________________________________\n",
      "Layer (type)                 Output Shape              Param #   \n",
      "=================================================================\n",
      "input_147 (InputLayer)       [(None, 10000)]           0         \n",
      "_________________________________________________________________\n",
      "dense_336 (Dense)            (None, 256)               2560256   \n",
      "_________________________________________________________________\n",
      "dense_337 (Dense)            (None, 48)                12336     \n",
      "=================================================================\n",
      "Total params: 2,572,592\n",
      "Trainable params: 2,572,592\n",
      "Non-trainable params: 0\n",
      "_________________________________________________________________\n"
     ]
    }
   ],
   "source": [
    "xsmall_multi_mlp = get_simple_mutli_regressor_mlp(input_shape=(10000,), hidden_units=[256], num_outputs=48)\n",
    "xsmall_multi_mlp.summary()"
   ]
  },
  {
   "cell_type": "markdown",
   "metadata": {},
   "source": [
    "### III.5.b Compile mutli-output MLP"
   ]
  },
  {
   "cell_type": "code",
   "execution_count": null,
   "metadata": {},
   "outputs": [],
   "source": [
    "xsmall_multi_mlp.compile(optimizer=tf.keras.optimizers.Adam(0.002), loss=\"mse\",\n",
    "                         metrics=[tf.keras.metrics.RootMeanSquaredError()])\n"
   ]
  },
  {
   "cell_type": "markdown",
   "metadata": {},
   "source": [
    "### III.5.c Fit mutli-output MLP"
   ]
  },
  {
   "cell_type": "code",
   "execution_count": null,
   "metadata": {},
   "outputs": [],
   "source": [
    "xsmall_multi_mlp.fit(xsmall_train_dataset, epochs=1000,\n",
    "                                          validation_data=xsmall_val_dataset,\n",
    "                                          callbacks=[ckpt_xsmall_multi, logs_xsmall_multi,\n",
    "                                                     earlystopping_100])"
   ]
  },
  {
   "cell_type": "markdown",
   "metadata": {},
   "source": [
    "### III.5.d Reset GPU memory"
   ]
  },
  {
   "cell_type": "code",
   "execution_count": null,
   "metadata": {},
   "outputs": [],
   "source": [
    "device = cuda.get_current_device()\n",
    "device.reset()"
   ]
  },
  {
   "cell_type": "markdown",
   "metadata": {},
   "source": [
    "### III.5.e Define single-output MLPs"
   ]
  },
  {
   "cell_type": "code",
   "execution_count": 14,
   "metadata": {
    "scrolled": false
   },
   "outputs": [
    {
     "name": "stdout",
     "output_type": "stream",
     "text": [
      "Model: \"model\"\n",
      "_________________________________________________________________\n",
      "Layer (type)                 Output Shape              Param #   \n",
      "=================================================================\n",
      "input_1 (InputLayer)         [(None, 10000)]           0         \n",
      "_________________________________________________________________\n",
      "dense (Dense)                (None, 512)               5120512   \n",
      "_________________________________________________________________\n",
      "dense_1 (Dense)              (None, 48)                24624     \n",
      "=================================================================\n",
      "Total params: 5,145,136\n",
      "Trainable params: 5,145,136\n",
      "Non-trainable params: 0\n",
      "_________________________________________________________________\n"
     ]
    }
   ],
   "source": [
    "xsmall_inde_mlps = []\n",
    "\n",
    "for i in range(48):\n",
    "    xsmall_inde_mlps.append(get_simple_mutli_regressor_mlp(input_shape=(10000,),\n",
    "                                                              hidden_units=[256],\n",
    "                                                              num_outputs=1))\n",
    "\n",
    "small_inde_mlps[0].summary()"
   ]
  },
  {
   "cell_type": "markdown",
   "metadata": {},
   "source": [
    "### III.5.f Compile single-output MLPs"
   ]
  },
  {
   "cell_type": "code",
   "execution_count": null,
   "metadata": {},
   "outputs": [],
   "source": [
    "for i in range(48):\n",
    "    xsmall_inde_mlp = xsmall_inde_mlps[i]\n",
    "    xsmall_inde_mlp.compile(optimizer=tf.keras.optimizers.Adam(0.002), loss=\"mse\",\n",
    "                           metrics=[tf.keras.metrics.RootMeanSquaredError()])"
   ]
  },
  {
   "cell_type": "markdown",
   "metadata": {},
   "source": [
    "### III.5.g Fit single-output MLPs"
   ]
  },
  {
   "cell_type": "code",
   "execution_count": null,
   "metadata": {},
   "outputs": [],
   "source": [
    "for i in range(48):\n",
    "    xsmall_inde_mlp = xsmall_inde_mlps[i]\n",
    "    xsmall_inde_mlp.fit(xsmall_train_datasets_single[i], epochs=1000,\n",
    "                       validation_data=xsmall_val_datasets_single[i],\n",
    "                       callbacks=[ckpt_xsmall_single[i], logs_xsmall_single[i], earlystopping_100])"
   ]
  },
  {
   "cell_type": "markdown",
   "metadata": {},
   "source": [
    "### III.5.h Reset GPU memory"
   ]
  },
  {
   "cell_type": "code",
   "execution_count": null,
   "metadata": {},
   "outputs": [],
   "source": [
    "device = cuda.get_current_device()\n",
    "device.reset()"
   ]
  },
  {
   "cell_type": "markdown",
   "metadata": {},
   "source": [
    "## III.6 Extra small correlated dataset"
   ]
  },
  {
   "cell_type": "markdown",
   "metadata": {},
   "source": [
    "### III.6.a Mutli output MLP"
   ]
  },
  {
   "cell_type": "code",
   "execution_count": 49,
   "metadata": {
    "scrolled": false
   },
   "outputs": [
    {
     "ename": "ResourceExhaustedError",
     "evalue": "OOM when allocating tensor with shape[10000,256] and type float on /job:localhost/replica:0/task:0/device:GPU:0 by allocator GPU_0_bfc [Op:RandomUniform]",
     "output_type": "error",
     "traceback": [
      "\u001b[0;31m---------------------------------------------------------------------------\u001b[0m",
      "\u001b[0;31mResourceExhaustedError\u001b[0m                    Traceback (most recent call last)",
      "\u001b[0;32m<ipython-input-49-e2c02fd1f267>\u001b[0m in \u001b[0;36m<module>\u001b[0;34m\u001b[0m\n\u001b[0;32m----> 1\u001b[0;31m \u001b[0mxsmall_corr_multi_mlp\u001b[0m \u001b[0;34m=\u001b[0m \u001b[0mget_simple_mutli_regressor_mlp\u001b[0m\u001b[0;34m(\u001b[0m\u001b[0minput_shape\u001b[0m\u001b[0;34m=\u001b[0m\u001b[0;34m(\u001b[0m\u001b[0;36m10000\u001b[0m\u001b[0;34m,\u001b[0m\u001b[0;34m)\u001b[0m\u001b[0;34m,\u001b[0m \u001b[0mhidden_units\u001b[0m\u001b[0;34m=\u001b[0m\u001b[0;34m[\u001b[0m\u001b[0;36m256\u001b[0m\u001b[0;34m]\u001b[0m\u001b[0;34m,\u001b[0m \u001b[0mnum_outputs\u001b[0m\u001b[0;34m=\u001b[0m\u001b[0;36m48\u001b[0m\u001b[0;34m)\u001b[0m\u001b[0;34m\u001b[0m\u001b[0;34m\u001b[0m\u001b[0m\n\u001b[0m\u001b[1;32m      2\u001b[0m \u001b[0mxsmall_corr_multi_mlp\u001b[0m\u001b[0;34m.\u001b[0m\u001b[0msummary\u001b[0m\u001b[0;34m(\u001b[0m\u001b[0;34m)\u001b[0m\u001b[0;34m\u001b[0m\u001b[0;34m\u001b[0m\u001b[0m\n",
      "\u001b[0;32m/data/ar1220/MscProjectNMR/models/mlp.py\u001b[0m in \u001b[0;36mget_simple_mutli_regressor_mlp\u001b[0;34m(input_shape, hidden_units, num_outputs)\u001b[0m\n\u001b[1;32m     26\u001b[0m     \u001b[0mh\u001b[0m \u001b[0;34m=\u001b[0m \u001b[0minputs\u001b[0m\u001b[0;34m\u001b[0m\u001b[0;34m\u001b[0m\u001b[0m\n\u001b[1;32m     27\u001b[0m     \u001b[0;32mfor\u001b[0m \u001b[0munits\u001b[0m \u001b[0;32min\u001b[0m \u001b[0mhidden_units\u001b[0m\u001b[0;34m:\u001b[0m\u001b[0;34m\u001b[0m\u001b[0;34m\u001b[0m\u001b[0m\n\u001b[0;32m---> 28\u001b[0;31m         \u001b[0mh\u001b[0m \u001b[0;34m=\u001b[0m \u001b[0mtf\u001b[0m\u001b[0;34m.\u001b[0m\u001b[0mkeras\u001b[0m\u001b[0;34m.\u001b[0m\u001b[0mlayers\u001b[0m\u001b[0;34m.\u001b[0m\u001b[0mDense\u001b[0m\u001b[0;34m(\u001b[0m\u001b[0munits\u001b[0m\u001b[0;34m,\u001b[0m \u001b[0mactivation\u001b[0m\u001b[0;34m=\u001b[0m\u001b[0;34m'selu'\u001b[0m\u001b[0;34m)\u001b[0m\u001b[0;34m(\u001b[0m\u001b[0mh\u001b[0m\u001b[0;34m)\u001b[0m\u001b[0;34m\u001b[0m\u001b[0;34m\u001b[0m\u001b[0m\n\u001b[0m\u001b[1;32m     29\u001b[0m     \u001b[0moutputs\u001b[0m \u001b[0;34m=\u001b[0m \u001b[0mtf\u001b[0m\u001b[0;34m.\u001b[0m\u001b[0mkeras\u001b[0m\u001b[0;34m.\u001b[0m\u001b[0mlayers\u001b[0m\u001b[0;34m.\u001b[0m\u001b[0mDense\u001b[0m\u001b[0;34m(\u001b[0m\u001b[0mnum_outputs\u001b[0m\u001b[0;34m,\u001b[0m \u001b[0mactivation\u001b[0m\u001b[0;34m=\u001b[0m\u001b[0;32mNone\u001b[0m\u001b[0;34m)\u001b[0m\u001b[0;34m(\u001b[0m\u001b[0mh\u001b[0m\u001b[0;34m)\u001b[0m\u001b[0;34m\u001b[0m\u001b[0;34m\u001b[0m\u001b[0m\n\u001b[1;32m     30\u001b[0m     \u001b[0mmodel\u001b[0m \u001b[0;34m=\u001b[0m \u001b[0mtf\u001b[0m\u001b[0;34m.\u001b[0m\u001b[0mkeras\u001b[0m\u001b[0;34m.\u001b[0m\u001b[0mmodels\u001b[0m\u001b[0;34m.\u001b[0m\u001b[0mModel\u001b[0m\u001b[0;34m(\u001b[0m\u001b[0minputs\u001b[0m\u001b[0;34m=\u001b[0m\u001b[0minputs\u001b[0m\u001b[0;34m,\u001b[0m \u001b[0moutputs\u001b[0m\u001b[0;34m=\u001b[0m\u001b[0moutputs\u001b[0m\u001b[0;34m)\u001b[0m\u001b[0;34m\u001b[0m\u001b[0;34m\u001b[0m\u001b[0m\n",
      "\u001b[0;32m/data/ar1220/MscProjectNMR/venv/lib/python3.8/site-packages/tensorflow/python/keras/engine/base_layer.py\u001b[0m in \u001b[0;36m__call__\u001b[0;34m(self, *args, **kwargs)\u001b[0m\n\u001b[1;32m    949\u001b[0m     \u001b[0;31m# >> model = tf.keras.Model(inputs, outputs)\u001b[0m\u001b[0;34m\u001b[0m\u001b[0;34m\u001b[0m\u001b[0;34m\u001b[0m\u001b[0m\n\u001b[1;32m    950\u001b[0m     \u001b[0;32mif\u001b[0m \u001b[0m_in_functional_construction_mode\u001b[0m\u001b[0;34m(\u001b[0m\u001b[0mself\u001b[0m\u001b[0;34m,\u001b[0m \u001b[0minputs\u001b[0m\u001b[0;34m,\u001b[0m \u001b[0margs\u001b[0m\u001b[0;34m,\u001b[0m \u001b[0mkwargs\u001b[0m\u001b[0;34m,\u001b[0m \u001b[0minput_list\u001b[0m\u001b[0;34m)\u001b[0m\u001b[0;34m:\u001b[0m\u001b[0;34m\u001b[0m\u001b[0;34m\u001b[0m\u001b[0m\n\u001b[0;32m--> 951\u001b[0;31m       return self._functional_construction_call(inputs, args, kwargs,\n\u001b[0m\u001b[1;32m    952\u001b[0m                                                 input_list)\n\u001b[1;32m    953\u001b[0m \u001b[0;34m\u001b[0m\u001b[0m\n",
      "\u001b[0;32m/data/ar1220/MscProjectNMR/venv/lib/python3.8/site-packages/tensorflow/python/keras/engine/base_layer.py\u001b[0m in \u001b[0;36m_functional_construction_call\u001b[0;34m(self, inputs, args, kwargs, input_list)\u001b[0m\n\u001b[1;32m   1088\u001b[0m           layer=self, inputs=inputs, build_graph=True, training=training_value):\n\u001b[1;32m   1089\u001b[0m         \u001b[0;31m# Check input assumptions set after layer building, e.g. input shape.\u001b[0m\u001b[0;34m\u001b[0m\u001b[0;34m\u001b[0m\u001b[0;34m\u001b[0m\u001b[0m\n\u001b[0;32m-> 1090\u001b[0;31m         outputs = self._keras_tensor_symbolic_call(\n\u001b[0m\u001b[1;32m   1091\u001b[0m             inputs, input_masks, args, kwargs)\n\u001b[1;32m   1092\u001b[0m \u001b[0;34m\u001b[0m\u001b[0m\n",
      "\u001b[0;32m/data/ar1220/MscProjectNMR/venv/lib/python3.8/site-packages/tensorflow/python/keras/engine/base_layer.py\u001b[0m in \u001b[0;36m_keras_tensor_symbolic_call\u001b[0;34m(self, inputs, input_masks, args, kwargs)\u001b[0m\n\u001b[1;32m    820\u001b[0m       \u001b[0;32mreturn\u001b[0m \u001b[0mnest\u001b[0m\u001b[0;34m.\u001b[0m\u001b[0mmap_structure\u001b[0m\u001b[0;34m(\u001b[0m\u001b[0mkeras_tensor\u001b[0m\u001b[0;34m.\u001b[0m\u001b[0mKerasTensor\u001b[0m\u001b[0;34m,\u001b[0m \u001b[0moutput_signature\u001b[0m\u001b[0;34m)\u001b[0m\u001b[0;34m\u001b[0m\u001b[0;34m\u001b[0m\u001b[0m\n\u001b[1;32m    821\u001b[0m     \u001b[0;32melse\u001b[0m\u001b[0;34m:\u001b[0m\u001b[0;34m\u001b[0m\u001b[0;34m\u001b[0m\u001b[0m\n\u001b[0;32m--> 822\u001b[0;31m       \u001b[0;32mreturn\u001b[0m \u001b[0mself\u001b[0m\u001b[0;34m.\u001b[0m\u001b[0m_infer_output_signature\u001b[0m\u001b[0;34m(\u001b[0m\u001b[0minputs\u001b[0m\u001b[0;34m,\u001b[0m \u001b[0margs\u001b[0m\u001b[0;34m,\u001b[0m \u001b[0mkwargs\u001b[0m\u001b[0;34m,\u001b[0m \u001b[0minput_masks\u001b[0m\u001b[0;34m)\u001b[0m\u001b[0;34m\u001b[0m\u001b[0;34m\u001b[0m\u001b[0m\n\u001b[0m\u001b[1;32m    823\u001b[0m \u001b[0;34m\u001b[0m\u001b[0m\n\u001b[1;32m    824\u001b[0m   \u001b[0;32mdef\u001b[0m \u001b[0m_infer_output_signature\u001b[0m\u001b[0;34m(\u001b[0m\u001b[0mself\u001b[0m\u001b[0;34m,\u001b[0m \u001b[0minputs\u001b[0m\u001b[0;34m,\u001b[0m \u001b[0margs\u001b[0m\u001b[0;34m,\u001b[0m \u001b[0mkwargs\u001b[0m\u001b[0;34m,\u001b[0m \u001b[0minput_masks\u001b[0m\u001b[0;34m)\u001b[0m\u001b[0;34m:\u001b[0m\u001b[0;34m\u001b[0m\u001b[0;34m\u001b[0m\u001b[0m\n",
      "\u001b[0;32m/data/ar1220/MscProjectNMR/venv/lib/python3.8/site-packages/tensorflow/python/keras/engine/base_layer.py\u001b[0m in \u001b[0;36m_infer_output_signature\u001b[0;34m(self, inputs, args, kwargs, input_masks)\u001b[0m\n\u001b[1;32m    860\u001b[0m           \u001b[0;31m# overridden).\u001b[0m\u001b[0;34m\u001b[0m\u001b[0;34m\u001b[0m\u001b[0;34m\u001b[0m\u001b[0m\n\u001b[1;32m    861\u001b[0m           \u001b[0;31m# TODO(kaftan): do we maybe_build here, or have we already done it?\u001b[0m\u001b[0;34m\u001b[0m\u001b[0;34m\u001b[0m\u001b[0;34m\u001b[0m\u001b[0m\n\u001b[0;32m--> 862\u001b[0;31m           \u001b[0mself\u001b[0m\u001b[0;34m.\u001b[0m\u001b[0m_maybe_build\u001b[0m\u001b[0;34m(\u001b[0m\u001b[0minputs\u001b[0m\u001b[0;34m)\u001b[0m\u001b[0;34m\u001b[0m\u001b[0;34m\u001b[0m\u001b[0m\n\u001b[0m\u001b[1;32m    863\u001b[0m           \u001b[0moutputs\u001b[0m \u001b[0;34m=\u001b[0m \u001b[0mcall_fn\u001b[0m\u001b[0;34m(\u001b[0m\u001b[0minputs\u001b[0m\u001b[0;34m,\u001b[0m \u001b[0;34m*\u001b[0m\u001b[0margs\u001b[0m\u001b[0;34m,\u001b[0m \u001b[0;34m**\u001b[0m\u001b[0mkwargs\u001b[0m\u001b[0;34m)\u001b[0m\u001b[0;34m\u001b[0m\u001b[0;34m\u001b[0m\u001b[0m\n\u001b[1;32m    864\u001b[0m \u001b[0;34m\u001b[0m\u001b[0m\n",
      "\u001b[0;32m/data/ar1220/MscProjectNMR/venv/lib/python3.8/site-packages/tensorflow/python/keras/engine/base_layer.py\u001b[0m in \u001b[0;36m_maybe_build\u001b[0;34m(self, inputs)\u001b[0m\n\u001b[1;32m   2708\u001b[0m         \u001b[0;31m# operations.\u001b[0m\u001b[0;34m\u001b[0m\u001b[0;34m\u001b[0m\u001b[0;34m\u001b[0m\u001b[0m\n\u001b[1;32m   2709\u001b[0m         \u001b[0;32mwith\u001b[0m \u001b[0mtf_utils\u001b[0m\u001b[0;34m.\u001b[0m\u001b[0mmaybe_init_scope\u001b[0m\u001b[0;34m(\u001b[0m\u001b[0mself\u001b[0m\u001b[0;34m)\u001b[0m\u001b[0;34m:\u001b[0m\u001b[0;34m\u001b[0m\u001b[0;34m\u001b[0m\u001b[0m\n\u001b[0;32m-> 2710\u001b[0;31m           \u001b[0mself\u001b[0m\u001b[0;34m.\u001b[0m\u001b[0mbuild\u001b[0m\u001b[0;34m(\u001b[0m\u001b[0minput_shapes\u001b[0m\u001b[0;34m)\u001b[0m  \u001b[0;31m# pylint:disable=not-callable\u001b[0m\u001b[0;34m\u001b[0m\u001b[0;34m\u001b[0m\u001b[0m\n\u001b[0m\u001b[1;32m   2711\u001b[0m       \u001b[0;31m# We must set also ensure that the layer is marked as built, and the build\u001b[0m\u001b[0;34m\u001b[0m\u001b[0;34m\u001b[0m\u001b[0;34m\u001b[0m\u001b[0m\n\u001b[1;32m   2712\u001b[0m       \u001b[0;31m# shape is stored since user defined build functions may not be calling\u001b[0m\u001b[0;34m\u001b[0m\u001b[0;34m\u001b[0m\u001b[0;34m\u001b[0m\u001b[0m\n",
      "\u001b[0;32m/data/ar1220/MscProjectNMR/venv/lib/python3.8/site-packages/tensorflow/python/keras/layers/core.py\u001b[0m in \u001b[0;36mbuild\u001b[0;34m(self, input_shape)\u001b[0m\n\u001b[1;32m   1183\u001b[0m                        'should be defined. Found `None`.')\n\u001b[1;32m   1184\u001b[0m     \u001b[0mself\u001b[0m\u001b[0;34m.\u001b[0m\u001b[0minput_spec\u001b[0m \u001b[0;34m=\u001b[0m \u001b[0mInputSpec\u001b[0m\u001b[0;34m(\u001b[0m\u001b[0mmin_ndim\u001b[0m\u001b[0;34m=\u001b[0m\u001b[0;36m2\u001b[0m\u001b[0;34m,\u001b[0m \u001b[0maxes\u001b[0m\u001b[0;34m=\u001b[0m\u001b[0;34m{\u001b[0m\u001b[0;34m-\u001b[0m\u001b[0;36m1\u001b[0m\u001b[0;34m:\u001b[0m \u001b[0mlast_dim\u001b[0m\u001b[0;34m}\u001b[0m\u001b[0;34m)\u001b[0m\u001b[0;34m\u001b[0m\u001b[0;34m\u001b[0m\u001b[0m\n\u001b[0;32m-> 1185\u001b[0;31m     self.kernel = self.add_weight(\n\u001b[0m\u001b[1;32m   1186\u001b[0m         \u001b[0;34m'kernel'\u001b[0m\u001b[0;34m,\u001b[0m\u001b[0;34m\u001b[0m\u001b[0;34m\u001b[0m\u001b[0m\n\u001b[1;32m   1187\u001b[0m         \u001b[0mshape\u001b[0m\u001b[0;34m=\u001b[0m\u001b[0;34m[\u001b[0m\u001b[0mlast_dim\u001b[0m\u001b[0;34m,\u001b[0m \u001b[0mself\u001b[0m\u001b[0;34m.\u001b[0m\u001b[0munits\u001b[0m\u001b[0;34m]\u001b[0m\u001b[0;34m,\u001b[0m\u001b[0;34m\u001b[0m\u001b[0;34m\u001b[0m\u001b[0m\n",
      "\u001b[0;32m/data/ar1220/MscProjectNMR/venv/lib/python3.8/site-packages/tensorflow/python/keras/engine/base_layer.py\u001b[0m in \u001b[0;36madd_weight\u001b[0;34m(self, name, shape, dtype, initializer, regularizer, trainable, constraint, use_resource, synchronization, aggregation, **kwargs)\u001b[0m\n\u001b[1;32m    621\u001b[0m         \u001b[0mcaching_device\u001b[0m \u001b[0;34m=\u001b[0m \u001b[0;32mNone\u001b[0m\u001b[0;34m\u001b[0m\u001b[0;34m\u001b[0m\u001b[0m\n\u001b[1;32m    622\u001b[0m \u001b[0;34m\u001b[0m\u001b[0m\n\u001b[0;32m--> 623\u001b[0;31m     variable = self._add_variable_with_custom_getter(\n\u001b[0m\u001b[1;32m    624\u001b[0m         \u001b[0mname\u001b[0m\u001b[0;34m=\u001b[0m\u001b[0mname\u001b[0m\u001b[0;34m,\u001b[0m\u001b[0;34m\u001b[0m\u001b[0;34m\u001b[0m\u001b[0m\n\u001b[1;32m    625\u001b[0m         \u001b[0mshape\u001b[0m\u001b[0;34m=\u001b[0m\u001b[0mshape\u001b[0m\u001b[0;34m,\u001b[0m\u001b[0;34m\u001b[0m\u001b[0;34m\u001b[0m\u001b[0m\n",
      "\u001b[0;32m/data/ar1220/MscProjectNMR/venv/lib/python3.8/site-packages/tensorflow/python/training/tracking/base.py\u001b[0m in \u001b[0;36m_add_variable_with_custom_getter\u001b[0;34m(self, name, shape, dtype, initializer, getter, overwrite, **kwargs_for_getter)\u001b[0m\n\u001b[1;32m    803\u001b[0m         \u001b[0;31m# \"best effort\" to set the initializer with the highest restore UID.\u001b[0m\u001b[0;34m\u001b[0m\u001b[0;34m\u001b[0m\u001b[0;34m\u001b[0m\u001b[0m\n\u001b[1;32m    804\u001b[0m         \u001b[0minitializer\u001b[0m \u001b[0;34m=\u001b[0m \u001b[0mcheckpoint_initializer\u001b[0m\u001b[0;34m\u001b[0m\u001b[0;34m\u001b[0m\u001b[0m\n\u001b[0;32m--> 805\u001b[0;31m     new_variable = getter(\n\u001b[0m\u001b[1;32m    806\u001b[0m         \u001b[0mname\u001b[0m\u001b[0;34m=\u001b[0m\u001b[0mname\u001b[0m\u001b[0;34m,\u001b[0m\u001b[0;34m\u001b[0m\u001b[0;34m\u001b[0m\u001b[0m\n\u001b[1;32m    807\u001b[0m         \u001b[0mshape\u001b[0m\u001b[0;34m=\u001b[0m\u001b[0mshape\u001b[0m\u001b[0;34m,\u001b[0m\u001b[0;34m\u001b[0m\u001b[0;34m\u001b[0m\u001b[0m\n",
      "\u001b[0;32m/data/ar1220/MscProjectNMR/venv/lib/python3.8/site-packages/tensorflow/python/keras/engine/base_layer_utils.py\u001b[0m in \u001b[0;36mmake_variable\u001b[0;34m(name, shape, dtype, initializer, trainable, caching_device, validate_shape, constraint, use_resource, collections, synchronization, aggregation, partitioner)\u001b[0m\n\u001b[1;32m    128\u001b[0m   \u001b[0;31m# can remove the V1.\u001b[0m\u001b[0;34m\u001b[0m\u001b[0;34m\u001b[0m\u001b[0;34m\u001b[0m\u001b[0m\n\u001b[1;32m    129\u001b[0m   \u001b[0mvariable_shape\u001b[0m \u001b[0;34m=\u001b[0m \u001b[0mtensor_shape\u001b[0m\u001b[0;34m.\u001b[0m\u001b[0mTensorShape\u001b[0m\u001b[0;34m(\u001b[0m\u001b[0mshape\u001b[0m\u001b[0;34m)\u001b[0m\u001b[0;34m\u001b[0m\u001b[0;34m\u001b[0m\u001b[0m\n\u001b[0;32m--> 130\u001b[0;31m   return tf_variables.VariableV1(\n\u001b[0m\u001b[1;32m    131\u001b[0m       \u001b[0minitial_value\u001b[0m\u001b[0;34m=\u001b[0m\u001b[0minit_val\u001b[0m\u001b[0;34m,\u001b[0m\u001b[0;34m\u001b[0m\u001b[0;34m\u001b[0m\u001b[0m\n\u001b[1;32m    132\u001b[0m       \u001b[0mname\u001b[0m\u001b[0;34m=\u001b[0m\u001b[0mname\u001b[0m\u001b[0;34m,\u001b[0m\u001b[0;34m\u001b[0m\u001b[0;34m\u001b[0m\u001b[0m\n",
      "\u001b[0;32m/data/ar1220/MscProjectNMR/venv/lib/python3.8/site-packages/tensorflow/python/ops/variables.py\u001b[0m in \u001b[0;36m__call__\u001b[0;34m(cls, *args, **kwargs)\u001b[0m\n\u001b[1;32m    258\u001b[0m   \u001b[0;32mdef\u001b[0m \u001b[0m__call__\u001b[0m\u001b[0;34m(\u001b[0m\u001b[0mcls\u001b[0m\u001b[0;34m,\u001b[0m \u001b[0;34m*\u001b[0m\u001b[0margs\u001b[0m\u001b[0;34m,\u001b[0m \u001b[0;34m**\u001b[0m\u001b[0mkwargs\u001b[0m\u001b[0;34m)\u001b[0m\u001b[0;34m:\u001b[0m\u001b[0;34m\u001b[0m\u001b[0;34m\u001b[0m\u001b[0m\n\u001b[1;32m    259\u001b[0m     \u001b[0;32mif\u001b[0m \u001b[0mcls\u001b[0m \u001b[0;32mis\u001b[0m \u001b[0mVariableV1\u001b[0m\u001b[0;34m:\u001b[0m\u001b[0;34m\u001b[0m\u001b[0;34m\u001b[0m\u001b[0m\n\u001b[0;32m--> 260\u001b[0;31m       \u001b[0;32mreturn\u001b[0m \u001b[0mcls\u001b[0m\u001b[0;34m.\u001b[0m\u001b[0m_variable_v1_call\u001b[0m\u001b[0;34m(\u001b[0m\u001b[0;34m*\u001b[0m\u001b[0margs\u001b[0m\u001b[0;34m,\u001b[0m \u001b[0;34m**\u001b[0m\u001b[0mkwargs\u001b[0m\u001b[0;34m)\u001b[0m\u001b[0;34m\u001b[0m\u001b[0;34m\u001b[0m\u001b[0m\n\u001b[0m\u001b[1;32m    261\u001b[0m     \u001b[0;32melif\u001b[0m \u001b[0mcls\u001b[0m \u001b[0;32mis\u001b[0m \u001b[0mVariable\u001b[0m\u001b[0;34m:\u001b[0m\u001b[0;34m\u001b[0m\u001b[0;34m\u001b[0m\u001b[0m\n\u001b[1;32m    262\u001b[0m       \u001b[0;32mreturn\u001b[0m \u001b[0mcls\u001b[0m\u001b[0;34m.\u001b[0m\u001b[0m_variable_v2_call\u001b[0m\u001b[0;34m(\u001b[0m\u001b[0;34m*\u001b[0m\u001b[0margs\u001b[0m\u001b[0;34m,\u001b[0m \u001b[0;34m**\u001b[0m\u001b[0mkwargs\u001b[0m\u001b[0;34m)\u001b[0m\u001b[0;34m\u001b[0m\u001b[0;34m\u001b[0m\u001b[0m\n",
      "\u001b[0;32m/data/ar1220/MscProjectNMR/venv/lib/python3.8/site-packages/tensorflow/python/ops/variables.py\u001b[0m in \u001b[0;36m_variable_v1_call\u001b[0;34m(cls, initial_value, trainable, collections, validate_shape, caching_device, name, variable_def, dtype, expected_shape, import_scope, constraint, use_resource, synchronization, aggregation, shape)\u001b[0m\n\u001b[1;32m    204\u001b[0m     \u001b[0;32mif\u001b[0m \u001b[0maggregation\u001b[0m \u001b[0;32mis\u001b[0m \u001b[0;32mNone\u001b[0m\u001b[0;34m:\u001b[0m\u001b[0;34m\u001b[0m\u001b[0;34m\u001b[0m\u001b[0m\n\u001b[1;32m    205\u001b[0m       \u001b[0maggregation\u001b[0m \u001b[0;34m=\u001b[0m \u001b[0mVariableAggregation\u001b[0m\u001b[0;34m.\u001b[0m\u001b[0mNONE\u001b[0m\u001b[0;34m\u001b[0m\u001b[0;34m\u001b[0m\u001b[0m\n\u001b[0;32m--> 206\u001b[0;31m     return previous_getter(\n\u001b[0m\u001b[1;32m    207\u001b[0m         \u001b[0minitial_value\u001b[0m\u001b[0;34m=\u001b[0m\u001b[0minitial_value\u001b[0m\u001b[0;34m,\u001b[0m\u001b[0;34m\u001b[0m\u001b[0;34m\u001b[0m\u001b[0m\n\u001b[1;32m    208\u001b[0m         \u001b[0mtrainable\u001b[0m\u001b[0;34m=\u001b[0m\u001b[0mtrainable\u001b[0m\u001b[0;34m,\u001b[0m\u001b[0;34m\u001b[0m\u001b[0;34m\u001b[0m\u001b[0m\n",
      "\u001b[0;32m/data/ar1220/MscProjectNMR/venv/lib/python3.8/site-packages/tensorflow/python/ops/variables.py\u001b[0m in \u001b[0;36m<lambda>\u001b[0;34m(**kwargs)\u001b[0m\n\u001b[1;32m    197\u001b[0m                         shape=None):\n\u001b[1;32m    198\u001b[0m     \u001b[0;34m\"\"\"Call on Variable class. Useful to force the signature.\"\"\"\u001b[0m\u001b[0;34m\u001b[0m\u001b[0;34m\u001b[0m\u001b[0m\n\u001b[0;32m--> 199\u001b[0;31m     \u001b[0mprevious_getter\u001b[0m \u001b[0;34m=\u001b[0m \u001b[0;32mlambda\u001b[0m \u001b[0;34m**\u001b[0m\u001b[0mkwargs\u001b[0m\u001b[0;34m:\u001b[0m \u001b[0mdefault_variable_creator\u001b[0m\u001b[0;34m(\u001b[0m\u001b[0;32mNone\u001b[0m\u001b[0;34m,\u001b[0m \u001b[0;34m**\u001b[0m\u001b[0mkwargs\u001b[0m\u001b[0;34m)\u001b[0m\u001b[0;34m\u001b[0m\u001b[0;34m\u001b[0m\u001b[0m\n\u001b[0m\u001b[1;32m    200\u001b[0m     \u001b[0;32mfor\u001b[0m \u001b[0m_\u001b[0m\u001b[0;34m,\u001b[0m \u001b[0mgetter\u001b[0m \u001b[0;32min\u001b[0m \u001b[0mops\u001b[0m\u001b[0;34m.\u001b[0m\u001b[0mget_default_graph\u001b[0m\u001b[0;34m(\u001b[0m\u001b[0;34m)\u001b[0m\u001b[0;34m.\u001b[0m\u001b[0m_variable_creator_stack\u001b[0m\u001b[0;34m:\u001b[0m  \u001b[0;31m# pylint: disable=protected-access\u001b[0m\u001b[0;34m\u001b[0m\u001b[0;34m\u001b[0m\u001b[0m\n\u001b[1;32m    201\u001b[0m       \u001b[0mprevious_getter\u001b[0m \u001b[0;34m=\u001b[0m \u001b[0m_make_getter\u001b[0m\u001b[0;34m(\u001b[0m\u001b[0mgetter\u001b[0m\u001b[0;34m,\u001b[0m \u001b[0mprevious_getter\u001b[0m\u001b[0;34m)\u001b[0m\u001b[0;34m\u001b[0m\u001b[0;34m\u001b[0m\u001b[0m\n",
      "\u001b[0;32m/data/ar1220/MscProjectNMR/venv/lib/python3.8/site-packages/tensorflow/python/ops/variable_scope.py\u001b[0m in \u001b[0;36mdefault_variable_creator\u001b[0;34m(next_creator, **kwargs)\u001b[0m\n\u001b[1;32m   2602\u001b[0m   \u001b[0;32mif\u001b[0m \u001b[0muse_resource\u001b[0m\u001b[0;34m:\u001b[0m\u001b[0;34m\u001b[0m\u001b[0;34m\u001b[0m\u001b[0m\n\u001b[1;32m   2603\u001b[0m     \u001b[0mdistribute_strategy\u001b[0m \u001b[0;34m=\u001b[0m \u001b[0mkwargs\u001b[0m\u001b[0;34m.\u001b[0m\u001b[0mget\u001b[0m\u001b[0;34m(\u001b[0m\u001b[0;34m\"distribute_strategy\"\u001b[0m\u001b[0;34m,\u001b[0m \u001b[0;32mNone\u001b[0m\u001b[0;34m)\u001b[0m\u001b[0;34m\u001b[0m\u001b[0;34m\u001b[0m\u001b[0m\n\u001b[0;32m-> 2604\u001b[0;31m     return resource_variable_ops.ResourceVariable(\n\u001b[0m\u001b[1;32m   2605\u001b[0m         \u001b[0minitial_value\u001b[0m\u001b[0;34m=\u001b[0m\u001b[0minitial_value\u001b[0m\u001b[0;34m,\u001b[0m\u001b[0;34m\u001b[0m\u001b[0;34m\u001b[0m\u001b[0m\n\u001b[1;32m   2606\u001b[0m         \u001b[0mtrainable\u001b[0m\u001b[0;34m=\u001b[0m\u001b[0mtrainable\u001b[0m\u001b[0;34m,\u001b[0m\u001b[0;34m\u001b[0m\u001b[0;34m\u001b[0m\u001b[0m\n",
      "\u001b[0;32m/data/ar1220/MscProjectNMR/venv/lib/python3.8/site-packages/tensorflow/python/ops/variables.py\u001b[0m in \u001b[0;36m__call__\u001b[0;34m(cls, *args, **kwargs)\u001b[0m\n\u001b[1;32m    262\u001b[0m       \u001b[0;32mreturn\u001b[0m \u001b[0mcls\u001b[0m\u001b[0;34m.\u001b[0m\u001b[0m_variable_v2_call\u001b[0m\u001b[0;34m(\u001b[0m\u001b[0;34m*\u001b[0m\u001b[0margs\u001b[0m\u001b[0;34m,\u001b[0m \u001b[0;34m**\u001b[0m\u001b[0mkwargs\u001b[0m\u001b[0;34m)\u001b[0m\u001b[0;34m\u001b[0m\u001b[0;34m\u001b[0m\u001b[0m\n\u001b[1;32m    263\u001b[0m     \u001b[0;32melse\u001b[0m\u001b[0;34m:\u001b[0m\u001b[0;34m\u001b[0m\u001b[0;34m\u001b[0m\u001b[0m\n\u001b[0;32m--> 264\u001b[0;31m       \u001b[0;32mreturn\u001b[0m \u001b[0msuper\u001b[0m\u001b[0;34m(\u001b[0m\u001b[0mVariableMetaclass\u001b[0m\u001b[0;34m,\u001b[0m \u001b[0mcls\u001b[0m\u001b[0;34m)\u001b[0m\u001b[0;34m.\u001b[0m\u001b[0m__call__\u001b[0m\u001b[0;34m(\u001b[0m\u001b[0;34m*\u001b[0m\u001b[0margs\u001b[0m\u001b[0;34m,\u001b[0m \u001b[0;34m**\u001b[0m\u001b[0mkwargs\u001b[0m\u001b[0;34m)\u001b[0m\u001b[0;34m\u001b[0m\u001b[0;34m\u001b[0m\u001b[0m\n\u001b[0m\u001b[1;32m    265\u001b[0m \u001b[0;34m\u001b[0m\u001b[0m\n\u001b[1;32m    266\u001b[0m \u001b[0;34m\u001b[0m\u001b[0m\n",
      "\u001b[0;32m/data/ar1220/MscProjectNMR/venv/lib/python3.8/site-packages/tensorflow/python/ops/resource_variable_ops.py\u001b[0m in \u001b[0;36m__init__\u001b[0;34m(self, initial_value, trainable, collections, validate_shape, caching_device, name, dtype, variable_def, import_scope, constraint, distribute_strategy, synchronization, aggregation, shape)\u001b[0m\n\u001b[1;32m   1572\u001b[0m       \u001b[0mself\u001b[0m\u001b[0;34m.\u001b[0m\u001b[0m_init_from_proto\u001b[0m\u001b[0;34m(\u001b[0m\u001b[0mvariable_def\u001b[0m\u001b[0;34m,\u001b[0m \u001b[0mimport_scope\u001b[0m\u001b[0;34m=\u001b[0m\u001b[0mimport_scope\u001b[0m\u001b[0;34m)\u001b[0m\u001b[0;34m\u001b[0m\u001b[0;34m\u001b[0m\u001b[0m\n\u001b[1;32m   1573\u001b[0m     \u001b[0;32melse\u001b[0m\u001b[0;34m:\u001b[0m\u001b[0;34m\u001b[0m\u001b[0;34m\u001b[0m\u001b[0m\n\u001b[0;32m-> 1574\u001b[0;31m       self._init_from_args(\n\u001b[0m\u001b[1;32m   1575\u001b[0m           \u001b[0minitial_value\u001b[0m\u001b[0;34m=\u001b[0m\u001b[0minitial_value\u001b[0m\u001b[0;34m,\u001b[0m\u001b[0;34m\u001b[0m\u001b[0;34m\u001b[0m\u001b[0m\n\u001b[1;32m   1576\u001b[0m           \u001b[0mtrainable\u001b[0m\u001b[0;34m=\u001b[0m\u001b[0mtrainable\u001b[0m\u001b[0;34m,\u001b[0m\u001b[0;34m\u001b[0m\u001b[0;34m\u001b[0m\u001b[0m\n",
      "\u001b[0;32m/data/ar1220/MscProjectNMR/venv/lib/python3.8/site-packages/tensorflow/python/ops/resource_variable_ops.py\u001b[0m in \u001b[0;36m_init_from_args\u001b[0;34m(self, initial_value, trainable, collections, caching_device, name, dtype, constraint, synchronization, aggregation, distribute_strategy, shape)\u001b[0m\n\u001b[1;32m   1710\u001b[0m           \u001b[0;32mwith\u001b[0m \u001b[0mops\u001b[0m\u001b[0;34m.\u001b[0m\u001b[0mname_scope\u001b[0m\u001b[0;34m(\u001b[0m\u001b[0;34m\"Initializer\"\u001b[0m\u001b[0;34m)\u001b[0m\u001b[0;34m,\u001b[0m \u001b[0mdevice_context_manager\u001b[0m\u001b[0;34m(\u001b[0m\u001b[0;32mNone\u001b[0m\u001b[0;34m)\u001b[0m\u001b[0;34m:\u001b[0m\u001b[0;34m\u001b[0m\u001b[0;34m\u001b[0m\u001b[0m\n\u001b[1;32m   1711\u001b[0m             \u001b[0;32mif\u001b[0m \u001b[0minit_from_fn\u001b[0m\u001b[0;34m:\u001b[0m\u001b[0;34m\u001b[0m\u001b[0;34m\u001b[0m\u001b[0m\n\u001b[0;32m-> 1712\u001b[0;31m               \u001b[0minitial_value\u001b[0m \u001b[0;34m=\u001b[0m \u001b[0minitial_value\u001b[0m\u001b[0;34m(\u001b[0m\u001b[0;34m)\u001b[0m\u001b[0;34m\u001b[0m\u001b[0;34m\u001b[0m\u001b[0m\n\u001b[0m\u001b[1;32m   1713\u001b[0m             \u001b[0;32mif\u001b[0m \u001b[0misinstance\u001b[0m\u001b[0;34m(\u001b[0m\u001b[0minitial_value\u001b[0m\u001b[0;34m,\u001b[0m \u001b[0mtrackable\u001b[0m\u001b[0;34m.\u001b[0m\u001b[0mCheckpointInitialValue\u001b[0m\u001b[0;34m)\u001b[0m\u001b[0;34m:\u001b[0m\u001b[0;34m\u001b[0m\u001b[0;34m\u001b[0m\u001b[0m\n\u001b[1;32m   1714\u001b[0m               \u001b[0mself\u001b[0m\u001b[0;34m.\u001b[0m\u001b[0m_maybe_initialize_trackable\u001b[0m\u001b[0;34m(\u001b[0m\u001b[0;34m)\u001b[0m\u001b[0;34m\u001b[0m\u001b[0;34m\u001b[0m\u001b[0m\n",
      "\u001b[0;32m/data/ar1220/MscProjectNMR/venv/lib/python3.8/site-packages/tensorflow/python/keras/initializers/initializers_v2.py\u001b[0m in \u001b[0;36m__call__\u001b[0;34m(self, shape, dtype, **kwargs)\u001b[0m\n\u001b[1;32m    407\u001b[0m       \u001b[0;34m**\u001b[0m\u001b[0mkwargs\u001b[0m\u001b[0;34m:\u001b[0m \u001b[0mAdditional\u001b[0m \u001b[0mkeyword\u001b[0m \u001b[0marguments\u001b[0m\u001b[0;34m.\u001b[0m\u001b[0;34m\u001b[0m\u001b[0;34m\u001b[0m\u001b[0m\n\u001b[1;32m    408\u001b[0m     \"\"\"\n\u001b[0;32m--> 409\u001b[0;31m     return super(VarianceScaling, self).__call__(\n\u001b[0m\u001b[1;32m    410\u001b[0m         shape, dtype=_get_dtype(dtype), **kwargs)\n\u001b[1;32m    411\u001b[0m \u001b[0;34m\u001b[0m\u001b[0m\n",
      "\u001b[0;32m/data/ar1220/MscProjectNMR/venv/lib/python3.8/site-packages/tensorflow/python/ops/init_ops_v2.py\u001b[0m in \u001b[0;36m__call__\u001b[0;34m(self, shape, dtype, **kwargs)\u001b[0m\n\u001b[1;32m    598\u001b[0m     \u001b[0;32melse\u001b[0m\u001b[0;34m:\u001b[0m\u001b[0;34m\u001b[0m\u001b[0;34m\u001b[0m\u001b[0m\n\u001b[1;32m    599\u001b[0m       \u001b[0mlimit\u001b[0m \u001b[0;34m=\u001b[0m \u001b[0mmath\u001b[0m\u001b[0;34m.\u001b[0m\u001b[0msqrt\u001b[0m\u001b[0;34m(\u001b[0m\u001b[0;36m3.0\u001b[0m \u001b[0;34m*\u001b[0m \u001b[0mscale\u001b[0m\u001b[0;34m)\u001b[0m\u001b[0;34m\u001b[0m\u001b[0;34m\u001b[0m\u001b[0m\n\u001b[0;32m--> 600\u001b[0;31m       \u001b[0;32mreturn\u001b[0m \u001b[0mself\u001b[0m\u001b[0;34m.\u001b[0m\u001b[0m_random_generator\u001b[0m\u001b[0;34m.\u001b[0m\u001b[0mrandom_uniform\u001b[0m\u001b[0;34m(\u001b[0m\u001b[0mshape\u001b[0m\u001b[0;34m,\u001b[0m \u001b[0;34m-\u001b[0m\u001b[0mlimit\u001b[0m\u001b[0;34m,\u001b[0m \u001b[0mlimit\u001b[0m\u001b[0;34m,\u001b[0m \u001b[0mdtype\u001b[0m\u001b[0;34m)\u001b[0m\u001b[0;34m\u001b[0m\u001b[0;34m\u001b[0m\u001b[0m\n\u001b[0m\u001b[1;32m    601\u001b[0m \u001b[0;34m\u001b[0m\u001b[0m\n\u001b[1;32m    602\u001b[0m   \u001b[0;32mdef\u001b[0m \u001b[0mget_config\u001b[0m\u001b[0;34m(\u001b[0m\u001b[0mself\u001b[0m\u001b[0;34m)\u001b[0m\u001b[0;34m:\u001b[0m\u001b[0;34m\u001b[0m\u001b[0;34m\u001b[0m\u001b[0m\n",
      "\u001b[0;32m/data/ar1220/MscProjectNMR/venv/lib/python3.8/site-packages/tensorflow/python/ops/init_ops_v2.py\u001b[0m in \u001b[0;36mrandom_uniform\u001b[0;34m(self, shape, minval, maxval, dtype)\u001b[0m\n\u001b[1;32m   1079\u001b[0m     \u001b[0;32melse\u001b[0m\u001b[0;34m:\u001b[0m\u001b[0;34m\u001b[0m\u001b[0;34m\u001b[0m\u001b[0m\n\u001b[1;32m   1080\u001b[0m       \u001b[0mop\u001b[0m \u001b[0;34m=\u001b[0m \u001b[0mrandom_ops\u001b[0m\u001b[0;34m.\u001b[0m\u001b[0mrandom_uniform\u001b[0m\u001b[0;34m\u001b[0m\u001b[0;34m\u001b[0m\u001b[0m\n\u001b[0;32m-> 1081\u001b[0;31m     return op(\n\u001b[0m\u001b[1;32m   1082\u001b[0m         shape=shape, minval=minval, maxval=maxval, dtype=dtype, seed=self.seed)\n\u001b[1;32m   1083\u001b[0m \u001b[0;34m\u001b[0m\u001b[0m\n",
      "\u001b[0;32m/data/ar1220/MscProjectNMR/venv/lib/python3.8/site-packages/tensorflow/python/util/dispatch.py\u001b[0m in \u001b[0;36mwrapper\u001b[0;34m(*args, **kwargs)\u001b[0m\n\u001b[1;32m    199\u001b[0m     \u001b[0;34m\"\"\"Call target, and fall back on dispatchers if there is a TypeError.\"\"\"\u001b[0m\u001b[0;34m\u001b[0m\u001b[0;34m\u001b[0m\u001b[0m\n\u001b[1;32m    200\u001b[0m     \u001b[0;32mtry\u001b[0m\u001b[0;34m:\u001b[0m\u001b[0;34m\u001b[0m\u001b[0;34m\u001b[0m\u001b[0m\n\u001b[0;32m--> 201\u001b[0;31m       \u001b[0;32mreturn\u001b[0m \u001b[0mtarget\u001b[0m\u001b[0;34m(\u001b[0m\u001b[0;34m*\u001b[0m\u001b[0margs\u001b[0m\u001b[0;34m,\u001b[0m \u001b[0;34m**\u001b[0m\u001b[0mkwargs\u001b[0m\u001b[0;34m)\u001b[0m\u001b[0;34m\u001b[0m\u001b[0;34m\u001b[0m\u001b[0m\n\u001b[0m\u001b[1;32m    202\u001b[0m     \u001b[0;32mexcept\u001b[0m \u001b[0;34m(\u001b[0m\u001b[0mTypeError\u001b[0m\u001b[0;34m,\u001b[0m \u001b[0mValueError\u001b[0m\u001b[0;34m)\u001b[0m\u001b[0;34m:\u001b[0m\u001b[0;34m\u001b[0m\u001b[0;34m\u001b[0m\u001b[0m\n\u001b[1;32m    203\u001b[0m       \u001b[0;31m# Note: convert_to_eager_tensor currently raises a ValueError, not a\u001b[0m\u001b[0;34m\u001b[0m\u001b[0;34m\u001b[0m\u001b[0;34m\u001b[0m\u001b[0m\n",
      "\u001b[0;32m/data/ar1220/MscProjectNMR/venv/lib/python3.8/site-packages/tensorflow/python/ops/random_ops.py\u001b[0m in \u001b[0;36mrandom_uniform\u001b[0;34m(shape, minval, maxval, dtype, seed, name)\u001b[0m\n\u001b[1;32m    300\u001b[0m           shape, minval, maxval, seed=seed1, seed2=seed2, name=name)\n\u001b[1;32m    301\u001b[0m     \u001b[0;32melse\u001b[0m\u001b[0;34m:\u001b[0m\u001b[0;34m\u001b[0m\u001b[0;34m\u001b[0m\u001b[0m\n\u001b[0;32m--> 302\u001b[0;31m       result = gen_random_ops.random_uniform(\n\u001b[0m\u001b[1;32m    303\u001b[0m           shape, dtype, seed=seed1, seed2=seed2)\n\u001b[1;32m    304\u001b[0m       \u001b[0;32mif\u001b[0m \u001b[0mminval_is_zero\u001b[0m\u001b[0;34m:\u001b[0m\u001b[0;34m\u001b[0m\u001b[0;34m\u001b[0m\u001b[0m\n",
      "\u001b[0;32m/data/ar1220/MscProjectNMR/venv/lib/python3.8/site-packages/tensorflow/python/ops/gen_random_ops.py\u001b[0m in \u001b[0;36mrandom_uniform\u001b[0;34m(shape, dtype, seed, seed2, name)\u001b[0m\n\u001b[1;32m    719\u001b[0m       \u001b[0;32mreturn\u001b[0m \u001b[0m_result\u001b[0m\u001b[0;34m\u001b[0m\u001b[0;34m\u001b[0m\u001b[0m\n\u001b[1;32m    720\u001b[0m     \u001b[0;32mexcept\u001b[0m \u001b[0m_core\u001b[0m\u001b[0;34m.\u001b[0m\u001b[0m_NotOkStatusException\u001b[0m \u001b[0;32mas\u001b[0m \u001b[0me\u001b[0m\u001b[0;34m:\u001b[0m\u001b[0;34m\u001b[0m\u001b[0;34m\u001b[0m\u001b[0m\n\u001b[0;32m--> 721\u001b[0;31m       \u001b[0m_ops\u001b[0m\u001b[0;34m.\u001b[0m\u001b[0mraise_from_not_ok_status\u001b[0m\u001b[0;34m(\u001b[0m\u001b[0me\u001b[0m\u001b[0;34m,\u001b[0m \u001b[0mname\u001b[0m\u001b[0;34m)\u001b[0m\u001b[0;34m\u001b[0m\u001b[0;34m\u001b[0m\u001b[0m\n\u001b[0m\u001b[1;32m    722\u001b[0m     \u001b[0;32mexcept\u001b[0m \u001b[0m_core\u001b[0m\u001b[0;34m.\u001b[0m\u001b[0m_FallbackException\u001b[0m\u001b[0;34m:\u001b[0m\u001b[0;34m\u001b[0m\u001b[0;34m\u001b[0m\u001b[0m\n\u001b[1;32m    723\u001b[0m       \u001b[0;32mpass\u001b[0m\u001b[0;34m\u001b[0m\u001b[0;34m\u001b[0m\u001b[0m\n",
      "\u001b[0;32m/data/ar1220/MscProjectNMR/venv/lib/python3.8/site-packages/tensorflow/python/framework/ops.py\u001b[0m in \u001b[0;36mraise_from_not_ok_status\u001b[0;34m(e, name)\u001b[0m\n\u001b[1;32m   6860\u001b[0m   \u001b[0mmessage\u001b[0m \u001b[0;34m=\u001b[0m \u001b[0me\u001b[0m\u001b[0;34m.\u001b[0m\u001b[0mmessage\u001b[0m \u001b[0;34m+\u001b[0m \u001b[0;34m(\u001b[0m\u001b[0;34m\" name: \"\u001b[0m \u001b[0;34m+\u001b[0m \u001b[0mname\u001b[0m \u001b[0;32mif\u001b[0m \u001b[0mname\u001b[0m \u001b[0;32mis\u001b[0m \u001b[0;32mnot\u001b[0m \u001b[0;32mNone\u001b[0m \u001b[0;32melse\u001b[0m \u001b[0;34m\"\"\u001b[0m\u001b[0;34m)\u001b[0m\u001b[0;34m\u001b[0m\u001b[0;34m\u001b[0m\u001b[0m\n\u001b[1;32m   6861\u001b[0m   \u001b[0;31m# pylint: disable=protected-access\u001b[0m\u001b[0;34m\u001b[0m\u001b[0;34m\u001b[0m\u001b[0;34m\u001b[0m\u001b[0m\n\u001b[0;32m-> 6862\u001b[0;31m   \u001b[0msix\u001b[0m\u001b[0;34m.\u001b[0m\u001b[0mraise_from\u001b[0m\u001b[0;34m(\u001b[0m\u001b[0mcore\u001b[0m\u001b[0;34m.\u001b[0m\u001b[0m_status_to_exception\u001b[0m\u001b[0;34m(\u001b[0m\u001b[0me\u001b[0m\u001b[0;34m.\u001b[0m\u001b[0mcode\u001b[0m\u001b[0;34m,\u001b[0m \u001b[0mmessage\u001b[0m\u001b[0;34m)\u001b[0m\u001b[0;34m,\u001b[0m \u001b[0;32mNone\u001b[0m\u001b[0;34m)\u001b[0m\u001b[0;34m\u001b[0m\u001b[0;34m\u001b[0m\u001b[0m\n\u001b[0m\u001b[1;32m   6863\u001b[0m   \u001b[0;31m# pylint: enable=protected-access\u001b[0m\u001b[0;34m\u001b[0m\u001b[0;34m\u001b[0m\u001b[0;34m\u001b[0m\u001b[0m\n\u001b[1;32m   6864\u001b[0m \u001b[0;34m\u001b[0m\u001b[0m\n",
      "\u001b[0;32m/data/ar1220/MscProjectNMR/venv/lib/python3.8/site-packages/six.py\u001b[0m in \u001b[0;36mraise_from\u001b[0;34m(value, from_value)\u001b[0m\n",
      "\u001b[0;31mResourceExhaustedError\u001b[0m: OOM when allocating tensor with shape[10000,256] and type float on /job:localhost/replica:0/task:0/device:GPU:0 by allocator GPU_0_bfc [Op:RandomUniform]"
     ]
    }
   ],
   "source": [
    "xsmall_corr_multi_mlp = get_simple_mutli_regressor_mlp(input_shape=(10000,), hidden_units=[256], num_outputs=48)\n",
    "xsmall_corr_multi_mlp.summary()"
   ]
  },
  {
   "cell_type": "markdown",
   "metadata": {},
   "source": [
    "### III.6.b Compile mutli-output MLP"
   ]
  },
  {
   "cell_type": "code",
   "execution_count": null,
   "metadata": {},
   "outputs": [],
   "source": [
    "xsmall_corr_multi_mlp.compile(optimizer=tf.keras.optimizers.Adam(0.0025), loss=\"mse\",\n",
    "                         metrics=[tf.keras.metrics.RootMeanSquaredError()])\n"
   ]
  },
  {
   "cell_type": "markdown",
   "metadata": {},
   "source": [
    "### III.6.c Fit mutli-output MLP"
   ]
  },
  {
   "cell_type": "code",
   "execution_count": null,
   "metadata": {},
   "outputs": [],
   "source": [
    "xsmall_corr_multi_mlp.fit(xsmall_corr_train_dataset, epochs=1000,\n",
    "                                          validation_data=xsmall_corr_val_dataset,\n",
    "                                          callbacks=[ckpt_xsmall_corr_multi, logs_xsmall_corr_multi,\n",
    "                                                     earlystopping_100])"
   ]
  },
  {
   "cell_type": "markdown",
   "metadata": {},
   "source": [
    "### III.6.d Reset GPU memory"
   ]
  },
  {
   "cell_type": "code",
   "execution_count": null,
   "metadata": {},
   "outputs": [],
   "source": [
    "device = cuda.get_current_device()\n",
    "device.reset()"
   ]
  },
  {
   "cell_type": "markdown",
   "metadata": {},
   "source": [
    "### III.6.e Define single-output MLPs"
   ]
  },
  {
   "cell_type": "code",
   "execution_count": 14,
   "metadata": {
    "scrolled": false
   },
   "outputs": [
    {
     "name": "stdout",
     "output_type": "stream",
     "text": [
      "Model: \"model\"\n",
      "_________________________________________________________________\n",
      "Layer (type)                 Output Shape              Param #   \n",
      "=================================================================\n",
      "input_1 (InputLayer)         [(None, 10000)]           0         \n",
      "_________________________________________________________________\n",
      "dense (Dense)                (None, 512)               5120512   \n",
      "_________________________________________________________________\n",
      "dense_1 (Dense)              (None, 48)                24624     \n",
      "=================================================================\n",
      "Total params: 5,145,136\n",
      "Trainable params: 5,145,136\n",
      "Non-trainable params: 0\n",
      "_________________________________________________________________\n"
     ]
    }
   ],
   "source": [
    "xsmall_corr_inde_mlps = []\n",
    "\n",
    "for i in range(48):\n",
    "    xsmall_corr_inde_mlps.append(get_simple_mutli_regressor_mlp(input_shape=(10000,),\n",
    "                                                              hidden_units=[256],\n",
    "                                                              num_outputs=1))\n",
    "\n",
    "xsmall_corr_inde_mlps[0].summary()"
   ]
  },
  {
   "cell_type": "markdown",
   "metadata": {},
   "source": [
    "### III.6.f Compile single-output MLPs"
   ]
  },
  {
   "cell_type": "code",
   "execution_count": null,
   "metadata": {},
   "outputs": [],
   "source": [
    "for i in range(48):\n",
    "    xsmall_corr_inde_mlp = xsmall_corr_inde_mlps[i]\n",
    "    xsmall_corr_inde_mlp.compile(optimizer=tf.keras.optimizers.Adam(0.0025), loss=\"mse\",\n",
    "                           metrics=[tf.keras.metrics.RootMeanSquaredError()])"
   ]
  },
  {
   "cell_type": "markdown",
   "metadata": {},
   "source": [
    "### III.6.g Fit single-output MLPs"
   ]
  },
  {
   "cell_type": "code",
   "execution_count": null,
   "metadata": {},
   "outputs": [],
   "source": [
    "for i in range(48):\n",
    "    xsmall_corr_inde_mlp = xsmall_corr_inde_mlps[i]\n",
    "    xsmall_corr_inde_mlp.fit(xsmall_corr_train_datasets_single[i], epochs=1000,\n",
    "                       validation_data=xsmall_corr_val_datasets_single[i],\n",
    "                       callbacks=[ckpt_xsmall_corr_single[i], logs_xsmall_corr_single[i], earlystopping_100])"
   ]
  },
  {
   "cell_type": "markdown",
   "metadata": {},
   "source": [
    "### III.6.h Reset GPU memory"
   ]
  },
  {
   "cell_type": "code",
   "execution_count": null,
   "metadata": {},
   "outputs": [],
   "source": [
    "device = cuda.get_current_device()\n",
    "device.reset()"
   ]
  }
 ],
 "metadata": {
  "kernelspec": {
   "display_name": "venv",
   "language": "python",
   "name": "venv"
  },
  "language_info": {
   "codemirror_mode": {
    "name": "ipython",
    "version": 3
   },
   "file_extension": ".py",
   "mimetype": "text/x-python",
   "name": "python",
   "nbconvert_exporter": "python",
   "pygments_lexer": "ipython3",
   "version": "3.8.5"
  }
 },
 "nbformat": 4,
 "nbformat_minor": 1
}
