{
 "cells": [
  {
   "cell_type": "markdown",
   "metadata": {
    "collapsed": true
   },
   "source": [
    "# NMR Spectra simulation"
   ]
  },
  {
   "cell_type": "markdown",
   "metadata": {},
   "source": [
    "## Install required python modules"
   ]
  },
  {
   "cell_type": "code",
   "execution_count": 24,
   "metadata": {},
   "outputs": [
    {
     "name": "stdout",
     "output_type": "stream",
     "text": [
      "Obtaining file:///data/ar1220/MscProjectNMR\n",
      "Installing collected packages: MscProjectNMR\n",
      "  Attempting uninstall: MscProjectNMR\n",
      "    Found existing installation: MscProjectNMR 0\n",
      "    Uninstalling MscProjectNMR-0:\n",
      "      Successfully uninstalled MscProjectNMR-0\n",
      "  Running setup.py develop for MscProjectNMR\n",
      "Successfully installed MscProjectNMR\n"
     ]
    }
   ],
   "source": [
    "%%bash\n",
    "pip install -e ../."
   ]
  },
  {
   "cell_type": "code",
   "execution_count": null,
   "metadata": {},
   "outputs": [],
   "source": [
    "%%bash\n",
    "pip install -r ../requirements.txt"
   ]
  },
  {
   "cell_type": "markdown",
   "metadata": {},
   "source": [
    "## Import data"
   ]
  },
  {
   "cell_type": "code",
   "execution_count": 1,
   "metadata": {},
   "outputs": [],
   "source": [
    "import numpy as np\n",
    "\n",
    "filename_control = '../data/Simulation/Spectra_Mixt1.txt'\n",
    "filename_case = '../data/Simulation/Spectra_Mix2.txt'\n",
    "data_control = np.loadtxt(filename_control, dtype=float)\n",
    "data_case = np.loadtxt(filename_case, dtype=float)"
   ]
  },
  {
   "cell_type": "code",
   "execution_count": 2,
   "metadata": {},
   "outputs": [],
   "source": [
    "#Convert into dataframes\n",
    "import pandas as pd\n",
    "\n",
    "df_control = pd.DataFrame(data_control).T\n",
    "df_case = pd.DataFrame(data_case).T\n",
    "\n",
    "#Concatenate control and case df\n",
    "df_NMR_intensities = pd.concat([df_control, df_case])\n",
    "df_status = [0] * df_control.shape[0] + [1] * df_case.shape[0]"
   ]
  },
  {
   "cell_type": "code",
   "execution_count": 3,
   "metadata": {},
   "outputs": [
    {
     "data": {
      "text/plain": [
       "(TensorSpec(shape=(10000,), dtype=tf.float64, name=None),\n",
       " TensorSpec(shape=(), dtype=tf.int32, name=None))"
      ]
     },
     "execution_count": 3,
     "metadata": {},
     "output_type": "execute_result"
    }
   ],
   "source": [
    "#Convert into tf.data\n",
    "import tensorflow as tf\n",
    "\n",
    "dataset = tf.data.Dataset.from_tensor_slices((df_NMR_intensities, df_status))\n",
    "dataset.element_spec"
   ]
  },
  {
   "cell_type": "markdown",
   "metadata": {},
   "source": [
    "## Write tf.Record"
   ]
  },
  {
   "cell_type": "code",
   "execution_count": 4,
   "metadata": {},
   "outputs": [],
   "source": [
    "from tfrecords import write_tfrecords"
   ]
  },
  {
   "cell_type": "code",
   "execution_count": 5,
   "metadata": {},
   "outputs": [],
   "source": [
    "write_tfrecords(dataset)"
   ]
  },
  {
   "cell_type": "markdown",
   "metadata": {},
   "source": [
    "## Read the file"
   ]
  },
  {
   "cell_type": "code",
   "execution_count": 6,
   "metadata": {},
   "outputs": [],
   "source": [
    "from tfrecords import read_tfrecords"
   ]
  },
  {
   "cell_type": "code",
   "execution_count": 7,
   "metadata": {},
   "outputs": [],
   "source": [
    "file_paths = ['../data/tfrecords/data_{}.tfrecord'.format(i) for i in range(20)]\n",
    "full_dataset = read_tfrecords(file_paths)\n",
    "\n",
    "# for parsed_record in full_dataset.shuffle(20000).batch(32).take(5):\n",
    "#     print((model(parsed_record[0]), parsed_record[1]))"
   ]
  },
  {
   "cell_type": "markdown",
   "metadata": {},
   "source": [
    "## Process data"
   ]
  },
  {
   "cell_type": "code",
   "execution_count": 8,
   "metadata": {},
   "outputs": [],
   "source": [
    "from models import process_dataset"
   ]
  },
  {
   "cell_type": "code",
   "execution_count": 9,
   "metadata": {},
   "outputs": [],
   "source": [
    "train_dataset, val_dataset, test_dataset = process_dataset(full_dataset, batch_sizes=[64] * 3, shuffle_buffers=[20000] * 3,\n",
    "                                                           train_prop=0.8, val_prop=0.2)"
   ]
  },
  {
   "cell_type": "markdown",
   "metadata": {},
   "source": [
    "## Define Checkpoint"
   ]
  },
  {
   "cell_type": "code",
   "execution_count": 15,
   "metadata": {},
   "outputs": [],
   "source": [
    "from models import CheckpointCallback\n",
    "\n",
    "# Create a CheckpointCallback to save the model    \n",
    "ckpt = CheckpointCallback(\"../saved_models\")"
   ]
  },
  {
   "cell_type": "markdown",
   "metadata": {},
   "source": [
    "## Define MLP"
   ]
  },
  {
   "cell_type": "code",
   "execution_count": 16,
   "metadata": {},
   "outputs": [
    {
     "name": "stdout",
     "output_type": "stream",
     "text": [
      "Model: \"functional_5\"\n",
      "_________________________________________________________________\n",
      "Layer (type)                 Output Shape              Param #   \n",
      "=================================================================\n",
      "input_3 (InputLayer)         [(None, 10000)]           0         \n",
      "_________________________________________________________________\n",
      "dense_10 (Dense)             (None, 16)                160016    \n",
      "_________________________________________________________________\n",
      "dense_11 (Dense)             (None, 16)                272       \n",
      "_________________________________________________________________\n",
      "dense_12 (Dense)             (None, 1)                 17        \n",
      "=================================================================\n",
      "Total params: 160,305\n",
      "Trainable params: 160,305\n",
      "Non-trainable params: 0\n",
      "_________________________________________________________________\n"
     ]
    }
   ],
   "source": [
    "from models import get_simple_mlp\n",
    "\n",
    "simple_model = get_simple_mlp(input_shape=(10000,), hidden_units=[16, 16])\n",
    "simple_model.summary()"
   ]
  },
  {
   "cell_type": "code",
   "execution_count": 17,
   "metadata": {},
   "outputs": [
    {
     "name": "stdout",
     "output_type": "stream",
     "text": [
      "Model: \"functional_7\"\n",
      "_________________________________________________________________\n",
      "Layer (type)                 Output Shape              Param #   \n",
      "=================================================================\n",
      "input_4 (InputLayer)         [(None, 10000)]           0         \n",
      "_________________________________________________________________\n",
      "dense_13 (Dense)             (None, 1024)              10241024  \n",
      "_________________________________________________________________\n",
      "batch_normalization_6 (Batch (None, 1024)              4096      \n",
      "_________________________________________________________________\n",
      "dropout_6 (Dropout)          (None, 1024)              0         \n",
      "_________________________________________________________________\n",
      "dense_14 (Dense)             (None, 1024)              1049600   \n",
      "_________________________________________________________________\n",
      "batch_normalization_7 (Batch (None, 1024)              4096      \n",
      "_________________________________________________________________\n",
      "dropout_7 (Dropout)          (None, 1024)              0         \n",
      "_________________________________________________________________\n",
      "dense_15 (Dense)             (None, 1024)              1049600   \n",
      "_________________________________________________________________\n",
      "batch_normalization_8 (Batch (None, 1024)              4096      \n",
      "_________________________________________________________________\n",
      "dropout_8 (Dropout)          (None, 1024)              0         \n",
      "_________________________________________________________________\n",
      "dense_16 (Dense)             (None, 512)               524800    \n",
      "_________________________________________________________________\n",
      "batch_normalization_9 (Batch (None, 512)               2048      \n",
      "_________________________________________________________________\n",
      "dropout_9 (Dropout)          (None, 512)               0         \n",
      "_________________________________________________________________\n",
      "dense_17 (Dense)             (None, 512)               262656    \n",
      "_________________________________________________________________\n",
      "batch_normalization_10 (Batc (None, 512)               2048      \n",
      "_________________________________________________________________\n",
      "dropout_10 (Dropout)         (None, 512)               0         \n",
      "_________________________________________________________________\n",
      "dense_18 (Dense)             (None, 512)               262656    \n",
      "_________________________________________________________________\n",
      "batch_normalization_11 (Batc (None, 512)               2048      \n",
      "_________________________________________________________________\n",
      "dropout_11 (Dropout)         (None, 512)               0         \n",
      "_________________________________________________________________\n",
      "dense_19 (Dense)             (None, 1)                 513       \n",
      "=================================================================\n",
      "Total params: 13,409,281\n",
      "Trainable params: 13,400,065\n",
      "Non-trainable params: 9,216\n",
      "_________________________________________________________________\n"
     ]
    }
   ],
   "source": [
    "from models import get_regularised_bn_dropout_mlp\n",
    "\n",
    "regularised_bn_dropout_model = get_regularised_bn_dropout_mlp(input_shape=(10000,), hidden_units=[1024, 1024, 1024, 512, 512, 512],\n",
    "                                l2_reg_coeff=0.0001, dropout_rate=0.5)\n",
    "regularised_bn_dropout_model.summary()"
   ]
  },
  {
   "cell_type": "markdown",
   "metadata": {},
   "source": [
    "## Compile models"
   ]
  },
  {
   "cell_type": "code",
   "execution_count": 18,
   "metadata": {},
   "outputs": [],
   "source": [
    "opt = tf.keras.optimizers.Adam(lr=0.0005)\n",
    "loss = tf.keras.losses.BinaryCrossentropy(from_logits=False)\n",
    "acc = tf.keras.metrics.BinaryAccuracy()\n",
    "earlystopping = tf.keras.callbacks.EarlyStopping(patience=200)"
   ]
  },
  {
   "cell_type": "code",
   "execution_count": 19,
   "metadata": {},
   "outputs": [
    {
     "name": "stdout",
     "output_type": "stream",
     "text": [
      "Epoch 1/10\n",
      "250/250 [==============================] - 20s 81ms/step - loss: 0.4915 - binary_accuracy: 0.9911 - val_loss: 0.4084 - val_binary_accuracy: 1.0000\n",
      "Epoch 2/10\n",
      "250/250 [==============================] - 17s 69ms/step - loss: 0.3939 - binary_accuracy: 0.9966 - val_loss: 0.3546 - val_binary_accuracy: 1.0000\n",
      "Epoch 3/10\n",
      "250/250 [==============================] - 18s 72ms/step - loss: 0.3492 - binary_accuracy: 0.9970 - val_loss: 0.3188 - val_binary_accuracy: 1.0000\n",
      "Epoch 4/10\n",
      "250/250 [==============================] - 16s 65ms/step - loss: 0.3029 - binary_accuracy: 0.9992 - val_loss: 0.2806 - val_binary_accuracy: 1.0000\n",
      "Epoch 5/10\n",
      "250/250 [==============================] - 16s 64ms/step - loss: 0.2741 - binary_accuracy: 0.9984 - val_loss: 0.2511 - val_binary_accuracy: 1.0000\n",
      "Epoch 6/10\n",
      "250/250 [==============================] - 15s 59ms/step - loss: 0.2498 - binary_accuracy: 0.9972 - val_loss: 0.2252 - val_binary_accuracy: 1.0000\n",
      "Epoch 7/10\n",
      "250/250 [==============================] - 15s 59ms/step - loss: 0.2168 - binary_accuracy: 0.9981 - val_loss: 0.1970 - val_binary_accuracy: 0.9998\n",
      "Epoch 8/10\n",
      "250/250 [==============================] - 15s 60ms/step - loss: 0.1837 - binary_accuracy: 0.9992 - val_loss: 0.1661 - val_binary_accuracy: 1.0000\n",
      "Epoch 9/10\n",
      "250/250 [==============================] - 14s 57ms/step - loss: 0.1597 - binary_accuracy: 0.9984 - val_loss: 0.1443 - val_binary_accuracy: 0.9998\n",
      "Epoch 10/10\n",
      "250/250 [==============================] - 15s 59ms/step - loss: 0.1330 - binary_accuracy: 0.9989 - val_loss: 0.1174 - val_binary_accuracy: 1.0000\n"
     ]
    }
   ],
   "source": [
    "regularised_bn_dropout_model.compile(optimizer=opt, loss=loss, metrics=[acc])\n",
    "history = regularised_bn_dropout_model.fit(train_dataset, epochs=10, validation_data=val_dataset, callbacks=[ckpt])"
   ]
  },
  {
   "cell_type": "code",
   "execution_count": 20,
   "metadata": {},
   "outputs": [
    {
     "data": {
      "image/png": "[encoded data removed]",
      "text/plain": [
       "<Figure size 1008x288 with 2 Axes>"
      ]
     },
     "metadata": {
      "needs_background": "light"
     },
     "output_type": "display_data"
    }
   ],
   "source": [
    "# Plot the learning curves\n",
    "\n",
    "import matplotlib.pyplot as plt\n",
    "\n",
    "fig = plt.figure(figsize=(14, 4))\n",
    "\n",
    "fig.add_subplot(121)\n",
    "plt.plot(history.history['loss'], label='train', color='C0', linestyle='-')\n",
    "plt.plot(history.history['val_loss'], label='valid', color='C0', linestyle=':')\n",
    "plt.title(\"Loss vs epochs\")\n",
    "plt.xlabel(\"Epochs\")\n",
    "plt.ylabel(\"Binary cross entropy loss\")\n",
    "plt.legend()\n",
    "\n",
    "fig.add_subplot(122)\n",
    "plt.plot(history.history['binary_accuracy'], label='train', color='C0', linestyle='-')\n",
    "plt.plot(history.history['val_binary_accuracy'], label='valid', color='C0', linestyle=':')\n",
    "plt.title(\"Binary accuracy vs epochs\")\n",
    "plt.xlabel(\"Epochs\")\n",
    "plt.ylabel(\"Binary accuracy\")\n",
    "plt.legend()\n",
    "\n",
    "plt.show()"
   ]
  }
 ],
 "metadata": {
  "kernelspec": {
   "display_name": "Python 3",
   "language": "python",
   "name": "python3"
  },
  "language_info": {
   "codemirror_mode": {
    "name": "ipython",
    "version": 3
   },
   "file_extension": ".py",
   "mimetype": "text/x-python",
   "name": "python",
   "nbconvert_exporter": "python",
   "pygments_lexer": "ipython3",
   "version": "3.8.5"
  }
 },
 "nbformat": 4,
 "nbformat_minor": 1
}
