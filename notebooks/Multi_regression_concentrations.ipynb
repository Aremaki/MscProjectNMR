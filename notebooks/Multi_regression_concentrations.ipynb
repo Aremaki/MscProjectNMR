{
 "cells": [
  {
   "cell_type": "markdown",
   "metadata": {
    "collapsed": true
   },
   "source": [
    "# Multi-regression of the metabolites concentrations"
   ]
  },
  {
   "cell_type": "markdown",
   "metadata": {},
   "source": [
    "## Install required python modules"
   ]
  },
  {
   "cell_type": "code",
   "execution_count": null,
   "metadata": {},
   "outputs": [],
   "source": [
    "%%bash\n",
    "pip install -e ../."
   ]
  },
  {
   "cell_type": "code",
   "execution_count": null,
   "metadata": {},
   "outputs": [],
   "source": [
    "%%bash\n",
    "pip install -r ../requirements.txt"
   ]
  },
  {
   "cell_type": "markdown",
   "metadata": {},
   "source": [
    "## Import data"
   ]
  },
  {
   "cell_type": "code",
   "execution_count": 1,
   "metadata": {},
   "outputs": [],
   "source": [
    "import numpy as np\n",
    "\n",
    "filename_spectrum = '../data/concentration_data/Spectra_Mixt1.txt'\n",
    "filename_concentrations = '../data/concentration_data/Concentrations_Mix1.txt'\n",
    "data_spectrum = np.loadtxt(filename_spectrum, dtype=float)\n",
    "data_concentrations = np.loadtxt(filename_concentrations, delimiter='\\t', dtype=float,\n",
    "                                usecols=range(1,data_spectrum.shape[1]+1))"
   ]
  },
  {
   "cell_type": "code",
   "execution_count": 3,
   "metadata": {},
   "outputs": [],
   "source": [
    "#Convert into dataframes\n",
    "import pandas as pd\n",
    "\n",
    "df_spectrum = pd.DataFrame(data_spectrum).T\n",
    "df_concentrations = pd.DataFrame(data_concentrations).T"
   ]
  },
  {
   "cell_type": "code",
   "execution_count": 6,
   "metadata": {},
   "outputs": [
    {
     "name": "stdout",
     "output_type": "stream",
     "text": [
      "(1000, 10000)\n",
      "(1000, 48)\n"
     ]
    }
   ],
   "source": [
    "print(df_spectrum.shape)\n",
    "print(df_concentrations.shape)"
   ]
  },
  {
   "cell_type": "markdown",
   "metadata": {},
   "source": [
    "## Shuffle the data"
   ]
  },
  {
   "cell_type": "code",
   "execution_count": 8,
   "metadata": {},
   "outputs": [],
   "source": [
    "from sklearn.utils import shuffle\n",
    "\n",
    "df_spectrum, df_concentrations = shuffle(df_spectrum, df_concentrations)"
   ]
  },
  {
   "cell_type": "markdown",
   "metadata": {},
   "source": [
    "## Convert into tf.data"
   ]
  },
  {
   "cell_type": "code",
   "execution_count": 9,
   "metadata": {},
   "outputs": [
    {
     "data": {
      "text/plain": [
       "(TensorSpec(shape=(10000,), dtype=tf.float64, name=None),\n",
       " TensorSpec(shape=(48,), dtype=tf.float64, name=None))"
      ]
     },
     "execution_count": 9,
     "metadata": {},
     "output_type": "execute_result"
    }
   ],
   "source": [
    "\n",
    "import tensorflow as tf\n",
    "\n",
    "dataset = tf.data.Dataset.from_tensor_slices((df_spectrum, df_concentrations))\n",
    "dataset.element_spec"
   ]
  },
  {
   "cell_type": "markdown",
   "metadata": {},
   "source": [
    "## Write tf.Record"
   ]
  },
  {
   "cell_type": "code",
   "execution_count": 10,
   "metadata": {},
   "outputs": [],
   "source": [
    "from tfrecords import write_tfrecords_concentrations"
   ]
  },
  {
   "cell_type": "code",
   "execution_count": 11,
   "metadata": {},
   "outputs": [],
   "source": [
    "write_tfrecords_concentrations('../data/tfrecords/Concentrations_data', dataset=dataset, number=10)"
   ]
  },
  {
   "cell_type": "markdown",
   "metadata": {},
   "source": [
    "## Read the tf.Record files"
   ]
  },
  {
   "cell_type": "code",
   "execution_count": 12,
   "metadata": {},
   "outputs": [],
   "source": [
    "from tfrecords import read_tfrecords_concentrations"
   ]
  },
  {
   "cell_type": "code",
   "execution_count": 13,
   "metadata": {},
   "outputs": [],
   "source": [
    "file_paths = ['../data/tfrecords/Concentrations_data/data_{}.tfrecord'.format(i) for i in range(10)]\n",
    "full_dataset = read_tfrecords_concentrations(file_paths)"
   ]
  },
  {
   "cell_type": "markdown",
   "metadata": {},
   "source": [
    "## Split data into train and validation datasets"
   ]
  },
  {
   "cell_type": "code",
   "execution_count": 14,
   "metadata": {},
   "outputs": [],
   "source": [
    "from models import process_dataset"
   ]
  },
  {
   "cell_type": "code",
   "execution_count": 16,
   "metadata": {},
   "outputs": [],
   "source": [
    "train_dataset, val_dataset, test_dataset = process_dataset(full_dataset, batch_sizes=[16] * 3, shuffle_buffers=1000,\n",
    "                                                           train_prop=0.8, val_prop=0.2)"
   ]
  },
  {
   "cell_type": "markdown",
   "metadata": {},
   "source": [
    "## Define Checkpoint"
   ]
  },
  {
   "cell_type": "code",
   "execution_count": 26,
   "metadata": {},
   "outputs": [],
   "source": [
    "from models import CheckpointCallback\n",
    "\n",
    "# Create a CheckpointCallback to save the model    \n",
    "ckpt = CheckpointCallback(\"../saved_models/concentrations\")"
   ]
  },
  {
   "cell_type": "markdown",
   "metadata": {},
   "source": [
    "## Define MLPs"
   ]
  },
  {
   "cell_type": "code",
   "execution_count": 263,
   "metadata": {},
   "outputs": [
    {
     "name": "stdout",
     "output_type": "stream",
     "text": [
      "Model: \"functional_155\"\n",
      "_________________________________________________________________\n",
      "Layer (type)                 Output Shape              Param #   \n",
      "=================================================================\n",
      "input_78 (InputLayer)        [(None, 10000)]           0         \n",
      "_________________________________________________________________\n",
      "dense_248 (Dense)            (None, 256)               2560256   \n",
      "_________________________________________________________________\n",
      "dense_249 (Dense)            (None, 256)               65792     \n",
      "_________________________________________________________________\n",
      "dense_250 (Dense)            (None, 48)                12336     \n",
      "=================================================================\n",
      "Total params: 2,638,384\n",
      "Trainable params: 2,638,384\n",
      "Non-trainable params: 0\n",
      "_________________________________________________________________\n"
     ]
    }
   ],
   "source": [
    "from models import get_simple_mlp_concentrations\n",
    "\n",
    "simple_model = get_simple_mlp_concentrations(input_shape=(10000,), hidden_units=[256, 256])\n",
    "simple_model.summary()"
   ]
  },
  {
   "cell_type": "code",
   "execution_count": 97,
   "metadata": {},
   "outputs": [
    {
     "name": "stdout",
     "output_type": "stream",
     "text": [
      "Model: \"functional_81\"\n",
      "_________________________________________________________________\n",
      "Layer (type)                 Output Shape              Param #   \n",
      "=================================================================\n",
      "input_41 (InputLayer)        [(None, 10000)]           0         \n",
      "_________________________________________________________________\n",
      "dense_136 (Dense)            (None, 1024)              10241024  \n",
      "_________________________________________________________________\n",
      "batch_normalization_28 (Batc (None, 1024)              4096      \n",
      "_________________________________________________________________\n",
      "dropout_28 (Dropout)         (None, 1024)              0         \n",
      "_________________________________________________________________\n",
      "dense_137 (Dense)            (None, 512)               524800    \n",
      "_________________________________________________________________\n",
      "batch_normalization_29 (Batc (None, 512)               2048      \n",
      "_________________________________________________________________\n",
      "dropout_29 (Dropout)         (None, 512)               0         \n",
      "_________________________________________________________________\n",
      "dense_138 (Dense)            (None, 512)               262656    \n",
      "_________________________________________________________________\n",
      "batch_normalization_30 (Batc (None, 512)               2048      \n",
      "_________________________________________________________________\n",
      "dropout_30 (Dropout)         (None, 512)               0         \n",
      "_________________________________________________________________\n",
      "dense_139 (Dense)            (None, 48)                24624     \n",
      "=================================================================\n",
      "Total params: 11,061,296\n",
      "Trainable params: 11,057,200\n",
      "Non-trainable params: 4,096\n",
      "_________________________________________________________________\n"
     ]
    }
   ],
   "source": [
    "from models import get_regularised_bn_dropout_mlp_concentrations\n",
    "\n",
    "regularised_bn_dropout_model = get_regularised_bn_dropout_mlp_concentrations(input_shape=(10000,), hidden_units=[1024, 512, 512],\n",
    "                                l2_reg_coeff=0.0001, dropout_rate=0.1)\n",
    "regularised_bn_dropout_model.summary()"
   ]
  },
  {
   "cell_type": "markdown",
   "metadata": {},
   "source": [
    "## Compile model"
   ]
  },
  {
   "cell_type": "code",
   "execution_count": 98,
   "metadata": {},
   "outputs": [],
   "source": [
    "import tensorflow as tf\n",
    "opt = tf.keras.optimizers.Adam(lr=0.0005)\n",
    "loss = tf.keras.losses.MeanAbsoluteError()\n",
    "acc = tf.keras.metrics.RootMeanSquaredError()\n",
    "earlystopping = tf.keras.callbacks.EarlyStopping(patience=100)"
   ]
  },
  {
   "cell_type": "code",
   "execution_count": 100,
   "metadata": {
    "scrolled": true
   },
   "outputs": [
    {
     "name": "stdout",
     "output_type": "stream",
     "text": [
      "Epoch 1/1000\n",
      "50/50 [==============================] - 1s 13ms/step - loss: 492.1584 - root_mean_squared_error: 1539.5261 - val_loss: 340.7373 - val_root_mean_squared_error: 632.9831\n",
      "Epoch 2/1000\n",
      "50/50 [==============================] - 1s 10ms/step - loss: 303.3610 - root_mean_squared_error: 549.4131 - val_loss: 252.8986 - val_root_mean_squared_error: 435.6040\n",
      "Epoch 3/1000\n",
      "50/50 [==============================] - 1s 11ms/step - loss: 227.5072 - root_mean_squared_error: 395.7623 - val_loss: 204.8251 - val_root_mean_squared_error: 345.6043\n",
      "Epoch 4/1000\n",
      "50/50 [==============================] - 1s 11ms/step - loss: 187.3631 - root_mean_squared_error: 313.2832 - val_loss: 180.8248 - val_root_mean_squared_error: 286.4738\n",
      "Epoch 5/1000\n",
      "50/50 [==============================] - 1s 11ms/step - loss: 158.2990 - root_mean_squared_error: 250.0925 - val_loss: 146.9576 - val_root_mean_squared_error: 235.2814\n",
      "Epoch 6/1000\n",
      "50/50 [==============================] - 1s 11ms/step - loss: 131.5134 - root_mean_squared_error: 209.5937 - val_loss: 127.0857 - val_root_mean_squared_error: 206.3302\n",
      "Epoch 7/1000\n",
      "50/50 [==============================] - 1s 11ms/step - loss: 121.0619 - root_mean_squared_error: 194.2277 - val_loss: 118.2615 - val_root_mean_squared_error: 191.1065\n",
      "Epoch 8/1000\n",
      "50/50 [==============================] - 1s 11ms/step - loss: 105.2549 - root_mean_squared_error: 168.9111 - val_loss: 113.1197 - val_root_mean_squared_error: 178.4807\n",
      "Epoch 9/1000\n",
      "50/50 [==============================] - 1s 11ms/step - loss: 97.5742 - root_mean_squared_error: 155.7263 - val_loss: 98.0745 - val_root_mean_squared_error: 153.8944\n",
      "Epoch 10/1000\n",
      "50/50 [==============================] - 1s 11ms/step - loss: 90.4233 - root_mean_squared_error: 142.7666 - val_loss: 102.4134 - val_root_mean_squared_error: 158.1028\n",
      "Epoch 11/1000\n",
      "50/50 [==============================] - 1s 11ms/step - loss: 83.0711 - root_mean_squared_error: 132.6891 - val_loss: 84.7452 - val_root_mean_squared_error: 136.7587\n",
      "Epoch 12/1000\n",
      "50/50 [==============================] - 1s 11ms/step - loss: 76.1614 - root_mean_squared_error: 121.6064 - val_loss: 80.3203 - val_root_mean_squared_error: 127.2895\n",
      "Epoch 13/1000\n",
      "50/50 [==============================] - 1s 11ms/step - loss: 75.3611 - root_mean_squared_error: 119.8461 - val_loss: 84.3651 - val_root_mean_squared_error: 132.3766\n",
      "Epoch 14/1000\n",
      "50/50 [==============================] - 1s 10ms/step - loss: 68.5591 - root_mean_squared_error: 111.0638 - val_loss: 73.4890 - val_root_mean_squared_error: 115.9833\n",
      "Epoch 15/1000\n",
      "50/50 [==============================] - 1s 11ms/step - loss: 68.3965 - root_mean_squared_error: 109.6782 - val_loss: 70.3781 - val_root_mean_squared_error: 116.0154\n",
      "Epoch 16/1000\n",
      "50/50 [==============================] - 1s 11ms/step - loss: 63.8721 - root_mean_squared_error: 103.9047 - val_loss: 70.2575 - val_root_mean_squared_error: 114.3840\n",
      "Epoch 17/1000\n",
      "50/50 [==============================] - 1s 10ms/step - loss: 59.8091 - root_mean_squared_error: 95.0490 - val_loss: 67.7894 - val_root_mean_squared_error: 108.0578\n",
      "Epoch 18/1000\n",
      "50/50 [==============================] - 1s 10ms/step - loss: 56.5868 - root_mean_squared_error: 90.4556 - val_loss: 64.1283 - val_root_mean_squared_error: 102.1341\n",
      "Epoch 19/1000\n",
      "50/50 [==============================] - 1s 10ms/step - loss: 56.2832 - root_mean_squared_error: 87.7782 - val_loss: 68.2757 - val_root_mean_squared_error: 104.1352\n",
      "Epoch 20/1000\n",
      "50/50 [==============================] - 1s 10ms/step - loss: 56.0249 - root_mean_squared_error: 83.9688 - val_loss: 59.8050 - val_root_mean_squared_error: 90.5949\n",
      "Epoch 21/1000\n",
      "50/50 [==============================] - 1s 11ms/step - loss: 55.1141 - root_mean_squared_error: 80.3327 - val_loss: 62.1820 - val_root_mean_squared_error: 92.3607\n",
      "Epoch 22/1000\n",
      "50/50 [==============================] - 1s 10ms/step - loss: 50.8803 - root_mean_squared_error: 72.4650 - val_loss: 61.9370 - val_root_mean_squared_error: 87.9496\n",
      "Epoch 23/1000\n",
      "50/50 [==============================] - 1s 10ms/step - loss: 49.0713 - root_mean_squared_error: 70.0327 - val_loss: 60.9586 - val_root_mean_squared_error: 87.3890\n",
      "Epoch 24/1000\n",
      "50/50 [==============================] - 1s 11ms/step - loss: 49.5013 - root_mean_squared_error: 71.1487 - val_loss: 59.9698 - val_root_mean_squared_error: 86.2513\n",
      "Epoch 25/1000\n",
      "50/50 [==============================] - 1s 11ms/step - loss: 51.5093 - root_mean_squared_error: 74.1781 - val_loss: 58.0171 - val_root_mean_squared_error: 83.0353\n",
      "Epoch 26/1000\n",
      "50/50 [==============================] - 1s 11ms/step - loss: 45.7122 - root_mean_squared_error: 64.2660 - val_loss: 51.4566 - val_root_mean_squared_error: 74.9353\n",
      "Epoch 27/1000\n",
      "50/50 [==============================] - 1s 10ms/step - loss: 45.3267 - root_mean_squared_error: 63.0845 - val_loss: 58.1584 - val_root_mean_squared_error: 88.6085\n",
      "Epoch 28/1000\n",
      "50/50 [==============================] - 1s 10ms/step - loss: 49.6702 - root_mean_squared_error: 71.1455 - val_loss: 52.4370 - val_root_mean_squared_error: 75.0140\n",
      "Epoch 29/1000\n",
      "50/50 [==============================] - 1s 11ms/step - loss: 43.3469 - root_mean_squared_error: 61.1220 - val_loss: 51.6230 - val_root_mean_squared_error: 75.0450\n",
      "Epoch 30/1000\n",
      "50/50 [==============================] - 1s 11ms/step - loss: 42.6543 - root_mean_squared_error: 59.2690 - val_loss: 56.9212 - val_root_mean_squared_error: 79.6315\n",
      "Epoch 31/1000\n",
      "50/50 [==============================] - 1s 10ms/step - loss: 44.4306 - root_mean_squared_error: 61.8730 - val_loss: 53.6151 - val_root_mean_squared_error: 75.7782\n",
      "Epoch 32/1000\n",
      "50/50 [==============================] - 1s 11ms/step - loss: 42.3771 - root_mean_squared_error: 61.2052 - val_loss: 55.8801 - val_root_mean_squared_error: 79.8515\n",
      "Epoch 33/1000\n",
      "50/50 [==============================] - 1s 10ms/step - loss: 41.7565 - root_mean_squared_error: 59.1381 - val_loss: 52.4727 - val_root_mean_squared_error: 74.5880\n",
      "Epoch 34/1000\n",
      "50/50 [==============================] - 1s 11ms/step - loss: 40.0454 - root_mean_squared_error: 56.7034 - val_loss: 48.7339 - val_root_mean_squared_error: 71.7173\n",
      "Epoch 35/1000\n",
      "50/50 [==============================] - 1s 10ms/step - loss: 42.8080 - root_mean_squared_error: 61.3457 - val_loss: 50.7619 - val_root_mean_squared_error: 72.5668\n",
      "Epoch 36/1000\n",
      "50/50 [==============================] - 1s 11ms/step - loss: 39.1170 - root_mean_squared_error: 55.1138 - val_loss: 49.3941 - val_root_mean_squared_error: 71.8283\n",
      "Epoch 37/1000\n",
      "50/50 [==============================] - 1s 11ms/step - loss: 41.7233 - root_mean_squared_error: 59.2415 - val_loss: 50.9952 - val_root_mean_squared_error: 70.9944\n",
      "Epoch 38/1000\n",
      "50/50 [==============================] - 1s 11ms/step - loss: 40.8443 - root_mean_squared_error: 56.6618 - val_loss: 50.8978 - val_root_mean_squared_error: 74.1026\n",
      "Epoch 39/1000\n",
      "50/50 [==============================] - 1s 10ms/step - loss: 39.7741 - root_mean_squared_error: 55.6506 - val_loss: 50.9345 - val_root_mean_squared_error: 71.7225\n",
      "Epoch 40/1000\n",
      "50/50 [==============================] - 1s 11ms/step - loss: 38.7116 - root_mean_squared_error: 55.3330 - val_loss: 55.9683 - val_root_mean_squared_error: 84.1373\n",
      "Epoch 41/1000\n",
      "50/50 [==============================] - 1s 11ms/step - loss: 39.2946 - root_mean_squared_error: 59.2029 - val_loss: 52.0123 - val_root_mean_squared_error: 77.7918\n",
      "Epoch 42/1000\n",
      "50/50 [==============================] - 1s 11ms/step - loss: 38.3366 - root_mean_squared_error: 56.6058 - val_loss: 50.8584 - val_root_mean_squared_error: 71.2340\n",
      "Epoch 43/1000\n",
      "50/50 [==============================] - 1s 11ms/step - loss: 38.8477 - root_mean_squared_error: 54.9129 - val_loss: 48.7714 - val_root_mean_squared_error: 67.4752\n",
      "Epoch 44/1000\n",
      "50/50 [==============================] - 1s 10ms/step - loss: 34.2604 - root_mean_squared_error: 47.6664 - val_loss: 46.2473 - val_root_mean_squared_error: 65.6336\n",
      "Epoch 45/1000\n",
      "50/50 [==============================] - 1s 11ms/step - loss: 37.0657 - root_mean_squared_error: 52.0896 - val_loss: 49.2523 - val_root_mean_squared_error: 70.1858\n",
      "Epoch 46/1000\n",
      "50/50 [==============================] - 1s 11ms/step - loss: 37.0303 - root_mean_squared_error: 51.0519 - val_loss: 49.8731 - val_root_mean_squared_error: 70.6077\n"
     ]
    },
    {
     "name": "stdout",
     "output_type": "stream",
     "text": [
      "Epoch 47/1000\n",
      "50/50 [==============================] - 1s 10ms/step - loss: 38.1382 - root_mean_squared_error: 53.7998 - val_loss: 47.4302 - val_root_mean_squared_error: 66.1454\n",
      "Epoch 48/1000\n",
      "50/50 [==============================] - 1s 10ms/step - loss: 38.0095 - root_mean_squared_error: 53.5255 - val_loss: 47.9268 - val_root_mean_squared_error: 69.0156\n",
      "Epoch 49/1000\n",
      "50/50 [==============================] - 1s 11ms/step - loss: 37.0233 - root_mean_squared_error: 52.3197 - val_loss: 50.8840 - val_root_mean_squared_error: 74.6279\n",
      "Epoch 50/1000\n",
      "50/50 [==============================] - 1s 10ms/step - loss: 35.1655 - root_mean_squared_error: 50.3450 - val_loss: 47.1433 - val_root_mean_squared_error: 67.8104\n",
      "Epoch 51/1000\n",
      "50/50 [==============================] - 1s 10ms/step - loss: 34.1841 - root_mean_squared_error: 47.2480 - val_loss: 50.3668 - val_root_mean_squared_error: 71.4758\n",
      "Epoch 52/1000\n",
      "50/50 [==============================] - 1s 11ms/step - loss: 35.8195 - root_mean_squared_error: 53.4024 - val_loss: 53.6024 - val_root_mean_squared_error: 79.2878\n",
      "Epoch 53/1000\n",
      "50/50 [==============================] - 1s 11ms/step - loss: 36.6662 - root_mean_squared_error: 55.8457 - val_loss: 48.5497 - val_root_mean_squared_error: 68.0619\n",
      "Epoch 54/1000\n",
      "50/50 [==============================] - 1s 11ms/step - loss: 36.5402 - root_mean_squared_error: 50.6942 - val_loss: 50.3449 - val_root_mean_squared_error: 73.1049\n",
      "Epoch 55/1000\n",
      "50/50 [==============================] - 1s 11ms/step - loss: 34.7017 - root_mean_squared_error: 48.5631 - val_loss: 48.1013 - val_root_mean_squared_error: 71.3539\n",
      "Epoch 56/1000\n",
      "50/50 [==============================] - 1s 10ms/step - loss: 35.2483 - root_mean_squared_error: 49.3411 - val_loss: 47.4249 - val_root_mean_squared_error: 67.3206\n",
      "Epoch 57/1000\n",
      "50/50 [==============================] - 1s 10ms/step - loss: 35.4290 - root_mean_squared_error: 51.5712 - val_loss: 47.4321 - val_root_mean_squared_error: 67.3748\n",
      "Epoch 58/1000\n",
      "50/50 [==============================] - 1s 11ms/step - loss: 32.9591 - root_mean_squared_error: 46.6846 - val_loss: 51.1218 - val_root_mean_squared_error: 75.8220\n",
      "Epoch 59/1000\n",
      "50/50 [==============================] - 1s 11ms/step - loss: 33.6489 - root_mean_squared_error: 48.3277 - val_loss: 45.3227 - val_root_mean_squared_error: 66.9206\n",
      "Epoch 60/1000\n",
      "50/50 [==============================] - 1s 11ms/step - loss: 33.6405 - root_mean_squared_error: 50.7223 - val_loss: 43.8603 - val_root_mean_squared_error: 64.6014\n",
      "Epoch 61/1000\n",
      "50/50 [==============================] - 1s 10ms/step - loss: 34.6693 - root_mean_squared_error: 51.3361 - val_loss: 46.6553 - val_root_mean_squared_error: 67.2191\n",
      "Epoch 62/1000\n",
      "50/50 [==============================] - 1s 11ms/step - loss: 33.8959 - root_mean_squared_error: 47.8310 - val_loss: 48.1094 - val_root_mean_squared_error: 79.6716\n",
      "Epoch 63/1000\n",
      "50/50 [==============================] - 1s 11ms/step - loss: 32.7246 - root_mean_squared_error: 47.8073 - val_loss: 49.0284 - val_root_mean_squared_error: 68.5750\n",
      "Epoch 64/1000\n",
      "50/50 [==============================] - 1s 11ms/step - loss: 34.9094 - root_mean_squared_error: 49.9098 - val_loss: 48.6190 - val_root_mean_squared_error: 70.3614\n",
      "Epoch 65/1000\n",
      "50/50 [==============================] - 1s 10ms/step - loss: 31.9453 - root_mean_squared_error: 45.2882 - val_loss: 43.8527 - val_root_mean_squared_error: 63.5650\n",
      "Epoch 66/1000\n",
      "50/50 [==============================] - 1s 11ms/step - loss: 33.5182 - root_mean_squared_error: 46.2736 - val_loss: 49.0173 - val_root_mean_squared_error: 69.9086\n",
      "Epoch 67/1000\n",
      "50/50 [==============================] - 1s 11ms/step - loss: 32.4089 - root_mean_squared_error: 45.8604 - val_loss: 46.7817 - val_root_mean_squared_error: 70.5872\n",
      "Epoch 68/1000\n",
      "50/50 [==============================] - 1s 10ms/step - loss: 31.9444 - root_mean_squared_error: 47.2845 - val_loss: 43.2261 - val_root_mean_squared_error: 62.1434\n",
      "Epoch 69/1000\n",
      "50/50 [==============================] - 1s 10ms/step - loss: 32.9202 - root_mean_squared_error: 46.1654 - val_loss: 47.8287 - val_root_mean_squared_error: 67.0374\n",
      "Epoch 70/1000\n",
      "50/50 [==============================] - 1s 10ms/step - loss: 32.7313 - root_mean_squared_error: 45.7259 - val_loss: 45.1357 - val_root_mean_squared_error: 65.4763\n",
      "Epoch 71/1000\n",
      "50/50 [==============================] - 1s 10ms/step - loss: 33.3788 - root_mean_squared_error: 46.5999 - val_loss: 48.9415 - val_root_mean_squared_error: 70.2312\n",
      "Epoch 72/1000\n",
      "50/50 [==============================] - 1s 10ms/step - loss: 32.4108 - root_mean_squared_error: 46.9763 - val_loss: 46.5932 - val_root_mean_squared_error: 67.5228\n",
      "Epoch 73/1000\n",
      "50/50 [==============================] - 1s 11ms/step - loss: 31.7434 - root_mean_squared_error: 45.7348 - val_loss: 46.4017 - val_root_mean_squared_error: 67.7944\n",
      "Epoch 74/1000\n",
      "50/50 [==============================] - 1s 10ms/step - loss: 34.4075 - root_mean_squared_error: 48.8264 - val_loss: 47.1726 - val_root_mean_squared_error: 68.3801\n",
      "Epoch 75/1000\n",
      "50/50 [==============================] - 1s 11ms/step - loss: 31.8229 - root_mean_squared_error: 43.9350 - val_loss: 49.4056 - val_root_mean_squared_error: 70.0137\n",
      "Epoch 76/1000\n",
      "50/50 [==============================] - 1s 10ms/step - loss: 32.3650 - root_mean_squared_error: 44.2622 - val_loss: 42.3205 - val_root_mean_squared_error: 60.8206\n",
      "Epoch 77/1000\n",
      "50/50 [==============================] - 1s 11ms/step - loss: 30.7244 - root_mean_squared_error: 44.6767 - val_loss: 48.3615 - val_root_mean_squared_error: 71.0531\n",
      "Epoch 78/1000\n",
      "50/50 [==============================] - 1s 11ms/step - loss: 30.7270 - root_mean_squared_error: 43.4695 - val_loss: 46.4364 - val_root_mean_squared_error: 68.5569\n",
      "Epoch 79/1000\n",
      "50/50 [==============================] - 1s 11ms/step - loss: 30.6451 - root_mean_squared_error: 42.3472 - val_loss: 45.3640 - val_root_mean_squared_error: 65.4385\n",
      "Epoch 80/1000\n",
      "50/50 [==============================] - 1s 11ms/step - loss: 31.4312 - root_mean_squared_error: 43.4104 - val_loss: 46.6706 - val_root_mean_squared_error: 67.0774\n",
      "Epoch 81/1000\n",
      "50/50 [==============================] - 1s 10ms/step - loss: 32.6434 - root_mean_squared_error: 46.2924 - val_loss: 46.2841 - val_root_mean_squared_error: 69.4239\n",
      "Epoch 82/1000\n",
      "50/50 [==============================] - 1s 10ms/step - loss: 31.1688 - root_mean_squared_error: 43.9281 - val_loss: 43.8032 - val_root_mean_squared_error: 61.9290\n",
      "Epoch 83/1000\n",
      "50/50 [==============================] - 1s 11ms/step - loss: 31.3375 - root_mean_squared_error: 44.7315 - val_loss: 45.4507 - val_root_mean_squared_error: 66.9929\n",
      "Epoch 84/1000\n",
      "50/50 [==============================] - 1s 11ms/step - loss: 30.3130 - root_mean_squared_error: 43.1232 - val_loss: 46.9055 - val_root_mean_squared_error: 72.1810\n",
      "Epoch 85/1000\n",
      "50/50 [==============================] - 1s 10ms/step - loss: 30.8117 - root_mean_squared_error: 45.4447 - val_loss: 45.9689 - val_root_mean_squared_error: 68.0830\n",
      "Epoch 86/1000\n",
      "50/50 [==============================] - 1s 11ms/step - loss: 29.2997 - root_mean_squared_error: 41.5292 - val_loss: 46.3057 - val_root_mean_squared_error: 68.8079\n",
      "Epoch 87/1000\n",
      "50/50 [==============================] - 1s 11ms/step - loss: 31.7577 - root_mean_squared_error: 45.1765 - val_loss: 43.2604 - val_root_mean_squared_error: 63.0213\n",
      "Epoch 88/1000\n",
      "50/50 [==============================] - 1s 12ms/step - loss: 28.8258 - root_mean_squared_error: 40.6460 - val_loss: 45.2339 - val_root_mean_squared_error: 65.6824\n",
      "Epoch 89/1000\n",
      "50/50 [==============================] - 1s 11ms/step - loss: 30.8440 - root_mean_squared_error: 46.1217 - val_loss: 45.8314 - val_root_mean_squared_error: 69.5030\n",
      "Epoch 90/1000\n",
      "50/50 [==============================] - 1s 11ms/step - loss: 29.2514 - root_mean_squared_error: 40.9713 - val_loss: 45.7139 - val_root_mean_squared_error: 65.7131\n",
      "Epoch 91/1000\n",
      "50/50 [==============================] - 1s 11ms/step - loss: 31.1007 - root_mean_squared_error: 43.8435 - val_loss: 47.0512 - val_root_mean_squared_error: 68.4901\n",
      "Epoch 92/1000\n",
      "50/50 [==============================] - 1s 11ms/step - loss: 32.2993 - root_mean_squared_error: 47.2352 - val_loss: 43.9465 - val_root_mean_squared_error: 63.6476\n",
      "Epoch 93/1000\n"
     ]
    },
    {
     "name": "stdout",
     "output_type": "stream",
     "text": [
      "50/50 [==============================] - 1s 11ms/step - loss: 28.7159 - root_mean_squared_error: 41.1234 - val_loss: 41.5934 - val_root_mean_squared_error: 60.4233\n",
      "Epoch 94/1000\n",
      "50/50 [==============================] - 1s 11ms/step - loss: 30.2321 - root_mean_squared_error: 45.1160 - val_loss: 44.4888 - val_root_mean_squared_error: 67.7166\n",
      "Epoch 95/1000\n",
      "50/50 [==============================] - 1s 11ms/step - loss: 29.8048 - root_mean_squared_error: 43.1517 - val_loss: 44.3935 - val_root_mean_squared_error: 64.6020\n",
      "Epoch 96/1000\n",
      "50/50 [==============================] - 1s 11ms/step - loss: 28.5526 - root_mean_squared_error: 40.1742 - val_loss: 44.7486 - val_root_mean_squared_error: 65.0421\n",
      "Epoch 97/1000\n",
      "50/50 [==============================] - 1s 11ms/step - loss: 29.3507 - root_mean_squared_error: 42.1796 - val_loss: 43.6734 - val_root_mean_squared_error: 62.3500\n",
      "Epoch 98/1000\n",
      "50/50 [==============================] - 1s 11ms/step - loss: 29.5084 - root_mean_squared_error: 40.8722 - val_loss: 42.7174 - val_root_mean_squared_error: 62.6527\n",
      "Epoch 99/1000\n",
      "50/50 [==============================] - 1s 10ms/step - loss: 29.5546 - root_mean_squared_error: 41.5050 - val_loss: 45.7517 - val_root_mean_squared_error: 66.9343\n",
      "Epoch 100/1000\n",
      "50/50 [==============================] - 1s 10ms/step - loss: 31.6621 - root_mean_squared_error: 45.4107 - val_loss: 44.3198 - val_root_mean_squared_error: 65.3618\n",
      "Epoch 101/1000\n",
      "50/50 [==============================] - 1s 11ms/step - loss: 29.9922 - root_mean_squared_error: 44.6764 - val_loss: 42.6662 - val_root_mean_squared_error: 63.0298\n",
      "Epoch 102/1000\n",
      "50/50 [==============================] - 1s 11ms/step - loss: 27.9873 - root_mean_squared_error: 39.9386 - val_loss: 47.6472 - val_root_mean_squared_error: 68.5728\n",
      "Epoch 103/1000\n",
      "50/50 [==============================] - 1s 11ms/step - loss: 28.3669 - root_mean_squared_error: 40.4067 - val_loss: 46.5064 - val_root_mean_squared_error: 67.1580\n",
      "Epoch 104/1000\n",
      "50/50 [==============================] - 1s 11ms/step - loss: 28.8827 - root_mean_squared_error: 40.7839 - val_loss: 45.1914 - val_root_mean_squared_error: 64.2057\n",
      "Epoch 105/1000\n",
      "50/50 [==============================] - 1s 11ms/step - loss: 29.5566 - root_mean_squared_error: 43.2325 - val_loss: 43.9289 - val_root_mean_squared_error: 65.0215\n",
      "Epoch 106/1000\n",
      "50/50 [==============================] - 1s 11ms/step - loss: 29.4151 - root_mean_squared_error: 41.8640 - val_loss: 45.2424 - val_root_mean_squared_error: 71.2120\n",
      "Epoch 107/1000\n",
      "50/50 [==============================] - 1s 10ms/step - loss: 28.7194 - root_mean_squared_error: 41.4045 - val_loss: 43.9695 - val_root_mean_squared_error: 63.3129\n",
      "Epoch 108/1000\n",
      "50/50 [==============================] - 1s 10ms/step - loss: 29.4296 - root_mean_squared_error: 43.3373 - val_loss: 49.2459 - val_root_mean_squared_error: 71.1061\n",
      "Epoch 109/1000\n",
      "50/50 [==============================] - 1s 10ms/step - loss: 33.9961 - root_mean_squared_error: 52.3834 - val_loss: 47.0126 - val_root_mean_squared_error: 66.4753\n",
      "Epoch 110/1000\n",
      "50/50 [==============================] - 1s 10ms/step - loss: 32.0540 - root_mean_squared_error: 49.7139 - val_loss: 46.9767 - val_root_mean_squared_error: 67.6113\n",
      "Epoch 111/1000\n",
      "50/50 [==============================] - 1s 11ms/step - loss: 29.3622 - root_mean_squared_error: 41.4785 - val_loss: 43.8817 - val_root_mean_squared_error: 63.2806\n",
      "Epoch 112/1000\n",
      "50/50 [==============================] - 1s 11ms/step - loss: 30.0852 - root_mean_squared_error: 45.0052 - val_loss: 46.8605 - val_root_mean_squared_error: 68.9457\n",
      "Epoch 113/1000\n",
      "50/50 [==============================] - 1s 11ms/step - loss: 29.3573 - root_mean_squared_error: 42.1746 - val_loss: 46.5599 - val_root_mean_squared_error: 67.2655\n",
      "Epoch 114/1000\n",
      "50/50 [==============================] - 1s 11ms/step - loss: 30.2589 - root_mean_squared_error: 44.2739 - val_loss: 44.0754 - val_root_mean_squared_error: 64.1851\n",
      "Epoch 115/1000\n",
      "50/50 [==============================] - 1s 10ms/step - loss: 31.3159 - root_mean_squared_error: 45.3455 - val_loss: 44.9601 - val_root_mean_squared_error: 67.1858\n",
      "Epoch 116/1000\n",
      "50/50 [==============================] - 1s 11ms/step - loss: 29.8757 - root_mean_squared_error: 44.0000 - val_loss: 43.2691 - val_root_mean_squared_error: 64.1580\n",
      "Epoch 117/1000\n",
      "50/50 [==============================] - 1s 10ms/step - loss: 28.5220 - root_mean_squared_error: 42.5179 - val_loss: 45.8741 - val_root_mean_squared_error: 65.6891\n",
      "Epoch 118/1000\n",
      "50/50 [==============================] - 1s 10ms/step - loss: 28.2370 - root_mean_squared_error: 39.4358 - val_loss: 48.5154 - val_root_mean_squared_error: 69.2257\n",
      "Epoch 119/1000\n",
      "50/50 [==============================] - 1s 11ms/step - loss: 30.5087 - root_mean_squared_error: 43.7268 - val_loss: 44.6561 - val_root_mean_squared_error: 63.9857\n",
      "Epoch 120/1000\n",
      "50/50 [==============================] - 1s 10ms/step - loss: 28.2082 - root_mean_squared_error: 43.3913 - val_loss: 47.8555 - val_root_mean_squared_error: 78.3010\n",
      "Epoch 121/1000\n",
      "50/50 [==============================] - 1s 10ms/step - loss: 28.2998 - root_mean_squared_error: 42.6933 - val_loss: 45.4390 - val_root_mean_squared_error: 66.5638\n",
      "Epoch 122/1000\n",
      "50/50 [==============================] - 1s 10ms/step - loss: 29.2842 - root_mean_squared_error: 42.0830 - val_loss: 43.4300 - val_root_mean_squared_error: 63.6113\n",
      "Epoch 123/1000\n",
      "50/50 [==============================] - 1s 10ms/step - loss: 29.0757 - root_mean_squared_error: 44.1599 - val_loss: 44.7908 - val_root_mean_squared_error: 68.6343\n",
      "Epoch 124/1000\n",
      "50/50 [==============================] - 1s 11ms/step - loss: 28.1249 - root_mean_squared_error: 40.8447 - val_loss: 47.1298 - val_root_mean_squared_error: 69.1040\n",
      "Epoch 125/1000\n",
      "50/50 [==============================] - 1s 11ms/step - loss: 31.1188 - root_mean_squared_error: 53.2560 - val_loss: 44.0354 - val_root_mean_squared_error: 68.6829\n",
      "Epoch 126/1000\n",
      "50/50 [==============================] - 1s 11ms/step - loss: 29.9062 - root_mean_squared_error: 45.9164 - val_loss: 49.9955 - val_root_mean_squared_error: 79.2995\n",
      "Epoch 127/1000\n",
      "50/50 [==============================] - 0s 10ms/step - loss: 28.8651 - root_mean_squared_error: 46.4694 - val_loss: 40.5492 - val_root_mean_squared_error: 59.8765\n",
      "Epoch 128/1000\n",
      "50/50 [==============================] - 1s 10ms/step - loss: 28.5243 - root_mean_squared_error: 41.8901 - val_loss: 43.4052 - val_root_mean_squared_error: 64.1345\n",
      "Epoch 129/1000\n",
      "50/50 [==============================] - 1s 10ms/step - loss: 27.8177 - root_mean_squared_error: 42.0945 - val_loss: 47.9021 - val_root_mean_squared_error: 70.7516\n",
      "Epoch 130/1000\n",
      "50/50 [==============================] - 1s 11ms/step - loss: 30.1970 - root_mean_squared_error: 45.0125 - val_loss: 46.9340 - val_root_mean_squared_error: 67.2814\n",
      "Epoch 131/1000\n",
      "50/50 [==============================] - 1s 10ms/step - loss: 30.9070 - root_mean_squared_error: 47.7012 - val_loss: 42.9645 - val_root_mean_squared_error: 64.3871\n",
      "Epoch 132/1000\n",
      "50/50 [==============================] - 1s 11ms/step - loss: 28.1675 - root_mean_squared_error: 40.0879 - val_loss: 42.6147 - val_root_mean_squared_error: 63.2755\n",
      "Epoch 133/1000\n",
      "50/50 [==============================] - 1s 11ms/step - loss: 27.7056 - root_mean_squared_error: 40.1787 - val_loss: 44.1954 - val_root_mean_squared_error: 64.2790\n",
      "Epoch 134/1000\n",
      "50/50 [==============================] - 1s 10ms/step - loss: 30.7289 - root_mean_squared_error: 48.1891 - val_loss: 48.5575 - val_root_mean_squared_error: 73.9032\n",
      "Epoch 135/1000\n",
      "50/50 [==============================] - 1s 10ms/step - loss: 30.0109 - root_mean_squared_error: 43.3377 - val_loss: 44.5658 - val_root_mean_squared_error: 65.7452\n",
      "Epoch 136/1000\n",
      "50/50 [==============================] - 1s 11ms/step - loss: 29.3212 - root_mean_squared_error: 45.0570 - val_loss: 46.0675 - val_root_mean_squared_error: 67.0877\n",
      "Epoch 137/1000\n",
      "50/50 [==============================] - 1s 11ms/step - loss: 28.9993 - root_mean_squared_error: 41.6019 - val_loss: 45.9920 - val_root_mean_squared_error: 65.6421\n",
      "Epoch 138/1000\n",
      "50/50 [==============================] - 1s 11ms/step - loss: 30.0149 - root_mean_squared_error: 46.3052 - val_loss: 46.4175 - val_root_mean_squared_error: 67.6274\n"
     ]
    },
    {
     "name": "stdout",
     "output_type": "stream",
     "text": [
      "Epoch 139/1000\n",
      "50/50 [==============================] - 1s 10ms/step - loss: 29.6142 - root_mean_squared_error: 48.1706 - val_loss: 44.8846 - val_root_mean_squared_error: 67.3881\n",
      "Epoch 140/1000\n",
      "50/50 [==============================] - 1s 10ms/step - loss: 29.0098 - root_mean_squared_error: 42.1977 - val_loss: 47.4443 - val_root_mean_squared_error: 68.1538\n",
      "Epoch 141/1000\n",
      "50/50 [==============================] - 1s 10ms/step - loss: 28.2562 - root_mean_squared_error: 40.4479 - val_loss: 44.2684 - val_root_mean_squared_error: 64.9912\n",
      "Epoch 142/1000\n",
      "50/50 [==============================] - 1s 10ms/step - loss: 27.1185 - root_mean_squared_error: 43.9851 - val_loss: 43.4541 - val_root_mean_squared_error: 65.1777\n",
      "Epoch 143/1000\n",
      "50/50 [==============================] - 1s 11ms/step - loss: 26.9294 - root_mean_squared_error: 40.9799 - val_loss: 44.2815 - val_root_mean_squared_error: 64.0347\n",
      "Epoch 144/1000\n",
      "50/50 [==============================] - 1s 10ms/step - loss: 28.2306 - root_mean_squared_error: 39.9440 - val_loss: 47.9721 - val_root_mean_squared_error: 72.6142\n",
      "Epoch 145/1000\n",
      "50/50 [==============================] - 1s 10ms/step - loss: 30.1482 - root_mean_squared_error: 46.5478 - val_loss: 44.7424 - val_root_mean_squared_error: 66.7205\n",
      "Epoch 146/1000\n",
      "50/50 [==============================] - 1s 11ms/step - loss: 27.1978 - root_mean_squared_error: 40.6876 - val_loss: 45.1980 - val_root_mean_squared_error: 68.8034\n",
      "Epoch 147/1000\n",
      "50/50 [==============================] - 1s 11ms/step - loss: 27.0673 - root_mean_squared_error: 42.2799 - val_loss: 50.2918 - val_root_mean_squared_error: 77.7431\n",
      "Epoch 148/1000\n",
      "50/50 [==============================] - 1s 11ms/step - loss: 29.9558 - root_mean_squared_error: 45.2359 - val_loss: 46.8179 - val_root_mean_squared_error: 73.6305\n",
      "Epoch 149/1000\n",
      "50/50 [==============================] - 1s 11ms/step - loss: 27.6531 - root_mean_squared_error: 42.9269 - val_loss: 44.5571 - val_root_mean_squared_error: 64.8318\n",
      "Epoch 150/1000\n",
      "50/50 [==============================] - 1s 11ms/step - loss: 27.8192 - root_mean_squared_error: 40.6067 - val_loss: 42.6973 - val_root_mean_squared_error: 64.5347\n",
      "Epoch 151/1000\n",
      "50/50 [==============================] - 1s 11ms/step - loss: 27.5445 - root_mean_squared_error: 46.2445 - val_loss: 47.3672 - val_root_mean_squared_error: 71.7192\n",
      "Epoch 152/1000\n",
      "50/50 [==============================] - 1s 10ms/step - loss: 28.1248 - root_mean_squared_error: 45.7122 - val_loss: 44.1093 - val_root_mean_squared_error: 68.3229\n",
      "Epoch 153/1000\n",
      "50/50 [==============================] - 1s 10ms/step - loss: 27.1257 - root_mean_squared_error: 40.6080 - val_loss: 47.0299 - val_root_mean_squared_error: 68.1790\n",
      "Epoch 154/1000\n",
      "50/50 [==============================] - 1s 11ms/step - loss: 27.1440 - root_mean_squared_error: 42.9547 - val_loss: 48.0925 - val_root_mean_squared_error: 73.8109\n",
      "Epoch 155/1000\n",
      "50/50 [==============================] - 1s 10ms/step - loss: 26.1264 - root_mean_squared_error: 38.0460 - val_loss: 49.1119 - val_root_mean_squared_error: 74.6412\n",
      "Epoch 156/1000\n",
      "50/50 [==============================] - 1s 11ms/step - loss: 28.6097 - root_mean_squared_error: 42.0181 - val_loss: 47.5159 - val_root_mean_squared_error: 71.6786\n",
      "Epoch 157/1000\n",
      "50/50 [==============================] - 1s 11ms/step - loss: 28.3769 - root_mean_squared_error: 41.3880 - val_loss: 48.1640 - val_root_mean_squared_error: 71.7433\n",
      "Epoch 158/1000\n",
      "50/50 [==============================] - 1s 11ms/step - loss: 29.2762 - root_mean_squared_error: 44.7117 - val_loss: 44.4941 - val_root_mean_squared_error: 66.2775\n",
      "Epoch 159/1000\n",
      "50/50 [==============================] - 1s 11ms/step - loss: 28.7537 - root_mean_squared_error: 45.8638 - val_loss: 44.5758 - val_root_mean_squared_error: 66.4672\n",
      "Epoch 160/1000\n",
      "50/50 [==============================] - 1s 11ms/step - loss: 27.5834 - root_mean_squared_error: 39.8379 - val_loss: 46.9540 - val_root_mean_squared_error: 68.7011\n",
      "Epoch 161/1000\n",
      "50/50 [==============================] - 1s 10ms/step - loss: 30.1784 - root_mean_squared_error: 47.9353 - val_loss: 47.8606 - val_root_mean_squared_error: 71.6050\n",
      "Epoch 162/1000\n",
      "50/50 [==============================] - 1s 11ms/step - loss: 28.5096 - root_mean_squared_error: 44.8329 - val_loss: 46.4588 - val_root_mean_squared_error: 69.4603\n",
      "Epoch 163/1000\n",
      "50/50 [==============================] - 1s 10ms/step - loss: 28.1007 - root_mean_squared_error: 42.4528 - val_loss: 44.8773 - val_root_mean_squared_error: 67.1427\n",
      "Epoch 164/1000\n",
      "50/50 [==============================] - 1s 11ms/step - loss: 25.6280 - root_mean_squared_error: 38.8774 - val_loss: 45.0064 - val_root_mean_squared_error: 69.8677\n",
      "Epoch 165/1000\n",
      "50/50 [==============================] - 1s 11ms/step - loss: 26.5196 - root_mean_squared_error: 38.9668 - val_loss: 46.6357 - val_root_mean_squared_error: 71.3271\n",
      "Epoch 166/1000\n",
      "50/50 [==============================] - 1s 10ms/step - loss: 26.9438 - root_mean_squared_error: 39.2887 - val_loss: 44.6978 - val_root_mean_squared_error: 66.9136\n",
      "Epoch 167/1000\n",
      "50/50 [==============================] - 1s 11ms/step - loss: 29.8439 - root_mean_squared_error: 43.6628 - val_loss: 45.6231 - val_root_mean_squared_error: 69.2109\n",
      "Epoch 168/1000\n",
      "50/50 [==============================] - 1s 11ms/step - loss: 26.5648 - root_mean_squared_error: 38.8381 - val_loss: 47.4592 - val_root_mean_squared_error: 70.7552\n",
      "Epoch 169/1000\n",
      "50/50 [==============================] - 1s 11ms/step - loss: 27.4494 - root_mean_squared_error: 41.3105 - val_loss: 44.4784 - val_root_mean_squared_error: 64.9322\n",
      "Epoch 170/1000\n",
      "50/50 [==============================] - 1s 11ms/step - loss: 27.1034 - root_mean_squared_error: 40.1794 - val_loss: 45.0931 - val_root_mean_squared_error: 65.4004\n",
      "Epoch 171/1000\n",
      "50/50 [==============================] - 1s 10ms/step - loss: 25.5356 - root_mean_squared_error: 37.3950 - val_loss: 46.5703 - val_root_mean_squared_error: 70.4609\n",
      "Epoch 172/1000\n",
      "50/50 [==============================] - 1s 11ms/step - loss: 27.6997 - root_mean_squared_error: 38.8854 - val_loss: 46.2033 - val_root_mean_squared_error: 72.0767\n",
      "Epoch 173/1000\n",
      "50/50 [==============================] - 1s 11ms/step - loss: 26.7325 - root_mean_squared_error: 39.3911 - val_loss: 46.2982 - val_root_mean_squared_error: 68.5602\n",
      "Epoch 174/1000\n",
      "50/50 [==============================] - 1s 11ms/step - loss: 25.9741 - root_mean_squared_error: 37.2353 - val_loss: 48.6456 - val_root_mean_squared_error: 74.4892\n",
      "Epoch 175/1000\n",
      "50/50 [==============================] - 1s 11ms/step - loss: 28.1375 - root_mean_squared_error: 43.3295 - val_loss: 46.6528 - val_root_mean_squared_error: 71.1686\n",
      "Epoch 176/1000\n",
      "50/50 [==============================] - 1s 11ms/step - loss: 25.7538 - root_mean_squared_error: 38.0909 - val_loss: 45.1108 - val_root_mean_squared_error: 66.4824\n",
      "Epoch 177/1000\n",
      "50/50 [==============================] - 1s 11ms/step - loss: 28.5003 - root_mean_squared_error: 42.6533 - val_loss: 46.7617 - val_root_mean_squared_error: 70.1861\n",
      "Epoch 178/1000\n",
      "50/50 [==============================] - 1s 11ms/step - loss: 27.2024 - root_mean_squared_error: 39.0016 - val_loss: 51.5051 - val_root_mean_squared_error: 73.4806\n",
      "Epoch 179/1000\n",
      "50/50 [==============================] - 1s 11ms/step - loss: 27.3959 - root_mean_squared_error: 40.9835 - val_loss: 46.9587 - val_root_mean_squared_error: 72.1610\n",
      "Epoch 180/1000\n",
      "50/50 [==============================] - 1s 11ms/step - loss: 27.1224 - root_mean_squared_error: 40.3097 - val_loss: 44.9093 - val_root_mean_squared_error: 67.2023\n",
      "Epoch 181/1000\n",
      "50/50 [==============================] - 1s 11ms/step - loss: 27.1470 - root_mean_squared_error: 41.8944 - val_loss: 45.3232 - val_root_mean_squared_error: 66.8176\n",
      "Epoch 182/1000\n",
      "50/50 [==============================] - 1s 11ms/step - loss: 27.7444 - root_mean_squared_error: 40.4642 - val_loss: 45.2099 - val_root_mean_squared_error: 66.4294\n",
      "Epoch 183/1000\n",
      "50/50 [==============================] - 1s 10ms/step - loss: 27.4278 - root_mean_squared_error: 41.5596 - val_loss: 44.2433 - val_root_mean_squared_error: 66.3485\n",
      "Epoch 184/1000\n",
      "50/50 [==============================] - 1s 11ms/step - loss: 28.4301 - root_mean_squared_error: 44.7995 - val_loss: 50.6035 - val_root_mean_squared_error: 79.2800\n"
     ]
    },
    {
     "name": "stdout",
     "output_type": "stream",
     "text": [
      "Epoch 185/1000\n",
      "50/50 [==============================] - 1s 10ms/step - loss: 27.3523 - root_mean_squared_error: 43.2120 - val_loss: 44.9907 - val_root_mean_squared_error: 67.9734\n",
      "Epoch 186/1000\n",
      "50/50 [==============================] - 1s 11ms/step - loss: 25.1604 - root_mean_squared_error: 36.5859 - val_loss: 42.2003 - val_root_mean_squared_error: 63.4040\n",
      "Epoch 187/1000\n",
      "50/50 [==============================] - 1s 10ms/step - loss: 26.1966 - root_mean_squared_error: 38.0468 - val_loss: 43.4846 - val_root_mean_squared_error: 66.3644\n",
      "Epoch 188/1000\n",
      "50/50 [==============================] - 1s 11ms/step - loss: 27.4884 - root_mean_squared_error: 42.2481 - val_loss: 43.9461 - val_root_mean_squared_error: 67.7146\n",
      "Epoch 189/1000\n",
      "50/50 [==============================] - 1s 11ms/step - loss: 25.8804 - root_mean_squared_error: 38.3267 - val_loss: 46.8481 - val_root_mean_squared_error: 70.2192\n",
      "Epoch 190/1000\n",
      "50/50 [==============================] - 1s 10ms/step - loss: 27.3851 - root_mean_squared_error: 40.8347 - val_loss: 44.5750 - val_root_mean_squared_error: 68.1139\n",
      "Epoch 191/1000\n",
      "50/50 [==============================] - 1s 11ms/step - loss: 25.8943 - root_mean_squared_error: 37.7458 - val_loss: 45.8130 - val_root_mean_squared_error: 68.6656\n",
      "Epoch 192/1000\n",
      "50/50 [==============================] - 1s 11ms/step - loss: 24.4729 - root_mean_squared_error: 35.4366 - val_loss: 41.8012 - val_root_mean_squared_error: 62.6374\n",
      "Epoch 193/1000\n",
      "50/50 [==============================] - 1s 11ms/step - loss: 26.9687 - root_mean_squared_error: 42.2371 - val_loss: 43.8562 - val_root_mean_squared_error: 64.6758\n",
      "Epoch 194/1000\n",
      "50/50 [==============================] - 1s 10ms/step - loss: 26.1116 - root_mean_squared_error: 40.7311 - val_loss: 47.1621 - val_root_mean_squared_error: 71.5217\n",
      "Epoch 195/1000\n",
      "50/50 [==============================] - 1s 11ms/step - loss: 24.7942 - root_mean_squared_error: 35.9557 - val_loss: 46.1959 - val_root_mean_squared_error: 70.0141\n",
      "Epoch 196/1000\n",
      "50/50 [==============================] - 1s 10ms/step - loss: 26.2389 - root_mean_squared_error: 39.2359 - val_loss: 45.6546 - val_root_mean_squared_error: 67.2014\n",
      "Epoch 197/1000\n",
      "50/50 [==============================] - 1s 11ms/step - loss: 28.0481 - root_mean_squared_error: 39.9497 - val_loss: 46.6469 - val_root_mean_squared_error: 71.1081\n",
      "Epoch 198/1000\n",
      "50/50 [==============================] - 1s 11ms/step - loss: 25.4678 - root_mean_squared_error: 36.5487 - val_loss: 43.8240 - val_root_mean_squared_error: 65.4907\n",
      "Epoch 199/1000\n",
      "50/50 [==============================] - 1s 10ms/step - loss: 25.8007 - root_mean_squared_error: 40.2866 - val_loss: 43.3786 - val_root_mean_squared_error: 65.3732\n",
      "Epoch 200/1000\n",
      "50/50 [==============================] - 1s 10ms/step - loss: 25.7842 - root_mean_squared_error: 38.1908 - val_loss: 45.3048 - val_root_mean_squared_error: 68.3782\n",
      "Epoch 201/1000\n",
      "50/50 [==============================] - 1s 10ms/step - loss: 27.6531 - root_mean_squared_error: 41.9964 - val_loss: 44.9922 - val_root_mean_squared_error: 69.1709\n",
      "Epoch 202/1000\n",
      "50/50 [==============================] - 1s 11ms/step - loss: 27.9809 - root_mean_squared_error: 44.0595 - val_loss: 47.4343 - val_root_mean_squared_error: 71.9934\n",
      "Epoch 203/1000\n",
      "50/50 [==============================] - 1s 10ms/step - loss: 28.1461 - root_mean_squared_error: 40.2249 - val_loss: 48.6284 - val_root_mean_squared_error: 72.7586\n",
      "Epoch 204/1000\n",
      "50/50 [==============================] - 1s 10ms/step - loss: 25.8725 - root_mean_squared_error: 37.5155 - val_loss: 47.7430 - val_root_mean_squared_error: 75.0244\n",
      "Epoch 205/1000\n",
      "50/50 [==============================] - 1s 11ms/step - loss: 26.1786 - root_mean_squared_error: 38.1583 - val_loss: 45.4997 - val_root_mean_squared_error: 69.8011\n",
      "Epoch 206/1000\n",
      "50/50 [==============================] - 1s 11ms/step - loss: 26.7044 - root_mean_squared_error: 42.1716 - val_loss: 45.2011 - val_root_mean_squared_error: 68.0957\n",
      "Epoch 207/1000\n",
      "50/50 [==============================] - 1s 10ms/step - loss: 27.7803 - root_mean_squared_error: 41.3378 - val_loss: 45.6923 - val_root_mean_squared_error: 68.6606\n",
      "Epoch 208/1000\n",
      "50/50 [==============================] - 1s 11ms/step - loss: 25.8058 - root_mean_squared_error: 36.2931 - val_loss: 45.6318 - val_root_mean_squared_error: 67.8121\n",
      "Epoch 209/1000\n",
      "50/50 [==============================] - 1s 11ms/step - loss: 26.7609 - root_mean_squared_error: 39.3701 - val_loss: 46.4934 - val_root_mean_squared_error: 68.6310\n",
      "Epoch 210/1000\n",
      "50/50 [==============================] - 1s 11ms/step - loss: 26.5917 - root_mean_squared_error: 41.9343 - val_loss: 45.8329 - val_root_mean_squared_error: 68.1912\n",
      "Epoch 211/1000\n",
      "50/50 [==============================] - 1s 10ms/step - loss: 29.1441 - root_mean_squared_error: 45.3182 - val_loss: 45.3154 - val_root_mean_squared_error: 68.9756\n",
      "Epoch 212/1000\n",
      "50/50 [==============================] - 1s 11ms/step - loss: 26.5632 - root_mean_squared_error: 38.8197 - val_loss: 44.4494 - val_root_mean_squared_error: 65.1641\n",
      "Epoch 213/1000\n",
      "50/50 [==============================] - 1s 11ms/step - loss: 27.8672 - root_mean_squared_error: 44.9111 - val_loss: 48.5682 - val_root_mean_squared_error: 75.7428\n",
      "Epoch 214/1000\n",
      "50/50 [==============================] - 1s 11ms/step - loss: 25.4439 - root_mean_squared_error: 37.2898 - val_loss: 43.4204 - val_root_mean_squared_error: 65.2336\n",
      "Epoch 215/1000\n",
      "50/50 [==============================] - 1s 11ms/step - loss: 27.2353 - root_mean_squared_error: 41.8239 - val_loss: 45.0905 - val_root_mean_squared_error: 66.2996\n",
      "Epoch 216/1000\n",
      "50/50 [==============================] - 1s 11ms/step - loss: 25.6759 - root_mean_squared_error: 39.0174 - val_loss: 46.1752 - val_root_mean_squared_error: 70.7422\n",
      "Epoch 217/1000\n",
      "50/50 [==============================] - 1s 11ms/step - loss: 27.1677 - root_mean_squared_error: 39.9026 - val_loss: 47.7909 - val_root_mean_squared_error: 70.5887\n",
      "Epoch 218/1000\n",
      "50/50 [==============================] - 1s 11ms/step - loss: 25.9268 - root_mean_squared_error: 37.7344 - val_loss: 46.7765 - val_root_mean_squared_error: 71.9966\n",
      "Epoch 219/1000\n",
      "50/50 [==============================] - 1s 10ms/step - loss: 26.1252 - root_mean_squared_error: 39.0531 - val_loss: 44.7352 - val_root_mean_squared_error: 68.4099\n",
      "Epoch 220/1000\n",
      "50/50 [==============================] - 1s 10ms/step - loss: 24.5266 - root_mean_squared_error: 37.1418 - val_loss: 44.5502 - val_root_mean_squared_error: 66.5338\n",
      "Epoch 221/1000\n",
      "50/50 [==============================] - 1s 11ms/step - loss: 24.5171 - root_mean_squared_error: 37.0496 - val_loss: 47.3903 - val_root_mean_squared_error: 76.1329\n",
      "Epoch 222/1000\n",
      "50/50 [==============================] - 1s 10ms/step - loss: 26.2626 - root_mean_squared_error: 41.4865 - val_loss: 45.1936 - val_root_mean_squared_error: 66.9454\n",
      "Epoch 223/1000\n",
      "50/50 [==============================] - 1s 11ms/step - loss: 28.5195 - root_mean_squared_error: 40.9023 - val_loss: 44.7871 - val_root_mean_squared_error: 67.0101\n",
      "Epoch 224/1000\n",
      "50/50 [==============================] - 1s 11ms/step - loss: 27.8428 - root_mean_squared_error: 45.7092 - val_loss: 44.6317 - val_root_mean_squared_error: 69.7053\n",
      "Epoch 225/1000\n",
      "50/50 [==============================] - 1s 11ms/step - loss: 27.2990 - root_mean_squared_error: 42.4889 - val_loss: 48.4743 - val_root_mean_squared_error: 73.6681\n",
      "Epoch 226/1000\n",
      "50/50 [==============================] - 1s 10ms/step - loss: 27.5566 - root_mean_squared_error: 43.2235 - val_loss: 46.9878 - val_root_mean_squared_error: 70.0024\n",
      "Epoch 227/1000\n",
      "50/50 [==============================] - 1s 10ms/step - loss: 27.1601 - root_mean_squared_error: 41.0648 - val_loss: 49.0424 - val_root_mean_squared_error: 78.0055\n"
     ]
    }
   ],
   "source": [
    "simple_model.compile(optimizer=opt, loss=loss, metrics=[acc])\n",
    "history = simple_model.fit(train_dataset, epochs=1000, validation_data=val_dataset, callbacks=[ckpt, earlystopping])"
   ]
  },
  {
   "cell_type": "markdown",
   "metadata": {},
   "source": [
    "## Plot the learning curves"
   ]
  },
  {
   "cell_type": "code",
   "execution_count": 101,
   "metadata": {
    "scrolled": true
   },
   "outputs": [
    {
     "data": {
      "image/png": "[encoded data removed]",
      "text/plain": [
       "<Figure size 1008x288 with 2 Axes>"
      ]
     },
     "metadata": {
      "needs_background": "light"
     },
     "output_type": "display_data"
    }
   ],
   "source": [
    "# Plot the learning curves\n",
    "\n",
    "import matplotlib.pyplot as plt\n",
    "\n",
    "fig = plt.figure(figsize=(14, 4))\n",
    "\n",
    "fig.add_subplot(121)\n",
    "plt.plot(history.history['loss'][10:], label='train', color='C0', linestyle='-')\n",
    "plt.plot(history.history['val_loss'][10:], label='valid', color='C1', linestyle=':')\n",
    "plt.title(\"Loss vs epochs\")\n",
    "plt.xlabel(\"Epochs\")\n",
    "plt.ylabel(\"MAE loss\")\n",
    "plt.legend()\n",
    "\n",
    "fig.add_subplot(122)\n",
    "plt.plot(history.history['root_mean_squared_error'][10:], label='train', color='C0', linestyle='-')\n",
    "plt.plot(history.history['val_root_mean_squared_error'][10:], label='valid', color='C1', linestyle=':')\n",
    "plt.title(\"RMSE vs epochs\")\n",
    "plt.xlabel(\"Epochs\")\n",
    "plt.ylabel(\"RMSE\")\n",
    "plt.legend()\n",
    "\n",
    "plt.show()\n",
    "print(simple_model.evaluate(val_dataset, return_dict=True, verbose=0))"
   ]
  },
  {
   "cell_type": "markdown",
   "metadata": {},
   "source": [
    "## Load saved model"
   ]
  },
  {
   "cell_type": "code",
   "execution_count": 208,
   "metadata": {
    "scrolled": true
   },
   "outputs": [
    {
     "name": "stdout",
     "output_type": "stream",
     "text": [
      "{'loss': 35.863948822021484, 'root_mean_squared_error': 53.04957580566406}\n",
      "{'loss': 49.04244613647461, 'root_mean_squared_error': 78.0054931640625}\n"
     ]
    }
   ],
   "source": [
    "from models import get_simple_mlp_concentrations\n",
    "import tensorflow as tf\n",
    "\n",
    "\n",
    "simple_model_load = get_simple_mlp_concentrations(input_shape=(10000,), hidden_units=[256, 256])\n",
    "opt = tf.keras.optimizers.Adam(lr=0.0005)\n",
    "loss = tf.keras.losses.MeanAbsoluteError()\n",
    "acc = tf.keras.metrics.RootMeanSquaredError()\n",
    "simple_model_load.compile(optimizer=opt, loss=loss, metrics=[acc])\n",
    "status = tf.train.Checkpoint(model=simple_model_load).restore(tf.train.latest_checkpoint('../saved_models/concentrations')).expect_partial()\n",
    "status.assert_existing_objects_matched()"
   ]
  },
  {
   "cell_type": "markdown",
   "metadata": {},
   "source": [
    "# Performances:"
   ]
  },
  {
   "cell_type": "markdown",
   "metadata": {},
   "source": [
    "## Plot the concentrations for a random exmple of the validation dataset"
   ]
  },
  {
   "cell_type": "code",
   "execution_count": 106,
   "metadata": {},
   "outputs": [
    {
     "data": {
      "image/png": "[encoded data removed]",
      "text/plain": [
       "<Figure size 1332x756 with 3 Axes>"
      ]
     },
     "metadata": {
      "needs_background": "light"
     },
     "output_type": "display_data"
    },
    {
     "name": "stdout",
     "output_type": "stream",
     "text": [
      "['Creatinine' 'Hippuric_acid' 'Citric_acid' 'Glycine' 'TMAO' 'Histidine'\n",
      " 'phenylacetylglutamine' 'Taurine' 'glycolic_acid' 'Formate' 'Glutamine'\n",
      " 'Lactate' 'lysine' 'cis-aconitic_acid' 'L_Tyrosine' 'Creatine'\n",
      " 'Dimethylamine' 'guanidoacetic_acid' 'p-cresol_sulfate' 'L-alanine'\n",
      " 'Arabitol' 'Isocitrate' 'Betaine' 'N-methylnicotinic_acid' 'acetate'\n",
      " 'succinic_acid' 'Threonic_acid' 'Trimethylamine'\n",
      " 'p-Hydroxyphenylacetic acid' 'beta-D-fructose' 'Dimethylglycine' 'NMND'\n",
      " '2-oxoglutarate' 'Galactose' 'Phenylacetate' 'L-carnosine' 'leucine'\n",
      " 'Malic_acid' '2_hydroxybutyrate' 'Methionine' 'Isoleucine'\n",
      " 'L-Glutamic_acid' 'citrulline' '2_deoxycytidine'\n",
      " 'N-Acetyl-L-aspartic_acid' '2_deoxyadenosine' 'n-butyrate' 'L-serine']\n"
     ]
    }
   ],
   "source": [
    "import matplotlib.pyplot as plt\n",
    "import numpy as np\n",
    "\n",
    "filename_mean_concentrations = '../data/concentration_data/normal_urine.txt'\n",
    "mean_concentrations = np.loadtxt(filename_mean_concentrations, delimiter='\\t', dtype=float, usecols=1, skiprows=1)\n",
    "\n",
    "filename_concentrations = '../data/concentration_data/Concentrations_Mix1.txt'\n",
    "metabolites = np.loadtxt(filename_concentrations, delimiter='\\t', dtype=str, usecols=0)\n",
    "\n",
    "metab_number = range(48)\n",
    "for parsed_record in val_dataset.shuffle(1000).take(1):\n",
    "    true_concentration = parsed_record[1][0].numpy()\n",
    "    pred_concentration = simple_model_load(parsed_record[0])[0].numpy()\n",
    "\n",
    "\n",
    "fig, (ax1, ax2, ax3) = plt.subplots(3)\n",
    "fig.set_size_inches(18.5, 10.5)\n",
    "\n",
    "ax1.bar(metab_number,true_concentration)\n",
    "ax1.set_title(\"True concentrations\")\n",
    "ax1.set_ylim(0, 14000)\n",
    "\n",
    "ax2.bar(metab_number, pred_concentration)\n",
    "ax2.set_title(\"Pred concentrations\")\n",
    "ax2.set_ylim(0, 14000)\n",
    "\n",
    "ax3.bar(metab_number, mean_concentrations)\n",
    "ax3.set_title(\"Mean concentrations\")\n",
    "ax3.set_ylim(0, 14000)\n",
    "\n",
    "plt.show()\n",
    "\n",
    "print(metabolites)\n",
    "\n"
   ]
  },
  {
   "cell_type": "markdown",
   "metadata": {},
   "source": [
    "# RMSE"
   ]
  },
  {
   "cell_type": "code",
   "execution_count": 259,
   "metadata": {},
   "outputs": [
    {
     "name": "stdout",
     "output_type": "stream",
     "text": [
      "Validation:  {'loss': 35.863948822021484, 'root_mean_squared_error': 53.04957580566406}\n",
      "Train:  {'loss': 19.248687744140625, 'root_mean_squared_error': 27.2247257232666}\n"
     ]
    }
   ],
   "source": [
    "print('Validation: ', simple_model_load.evaluate(val_dataset, return_dict=True, verbose=0))\n",
    "print('Train: ', simple_model_load.evaluate(train_dataset, return_dict=True, verbose=0))"
   ]
  },
  {
   "cell_type": "markdown",
   "metadata": {},
   "source": [
    "## Compute element wise RMSE"
   ]
  },
  {
   "cell_type": "code",
   "execution_count": 290,
   "metadata": {
    "scrolled": false
   },
   "outputs": [
    {
     "name": "stdout",
     "output_type": "stream",
     "text": [
      "                                  RMSE  Mean concentrations  < 0.3 mean\n",
      "Creatinine                  130.413061             3960.000        True\n",
      "Hippuric_acid                78.699586              792.000        True\n",
      "Citric_acid                  78.749951              606.600        True\n",
      "Glycine                      85.647173              308.700        True\n",
      "TMAO                         56.556828              294.624        True\n",
      "Histidine                    53.238705              284.400        True\n",
      "phenylacetylglutamine        42.132643              281.160        True\n",
      "Taurine                      89.210222              250.272        True\n",
      "glycolic_acid                60.314282              225.600        True\n",
      "Formate                      91.060764              174.900        True\n",
      "Glutamine                    72.920267              145.740        True\n",
      "Lactate                      46.548491              132.300        True\n",
      "lysine                       38.546043              126.720        True\n",
      "cis-aconitic_acid            49.409088              117.900        True\n",
      "L_Tyrosine                   44.585337              108.306        True\n",
      "Creatine                     37.174725              102.900        True\n",
      "Dimethylamine                27.107160               99.000        True\n",
      "guanidoacetic_acid           58.562295               90.000        True\n",
      "p-cresol_sulfate             34.807980               90.000        True\n",
      "L-alanine                    63.428389               87.000        True\n",
      "Arabitol                     46.918957               75.240        True\n",
      "Isocitrate                   68.888000               75.000        True\n",
      "Betaine                      34.113359               73.656        True\n",
      "N-methylnicotinic_acid       29.151589               66.900        True\n",
      "acetate                      34.346764               60.000        True\n",
      "succinic_acid                35.561122               49.896        True\n",
      "Threonic_acid                60.083306               39.600       False\n",
      "Trimethylamine               29.407403               30.480        True\n",
      "p-Hydroxyphenylacetic acid   28.520059               27.720       False\n",
      "beta-D-fructose              38.242591               25.500       False\n",
      "Dimethylglycine              21.623401               24.552        True\n",
      "NMND                         27.539221               24.150       False\n",
      "2-oxoglutarate               45.802922               23.100       False\n",
      "Galactose                    38.079003               17.424       False\n",
      "Phenylacetate                25.940701               16.500       False\n",
      "L-carnosine                  39.431892               13.860       False\n",
      "leucine                      24.691705               11.880       False\n",
      "Malic_acid                   38.193529               10.296       False\n",
      "2_hydroxybutyrate            25.301970                9.681       False\n",
      "Methionine                   26.263442                9.000       False\n",
      "Isoleucine                   26.784974                7.140       False\n",
      "L-Glutamic_acid              58.687110                6.777       False\n",
      "citrulline                   32.693352                4.278       False\n",
      "2_deoxycytidine              29.972504                2.574       False\n",
      "N-Acetyl-L-aspartic_acid     29.784015                1.584       False\n",
      "2_deoxyadenosine             34.761925                0.870       False\n",
      "n-butyrate                   21.376829                0.342       False\n",
      "L-serine                     96.087214              118.800        True\n",
      "29\n"
     ]
    }
   ],
   "source": [
    "mean_concentrations = np.loadtxt(filename_mean_concentrations, delimiter='\\t', dtype=float, usecols=1, skiprows=1)\n",
    "y_pred = simple_model_load.predict(val_dataset)\n",
    "true_val = []\n",
    "for batch in val_dataset:\n",
    "    true_val.append(batch[1])\n",
    "y_val = tf.concat(true_val, axis=0).numpy()\n",
    "element_wise_rmse = tf.math.sqrt(tf.reduce_mean(tf.math.square(y_val - y_pred), axis=0)).numpy()\n",
    "element_wise_rmse = pd.Series(element_wise_rmse, index=metabolites, name='RMSE')\n",
    "mean_concentrations = pd.Series(0.3*mean_concentrations, index=metabolites, name='Mean concentrations')\n",
    "rule_of_thumbs = pd.Series(element_wise_rmse < mean_concentrations, index=metabolites, name='< 0.3 mean')\n",
    "print(pd.concat([element_wise_rmse, mean_concentrations, rule_of_thumbs], axis=1))\n",
    "print(sum(rule_of_thumbs))"
   ]
  }
 ],
 "metadata": {
  "kernelspec": {
   "display_name": "Python 3",
   "language": "python",
   "name": "python3"
  },
  "language_info": {
   "codemirror_mode": {
    "name": "ipython",
    "version": 3
   },
   "file_extension": ".py",
   "mimetype": "text/x-python",
   "name": "python",
   "nbconvert_exporter": "python",
   "pygments_lexer": "ipython3",
   "version": "3.8.5"
  }
 },
 "nbformat": 4,
 "nbformat_minor": 1
}
