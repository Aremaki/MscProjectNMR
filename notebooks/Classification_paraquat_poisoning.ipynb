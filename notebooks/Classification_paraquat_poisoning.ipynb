{
 "cells": [
  {
   "cell_type": "markdown",
   "metadata": {
    "collapsed": true
   },
   "source": [
    "# Classification of normal urine and Paraquat poisoned cases (Simulation)"
   ]
  },
  {
   "cell_type": "markdown",
   "metadata": {},
   "source": [
    "## Install required python modules"
   ]
  },
  {
   "cell_type": "code",
   "execution_count": 4,
   "metadata": {
    "scrolled": false
   },
   "outputs": [
    {
     "name": "stdout",
     "output_type": "stream",
     "text": [
      "Obtaining file:///data/ar1220/MscProjectNMR\n",
      "Installing collected packages: MscProjectNMR\n",
      "  Attempting uninstall: MscProjectNMR\n",
      "    Found existing installation: MscProjectNMR 0\n",
      "    Uninstalling MscProjectNMR-0:\n",
      "      Successfully uninstalled MscProjectNMR-0\n",
      "  Running setup.py develop for MscProjectNMR\n",
      "Successfully installed MscProjectNMR\n"
     ]
    }
   ],
   "source": [
    "%%bash\n",
    "pip install -e ../."
   ]
  },
  {
   "cell_type": "code",
   "execution_count": null,
   "metadata": {
    "scrolled": false
   },
   "outputs": [],
   "source": [
    "%%bash\n",
    "pip install -r ../requirements.txt"
   ]
  },
  {
   "cell_type": "markdown",
   "metadata": {},
   "source": [
    "# Default setting (4 metabolites changed)"
   ]
  },
  {
   "cell_type": "markdown",
   "metadata": {},
   "source": [
    "\"Creatinine\"\t0.18\t0.07\n",
    "\"Citric acid\"\t0.04\t0.04\n",
    "\"L-Lactic acid\"\t14.24\t14.24\n",
    "\"L-Alanine\"\t5.28\t5.28"
   ]
  },
  {
   "cell_type": "markdown",
   "metadata": {},
   "source": [
    "## Import data"
   ]
  },
  {
   "cell_type": "code",
   "execution_count": 24,
   "metadata": {
    "scrolled": false
   },
   "outputs": [],
   "source": [
    "import numpy as np\n",
    "\n",
    "filename_control = '../data/Simulation/Default_setting/Spectra_Mixt1.txt'\n",
    "filename_case = '../data/Simulation/Default_setting/Spectra_Mix2.txt'\n",
    "data_control = np.loadtxt(filename_control, dtype=float)\n",
    "data_case = np.loadtxt(filename_case, dtype=float)"
   ]
  },
  {
   "cell_type": "code",
   "execution_count": 31,
   "metadata": {
    "scrolled": false
   },
   "outputs": [],
   "source": [
    "#Convert into dataframes\n",
    "import pandas as pd\n",
    "\n",
    "df_control = pd.DataFrame(data_control).T\n",
    "df_case = pd.DataFrame(data_case).T\n",
    "\n",
    "#Concatenate control and case df\n",
    "df_NMR_intensities = pd.concat([df_control, df_case])\n",
    "df_status = [0] * df_control.shape[0] + [1] * df_case.shape[0]"
   ]
  },
  {
   "cell_type": "markdown",
   "metadata": {},
   "source": [
    "## Shuffle the data"
   ]
  },
  {
   "cell_type": "code",
   "execution_count": 32,
   "metadata": {
    "scrolled": false
   },
   "outputs": [],
   "source": [
    "from sklearn.utils import shuffle\n",
    "\n",
    "df_status, df_NMR_intensities = shuffle(df_status, df_NMR_intensities)"
   ]
  },
  {
   "cell_type": "code",
   "execution_count": 33,
   "metadata": {
    "scrolled": false
   },
   "outputs": [
    {
     "data": {
      "text/plain": [
       "(20000, 10000)"
      ]
     },
     "execution_count": 33,
     "metadata": {},
     "output_type": "execute_result"
    }
   ],
   "source": [
    "df_NMR_intensities.shape"
   ]
  },
  {
   "cell_type": "markdown",
   "metadata": {},
   "source": [
    "## Convert into tf.data"
   ]
  },
  {
   "cell_type": "code",
   "execution_count": 34,
   "metadata": {
    "scrolled": false
   },
   "outputs": [
    {
     "data": {
      "text/plain": [
       "(TensorSpec(shape=(10000,), dtype=tf.float64, name=None),\n",
       " TensorSpec(shape=(), dtype=tf.int32, name=None))"
      ]
     },
     "execution_count": 34,
     "metadata": {},
     "output_type": "execute_result"
    }
   ],
   "source": [
    "import tensorflow as tf\n",
    "\n",
    "dataset = tf.data.Dataset.from_tensor_slices((df_NMR_intensities, df_status))\n",
    "dataset.element_spec"
   ]
  },
  {
   "cell_type": "markdown",
   "metadata": {},
   "source": [
    "## Write tf.Record"
   ]
  },
  {
   "cell_type": "code",
   "execution_count": 5,
   "metadata": {
    "scrolled": false
   },
   "outputs": [],
   "source": [
    "from tfrecords import write_tfrecords"
   ]
  },
  {
   "cell_type": "code",
   "execution_count": 35,
   "metadata": {
    "scrolled": false
   },
   "outputs": [],
   "source": [
    "write_tfrecords('../data/tfrecords/Classification/Default_setting', dataset=dataset, number=20)"
   ]
  },
  {
   "cell_type": "markdown",
   "metadata": {},
   "source": [
    "## Read the tf.Record files"
   ]
  },
  {
   "cell_type": "code",
   "execution_count": 36,
   "metadata": {
    "scrolled": false
   },
   "outputs": [],
   "source": [
    "from tfrecords import read_tfrecords"
   ]
  },
  {
   "cell_type": "code",
   "execution_count": 37,
   "metadata": {
    "scrolled": false
   },
   "outputs": [],
   "source": [
    "file_paths = ['../data/tfrecords/Classification/Default_setting/data_{}.tfrecord'.format(i) for i in range(20)]\n",
    "full_dataset = read_tfrecords(file_paths)"
   ]
  },
  {
   "cell_type": "markdown",
   "metadata": {},
   "source": [
    "## Split data into train and validation datasets"
   ]
  },
  {
   "cell_type": "code",
   "execution_count": 38,
   "metadata": {
    "scrolled": false
   },
   "outputs": [],
   "source": [
    "from models import process_dataset"
   ]
  },
  {
   "cell_type": "code",
   "execution_count": 39,
   "metadata": {
    "scrolled": false
   },
   "outputs": [],
   "source": [
    "train_dataset, val_dataset, test_dataset = process_dataset(full_dataset, batch_sizes=[64] * 3, shuffle_buffers=20000,\n",
    "                                                           train_prop=0.8, val_prop=0.2)"
   ]
  },
  {
   "cell_type": "markdown",
   "metadata": {},
   "source": [
    "## Define Checkpoint"
   ]
  },
  {
   "cell_type": "code",
   "execution_count": 13,
   "metadata": {
    "scrolled": false
   },
   "outputs": [],
   "source": [
    "from models import CheckpointCallback\n",
    "\n",
    "# Create a CheckpointCallback to save the model    \n",
    "ckpt = CheckpointCallback(\"../saved_models/sanity_check\")"
   ]
  },
  {
   "cell_type": "markdown",
   "metadata": {},
   "source": [
    "## Define simple MLP"
   ]
  },
  {
   "cell_type": "code",
   "execution_count": 40,
   "metadata": {
    "scrolled": false
   },
   "outputs": [
    {
     "name": "stdout",
     "output_type": "stream",
     "text": [
      "Model: \"functional_9\"\n",
      "_________________________________________________________________\n",
      "Layer (type)                 Output Shape              Param #   \n",
      "=================================================================\n",
      "input_5 (InputLayer)         [(None, 10000)]           0         \n",
      "_________________________________________________________________\n",
      "dense_20 (Dense)             (None, 256)               2560256   \n",
      "_________________________________________________________________\n",
      "dense_21 (Dense)             (None, 256)               65792     \n",
      "_________________________________________________________________\n",
      "dense_22 (Dense)             (None, 1)                 257       \n",
      "=================================================================\n",
      "Total params: 2,626,305\n",
      "Trainable params: 2,626,305\n",
      "Non-trainable params: 0\n",
      "_________________________________________________________________\n"
     ]
    }
   ],
   "source": [
    "from models import get_simple_mlp\n",
    "\n",
    "simple_model = get_simple_mlp(input_shape=(10000,), hidden_units=[256, 256])\n",
    "simple_model.summary()"
   ]
  },
  {
   "cell_type": "code",
   "execution_count": 41,
   "metadata": {
    "scrolled": false
   },
   "outputs": [
    {
     "name": "stdout",
     "output_type": "stream",
     "text": [
      "Model: \"functional_11\"\n",
      "_________________________________________________________________\n",
      "Layer (type)                 Output Shape              Param #   \n",
      "=================================================================\n",
      "input_6 (InputLayer)         [(None, 10000)]           0         \n",
      "_________________________________________________________________\n",
      "dense_23 (Dense)             (None, 1024)              10241024  \n",
      "_________________________________________________________________\n",
      "batch_normalization_12 (Batc (None, 1024)              4096      \n",
      "_________________________________________________________________\n",
      "dropout_12 (Dropout)         (None, 1024)              0         \n",
      "_________________________________________________________________\n",
      "dense_24 (Dense)             (None, 1024)              1049600   \n",
      "_________________________________________________________________\n",
      "batch_normalization_13 (Batc (None, 1024)              4096      \n",
      "_________________________________________________________________\n",
      "dropout_13 (Dropout)         (None, 1024)              0         \n",
      "_________________________________________________________________\n",
      "dense_25 (Dense)             (None, 1024)              1049600   \n",
      "_________________________________________________________________\n",
      "batch_normalization_14 (Batc (None, 1024)              4096      \n",
      "_________________________________________________________________\n",
      "dropout_14 (Dropout)         (None, 1024)              0         \n",
      "_________________________________________________________________\n",
      "dense_26 (Dense)             (None, 512)               524800    \n",
      "_________________________________________________________________\n",
      "batch_normalization_15 (Batc (None, 512)               2048      \n",
      "_________________________________________________________________\n",
      "dropout_15 (Dropout)         (None, 512)               0         \n",
      "_________________________________________________________________\n",
      "dense_27 (Dense)             (None, 512)               262656    \n",
      "_________________________________________________________________\n",
      "batch_normalization_16 (Batc (None, 512)               2048      \n",
      "_________________________________________________________________\n",
      "dropout_16 (Dropout)         (None, 512)               0         \n",
      "_________________________________________________________________\n",
      "dense_28 (Dense)             (None, 512)               262656    \n",
      "_________________________________________________________________\n",
      "batch_normalization_17 (Batc (None, 512)               2048      \n",
      "_________________________________________________________________\n",
      "dropout_17 (Dropout)         (None, 512)               0         \n",
      "_________________________________________________________________\n",
      "dense_29 (Dense)             (None, 1)                 513       \n",
      "=================================================================\n",
      "Total params: 13,409,281\n",
      "Trainable params: 13,400,065\n",
      "Non-trainable params: 9,216\n",
      "_________________________________________________________________\n"
     ]
    }
   ],
   "source": [
    "from models import get_regularised_bn_dropout_mlp\n",
    "\n",
    "regularised_bn_dropout_model = get_regularised_bn_dropout_mlp(input_shape=(10000,), hidden_units=[1024, 1024, 1024, 512, 512, 512],\n",
    "                                l2_reg_coeff=0.0001, dropout_rate=0.5)\n",
    "regularised_bn_dropout_model.summary()"
   ]
  },
  {
   "cell_type": "markdown",
   "metadata": {},
   "source": [
    "## Compile model"
   ]
  },
  {
   "cell_type": "code",
   "execution_count": 42,
   "metadata": {
    "scrolled": false
   },
   "outputs": [],
   "source": [
    "import tensorflow as tf\n",
    "opt = tf.keras.optimizers.Adam(lr=0.0005)\n",
    "loss = tf.keras.losses.BinaryCrossentropy(from_logits=False)\n",
    "acc = tf.keras.metrics.BinaryAccuracy()\n",
    "earlystopping = tf.keras.callbacks.EarlyStopping(patience=200)"
   ]
  },
  {
   "cell_type": "code",
   "execution_count": 43,
   "metadata": {
    "scrolled": true
   },
   "outputs": [
    {
     "name": "stdout",
     "output_type": "stream",
     "text": [
      "Epoch 1/20\n",
      "250/250 [==============================] - 5s 18ms/step - loss: 1.1042 - binary_accuracy: 0.9927 - val_loss: 0.0395 - val_binary_accuracy: 0.9990\n",
      "Epoch 2/20\n",
      "250/250 [==============================] - 4s 16ms/step - loss: 0.1086 - binary_accuracy: 0.9989 - val_loss: 0.0033 - val_binary_accuracy: 0.9998\n",
      "Epoch 3/20\n",
      "250/250 [==============================] - 4s 18ms/step - loss: 0.0164 - binary_accuracy: 0.9999 - val_loss: 0.0000e+00 - val_binary_accuracy: 1.0000\n",
      "Epoch 4/20\n",
      "250/250 [==============================] - 4s 18ms/step - loss: 1.1603e-12 - binary_accuracy: 1.0000 - val_loss: 0.0000e+00 - val_binary_accuracy: 1.0000\n",
      "Epoch 5/20\n",
      "250/250 [==============================] - 4s 16ms/step - loss: 1.1603e-12 - binary_accuracy: 1.0000 - val_loss: 0.0000e+00 - val_binary_accuracy: 1.0000\n",
      "Epoch 6/20\n",
      "250/250 [==============================] - 4s 18ms/step - loss: 1.1603e-12 - binary_accuracy: 1.0000 - val_loss: 0.0000e+00 - val_binary_accuracy: 1.0000\n",
      "Epoch 7/20\n",
      "250/250 [==============================] - 4s 16ms/step - loss: 1.1603e-12 - binary_accuracy: 1.0000 - val_loss: 0.0000e+00 - val_binary_accuracy: 1.0000\n",
      "Epoch 8/20\n",
      "250/250 [==============================] - 4s 17ms/step - loss: 1.1603e-12 - binary_accuracy: 1.0000 - val_loss: 0.0000e+00 - val_binary_accuracy: 1.0000\n",
      "Epoch 9/20\n",
      "250/250 [==============================] - 4s 16ms/step - loss: 1.1603e-12 - binary_accuracy: 1.0000 - val_loss: 0.0000e+00 - val_binary_accuracy: 1.0000\n",
      "Epoch 10/20\n",
      "250/250 [==============================] - 4s 18ms/step - loss: 1.1603e-12 - binary_accuracy: 1.0000 - val_loss: 0.0000e+00 - val_binary_accuracy: 1.0000\n",
      "Epoch 11/20\n",
      "250/250 [==============================] - 4s 17ms/step - loss: 1.1603e-12 - binary_accuracy: 1.0000 - val_loss: 0.0000e+00 - val_binary_accuracy: 1.0000\n",
      "Epoch 12/20\n",
      "250/250 [==============================] - 5s 18ms/step - loss: 1.1603e-12 - binary_accuracy: 1.0000 - val_loss: 0.0000e+00 - val_binary_accuracy: 1.0000\n",
      "Epoch 13/20\n",
      "250/250 [==============================] - 4s 17ms/step - loss: 1.1603e-12 - binary_accuracy: 1.0000 - val_loss: 0.0000e+00 - val_binary_accuracy: 1.0000\n",
      "Epoch 14/20\n",
      "250/250 [==============================] - 4s 17ms/step - loss: 1.1603e-12 - binary_accuracy: 1.0000 - val_loss: 0.0000e+00 - val_binary_accuracy: 1.0000\n",
      "Epoch 15/20\n",
      "250/250 [==============================] - 4s 17ms/step - loss: 1.1603e-12 - binary_accuracy: 1.0000 - val_loss: 0.0000e+00 - val_binary_accuracy: 1.0000\n",
      "Epoch 16/20\n",
      "250/250 [==============================] - 4s 18ms/step - loss: 1.1603e-12 - binary_accuracy: 1.0000 - val_loss: 0.0000e+00 - val_binary_accuracy: 1.0000\n",
      "Epoch 17/20\n",
      "250/250 [==============================] - 4s 17ms/step - loss: 1.1603e-12 - binary_accuracy: 1.0000 - val_loss: 0.0000e+00 - val_binary_accuracy: 1.0000\n",
      "Epoch 18/20\n",
      "250/250 [==============================] - 4s 18ms/step - loss: 1.1603e-12 - binary_accuracy: 1.0000 - val_loss: 0.0000e+00 - val_binary_accuracy: 1.0000\n",
      "Epoch 19/20\n",
      "250/250 [==============================] - 4s 18ms/step - loss: 1.1603e-12 - binary_accuracy: 1.0000 - val_loss: 0.0000e+00 - val_binary_accuracy: 1.0000\n",
      "Epoch 20/20\n",
      "250/250 [==============================] - 4s 16ms/step - loss: 1.1603e-12 - binary_accuracy: 1.0000 - val_loss: 0.0000e+00 - val_binary_accuracy: 1.0000\n"
     ]
    }
   ],
   "source": [
    "simple_model.compile(optimizer=opt, loss=loss, metrics=[acc])\n",
    "history = simple_model.fit(train_dataset, epochs=20, validation_data=val_dataset, callbacks=[earlystopping])"
   ]
  },
  {
   "cell_type": "markdown",
   "metadata": {},
   "source": [
    "## Plot the learning curves"
   ]
  },
  {
   "cell_type": "code",
   "execution_count": 45,
   "metadata": {
    "scrolled": false
   },
   "outputs": [
    {
     "data": {
      "image/png": "[encoded data removed]",
      "text/plain": [
       "<Figure size 1008x288 with 2 Axes>"
      ]
     },
     "metadata": {
      "needs_background": "light"
     },
     "output_type": "display_data"
    }
   ],
   "source": [
    "import matplotlib.pyplot as plt\n",
    "\n",
    "fig = plt.figure(figsize=(14, 4))\n",
    "\n",
    "fig.add_subplot(121)\n",
    "plt.plot(history.history['loss'], label='train', color='C0', linestyle='-')\n",
    "plt.plot(history.history['val_loss'], label='valid', color='C0', linestyle=':')\n",
    "plt.title(\"Loss vs epochs\")\n",
    "plt.xlabel(\"Epochs\")\n",
    "plt.ylabel(\"Binary cross entropy loss\")\n",
    "plt.legend()\n",
    "\n",
    "fig.add_subplot(122)\n",
    "plt.plot(history.history['binary_accuracy'], label='train', color='C0', linestyle='-')\n",
    "plt.plot(history.history['val_binary_accuracy'], label='valid', color='C0', linestyle=':')\n",
    "plt.title(\"Binary accuracy vs epochs\")\n",
    "plt.xlabel(\"Epochs\")\n",
    "plt.ylabel(\"Binary accuracy\")\n",
    "plt.legend()\n",
    "\n",
    "plt.show()"
   ]
  },
  {
   "cell_type": "markdown",
   "metadata": {},
   "source": [
    "# 1 Metbolite changed"
   ]
  },
  {
   "cell_type": "markdown",
   "metadata": {},
   "source": [
    "\"Creatinine\"\t0.5 \t0.5"
   ]
  },
  {
   "cell_type": "markdown",
   "metadata": {},
   "source": [
    "## Import data"
   ]
  },
  {
   "cell_type": "code",
   "execution_count": 51,
   "metadata": {
    "scrolled": false
   },
   "outputs": [],
   "source": [
    "import numpy as np\n",
    "\n",
    "filename_control = '../data/Simulation_classification/Creat_0.5_0.5/Spectra_Mixt1.txt'\n",
    "filename_case = '../data/Simulation_classification/Creat_0.5_0.5/Spectra_Mix2.txt'\n",
    "data_control = np.loadtxt(filename_control, dtype=float)\n",
    "data_case = np.loadtxt(filename_case, dtype=float)"
   ]
  },
  {
   "cell_type": "code",
   "execution_count": 52,
   "metadata": {
    "scrolled": false
   },
   "outputs": [],
   "source": [
    "#Convert into dataframes\n",
    "import pandas as pd\n",
    "\n",
    "df_control = pd.DataFrame(data_control).T\n",
    "df_case = pd.DataFrame(data_case).T\n",
    "\n",
    "#Concatenate control and case df\n",
    "df_NMR_intensities = pd.concat([df_control, df_case])\n",
    "df_status = [0] * df_control.shape[0] + [1] * df_case.shape[0]"
   ]
  },
  {
   "cell_type": "markdown",
   "metadata": {},
   "source": [
    "## Shuffle the data"
   ]
  },
  {
   "cell_type": "code",
   "execution_count": 53,
   "metadata": {
    "scrolled": false
   },
   "outputs": [],
   "source": [
    "from sklearn.utils import shuffle\n",
    "\n",
    "df_status, df_NMR_intensities = shuffle(df_status, df_NMR_intensities)"
   ]
  },
  {
   "cell_type": "code",
   "execution_count": 54,
   "metadata": {
    "scrolled": false
   },
   "outputs": [
    {
     "data": {
      "text/plain": [
       "(10000, 10000)"
      ]
     },
     "execution_count": 54,
     "metadata": {},
     "output_type": "execute_result"
    }
   ],
   "source": [
    "df_NMR_intensities.shape"
   ]
  },
  {
   "cell_type": "markdown",
   "metadata": {},
   "source": [
    "## Convert into tf.data"
   ]
  },
  {
   "cell_type": "code",
   "execution_count": 52,
   "metadata": {
    "scrolled": false
   },
   "outputs": [
    {
     "data": {
      "text/plain": [
       "(TensorSpec(shape=(10000,), dtype=tf.float64, name=None),\n",
       " TensorSpec(shape=(), dtype=tf.int32, name=None))"
      ]
     },
     "execution_count": 52,
     "metadata": {},
     "output_type": "execute_result"
    }
   ],
   "source": [
    "import tensorflow as tf\n",
    "\n",
    "dataset = tf.data.Dataset.from_tensor_slices((df_NMR_intensities, df_status))\n",
    "dataset.element_spec"
   ]
  },
  {
   "cell_type": "markdown",
   "metadata": {},
   "source": [
    "## Write tf.Record"
   ]
  },
  {
   "cell_type": "code",
   "execution_count": 55,
   "metadata": {
    "scrolled": false
   },
   "outputs": [],
   "source": [
    "from tfrecords import write_tfrecords"
   ]
  },
  {
   "cell_type": "code",
   "execution_count": 56,
   "metadata": {
    "scrolled": false
   },
   "outputs": [],
   "source": [
    "write_tfrecords('../data/tfrecords/Classification/Creat_0.5_0.5', dataset=dataset, number=20)"
   ]
  },
  {
   "cell_type": "markdown",
   "metadata": {},
   "source": [
    "## Read the tf.Record files"
   ]
  },
  {
   "cell_type": "code",
   "execution_count": 217,
   "metadata": {
    "scrolled": false
   },
   "outputs": [],
   "source": [
    "from tfrecords import read_tfrecords"
   ]
  },
  {
   "cell_type": "code",
   "execution_count": 218,
   "metadata": {
    "scrolled": false
   },
   "outputs": [],
   "source": [
    "file_paths = ['../data/tfrecords/Classification/Creat_0.5_0.5/data_{}.tfrecord'.format(i) for i in range(20)]\n",
    "full_dataset = read_tfrecords(file_paths)"
   ]
  },
  {
   "cell_type": "markdown",
   "metadata": {},
   "source": [
    "## Split data into train and validation datasets"
   ]
  },
  {
   "cell_type": "code",
   "execution_count": 219,
   "metadata": {
    "scrolled": false
   },
   "outputs": [],
   "source": [
    "from models import process_dataset"
   ]
  },
  {
   "cell_type": "code",
   "execution_count": 220,
   "metadata": {
    "scrolled": false
   },
   "outputs": [],
   "source": [
    "train_dataset, val_dataset, test_dataset = process_dataset(full_dataset, batch_sizes=[64] * 3, shuffle_buffers=10000,\n",
    "                                                           train_prop=0.8, val_prop=0.2)"
   ]
  },
  {
   "cell_type": "markdown",
   "metadata": {},
   "source": [
    "## Define Checkpoint"
   ]
  },
  {
   "cell_type": "code",
   "execution_count": 221,
   "metadata": {
    "scrolled": false
   },
   "outputs": [],
   "source": [
    "from models import CheckpointCallback\n",
    "\n",
    "# Create a CheckpointCallback to save the model    \n",
    "ckpt = CheckpointCallback(\"../saved_models/sanity_check\")"
   ]
  },
  {
   "cell_type": "markdown",
   "metadata": {},
   "source": [
    "## Define simple MLP"
   ]
  },
  {
   "cell_type": "code",
   "execution_count": 222,
   "metadata": {
    "scrolled": true
   },
   "outputs": [
    {
     "name": "stdout",
     "output_type": "stream",
     "text": [
      "Model: \"functional_61\"\n",
      "_________________________________________________________________\n",
      "Layer (type)                 Output Shape              Param #   \n",
      "=================================================================\n",
      "input_31 (InputLayer)        [(None, 10000)]           0         \n",
      "_________________________________________________________________\n",
      "dense_117 (Dense)            (None, 256)               2560256   \n",
      "_________________________________________________________________\n",
      "dense_118 (Dense)            (None, 256)               65792     \n",
      "_________________________________________________________________\n",
      "dense_119 (Dense)            (None, 1)                 257       \n",
      "=================================================================\n",
      "Total params: 2,626,305\n",
      "Trainable params: 2,626,305\n",
      "Non-trainable params: 0\n",
      "_________________________________________________________________\n"
     ]
    }
   ],
   "source": [
    "from models import get_simple_mlp\n",
    "\n",
    "simple_model = get_simple_mlp(input_shape=(10000,), hidden_units=[256, 256])\n",
    "simple_model.summary()"
   ]
  },
  {
   "cell_type": "markdown",
   "metadata": {},
   "source": [
    "## Compile model"
   ]
  },
  {
   "cell_type": "code",
   "execution_count": 223,
   "metadata": {
    "scrolled": false
   },
   "outputs": [],
   "source": [
    "import tensorflow as tf\n",
    "opt = tf.keras.optimizers.Adam(lr=0.0005)\n",
    "loss = tf.keras.losses.BinaryCrossentropy(from_logits=False)\n",
    "acc = tf.keras.metrics.BinaryAccuracy()\n",
    "earlystopping = tf.keras.callbacks.EarlyStopping(patience=200)"
   ]
  },
  {
   "cell_type": "code",
   "execution_count": 224,
   "metadata": {
    "scrolled": true
   },
   "outputs": [
    {
     "name": "stdout",
     "output_type": "stream",
     "text": [
      "Epoch 1/20\n",
      "125/125 [==============================] - 2s 19ms/step - loss: 8.2958 - binary_accuracy: 0.7916 - val_loss: 2.5258 - val_binary_accuracy: 0.6150\n",
      "Epoch 2/20\n",
      "125/125 [==============================] - 2s 18ms/step - loss: 1.4491 - binary_accuracy: 0.8085 - val_loss: 2.3323 - val_binary_accuracy: 0.8300\n",
      "Epoch 3/20\n",
      "125/125 [==============================] - 2s 18ms/step - loss: 0.9105 - binary_accuracy: 0.8275 - val_loss: 0.6595 - val_binary_accuracy: 0.8330\n",
      "Epoch 4/20\n",
      "125/125 [==============================] - 2s 18ms/step - loss: 0.6561 - binary_accuracy: 0.8332 - val_loss: 0.6310 - val_binary_accuracy: 0.8510\n",
      "Epoch 5/20\n",
      "125/125 [==============================] - 2s 18ms/step - loss: 0.5006 - binary_accuracy: 0.8415 - val_loss: 0.7150 - val_binary_accuracy: 0.8110\n",
      "Epoch 6/20\n",
      "125/125 [==============================] - 2s 17ms/step - loss: 0.4087 - binary_accuracy: 0.8482 - val_loss: 0.4626 - val_binary_accuracy: 0.8580\n",
      "Epoch 7/20\n",
      "125/125 [==============================] - 2s 18ms/step - loss: 0.7536 - binary_accuracy: 0.8229 - val_loss: 0.5196 - val_binary_accuracy: 0.8470\n",
      "Epoch 8/20\n",
      "125/125 [==============================] - 2s 19ms/step - loss: 0.5064 - binary_accuracy: 0.8376 - val_loss: 0.3970 - val_binary_accuracy: 0.8565\n",
      "Epoch 9/20\n",
      "125/125 [==============================] - 2s 18ms/step - loss: 0.3605 - binary_accuracy: 0.8631 - val_loss: 0.3863 - val_binary_accuracy: 0.8370\n",
      "Epoch 10/20\n",
      "125/125 [==============================] - 2s 19ms/step - loss: 0.3624 - binary_accuracy: 0.8593 - val_loss: 0.4419 - val_binary_accuracy: 0.8635\n",
      "Epoch 11/20\n",
      "125/125 [==============================] - 2s 18ms/step - loss: 0.3205 - binary_accuracy: 0.8702 - val_loss: 0.3602 - val_binary_accuracy: 0.8540\n",
      "Epoch 12/20\n",
      "125/125 [==============================] - 2s 18ms/step - loss: 0.2976 - binary_accuracy: 0.8814 - val_loss: 0.3645 - val_binary_accuracy: 0.8570\n",
      "Epoch 13/20\n",
      "125/125 [==============================] - 2s 19ms/step - loss: 0.3575 - binary_accuracy: 0.8675 - val_loss: 0.4989 - val_binary_accuracy: 0.8465\n",
      "Epoch 14/20\n",
      "125/125 [==============================] - 2s 18ms/step - loss: 0.3500 - binary_accuracy: 0.8645 - val_loss: 0.3691 - val_binary_accuracy: 0.8435\n",
      "Epoch 15/20\n",
      "125/125 [==============================] - 2s 18ms/step - loss: 0.2966 - binary_accuracy: 0.8838 - val_loss: 0.6980 - val_binary_accuracy: 0.7710\n",
      "Epoch 16/20\n",
      "125/125 [==============================] - 2s 18ms/step - loss: 0.3276 - binary_accuracy: 0.8741 - val_loss: 0.3735 - val_binary_accuracy: 0.8565\n",
      "Epoch 17/20\n",
      "125/125 [==============================] - 2s 17ms/step - loss: 0.3280 - binary_accuracy: 0.8685 - val_loss: 0.5360 - val_binary_accuracy: 0.8500\n",
      "Epoch 18/20\n",
      "125/125 [==============================] - 2s 18ms/step - loss: 0.3080 - binary_accuracy: 0.8811 - val_loss: 0.3769 - val_binary_accuracy: 0.8540\n",
      "Epoch 19/20\n",
      "125/125 [==============================] - 2s 18ms/step - loss: 0.2881 - binary_accuracy: 0.8849 - val_loss: 0.4744 - val_binary_accuracy: 0.8575\n",
      "Epoch 20/20\n",
      "125/125 [==============================] - 2s 19ms/step - loss: 0.3139 - binary_accuracy: 0.8786 - val_loss: 0.4168 - val_binary_accuracy: 0.8550\n"
     ]
    }
   ],
   "source": [
    "simple_model.compile(optimizer=opt, loss=loss, metrics=[acc])\n",
    "history = simple_model.fit(train_dataset, epochs=20, validation_data=val_dataset, callbacks=[earlystopping])"
   ]
  },
  {
   "cell_type": "markdown",
   "metadata": {},
   "source": [
    "## Plot the learning curves"
   ]
  },
  {
   "cell_type": "code",
   "execution_count": 225,
   "metadata": {
    "scrolled": false
   },
   "outputs": [
    {
     "data": {
      "image/png": "[encoded data removed]",
      "text/plain": [
       "<Figure size 1008x288 with 2 Axes>"
      ]
     },
     "metadata": {
      "needs_background": "light"
     },
     "output_type": "display_data"
    }
   ],
   "source": [
    "import matplotlib.pyplot as plt\n",
    "\n",
    "fig = plt.figure(figsize=(14, 4))\n",
    "\n",
    "fig.add_subplot(121)\n",
    "plt.plot(history.history['loss'][:], label='train', color='C0', linestyle='-')\n",
    "plt.plot(history.history['val_loss'][:], label='valid', color='C0', linestyle=':')\n",
    "plt.title(\"Loss vs epochs\")\n",
    "plt.xlabel(\"Epochs\")\n",
    "plt.ylabel(\"Binary cross entropy loss\")\n",
    "plt.legend()\n",
    "\n",
    "fig.add_subplot(122)\n",
    "plt.plot(history.history['binary_accuracy'], label='train', color='C0', linestyle='-')\n",
    "plt.plot(history.history['val_binary_accuracy'], label='valid', color='C0', linestyle=':')\n",
    "plt.title(\"Binary accuracy vs epochs\")\n",
    "plt.xlabel(\"Epochs\")\n",
    "plt.ylabel(\"Binary accuracy\")\n",
    "plt.legend()\n",
    "\n",
    "plt.show()"
   ]
  },
  {
   "cell_type": "code",
   "execution_count": 226,
   "metadata": {
    "scrolled": true
   },
   "outputs": [
    {
     "name": "stdout",
     "output_type": "stream",
     "text": [
      "32/32 [==============================] - 0s 12ms/step - loss: 0.4168 - binary_accuracy: 0.8550\n",
      "[0.4167819321155548, 0.8550000190734863]\n"
     ]
    }
   ],
   "source": [
    "print(simple_model.evaluate(val_dataset))"
   ]
  },
  {
   "cell_type": "markdown",
   "metadata": {},
   "source": [
    "## Try random forest"
   ]
  },
  {
   "cell_type": "code",
   "execution_count": 55,
   "metadata": {
    "scrolled": false
   },
   "outputs": [
    {
     "data": {
      "text/plain": [
       "RandomForestClassifier(max_features=700, oob_score=True, random_state=0)"
      ]
     },
     "execution_count": 55,
     "metadata": {},
     "output_type": "execute_result"
    }
   ],
   "source": [
    "from sklearn.ensemble import RandomForestClassifier\n",
    "from sklearn.model_selection import train_test_split\n",
    "\n",
    "X_train, X_test, y_train, y_test = train_test_split(df_NMR_intensities, df_status, test_size=0.2, random_state=42)\n",
    "\n",
    "clf = RandomForestClassifier(100, random_state=0, oob_score=True, max_features=700)\n",
    "clf.fit(X_train, y_train)"
   ]
  },
  {
   "cell_type": "code",
   "execution_count": 56,
   "metadata": {
    "scrolled": true
   },
   "outputs": [
    {
     "name": "stdout",
     "output_type": "stream",
     "text": [
      "Train accuracy : 1.0\n",
      "Test accuracy : 0.866\n"
     ]
    }
   ],
   "source": [
    "print(\"Train accuracy :\", clf.score(X_train, y_train))\n",
    "print(\"Test accuracy :\", clf.score(X_test, y_test))"
   ]
  },
  {
   "cell_type": "markdown",
   "metadata": {},
   "source": [
    "# 1 Metbolite changed"
   ]
  },
  {
   "cell_type": "markdown",
   "metadata": {},
   "source": [
    "\"Creatinine\"\t0.25 \t0.25"
   ]
  },
  {
   "cell_type": "markdown",
   "metadata": {},
   "source": [
    "## Import data"
   ]
  },
  {
   "cell_type": "code",
   "execution_count": 126,
   "metadata": {
    "scrolled": false
   },
   "outputs": [],
   "source": [
    "import numpy as np\n",
    "\n",
    "filename_control = '../data/Simulation_classification/Creat_0.25_0.25/Spectra_Mixt1.txt'\n",
    "filename_case = '../data/Simulation_classification/Creat_0.25_0.25/Spectra_Mix2.txt'\n",
    "data_control = np.loadtxt(filename_control, dtype=float)\n",
    "data_case = np.loadtxt(filename_case, dtype=float)"
   ]
  },
  {
   "cell_type": "code",
   "execution_count": 127,
   "metadata": {
    "scrolled": false
   },
   "outputs": [],
   "source": [
    "#Convert into dataframes\n",
    "import pandas as pd\n",
    "\n",
    "df_control = pd.DataFrame(data_control).T\n",
    "df_case = pd.DataFrame(data_case).T\n",
    "\n",
    "#Concatenate control and case df\n",
    "df_NMR_intensities = pd.concat([df_control, df_case])\n",
    "df_status = [0] * df_control.shape[0] + [1] * df_case.shape[0]"
   ]
  },
  {
   "cell_type": "markdown",
   "metadata": {},
   "source": [
    "## Shuffle the data"
   ]
  },
  {
   "cell_type": "code",
   "execution_count": 128,
   "metadata": {
    "scrolled": false
   },
   "outputs": [],
   "source": [
    "from sklearn.utils import shuffle\n",
    "\n",
    "df_status, df_NMR_intensities = shuffle(df_status, df_NMR_intensities)"
   ]
  },
  {
   "cell_type": "code",
   "execution_count": 129,
   "metadata": {
    "scrolled": false
   },
   "outputs": [
    {
     "data": {
      "text/plain": [
       "(10000, 10000)"
      ]
     },
     "execution_count": 129,
     "metadata": {},
     "output_type": "execute_result"
    }
   ],
   "source": [
    "df_NMR_intensities.shape"
   ]
  },
  {
   "cell_type": "markdown",
   "metadata": {},
   "source": [
    "## Convert into tf.data"
   ]
  },
  {
   "cell_type": "code",
   "execution_count": 130,
   "metadata": {
    "scrolled": false
   },
   "outputs": [
    {
     "data": {
      "text/plain": [
       "(TensorSpec(shape=(10000,), dtype=tf.float64, name=None),\n",
       " TensorSpec(shape=(), dtype=tf.int32, name=None))"
      ]
     },
     "execution_count": 130,
     "metadata": {},
     "output_type": "execute_result"
    }
   ],
   "source": [
    "import tensorflow as tf\n",
    "\n",
    "dataset = tf.data.Dataset.from_tensor_slices((df_NMR_intensities, df_status))\n",
    "dataset.element_spec"
   ]
  },
  {
   "cell_type": "markdown",
   "metadata": {},
   "source": [
    "## Write tf.Record"
   ]
  },
  {
   "cell_type": "code",
   "execution_count": 131,
   "metadata": {
    "scrolled": false
   },
   "outputs": [],
   "source": [
    "from tfrecords import write_tfrecords"
   ]
  },
  {
   "cell_type": "code",
   "execution_count": 132,
   "metadata": {
    "scrolled": false
   },
   "outputs": [],
   "source": [
    "write_tfrecords('../data/tfrecords/Classification/Creat_0.25_0.25', dataset=dataset, number=20)"
   ]
  },
  {
   "cell_type": "markdown",
   "metadata": {},
   "source": [
    "## Read the tf.Record files"
   ]
  },
  {
   "cell_type": "code",
   "execution_count": 133,
   "metadata": {
    "scrolled": false
   },
   "outputs": [],
   "source": [
    "from tfrecords import read_tfrecords"
   ]
  },
  {
   "cell_type": "code",
   "execution_count": 138,
   "metadata": {
    "scrolled": false
   },
   "outputs": [],
   "source": [
    "file_paths = ['../data/tfrecords/Classification/Creat_0.25_0.25/data_{}.tfrecord'.format(i) for i in range(20)]\n",
    "full_dataset = read_tfrecords(file_paths)"
   ]
  },
  {
   "cell_type": "markdown",
   "metadata": {},
   "source": [
    "## Split data into train and validation datasets"
   ]
  },
  {
   "cell_type": "code",
   "execution_count": 139,
   "metadata": {
    "scrolled": false
   },
   "outputs": [],
   "source": [
    "from models import process_dataset"
   ]
  },
  {
   "cell_type": "code",
   "execution_count": 140,
   "metadata": {
    "scrolled": false
   },
   "outputs": [],
   "source": [
    "train_dataset, val_dataset, test_dataset = process_dataset(full_dataset, batch_sizes=[64] * 3, shuffle_buffers=10000,\n",
    "                                                           train_prop=0.8, val_prop=0.2)"
   ]
  },
  {
   "cell_type": "markdown",
   "metadata": {},
   "source": [
    "## Define Checkpoint"
   ]
  },
  {
   "cell_type": "code",
   "execution_count": 141,
   "metadata": {
    "scrolled": false
   },
   "outputs": [],
   "source": [
    "from models import CheckpointCallback\n",
    "\n",
    "# Create a CheckpointCallback to save the model    \n",
    "ckpt = CheckpointCallback(\"../saved_models/sanity_check\")"
   ]
  },
  {
   "cell_type": "markdown",
   "metadata": {},
   "source": [
    "## Define simple MLP"
   ]
  },
  {
   "cell_type": "code",
   "execution_count": 171,
   "metadata": {
    "scrolled": true
   },
   "outputs": [
    {
     "name": "stdout",
     "output_type": "stream",
     "text": [
      "Model: \"functional_55\"\n",
      "_________________________________________________________________\n",
      "Layer (type)                 Output Shape              Param #   \n",
      "=================================================================\n",
      "input_28 (InputLayer)        [(None, 10000)]           0         \n",
      "_________________________________________________________________\n",
      "dense_108 (Dense)            (None, 256)               2560256   \n",
      "_________________________________________________________________\n",
      "dense_109 (Dense)            (None, 256)               65792     \n",
      "_________________________________________________________________\n",
      "dense_110 (Dense)            (None, 1)                 257       \n",
      "=================================================================\n",
      "Total params: 2,626,305\n",
      "Trainable params: 2,626,305\n",
      "Non-trainable params: 0\n",
      "_________________________________________________________________\n"
     ]
    }
   ],
   "source": [
    "from models import get_simple_mlp\n",
    "\n",
    "simple_model = get_simple_mlp(input_shape=(10000,), hidden_units=[256, 256])\n",
    "simple_model.summary()"
   ]
  },
  {
   "cell_type": "markdown",
   "metadata": {},
   "source": [
    "## Define regularized MLP"
   ]
  },
  {
   "cell_type": "code",
   "execution_count": 172,
   "metadata": {},
   "outputs": [
    {
     "name": "stdout",
     "output_type": "stream",
     "text": [
      "Model: \"functional_57\"\n",
      "_________________________________________________________________\n",
      "Layer (type)                 Output Shape              Param #   \n",
      "=================================================================\n",
      "input_29 (InputLayer)        [(None, 10000)]           0         \n",
      "_________________________________________________________________\n",
      "dense_111 (Dense)            (None, 256)               2560256   \n",
      "_________________________________________________________________\n",
      "batch_normalization_65 (Batc (None, 256)               1024      \n",
      "_________________________________________________________________\n",
      "dropout_65 (Dropout)         (None, 256)               0         \n",
      "_________________________________________________________________\n",
      "dense_112 (Dense)            (None, 256)               65792     \n",
      "_________________________________________________________________\n",
      "batch_normalization_66 (Batc (None, 256)               1024      \n",
      "_________________________________________________________________\n",
      "dropout_66 (Dropout)         (None, 256)               0         \n",
      "_________________________________________________________________\n",
      "dense_113 (Dense)            (None, 1)                 257       \n",
      "=================================================================\n",
      "Total params: 2,628,353\n",
      "Trainable params: 2,627,329\n",
      "Non-trainable params: 1,024\n",
      "_________________________________________________________________\n"
     ]
    }
   ],
   "source": [
    "from models import get_regularised_bn_dropout_mlp\n",
    "\n",
    "regularised_bn_dropout_model = get_regularised_bn_dropout_mlp(input_shape=(10000,), hidden_units=[256, 256],\n",
    "                                l2_reg_coeff=0.01, dropout_rate=0.5)\n",
    "regularised_bn_dropout_model.summary()"
   ]
  },
  {
   "cell_type": "markdown",
   "metadata": {},
   "source": [
    "## Compile simple model"
   ]
  },
  {
   "cell_type": "code",
   "execution_count": 173,
   "metadata": {
    "scrolled": false
   },
   "outputs": [],
   "source": [
    "import tensorflow as tf\n",
    "opt = tf.keras.optimizers.Adam(lr=0.0005)\n",
    "loss = tf.keras.losses.BinaryCrossentropy(from_logits=False)\n",
    "acc = tf.keras.metrics.BinaryAccuracy()\n",
    "earlystopping = tf.keras.callbacks.EarlyStopping(patience=200)"
   ]
  },
  {
   "cell_type": "code",
   "execution_count": 174,
   "metadata": {
    "scrolled": true
   },
   "outputs": [
    {
     "name": "stdout",
     "output_type": "stream",
     "text": [
      "Epoch 1/100\n",
      "7/7 [==============================] - 0s 33ms/step - loss: 79.8896 - binary_accuracy: 0.5925 - val_loss: 13.6537 - val_binary_accuracy: 0.9200\n",
      "Epoch 2/100\n",
      "7/7 [==============================] - 0s 20ms/step - loss: 5.9206 - binary_accuracy: 0.9050 - val_loss: 3.8096 - val_binary_accuracy: 0.9500\n",
      "Epoch 3/100\n",
      "7/7 [==============================] - 0s 22ms/step - loss: 2.8554 - binary_accuracy: 0.9725 - val_loss: 3.2245 - val_binary_accuracy: 0.9600\n",
      "Epoch 4/100\n",
      "7/7 [==============================] - 0s 22ms/step - loss: 1.9538 - binary_accuracy: 0.9525 - val_loss: 2.7107 - val_binary_accuracy: 0.9700\n",
      "Epoch 5/100\n",
      "7/7 [==============================] - 0s 23ms/step - loss: 2.1808 - binary_accuracy: 0.9500 - val_loss: 2.1749 - val_binary_accuracy: 0.9800\n",
      "Epoch 6/100\n",
      "7/7 [==============================] - 0s 20ms/step - loss: 1.8318 - binary_accuracy: 0.9700 - val_loss: 3.2926 - val_binary_accuracy: 0.8300\n",
      "Epoch 7/100\n",
      "7/7 [==============================] - 0s 21ms/step - loss: 1.2068 - binary_accuracy: 0.9575 - val_loss: 2.1259 - val_binary_accuracy: 0.9700\n",
      "Epoch 8/100\n",
      "7/7 [==============================] - 0s 20ms/step - loss: 1.0172 - binary_accuracy: 0.9575 - val_loss: 1.8657 - val_binary_accuracy: 0.9700\n",
      "Epoch 9/100\n",
      "7/7 [==============================] - 0s 20ms/step - loss: 0.8092 - binary_accuracy: 0.9825 - val_loss: 1.6973 - val_binary_accuracy: 0.9000\n",
      "Epoch 10/100\n",
      "7/7 [==============================] - 0s 20ms/step - loss: 0.3845 - binary_accuracy: 0.9600 - val_loss: 1.1241 - val_binary_accuracy: 0.9700\n",
      "Epoch 11/100\n",
      "7/7 [==============================] - 0s 21ms/step - loss: 0.8584 - binary_accuracy: 0.9750 - val_loss: 8.9594 - val_binary_accuracy: 0.5400\n",
      "Epoch 12/100\n",
      "7/7 [==============================] - 0s 21ms/step - loss: 5.3056 - binary_accuracy: 0.8775 - val_loss: 3.9961 - val_binary_accuracy: 0.9700\n",
      "Epoch 13/100\n",
      "7/7 [==============================] - 0s 20ms/step - loss: 2.5994 - binary_accuracy: 0.9375 - val_loss: 3.9499 - val_binary_accuracy: 0.9700\n",
      "Epoch 14/100\n",
      "7/7 [==============================] - 0s 20ms/step - loss: 2.0563 - binary_accuracy: 0.9800 - val_loss: 2.8871 - val_binary_accuracy: 0.9700\n",
      "Epoch 15/100\n",
      "7/7 [==============================] - 0s 20ms/step - loss: 1.6487 - binary_accuracy: 0.9550 - val_loss: 2.2773 - val_binary_accuracy: 0.9700\n",
      "Epoch 16/100\n",
      "7/7 [==============================] - 0s 19ms/step - loss: 1.0813 - binary_accuracy: 0.9850 - val_loss: 1.5386 - val_binary_accuracy: 0.9600\n",
      "Epoch 17/100\n",
      "7/7 [==============================] - 0s 21ms/step - loss: 1.0209 - binary_accuracy: 0.9350 - val_loss: 2.4864 - val_binary_accuracy: 0.9500\n",
      "Epoch 18/100\n",
      "7/7 [==============================] - 0s 20ms/step - loss: 1.2143 - binary_accuracy: 0.9375 - val_loss: 2.8510 - val_binary_accuracy: 0.9500\n",
      "Epoch 19/100\n",
      "7/7 [==============================] - 0s 20ms/step - loss: 2.2040 - binary_accuracy: 0.9625 - val_loss: 2.3221 - val_binary_accuracy: 0.9300\n",
      "Epoch 20/100\n",
      "7/7 [==============================] - 0s 18ms/step - loss: 0.8438 - binary_accuracy: 0.9600 - val_loss: 1.6703 - val_binary_accuracy: 0.9600\n",
      "Epoch 21/100\n",
      "7/7 [==============================] - 0s 21ms/step - loss: 0.5056 - binary_accuracy: 0.9875 - val_loss: 1.7895 - val_binary_accuracy: 0.9000\n",
      "Epoch 22/100\n",
      "7/7 [==============================] - 0s 20ms/step - loss: 0.1516 - binary_accuracy: 0.9825 - val_loss: 1.0672 - val_binary_accuracy: 0.9700\n",
      "Epoch 23/100\n",
      "7/7 [==============================] - 0s 19ms/step - loss: 0.1380 - binary_accuracy: 0.9875 - val_loss: 0.8934 - val_binary_accuracy: 0.9400\n",
      "Epoch 24/100\n",
      "7/7 [==============================] - 0s 20ms/step - loss: 0.0698 - binary_accuracy: 0.9925 - val_loss: 1.3050 - val_binary_accuracy: 0.9000\n",
      "Epoch 25/100\n",
      "7/7 [==============================] - 0s 20ms/step - loss: 0.0275 - binary_accuracy: 0.9900 - val_loss: 1.5698 - val_binary_accuracy: 0.9700\n",
      "Epoch 26/100\n",
      "7/7 [==============================] - 0s 19ms/step - loss: 0.2958 - binary_accuracy: 0.9525 - val_loss: 1.8264 - val_binary_accuracy: 0.9700\n",
      "Epoch 27/100\n",
      "7/7 [==============================] - 0s 22ms/step - loss: 0.7176 - binary_accuracy: 0.9725 - val_loss: 2.2499 - val_binary_accuracy: 0.8500\n",
      "Epoch 28/100\n",
      "7/7 [==============================] - 0s 20ms/step - loss: 0.5247 - binary_accuracy: 0.9550 - val_loss: 3.2878 - val_binary_accuracy: 0.9400\n",
      "Epoch 29/100\n",
      "7/7 [==============================] - 0s 20ms/step - loss: 0.3772 - binary_accuracy: 0.9750 - val_loss: 2.8599 - val_binary_accuracy: 0.8900\n",
      "Epoch 30/100\n",
      "7/7 [==============================] - 0s 22ms/step - loss: 0.6370 - binary_accuracy: 0.9725 - val_loss: 2.7957 - val_binary_accuracy: 0.9400\n",
      "Epoch 31/100\n",
      "7/7 [==============================] - 0s 20ms/step - loss: 0.2646 - binary_accuracy: 0.9800 - val_loss: 1.5993 - val_binary_accuracy: 0.8900\n",
      "Epoch 32/100\n",
      "7/7 [==============================] - 0s 20ms/step - loss: 0.0103 - binary_accuracy: 0.9950 - val_loss: 1.4179 - val_binary_accuracy: 0.9500\n",
      "Epoch 33/100\n",
      "7/7 [==============================] - 0s 20ms/step - loss: 0.0683 - binary_accuracy: 0.9850 - val_loss: 1.4365 - val_binary_accuracy: 0.9700\n",
      "Epoch 34/100\n",
      "7/7 [==============================] - 0s 21ms/step - loss: 0.0459 - binary_accuracy: 0.9975 - val_loss: 1.7745 - val_binary_accuracy: 0.9700\n",
      "Epoch 35/100\n",
      "7/7 [==============================] - 0s 20ms/step - loss: 0.0448 - binary_accuracy: 0.9975 - val_loss: 1.3209 - val_binary_accuracy: 0.9700\n",
      "Epoch 36/100\n",
      "7/7 [==============================] - 0s 21ms/step - loss: 8.2742e-06 - binary_accuracy: 1.0000 - val_loss: 1.0501 - val_binary_accuracy: 0.9400\n",
      "Epoch 37/100\n",
      "7/7 [==============================] - 0s 20ms/step - loss: 0.0027 - binary_accuracy: 0.9975 - val_loss: 0.9337 - val_binary_accuracy: 0.9500\n",
      "Epoch 38/100\n",
      "7/7 [==============================] - 0s 19ms/step - loss: 1.5234e-06 - binary_accuracy: 1.0000 - val_loss: 0.9490 - val_binary_accuracy: 0.9700\n",
      "Epoch 39/100\n",
      "7/7 [==============================] - 0s 20ms/step - loss: 8.6787e-09 - binary_accuracy: 1.0000 - val_loss: 1.0142 - val_binary_accuracy: 0.9700\n",
      "Epoch 40/100\n",
      "7/7 [==============================] - 0s 21ms/step - loss: 1.1238e-07 - binary_accuracy: 1.0000 - val_loss: 1.0506 - val_binary_accuracy: 0.9700\n",
      "Epoch 41/100\n",
      "7/7 [==============================] - 0s 20ms/step - loss: 3.9514e-07 - binary_accuracy: 1.0000 - val_loss: 1.0685 - val_binary_accuracy: 0.9700\n",
      "Epoch 42/100\n",
      "7/7 [==============================] - 0s 21ms/step - loss: 5.5854e-07 - binary_accuracy: 1.0000 - val_loss: 1.0769 - val_binary_accuracy: 0.9700\n",
      "Epoch 43/100\n",
      "7/7 [==============================] - 0s 21ms/step - loss: 7.5084e-07 - binary_accuracy: 1.0000 - val_loss: 1.0805 - val_binary_accuracy: 0.9700\n",
      "Epoch 44/100\n",
      "7/7 [==============================] - 0s 20ms/step - loss: 8.7650e-07 - binary_accuracy: 1.0000 - val_loss: 1.0820 - val_binary_accuracy: 0.9700\n",
      "Epoch 45/100\n",
      "7/7 [==============================] - 0s 20ms/step - loss: 9.2879e-07 - binary_accuracy: 1.0000 - val_loss: 1.0824 - val_binary_accuracy: 0.9700\n",
      "Epoch 46/100\n",
      "7/7 [==============================] - 0s 21ms/step - loss: 9.3597e-07 - binary_accuracy: 1.0000 - val_loss: 1.0822 - val_binary_accuracy: 0.9700\n",
      "Epoch 47/100\n",
      "7/7 [==============================] - 0s 22ms/step - loss: 9.2371e-07 - binary_accuracy: 1.0000 - val_loss: 1.0818 - val_binary_accuracy: 0.9700\n",
      "Epoch 48/100\n",
      "7/7 [==============================] - 0s 20ms/step - loss: 9.1110e-07 - binary_accuracy: 1.0000 - val_loss: 1.0811 - val_binary_accuracy: 0.9700\n",
      "Epoch 49/100\n",
      "7/7 [==============================] - 0s 20ms/step - loss: 8.8295e-07 - binary_accuracy: 1.0000 - val_loss: 1.0805 - val_binary_accuracy: 0.9700\n",
      "Epoch 50/100\n",
      "7/7 [==============================] - 0s 21ms/step - loss: 8.5885e-07 - binary_accuracy: 1.0000 - val_loss: 1.0799 - val_binary_accuracy: 0.9700\n",
      "Epoch 51/100\n",
      "7/7 [==============================] - 0s 21ms/step - loss: 8.3897e-07 - binary_accuracy: 1.0000 - val_loss: 1.0792 - val_binary_accuracy: 0.9700\n",
      "Epoch 52/100\n",
      "7/7 [==============================] - 0s 20ms/step - loss: 8.1026e-07 - binary_accuracy: 1.0000 - val_loss: 1.0786 - val_binary_accuracy: 0.9700\n",
      "Epoch 53/100\n",
      "7/7 [==============================] - 0s 20ms/step - loss: 7.8934e-07 - binary_accuracy: 1.0000 - val_loss: 1.0780 - val_binary_accuracy: 0.9700\n",
      "Epoch 54/100\n",
      "7/7 [==============================] - 0s 21ms/step - loss: 7.7505e-07 - binary_accuracy: 1.0000 - val_loss: 1.0773 - val_binary_accuracy: 0.9700\n",
      "Epoch 55/100\n",
      "7/7 [==============================] - 0s 20ms/step - loss: 7.4943e-07 - binary_accuracy: 1.0000 - val_loss: 1.0767 - val_binary_accuracy: 0.9700\n",
      "Epoch 56/100\n",
      "7/7 [==============================] - 0s 20ms/step - loss: 7.2836e-07 - binary_accuracy: 1.0000 - val_loss: 1.0761 - val_binary_accuracy: 0.9700\n",
      "Epoch 57/100\n",
      "7/7 [==============================] - 0s 20ms/step - loss: 7.1251e-07 - binary_accuracy: 1.0000 - val_loss: 1.0755 - val_binary_accuracy: 0.9700\n",
      "Epoch 58/100\n",
      "7/7 [==============================] - 0s 20ms/step - loss: 6.9097e-07 - binary_accuracy: 1.0000 - val_loss: 1.0749 - val_binary_accuracy: 0.9700\n",
      "Epoch 59/100\n",
      "7/7 [==============================] - 0s 20ms/step - loss: 6.7890e-07 - binary_accuracy: 1.0000 - val_loss: 1.0743 - val_binary_accuracy: 0.9700\n",
      "Epoch 60/100\n",
      "7/7 [==============================] - 0s 22ms/step - loss: 6.5598e-07 - binary_accuracy: 1.0000 - val_loss: 1.0738 - val_binary_accuracy: 0.9700\n",
      "Epoch 61/100\n",
      "7/7 [==============================] - 0s 20ms/step - loss: 6.4151e-07 - binary_accuracy: 1.0000 - val_loss: 1.0732 - val_binary_accuracy: 0.9700\n",
      "Epoch 62/100\n",
      "7/7 [==============================] - 0s 20ms/step - loss: 6.2562e-07 - binary_accuracy: 1.0000 - val_loss: 1.0723 - val_binary_accuracy: 0.9700\n",
      "Epoch 63/100\n",
      "7/7 [==============================] - 0s 19ms/step - loss: 6.0225e-07 - binary_accuracy: 1.0000 - val_loss: 1.0717 - val_binary_accuracy: 0.9700\n",
      "Epoch 64/100\n",
      "7/7 [==============================] - 0s 21ms/step - loss: 5.9027e-07 - binary_accuracy: 1.0000 - val_loss: 1.0710 - val_binary_accuracy: 0.9700\n",
      "Epoch 65/100\n",
      "7/7 [==============================] - 0s 20ms/step - loss: 5.7186e-07 - binary_accuracy: 1.0000 - val_loss: 1.0704 - val_binary_accuracy: 0.9700\n",
      "Epoch 66/100\n",
      "7/7 [==============================] - 0s 20ms/step - loss: 5.4882e-07 - binary_accuracy: 1.0000 - val_loss: 1.0694 - val_binary_accuracy: 0.9700\n",
      "Epoch 67/100\n",
      "7/7 [==============================] - 0s 20ms/step - loss: 5.2733e-07 - binary_accuracy: 1.0000 - val_loss: 1.0684 - val_binary_accuracy: 0.9700\n",
      "Epoch 68/100\n",
      "7/7 [==============================] - 0s 20ms/step - loss: 5.1043e-07 - binary_accuracy: 1.0000 - val_loss: 1.0676 - val_binary_accuracy: 0.9700\n",
      "Epoch 69/100\n",
      "7/7 [==============================] - 0s 19ms/step - loss: 4.9454e-07 - binary_accuracy: 1.0000 - val_loss: 1.0671 - val_binary_accuracy: 0.9700\n",
      "Epoch 70/100\n",
      "7/7 [==============================] - 0s 19ms/step - loss: 4.8621e-07 - binary_accuracy: 1.0000 - val_loss: 1.0665 - val_binary_accuracy: 0.9700\n",
      "Epoch 71/100\n",
      "7/7 [==============================] - 0s 19ms/step - loss: 4.7698e-07 - binary_accuracy: 1.0000 - val_loss: 1.0660 - val_binary_accuracy: 0.9700\n",
      "Epoch 72/100\n",
      "7/7 [==============================] - 0s 20ms/step - loss: 4.6494e-07 - binary_accuracy: 1.0000 - val_loss: 1.0655 - val_binary_accuracy: 0.9700\n",
      "Epoch 73/100\n",
      "7/7 [==============================] - 0s 19ms/step - loss: 4.5707e-07 - binary_accuracy: 1.0000 - val_loss: 1.0650 - val_binary_accuracy: 0.9700\n",
      "Epoch 74/100\n",
      "7/7 [==============================] - 0s 20ms/step - loss: 4.4486e-07 - binary_accuracy: 1.0000 - val_loss: 1.0646 - val_binary_accuracy: 0.9700\n",
      "Epoch 75/100\n",
      "7/7 [==============================] - 0s 19ms/step - loss: 4.3394e-07 - binary_accuracy: 1.0000 - val_loss: 1.0637 - val_binary_accuracy: 0.9700\n",
      "Epoch 76/100\n",
      "7/7 [==============================] - 0s 21ms/step - loss: 4.2348e-07 - binary_accuracy: 1.0000 - val_loss: 1.0631 - val_binary_accuracy: 0.9700\n",
      "Epoch 77/100\n",
      "7/7 [==============================] - 0s 20ms/step - loss: 4.1054e-07 - binary_accuracy: 1.0000 - val_loss: 1.0626 - val_binary_accuracy: 0.9700\n",
      "Epoch 78/100\n",
      "7/7 [==============================] - 0s 20ms/step - loss: 4.0151e-07 - binary_accuracy: 1.0000 - val_loss: 1.0621 - val_binary_accuracy: 0.9700\n",
      "Epoch 79/100\n",
      "7/7 [==============================] - 0s 20ms/step - loss: 3.9478e-07 - binary_accuracy: 1.0000 - val_loss: 1.0617 - val_binary_accuracy: 0.9700\n",
      "Epoch 80/100\n",
      "7/7 [==============================] - 0s 20ms/step - loss: 3.8306e-07 - binary_accuracy: 1.0000 - val_loss: 1.0610 - val_binary_accuracy: 0.9700\n",
      "Epoch 81/100\n",
      "7/7 [==============================] - 0s 18ms/step - loss: 3.7760e-07 - binary_accuracy: 1.0000 - val_loss: 1.0601 - val_binary_accuracy: 0.9700\n",
      "Epoch 82/100\n",
      "7/7 [==============================] - 0s 20ms/step - loss: 3.6365e-07 - binary_accuracy: 1.0000 - val_loss: 1.0595 - val_binary_accuracy: 0.9700\n",
      "Epoch 83/100\n",
      "7/7 [==============================] - 0s 20ms/step - loss: 3.5350e-07 - binary_accuracy: 1.0000 - val_loss: 1.0590 - val_binary_accuracy: 0.9700\n",
      "Epoch 84/100\n",
      "7/7 [==============================] - 0s 20ms/step - loss: 3.4522e-07 - binary_accuracy: 1.0000 - val_loss: 1.0586 - val_binary_accuracy: 0.9700\n",
      "Epoch 85/100\n",
      "7/7 [==============================] - 0s 20ms/step - loss: 3.4075e-07 - binary_accuracy: 1.0000 - val_loss: 1.0582 - val_binary_accuracy: 0.9700\n",
      "Epoch 86/100\n",
      "7/7 [==============================] - 0s 21ms/step - loss: 3.3530e-07 - binary_accuracy: 1.0000 - val_loss: 1.0578 - val_binary_accuracy: 0.9700\n",
      "Epoch 87/100\n",
      "7/7 [==============================] - 0s 19ms/step - loss: 3.2947e-07 - binary_accuracy: 1.0000 - val_loss: 1.0575 - val_binary_accuracy: 0.9700\n",
      "Epoch 88/100\n",
      "7/7 [==============================] - 0s 20ms/step - loss: 3.2524e-07 - binary_accuracy: 1.0000 - val_loss: 1.0571 - val_binary_accuracy: 0.9700\n",
      "Epoch 89/100\n",
      "7/7 [==============================] - 0s 21ms/step - loss: 3.1972e-07 - binary_accuracy: 1.0000 - val_loss: 1.0567 - val_binary_accuracy: 0.9700\n",
      "Epoch 90/100\n",
      "7/7 [==============================] - 0s 21ms/step - loss: 3.1545e-07 - binary_accuracy: 1.0000 - val_loss: 1.0564 - val_binary_accuracy: 0.9700\n",
      "Epoch 91/100\n",
      "7/7 [==============================] - 0s 22ms/step - loss: 3.1083e-07 - binary_accuracy: 1.0000 - val_loss: 1.0560 - val_binary_accuracy: 0.9700\n",
      "Epoch 92/100\n",
      "7/7 [==============================] - 0s 21ms/step - loss: 3.0621e-07 - binary_accuracy: 1.0000 - val_loss: 1.0557 - val_binary_accuracy: 0.9700\n",
      "Epoch 93/100\n",
      "7/7 [==============================] - 0s 20ms/step - loss: 3.0204e-07 - binary_accuracy: 1.0000 - val_loss: 1.0553 - val_binary_accuracy: 0.9700\n",
      "Epoch 94/100\n",
      "7/7 [==============================] - 0s 20ms/step - loss: 2.9780e-07 - binary_accuracy: 1.0000 - val_loss: 1.0550 - val_binary_accuracy: 0.9700\n",
      "Epoch 95/100\n",
      "7/7 [==============================] - 0s 21ms/step - loss: 2.9275e-07 - binary_accuracy: 1.0000 - val_loss: 1.0547 - val_binary_accuracy: 0.9700\n",
      "Epoch 96/100\n",
      "7/7 [==============================] - 0s 19ms/step - loss: 2.8967e-07 - binary_accuracy: 1.0000 - val_loss: 1.0543 - val_binary_accuracy: 0.9700\n",
      "Epoch 97/100\n",
      "7/7 [==============================] - 0s 21ms/step - loss: 2.8557e-07 - binary_accuracy: 1.0000 - val_loss: 1.0540 - val_binary_accuracy: 0.9700\n",
      "Epoch 98/100\n",
      "7/7 [==============================] - 0s 20ms/step - loss: 2.8037e-07 - binary_accuracy: 1.0000 - val_loss: 1.0537 - val_binary_accuracy: 0.9700\n",
      "Epoch 99/100\n",
      "7/7 [==============================] - 0s 19ms/step - loss: 2.7737e-07 - binary_accuracy: 1.0000 - val_loss: 1.0534 - val_binary_accuracy: 0.9700\n",
      "Epoch 100/100\n",
      "7/7 [==============================] - 0s 20ms/step - loss: 2.7376e-07 - binary_accuracy: 1.0000 - val_loss: 1.0531 - val_binary_accuracy: 0.9700\n"
     ]
    }
   ],
   "source": [
    "simple_model.compile(optimizer=opt, loss=loss, metrics=[acc])\n",
    "history = simple_model.fit(train_dataset, epochs=20, validation_data=val_dataset, callbacks=[earlystopping])"
   ]
  },
  {
   "cell_type": "markdown",
   "metadata": {},
   "source": [
    "## Plot the learning curves"
   ]
  },
  {
   "cell_type": "code",
   "execution_count": 175,
   "metadata": {
    "scrolled": false
   },
   "outputs": [
    {
     "data": {
      "image/png": "[encoded data removed]",
      "text/plain": [
       "<Figure size 1008x288 with 2 Axes>"
      ]
     },
     "metadata": {
      "needs_background": "light"
     },
     "output_type": "display_data"
    }
   ],
   "source": [
    "import matplotlib.pyplot as plt\n",
    "\n",
    "fig = plt.figure(figsize=(14, 4))\n",
    "\n",
    "fig.add_subplot(121)\n",
    "plt.plot(history.history['loss'][:], label='train', color='C0', linestyle='-')\n",
    "plt.plot(history.history['val_loss'][:], label='valid', color='C0', linestyle=':')\n",
    "plt.title(\"Loss vs epochs\")\n",
    "plt.xlabel(\"Epochs\")\n",
    "plt.ylabel(\"Binary cross entropy loss\")\n",
    "plt.legend()\n",
    "\n",
    "fig.add_subplot(122)\n",
    "plt.plot(history.history['binary_accuracy'], label='train', color='C0', linestyle='-')\n",
    "plt.plot(history.history['val_binary_accuracy'], label='valid', color='C0', linestyle=':')\n",
    "plt.title(\"Binary accuracy vs epochs\")\n",
    "plt.xlabel(\"Epochs\")\n",
    "plt.ylabel(\"Binary accuracy\")\n",
    "plt.legend()\n",
    "\n",
    "plt.show()"
   ]
  },
  {
   "cell_type": "code",
   "execution_count": 211,
   "metadata": {},
   "outputs": [
    {
     "name": "stdout",
     "output_type": "stream",
     "text": [
      "2/2 [==============================] - 0s 7ms/step - loss: 1.0531 - binary_accuracy: 0.9700\n",
      "[1.0531206130981445, 0.9700000286102295]\n"
     ]
    }
   ],
   "source": [
    "print(simple_model.evaluate(val_dataset))"
   ]
  },
  {
   "cell_type": "markdown",
   "metadata": {},
   "source": [
    "## Compile regularized model"
   ]
  },
  {
   "cell_type": "code",
   "execution_count": 176,
   "metadata": {
    "scrolled": false
   },
   "outputs": [],
   "source": [
    "import tensorflow as tf\n",
    "opt = tf.keras.optimizers.Adam(lr=0.0005)\n",
    "loss = tf.keras.losses.BinaryCrossentropy(from_logits=False)\n",
    "acc = tf.keras.metrics.BinaryAccuracy()\n",
    "earlystopping = tf.keras.callbacks.EarlyStopping(patience=200)"
   ]
  },
  {
   "cell_type": "code",
   "execution_count": 177,
   "metadata": {
    "scrolled": true
   },
   "outputs": [
    {
     "name": "stdout",
     "output_type": "stream",
     "text": [
      "Epoch 1/1000\n",
      "7/7 [==============================] - 0s 37ms/step - loss: 7.3342 - binary_accuracy: 0.8600 - val_loss: 8.1620 - val_binary_accuracy: 0.6700\n",
      "Epoch 2/1000\n",
      "7/7 [==============================] - 0s 25ms/step - loss: 5.7745 - binary_accuracy: 0.9525 - val_loss: 6.9694 - val_binary_accuracy: 0.6100\n",
      "Epoch 3/1000\n",
      "7/7 [==============================] - 0s 21ms/step - loss: 4.6428 - binary_accuracy: 0.9525 - val_loss: 5.6317 - val_binary_accuracy: 0.6100\n",
      "Epoch 4/1000\n",
      "7/7 [==============================] - 0s 22ms/step - loss: 3.8735 - binary_accuracy: 0.9425 - val_loss: 4.1956 - val_binary_accuracy: 0.7300\n",
      "Epoch 5/1000\n",
      "7/7 [==============================] - 0s 23ms/step - loss: 3.2326 - binary_accuracy: 0.9675 - val_loss: 3.1770 - val_binary_accuracy: 0.8700\n",
      "Epoch 6/1000\n",
      "7/7 [==============================] - 0s 24ms/step - loss: 2.8345 - binary_accuracy: 0.9725 - val_loss: 2.7274 - val_binary_accuracy: 0.9700\n",
      "Epoch 7/1000\n",
      "7/7 [==============================] - 0s 24ms/step - loss: 2.5718 - binary_accuracy: 0.9725 - val_loss: 3.2563 - val_binary_accuracy: 0.6200\n",
      "Epoch 8/1000\n",
      "7/7 [==============================] - 0s 22ms/step - loss: 2.3847 - binary_accuracy: 0.9575 - val_loss: 2.9867 - val_binary_accuracy: 0.6900\n",
      "Epoch 9/1000\n",
      "7/7 [==============================] - 0s 22ms/step - loss: 2.2142 - binary_accuracy: 0.9700 - val_loss: 2.4275 - val_binary_accuracy: 0.8300\n",
      "Epoch 10/1000\n",
      "7/7 [==============================] - 0s 23ms/step - loss: 2.0646 - binary_accuracy: 0.9650 - val_loss: 2.6971 - val_binary_accuracy: 0.6900\n",
      "Epoch 11/1000\n",
      "7/7 [==============================] - 0s 24ms/step - loss: 1.9874 - binary_accuracy: 0.9500 - val_loss: 2.4294 - val_binary_accuracy: 0.7400\n",
      "Epoch 12/1000\n",
      "7/7 [==============================] - 0s 22ms/step - loss: 1.8850 - binary_accuracy: 0.9650 - val_loss: 2.2108 - val_binary_accuracy: 0.8000\n",
      "Epoch 13/1000\n",
      "7/7 [==============================] - 0s 22ms/step - loss: 1.7876 - binary_accuracy: 0.9725 - val_loss: 1.8983 - val_binary_accuracy: 0.8700\n",
      "Epoch 14/1000\n",
      "7/7 [==============================] - 0s 24ms/step - loss: 1.6882 - binary_accuracy: 0.9750 - val_loss: 1.7245 - val_binary_accuracy: 0.9500\n",
      "Epoch 15/1000\n",
      "7/7 [==============================] - 0s 24ms/step - loss: 1.5967 - binary_accuracy: 0.9800 - val_loss: 1.6319 - val_binary_accuracy: 0.9700\n",
      "Epoch 16/1000\n",
      "7/7 [==============================] - 0s 19ms/step - loss: 1.5743 - binary_accuracy: 0.9500 - val_loss: 1.6536 - val_binary_accuracy: 0.8900\n",
      "Epoch 17/1000\n",
      "7/7 [==============================] - 0s 23ms/step - loss: 1.4741 - binary_accuracy: 0.9775 - val_loss: 1.7522 - val_binary_accuracy: 0.8300\n",
      "Epoch 18/1000\n",
      "7/7 [==============================] - 0s 22ms/step - loss: 1.4348 - binary_accuracy: 0.9700 - val_loss: 1.6274 - val_binary_accuracy: 0.8500\n",
      "Epoch 19/1000\n",
      "7/7 [==============================] - 0s 22ms/step - loss: 1.3513 - binary_accuracy: 0.9725 - val_loss: 1.4999 - val_binary_accuracy: 0.8800\n",
      "Epoch 20/1000\n",
      "7/7 [==============================] - 0s 22ms/step - loss: 1.2974 - binary_accuracy: 0.9675 - val_loss: 1.4674 - val_binary_accuracy: 0.8800\n",
      "Epoch 21/1000\n",
      "7/7 [==============================] - 0s 24ms/step - loss: 1.2725 - binary_accuracy: 0.9725 - val_loss: 1.4410 - val_binary_accuracy: 0.8400\n",
      "Epoch 22/1000\n",
      "7/7 [==============================] - 0s 22ms/step - loss: 1.1966 - binary_accuracy: 0.9800 - val_loss: 1.3365 - val_binary_accuracy: 0.8900\n",
      "Epoch 23/1000\n",
      "7/7 [==============================] - 0s 23ms/step - loss: 1.1497 - binary_accuracy: 0.9725 - val_loss: 1.2477 - val_binary_accuracy: 0.9000\n",
      "Epoch 24/1000\n",
      "7/7 [==============================] - 0s 22ms/step - loss: 1.1126 - binary_accuracy: 0.9700 - val_loss: 1.1959 - val_binary_accuracy: 0.9100\n",
      "Epoch 25/1000\n",
      "7/7 [==============================] - 0s 22ms/step - loss: 1.0753 - binary_accuracy: 0.9675 - val_loss: 1.1469 - val_binary_accuracy: 0.9300\n",
      "Epoch 26/1000\n",
      "7/7 [==============================] - 0s 23ms/step - loss: 1.0404 - binary_accuracy: 0.9650 - val_loss: 1.0972 - val_binary_accuracy: 0.9100\n",
      "Epoch 27/1000\n",
      "7/7 [==============================] - 0s 22ms/step - loss: 1.0181 - binary_accuracy: 0.9675 - val_loss: 1.0236 - val_binary_accuracy: 0.9500\n",
      "Epoch 28/1000\n",
      "7/7 [==============================] - 0s 23ms/step - loss: 0.9726 - binary_accuracy: 0.9650 - val_loss: 1.0209 - val_binary_accuracy: 0.9200\n",
      "Epoch 29/1000\n",
      "7/7 [==============================] - 0s 24ms/step - loss: 0.9059 - binary_accuracy: 0.9725 - val_loss: 1.0910 - val_binary_accuracy: 0.8800\n",
      "Epoch 30/1000\n",
      "7/7 [==============================] - 0s 24ms/step - loss: 0.9127 - binary_accuracy: 0.9650 - val_loss: 0.9339 - val_binary_accuracy: 0.9600\n",
      "Epoch 31/1000\n",
      "7/7 [==============================] - 0s 23ms/step - loss: 0.8464 - binary_accuracy: 0.9750 - val_loss: 0.8956 - val_binary_accuracy: 0.9600\n",
      "Epoch 32/1000\n",
      "7/7 [==============================] - 0s 22ms/step - loss: 0.8494 - binary_accuracy: 0.9725 - val_loss: 0.8679 - val_binary_accuracy: 0.9600\n",
      "Epoch 33/1000\n",
      "7/7 [==============================] - 0s 22ms/step - loss: 0.8277 - binary_accuracy: 0.9700 - val_loss: 0.8436 - val_binary_accuracy: 0.9700\n",
      "Epoch 34/1000\n",
      "7/7 [==============================] - 0s 23ms/step - loss: 0.7735 - binary_accuracy: 0.9750 - val_loss: 0.8164 - val_binary_accuracy: 0.9600\n",
      "Epoch 35/1000\n",
      "7/7 [==============================] - 0s 23ms/step - loss: 0.7749 - binary_accuracy: 0.9650 - val_loss: 0.7765 - val_binary_accuracy: 0.9800\n",
      "Epoch 36/1000\n",
      "7/7 [==============================] - 0s 22ms/step - loss: 0.7611 - binary_accuracy: 0.9650 - val_loss: 0.7618 - val_binary_accuracy: 0.9700\n",
      "Epoch 37/1000\n",
      "7/7 [==============================] - 0s 23ms/step - loss: 0.7069 - binary_accuracy: 0.9800 - val_loss: 0.7628 - val_binary_accuracy: 0.9500\n",
      "Epoch 38/1000\n",
      "7/7 [==============================] - 0s 23ms/step - loss: 0.6919 - binary_accuracy: 0.9725 - val_loss: 0.7360 - val_binary_accuracy: 0.9500\n",
      "Epoch 39/1000\n",
      "7/7 [==============================] - 0s 22ms/step - loss: 0.6901 - binary_accuracy: 0.9725 - val_loss: 0.9082 - val_binary_accuracy: 0.8300\n",
      "Epoch 40/1000\n",
      "7/7 [==============================] - 0s 23ms/step - loss: 0.6657 - binary_accuracy: 0.9700 - val_loss: 0.8404 - val_binary_accuracy: 0.8900\n",
      "Epoch 41/1000\n",
      "7/7 [==============================] - 0s 22ms/step - loss: 0.6560 - binary_accuracy: 0.9650 - val_loss: 0.8110 - val_binary_accuracy: 0.8900\n",
      "Epoch 42/1000\n",
      "7/7 [==============================] - 0s 23ms/step - loss: 0.6329 - binary_accuracy: 0.9700 - val_loss: 1.0491 - val_binary_accuracy: 0.7400\n",
      "Epoch 43/1000\n",
      "7/7 [==============================] - 0s 22ms/step - loss: 0.6028 - binary_accuracy: 0.9675 - val_loss: 0.9030 - val_binary_accuracy: 0.8000\n",
      "Epoch 44/1000\n",
      "7/7 [==============================] - 0s 25ms/step - loss: 0.5895 - binary_accuracy: 0.9675 - val_loss: 0.7771 - val_binary_accuracy: 0.8800\n",
      "Epoch 45/1000\n",
      "7/7 [==============================] - 0s 24ms/step - loss: 0.5673 - binary_accuracy: 0.9675 - val_loss: 0.7127 - val_binary_accuracy: 0.9000\n",
      "Epoch 46/1000\n",
      "7/7 [==============================] - 0s 23ms/step - loss: 0.5530 - binary_accuracy: 0.9750 - val_loss: 0.6549 - val_binary_accuracy: 0.9000\n",
      "Epoch 47/1000\n",
      "7/7 [==============================] - 0s 23ms/step - loss: 0.5477 - binary_accuracy: 0.9625 - val_loss: 0.6521 - val_binary_accuracy: 0.9000\n",
      "Epoch 48/1000\n",
      "7/7 [==============================] - 0s 22ms/step - loss: 0.5270 - binary_accuracy: 0.9750 - val_loss: 0.6104 - val_binary_accuracy: 0.9300\n",
      "Epoch 49/1000\n",
      "7/7 [==============================] - 0s 22ms/step - loss: 0.5260 - binary_accuracy: 0.9700 - val_loss: 0.5755 - val_binary_accuracy: 0.9400\n",
      "Epoch 50/1000\n",
      "7/7 [==============================] - 0s 24ms/step - loss: 0.5176 - binary_accuracy: 0.9700 - val_loss: 0.6743 - val_binary_accuracy: 0.8900\n",
      "Epoch 51/1000\n",
      "7/7 [==============================] - 0s 24ms/step - loss: 0.5268 - binary_accuracy: 0.9575 - val_loss: 0.5742 - val_binary_accuracy: 0.9400\n",
      "Epoch 52/1000\n",
      "7/7 [==============================] - 0s 26ms/step - loss: 0.4861 - binary_accuracy: 0.9700 - val_loss: 0.5086 - val_binary_accuracy: 0.9800\n",
      "Epoch 53/1000\n",
      "7/7 [==============================] - 0s 23ms/step - loss: 0.4845 - binary_accuracy: 0.9650 - val_loss: 0.5103 - val_binary_accuracy: 0.9800\n",
      "Epoch 54/1000\n",
      "7/7 [==============================] - 0s 22ms/step - loss: 0.4613 - binary_accuracy: 0.9825 - val_loss: 0.4858 - val_binary_accuracy: 0.9800\n",
      "Epoch 55/1000\n",
      "7/7 [==============================] - 0s 23ms/step - loss: 0.4725 - binary_accuracy: 0.9625 - val_loss: 0.4772 - val_binary_accuracy: 0.9700\n",
      "Epoch 56/1000\n",
      "7/7 [==============================] - 0s 22ms/step - loss: 0.4341 - binary_accuracy: 0.9775 - val_loss: 0.4722 - val_binary_accuracy: 0.9700\n",
      "Epoch 57/1000\n",
      "7/7 [==============================] - 0s 24ms/step - loss: 0.4358 - binary_accuracy: 0.9750 - val_loss: 0.4640 - val_binary_accuracy: 0.9700\n",
      "Epoch 58/1000\n",
      "7/7 [==============================] - 0s 24ms/step - loss: 0.4191 - binary_accuracy: 0.9675 - val_loss: 0.4773 - val_binary_accuracy: 0.9500\n",
      "Epoch 59/1000\n",
      "7/7 [==============================] - 0s 22ms/step - loss: 0.4012 - binary_accuracy: 0.9725 - val_loss: 0.5205 - val_binary_accuracy: 0.9100\n",
      "Epoch 60/1000\n",
      "7/7 [==============================] - 0s 24ms/step - loss: 0.4161 - binary_accuracy: 0.9450 - val_loss: 0.4466 - val_binary_accuracy: 0.9600\n",
      "Epoch 61/1000\n",
      "7/7 [==============================] - 0s 22ms/step - loss: 0.4017 - binary_accuracy: 0.9700 - val_loss: 0.4276 - val_binary_accuracy: 0.9800\n",
      "Epoch 62/1000\n",
      "7/7 [==============================] - 0s 24ms/step - loss: 0.3984 - binary_accuracy: 0.9750 - val_loss: 0.4218 - val_binary_accuracy: 0.9800\n",
      "Epoch 63/1000\n",
      "7/7 [==============================] - 0s 23ms/step - loss: 0.3954 - binary_accuracy: 0.9700 - val_loss: 0.4201 - val_binary_accuracy: 0.9700\n",
      "Epoch 64/1000\n",
      "7/7 [==============================] - 0s 22ms/step - loss: 0.3999 - binary_accuracy: 0.9725 - val_loss: 0.4223 - val_binary_accuracy: 0.9700\n",
      "Epoch 65/1000\n",
      "7/7 [==============================] - 0s 23ms/step - loss: 0.3884 - binary_accuracy: 0.9550 - val_loss: 0.4133 - val_binary_accuracy: 0.9700\n",
      "Epoch 66/1000\n",
      "7/7 [==============================] - 0s 23ms/step - loss: 0.3905 - binary_accuracy: 0.9600 - val_loss: 0.4704 - val_binary_accuracy: 0.9300\n",
      "Epoch 67/1000\n",
      "7/7 [==============================] - 0s 24ms/step - loss: 0.3685 - binary_accuracy: 0.9650 - val_loss: 0.4075 - val_binary_accuracy: 0.9600\n",
      "Epoch 68/1000\n",
      "7/7 [==============================] - 0s 25ms/step - loss: 0.3615 - binary_accuracy: 0.9700 - val_loss: 0.4050 - val_binary_accuracy: 0.9700\n",
      "Epoch 69/1000\n",
      "7/7 [==============================] - 0s 22ms/step - loss: 0.3443 - binary_accuracy: 0.9650 - val_loss: 0.4059 - val_binary_accuracy: 0.9700\n",
      "Epoch 70/1000\n",
      "7/7 [==============================] - 0s 22ms/step - loss: 0.3651 - binary_accuracy: 0.9675 - val_loss: 0.4092 - val_binary_accuracy: 0.9300\n",
      "Epoch 71/1000\n",
      "7/7 [==============================] - 0s 22ms/step - loss: 0.3431 - binary_accuracy: 0.9750 - val_loss: 0.4398 - val_binary_accuracy: 0.9000\n",
      "Epoch 72/1000\n",
      "7/7 [==============================] - 0s 23ms/step - loss: 0.3440 - binary_accuracy: 0.9700 - val_loss: 0.3995 - val_binary_accuracy: 0.9300\n",
      "Epoch 73/1000\n",
      "7/7 [==============================] - 0s 22ms/step - loss: 0.3422 - binary_accuracy: 0.9625 - val_loss: 0.3766 - val_binary_accuracy: 0.9400\n",
      "Epoch 74/1000\n",
      "7/7 [==============================] - 0s 22ms/step - loss: 0.3169 - binary_accuracy: 0.9775 - val_loss: 0.3536 - val_binary_accuracy: 0.9700\n",
      "Epoch 75/1000\n",
      "7/7 [==============================] - 0s 23ms/step - loss: 0.3003 - binary_accuracy: 0.9700 - val_loss: 0.3799 - val_binary_accuracy: 0.9600\n",
      "Epoch 76/1000\n",
      "7/7 [==============================] - 0s 22ms/step - loss: 0.3223 - binary_accuracy: 0.9750 - val_loss: 0.3567 - val_binary_accuracy: 0.9700\n",
      "Epoch 77/1000\n",
      "7/7 [==============================] - 0s 23ms/step - loss: 0.3064 - binary_accuracy: 0.9750 - val_loss: 0.3423 - val_binary_accuracy: 0.9700\n",
      "Epoch 78/1000\n",
      "7/7 [==============================] - 0s 22ms/step - loss: 0.2845 - binary_accuracy: 0.9800 - val_loss: 0.3300 - val_binary_accuracy: 0.9700\n",
      "Epoch 79/1000\n",
      "7/7 [==============================] - 0s 22ms/step - loss: 0.3506 - binary_accuracy: 0.9625 - val_loss: 0.3221 - val_binary_accuracy: 0.9700\n",
      "Epoch 80/1000\n",
      "7/7 [==============================] - 0s 22ms/step - loss: 0.2896 - binary_accuracy: 0.9675 - val_loss: 0.3149 - val_binary_accuracy: 0.9800\n",
      "Epoch 81/1000\n",
      "7/7 [==============================] - 0s 23ms/step - loss: 0.2989 - binary_accuracy: 0.9775 - val_loss: 0.3125 - val_binary_accuracy: 0.9700\n",
      "Epoch 82/1000\n",
      "7/7 [==============================] - 0s 24ms/step - loss: 0.2948 - binary_accuracy: 0.9650 - val_loss: 0.3087 - val_binary_accuracy: 0.9700\n",
      "Epoch 83/1000\n",
      "7/7 [==============================] - 0s 25ms/step - loss: 0.2783 - binary_accuracy: 0.9700 - val_loss: 0.3118 - val_binary_accuracy: 0.9800\n",
      "Epoch 84/1000\n",
      "7/7 [==============================] - 0s 22ms/step - loss: 0.2725 - binary_accuracy: 0.9775 - val_loss: 0.3031 - val_binary_accuracy: 0.9800\n",
      "Epoch 85/1000\n",
      "7/7 [==============================] - 0s 22ms/step - loss: 0.2655 - binary_accuracy: 0.9800 - val_loss: 0.3223 - val_binary_accuracy: 0.9700\n",
      "Epoch 86/1000\n",
      "7/7 [==============================] - 0s 22ms/step - loss: 0.2625 - binary_accuracy: 0.9750 - val_loss: 0.3145 - val_binary_accuracy: 0.9700\n",
      "Epoch 87/1000\n",
      "7/7 [==============================] - 0s 22ms/step - loss: 0.2994 - binary_accuracy: 0.9600 - val_loss: 0.3169 - val_binary_accuracy: 0.9700\n",
      "Epoch 88/1000\n",
      "7/7 [==============================] - 0s 22ms/step - loss: 0.2875 - binary_accuracy: 0.9675 - val_loss: 0.2852 - val_binary_accuracy: 0.9800\n",
      "Epoch 89/1000\n",
      "7/7 [==============================] - 0s 23ms/step - loss: 0.2760 - binary_accuracy: 0.9750 - val_loss: 0.3033 - val_binary_accuracy: 0.9600\n",
      "Epoch 90/1000\n",
      "7/7 [==============================] - 0s 22ms/step - loss: 0.2445 - binary_accuracy: 0.9750 - val_loss: 0.3014 - val_binary_accuracy: 0.9600\n",
      "Epoch 91/1000\n",
      "7/7 [==============================] - 0s 22ms/step - loss: 0.2570 - binary_accuracy: 0.9775 - val_loss: 0.3296 - val_binary_accuracy: 0.9500\n",
      "Epoch 92/1000\n",
      "7/7 [==============================] - 0s 19ms/step - loss: 0.2603 - binary_accuracy: 0.9600 - val_loss: 0.2859 - val_binary_accuracy: 0.9700\n",
      "Epoch 93/1000\n",
      "7/7 [==============================] - 0s 20ms/step - loss: 0.2359 - binary_accuracy: 0.9775 - val_loss: 0.2826 - val_binary_accuracy: 0.9700\n",
      "Epoch 94/1000\n",
      "7/7 [==============================] - 0s 21ms/step - loss: 0.2594 - binary_accuracy: 0.9800 - val_loss: 0.2680 - val_binary_accuracy: 0.9700\n",
      "Epoch 95/1000\n",
      "7/7 [==============================] - 0s 22ms/step - loss: 0.2259 - binary_accuracy: 0.9850 - val_loss: 0.3008 - val_binary_accuracy: 0.9500\n",
      "Epoch 96/1000\n",
      "7/7 [==============================] - 0s 24ms/step - loss: 0.2492 - binary_accuracy: 0.9675 - val_loss: 0.2872 - val_binary_accuracy: 0.9600\n",
      "Epoch 97/1000\n",
      "7/7 [==============================] - 0s 24ms/step - loss: 0.2534 - binary_accuracy: 0.9625 - val_loss: 0.3407 - val_binary_accuracy: 0.9400\n",
      "Epoch 98/1000\n",
      "7/7 [==============================] - 0s 25ms/step - loss: 0.2378 - binary_accuracy: 0.9725 - val_loss: 0.3186 - val_binary_accuracy: 0.9400\n",
      "Epoch 99/1000\n",
      "7/7 [==============================] - 0s 22ms/step - loss: 0.2434 - binary_accuracy: 0.9675 - val_loss: 0.3859 - val_binary_accuracy: 0.9400\n",
      "Epoch 100/1000\n",
      "7/7 [==============================] - 0s 23ms/step - loss: 0.2111 - binary_accuracy: 0.9825 - val_loss: 0.3017 - val_binary_accuracy: 0.9600\n",
      "Epoch 101/1000\n",
      "7/7 [==============================] - 0s 22ms/step - loss: 0.2332 - binary_accuracy: 0.9750 - val_loss: 0.2822 - val_binary_accuracy: 0.9700\n",
      "Epoch 102/1000\n",
      "7/7 [==============================] - 0s 24ms/step - loss: 0.2195 - binary_accuracy: 0.9775 - val_loss: 0.2765 - val_binary_accuracy: 0.9600\n",
      "Epoch 103/1000\n",
      "7/7 [==============================] - 0s 23ms/step - loss: 0.2215 - binary_accuracy: 0.9700 - val_loss: 0.3889 - val_binary_accuracy: 0.8700\n",
      "Epoch 104/1000\n",
      "7/7 [==============================] - 0s 22ms/step - loss: 0.1921 - binary_accuracy: 0.9825 - val_loss: 0.2695 - val_binary_accuracy: 0.9700\n",
      "Epoch 105/1000\n"
     ]
    },
    {
     "name": "stdout",
     "output_type": "stream",
     "text": [
      "7/7 [==============================] - 0s 24ms/step - loss: 0.2087 - binary_accuracy: 0.9775 - val_loss: 0.2830 - val_binary_accuracy: 0.9500\n",
      "Epoch 106/1000\n",
      "7/7 [==============================] - 0s 22ms/step - loss: 0.2156 - binary_accuracy: 0.9775 - val_loss: 0.2889 - val_binary_accuracy: 0.9500\n",
      "Epoch 107/1000\n",
      "7/7 [==============================] - 0s 24ms/step - loss: 0.2017 - binary_accuracy: 0.9725 - val_loss: 0.2654 - val_binary_accuracy: 0.9700\n",
      "Epoch 108/1000\n",
      "7/7 [==============================] - 0s 21ms/step - loss: 0.1973 - binary_accuracy: 0.9750 - val_loss: 0.2683 - val_binary_accuracy: 0.9700\n",
      "Epoch 109/1000\n",
      "7/7 [==============================] - 0s 24ms/step - loss: 0.2258 - binary_accuracy: 0.9625 - val_loss: 0.2589 - val_binary_accuracy: 0.9700\n",
      "Epoch 110/1000\n",
      "7/7 [==============================] - 0s 22ms/step - loss: 0.2171 - binary_accuracy: 0.9675 - val_loss: 0.3236 - val_binary_accuracy: 0.9400\n",
      "Epoch 111/1000\n",
      "7/7 [==============================] - 0s 23ms/step - loss: 0.2123 - binary_accuracy: 0.9725 - val_loss: 0.2710 - val_binary_accuracy: 0.9500\n",
      "Epoch 112/1000\n",
      "7/7 [==============================] - 0s 22ms/step - loss: 0.2383 - binary_accuracy: 0.9700 - val_loss: 0.2544 - val_binary_accuracy: 0.9800\n",
      "Epoch 113/1000\n",
      "7/7 [==============================] - 0s 22ms/step - loss: 0.2072 - binary_accuracy: 0.9800 - val_loss: 0.3016 - val_binary_accuracy: 0.9400\n",
      "Epoch 114/1000\n",
      "7/7 [==============================] - 0s 24ms/step - loss: 0.2227 - binary_accuracy: 0.9700 - val_loss: 0.3183 - val_binary_accuracy: 0.9300\n",
      "Epoch 115/1000\n",
      "7/7 [==============================] - 0s 22ms/step - loss: 0.2320 - binary_accuracy: 0.9625 - val_loss: 0.2620 - val_binary_accuracy: 0.9500\n",
      "Epoch 116/1000\n",
      "7/7 [==============================] - 0s 24ms/step - loss: 0.2224 - binary_accuracy: 0.9750 - val_loss: 0.2359 - val_binary_accuracy: 0.9800\n",
      "Epoch 117/1000\n",
      "7/7 [==============================] - 0s 24ms/step - loss: 0.2072 - binary_accuracy: 0.9625 - val_loss: 0.2770 - val_binary_accuracy: 0.9500\n",
      "Epoch 118/1000\n",
      "7/7 [==============================] - 0s 23ms/step - loss: 0.2134 - binary_accuracy: 0.9750 - val_loss: 0.3260 - val_binary_accuracy: 0.9400\n",
      "Epoch 119/1000\n",
      "7/7 [==============================] - 0s 22ms/step - loss: 0.1972 - binary_accuracy: 0.9825 - val_loss: 0.2977 - val_binary_accuracy: 0.9500\n",
      "Epoch 120/1000\n",
      "7/7 [==============================] - 0s 22ms/step - loss: 0.2030 - binary_accuracy: 0.9675 - val_loss: 0.2563 - val_binary_accuracy: 0.9600\n",
      "Epoch 121/1000\n",
      "7/7 [==============================] - 0s 21ms/step - loss: 0.2072 - binary_accuracy: 0.9750 - val_loss: 0.2544 - val_binary_accuracy: 0.9600\n",
      "Epoch 122/1000\n",
      "7/7 [==============================] - 0s 23ms/step - loss: 0.1807 - binary_accuracy: 0.9775 - val_loss: 0.2425 - val_binary_accuracy: 0.9700\n",
      "Epoch 123/1000\n",
      "7/7 [==============================] - 0s 26ms/step - loss: 0.1924 - binary_accuracy: 0.9725 - val_loss: 0.2426 - val_binary_accuracy: 0.9600\n",
      "Epoch 124/1000\n",
      "7/7 [==============================] - 0s 25ms/step - loss: 0.1835 - binary_accuracy: 0.9750 - val_loss: 0.2377 - val_binary_accuracy: 0.9600\n",
      "Epoch 125/1000\n",
      "7/7 [==============================] - 0s 25ms/step - loss: 0.1928 - binary_accuracy: 0.9675 - val_loss: 0.2300 - val_binary_accuracy: 0.9600\n",
      "Epoch 126/1000\n",
      "7/7 [==============================] - 0s 22ms/step - loss: 0.1988 - binary_accuracy: 0.9825 - val_loss: 0.2689 - val_binary_accuracy: 0.9500\n",
      "Epoch 127/1000\n",
      "7/7 [==============================] - 0s 25ms/step - loss: 0.1670 - binary_accuracy: 0.9800 - val_loss: 0.2319 - val_binary_accuracy: 0.9600\n",
      "Epoch 128/1000\n",
      "7/7 [==============================] - 0s 25ms/step - loss: 0.2010 - binary_accuracy: 0.9750 - val_loss: 0.2101 - val_binary_accuracy: 0.9700\n",
      "Epoch 129/1000\n",
      "7/7 [==============================] - 0s 24ms/step - loss: 0.1955 - binary_accuracy: 0.9700 - val_loss: 0.2208 - val_binary_accuracy: 0.9700\n",
      "Epoch 130/1000\n",
      "7/7 [==============================] - 0s 22ms/step - loss: 0.1969 - binary_accuracy: 0.9725 - val_loss: 0.2200 - val_binary_accuracy: 0.9700\n",
      "Epoch 131/1000\n",
      "7/7 [==============================] - 0s 22ms/step - loss: 0.1629 - binary_accuracy: 0.9800 - val_loss: 0.2089 - val_binary_accuracy: 0.9700\n",
      "Epoch 132/1000\n",
      "7/7 [==============================] - 0s 24ms/step - loss: 0.1642 - binary_accuracy: 0.9750 - val_loss: 0.2371 - val_binary_accuracy: 0.9400\n",
      "Epoch 133/1000\n",
      "7/7 [==============================] - 0s 23ms/step - loss: 0.1608 - binary_accuracy: 0.9750 - val_loss: 0.2485 - val_binary_accuracy: 0.9400\n",
      "Epoch 134/1000\n",
      "7/7 [==============================] - 0s 24ms/step - loss: 0.1558 - binary_accuracy: 0.9850 - val_loss: 0.2343 - val_binary_accuracy: 0.9600\n",
      "Epoch 135/1000\n",
      "7/7 [==============================] - 0s 22ms/step - loss: 0.1702 - binary_accuracy: 0.9725 - val_loss: 0.2173 - val_binary_accuracy: 0.9700\n",
      "Epoch 136/1000\n",
      "7/7 [==============================] - 0s 22ms/step - loss: 0.1690 - binary_accuracy: 0.9675 - val_loss: 0.2046 - val_binary_accuracy: 0.9800\n",
      "Epoch 137/1000\n",
      "7/7 [==============================] - 0s 24ms/step - loss: 0.1762 - binary_accuracy: 0.9700 - val_loss: 0.2113 - val_binary_accuracy: 0.9700\n",
      "Epoch 138/1000\n",
      "7/7 [==============================] - 0s 23ms/step - loss: 0.1559 - binary_accuracy: 0.9775 - val_loss: 0.2278 - val_binary_accuracy: 0.9600\n",
      "Epoch 139/1000\n",
      "7/7 [==============================] - 0s 22ms/step - loss: 0.2123 - binary_accuracy: 0.9600 - val_loss: 0.2202 - val_binary_accuracy: 0.9700\n",
      "Epoch 140/1000\n",
      "7/7 [==============================] - 0s 22ms/step - loss: 0.1974 - binary_accuracy: 0.9725 - val_loss: 0.2613 - val_binary_accuracy: 0.9600\n",
      "Epoch 141/1000\n",
      "7/7 [==============================] - 0s 22ms/step - loss: 0.1798 - binary_accuracy: 0.9675 - val_loss: 0.2536 - val_binary_accuracy: 0.9600\n",
      "Epoch 142/1000\n",
      "7/7 [==============================] - 0s 23ms/step - loss: 0.1884 - binary_accuracy: 0.9700 - val_loss: 0.3445 - val_binary_accuracy: 0.9300\n",
      "Epoch 143/1000\n",
      "7/7 [==============================] - 0s 21ms/step - loss: 0.2027 - binary_accuracy: 0.9575 - val_loss: 0.2693 - val_binary_accuracy: 0.9400\n",
      "Epoch 144/1000\n",
      "7/7 [==============================] - 0s 23ms/step - loss: 0.1737 - binary_accuracy: 0.9700 - val_loss: 0.2574 - val_binary_accuracy: 0.9600\n",
      "Epoch 145/1000\n",
      "7/7 [==============================] - 0s 24ms/step - loss: 0.1965 - binary_accuracy: 0.9650 - val_loss: 0.2231 - val_binary_accuracy: 0.9700\n",
      "Epoch 146/1000\n",
      "7/7 [==============================] - 0s 23ms/step - loss: 0.1776 - binary_accuracy: 0.9650 - val_loss: 0.2390 - val_binary_accuracy: 0.9600\n",
      "Epoch 147/1000\n",
      "7/7 [==============================] - 0s 22ms/step - loss: 0.1808 - binary_accuracy: 0.9725 - val_loss: 0.3128 - val_binary_accuracy: 0.9200\n",
      "Epoch 148/1000\n",
      "7/7 [==============================] - 0s 22ms/step - loss: 0.1960 - binary_accuracy: 0.9725 - val_loss: 1.6337 - val_binary_accuracy: 0.4600\n",
      "Epoch 149/1000\n",
      "7/7 [==============================] - 0s 22ms/step - loss: 0.1792 - binary_accuracy: 0.9675 - val_loss: 1.5529 - val_binary_accuracy: 0.4800\n",
      "Epoch 150/1000\n",
      "7/7 [==============================] - 0s 23ms/step - loss: 0.1827 - binary_accuracy: 0.9750 - val_loss: 1.0142 - val_binary_accuracy: 0.5900\n",
      "Epoch 151/1000\n",
      "7/7 [==============================] - 0s 22ms/step - loss: 0.1992 - binary_accuracy: 0.9725 - val_loss: 0.6443 - val_binary_accuracy: 0.7700\n",
      "Epoch 152/1000\n",
      "7/7 [==============================] - 0s 23ms/step - loss: 0.1818 - binary_accuracy: 0.9700 - val_loss: 1.2451 - val_binary_accuracy: 0.5800\n",
      "Epoch 153/1000\n",
      "7/7 [==============================] - 0s 22ms/step - loss: 0.1906 - binary_accuracy: 0.9725 - val_loss: 0.2380 - val_binary_accuracy: 0.9500\n",
      "Epoch 154/1000\n",
      "7/7 [==============================] - 0s 23ms/step - loss: 0.1708 - binary_accuracy: 0.9750 - val_loss: 0.2242 - val_binary_accuracy: 0.9700\n",
      "Epoch 155/1000\n",
      "7/7 [==============================] - 0s 23ms/step - loss: 0.1974 - binary_accuracy: 0.9750 - val_loss: 0.2220 - val_binary_accuracy: 0.9700\n",
      "Epoch 156/1000\n",
      "7/7 [==============================] - 0s 25ms/step - loss: 0.1574 - binary_accuracy: 0.9775 - val_loss: 0.3070 - val_binary_accuracy: 0.9700\n",
      "Epoch 157/1000\n",
      "7/7 [==============================] - 0s 23ms/step - loss: 0.1724 - binary_accuracy: 0.9725 - val_loss: 0.2433 - val_binary_accuracy: 0.9500\n",
      "Epoch 158/1000\n",
      "7/7 [==============================] - 0s 23ms/step - loss: 0.1935 - binary_accuracy: 0.9725 - val_loss: 0.2366 - val_binary_accuracy: 0.9500\n",
      "Epoch 159/1000\n",
      "7/7 [==============================] - 0s 23ms/step - loss: 0.1767 - binary_accuracy: 0.9700 - val_loss: 0.2431 - val_binary_accuracy: 0.9500\n",
      "Epoch 160/1000\n",
      "7/7 [==============================] - 0s 21ms/step - loss: 0.2019 - binary_accuracy: 0.9675 - val_loss: 0.3114 - val_binary_accuracy: 0.9000\n",
      "Epoch 161/1000\n",
      "7/7 [==============================] - 0s 24ms/step - loss: 0.1644 - binary_accuracy: 0.9825 - val_loss: 0.3015 - val_binary_accuracy: 0.9000\n",
      "Epoch 162/1000\n",
      "7/7 [==============================] - 0s 23ms/step - loss: 0.1733 - binary_accuracy: 0.9725 - val_loss: 0.3727 - val_binary_accuracy: 0.8900\n",
      "Epoch 163/1000\n",
      "7/7 [==============================] - 0s 22ms/step - loss: 0.1951 - binary_accuracy: 0.9725 - val_loss: 0.2176 - val_binary_accuracy: 0.9800\n",
      "Epoch 164/1000\n",
      "7/7 [==============================] - 0s 22ms/step - loss: 0.1627 - binary_accuracy: 0.9650 - val_loss: 0.2268 - val_binary_accuracy: 0.9600\n",
      "Epoch 165/1000\n",
      "7/7 [==============================] - 0s 22ms/step - loss: 0.1469 - binary_accuracy: 0.9800 - val_loss: 0.2201 - val_binary_accuracy: 0.9500\n",
      "Epoch 166/1000\n",
      "7/7 [==============================] - 0s 22ms/step - loss: 0.1464 - binary_accuracy: 0.9750 - val_loss: 0.2367 - val_binary_accuracy: 0.9500\n",
      "Epoch 167/1000\n",
      "7/7 [==============================] - 0s 23ms/step - loss: 0.1446 - binary_accuracy: 0.9800 - val_loss: 0.1991 - val_binary_accuracy: 0.9800\n",
      "Epoch 168/1000\n",
      "7/7 [==============================] - 0s 24ms/step - loss: 0.1614 - binary_accuracy: 0.9700 - val_loss: 0.1977 - val_binary_accuracy: 0.9800\n",
      "Epoch 169/1000\n",
      "7/7 [==============================] - 0s 23ms/step - loss: 0.1615 - binary_accuracy: 0.9775 - val_loss: 0.2020 - val_binary_accuracy: 0.9800\n",
      "Epoch 170/1000\n",
      "7/7 [==============================] - 0s 21ms/step - loss: 0.1605 - binary_accuracy: 0.9750 - val_loss: 0.2300 - val_binary_accuracy: 0.9700\n",
      "Epoch 171/1000\n",
      "7/7 [==============================] - 0s 22ms/step - loss: 0.1760 - binary_accuracy: 0.9700 - val_loss: 0.2296 - val_binary_accuracy: 0.9700\n",
      "Epoch 172/1000\n",
      "7/7 [==============================] - 0s 22ms/step - loss: 0.1740 - binary_accuracy: 0.9675 - val_loss: 0.2422 - val_binary_accuracy: 0.9600\n",
      "Epoch 173/1000\n",
      "7/7 [==============================] - 0s 20ms/step - loss: 0.1410 - binary_accuracy: 0.9800 - val_loss: 1.1355 - val_binary_accuracy: 0.5400\n",
      "Epoch 174/1000\n",
      "7/7 [==============================] - 0s 23ms/step - loss: 0.1678 - binary_accuracy: 0.9825 - val_loss: 0.6506 - val_binary_accuracy: 0.7200\n",
      "Epoch 175/1000\n",
      "7/7 [==============================] - 0s 22ms/step - loss: 0.1665 - binary_accuracy: 0.9825 - val_loss: 0.2176 - val_binary_accuracy: 0.9600\n",
      "Epoch 176/1000\n",
      "7/7 [==============================] - 0s 24ms/step - loss: 0.1530 - binary_accuracy: 0.9750 - val_loss: 0.2051 - val_binary_accuracy: 0.9800\n",
      "Epoch 177/1000\n",
      "7/7 [==============================] - 0s 22ms/step - loss: 0.1546 - binary_accuracy: 0.9750 - val_loss: 0.1995 - val_binary_accuracy: 0.9800\n",
      "Epoch 178/1000\n",
      "7/7 [==============================] - 0s 24ms/step - loss: 0.1533 - binary_accuracy: 0.9700 - val_loss: 0.2030 - val_binary_accuracy: 0.9700\n",
      "Epoch 179/1000\n",
      "7/7 [==============================] - 0s 24ms/step - loss: 0.1749 - binary_accuracy: 0.9775 - val_loss: 0.2013 - val_binary_accuracy: 0.9700\n",
      "Epoch 180/1000\n",
      "7/7 [==============================] - 0s 22ms/step - loss: 0.1318 - binary_accuracy: 0.9750 - val_loss: 0.1935 - val_binary_accuracy: 0.9800\n",
      "Epoch 181/1000\n",
      "7/7 [==============================] - 0s 22ms/step - loss: 0.1246 - binary_accuracy: 0.9825 - val_loss: 0.2028 - val_binary_accuracy: 0.9700\n",
      "Epoch 182/1000\n",
      "7/7 [==============================] - 0s 21ms/step - loss: 0.1844 - binary_accuracy: 0.9725 - val_loss: 0.2000 - val_binary_accuracy: 0.9800\n",
      "Epoch 183/1000\n",
      "7/7 [==============================] - 0s 22ms/step - loss: 0.1766 - binary_accuracy: 0.9725 - val_loss: 1.0011 - val_binary_accuracy: 0.6400\n",
      "Epoch 184/1000\n",
      "7/7 [==============================] - 0s 21ms/step - loss: 0.1447 - binary_accuracy: 0.9750 - val_loss: 0.6109 - val_binary_accuracy: 0.7800\n",
      "Epoch 185/1000\n",
      "7/7 [==============================] - 0s 23ms/step - loss: 0.1892 - binary_accuracy: 0.9725 - val_loss: 0.5572 - val_binary_accuracy: 0.7900\n",
      "Epoch 186/1000\n",
      "7/7 [==============================] - 0s 24ms/step - loss: 0.1760 - binary_accuracy: 0.9775 - val_loss: 0.5566 - val_binary_accuracy: 0.7500\n",
      "Epoch 187/1000\n",
      "7/7 [==============================] - 0s 24ms/step - loss: 0.1716 - binary_accuracy: 0.9750 - val_loss: 0.2837 - val_binary_accuracy: 0.9200\n",
      "Epoch 188/1000\n",
      "7/7 [==============================] - 0s 22ms/step - loss: 0.1860 - binary_accuracy: 0.9675 - val_loss: 0.2070 - val_binary_accuracy: 0.9700\n",
      "Epoch 189/1000\n",
      "7/7 [==============================] - 0s 24ms/step - loss: 0.1581 - binary_accuracy: 0.9675 - val_loss: 0.2504 - val_binary_accuracy: 0.9400\n",
      "Epoch 190/1000\n",
      "7/7 [==============================] - 0s 23ms/step - loss: 0.1999 - binary_accuracy: 0.9725 - val_loss: 0.3891 - val_binary_accuracy: 0.8700\n",
      "Epoch 191/1000\n",
      "7/7 [==============================] - 0s 22ms/step - loss: 0.1628 - binary_accuracy: 0.9775 - val_loss: 0.2798 - val_binary_accuracy: 0.9200\n",
      "Epoch 192/1000\n",
      "7/7 [==============================] - 0s 23ms/step - loss: 0.1573 - binary_accuracy: 0.9825 - val_loss: 7.4791 - val_binary_accuracy: 0.4300\n",
      "Epoch 193/1000\n",
      "7/7 [==============================] - 0s 24ms/step - loss: 0.1951 - binary_accuracy: 0.9675 - val_loss: 5.8621 - val_binary_accuracy: 0.4300\n",
      "Epoch 194/1000\n",
      "7/7 [==============================] - 0s 24ms/step - loss: 0.1983 - binary_accuracy: 0.9625 - val_loss: 2.1756 - val_binary_accuracy: 0.4300\n",
      "Epoch 195/1000\n",
      "7/7 [==============================] - 0s 24ms/step - loss: 0.1994 - binary_accuracy: 0.9650 - val_loss: 1.2459 - val_binary_accuracy: 0.5000\n",
      "Epoch 196/1000\n",
      "7/7 [==============================] - 0s 23ms/step - loss: 0.1897 - binary_accuracy: 0.9750 - val_loss: 0.3433 - val_binary_accuracy: 0.8900\n",
      "Epoch 197/1000\n",
      "7/7 [==============================] - 0s 23ms/step - loss: 0.1612 - binary_accuracy: 0.9700 - val_loss: 0.2565 - val_binary_accuracy: 0.9400\n",
      "Epoch 198/1000\n",
      "7/7 [==============================] - 0s 25ms/step - loss: 0.1751 - binary_accuracy: 0.9725 - val_loss: 0.3564 - val_binary_accuracy: 0.9000\n",
      "Epoch 199/1000\n",
      "7/7 [==============================] - 0s 23ms/step - loss: 0.1544 - binary_accuracy: 0.9775 - val_loss: 0.2424 - val_binary_accuracy: 0.9400\n",
      "Epoch 200/1000\n",
      "7/7 [==============================] - 0s 24ms/step - loss: 0.1512 - binary_accuracy: 0.9800 - val_loss: 0.2757 - val_binary_accuracy: 0.9200\n",
      "Epoch 201/1000\n",
      "7/7 [==============================] - 0s 23ms/step - loss: 0.1725 - binary_accuracy: 0.9725 - val_loss: 0.2076 - val_binary_accuracy: 0.9700\n",
      "Epoch 202/1000\n",
      "7/7 [==============================] - 0s 22ms/step - loss: 0.1420 - binary_accuracy: 0.9850 - val_loss: 0.2339 - val_binary_accuracy: 0.9500\n",
      "Epoch 203/1000\n",
      "7/7 [==============================] - 0s 24ms/step - loss: 0.1533 - binary_accuracy: 0.9775 - val_loss: 0.2066 - val_binary_accuracy: 0.9700\n",
      "Epoch 204/1000\n",
      "7/7 [==============================] - 0s 22ms/step - loss: 0.1958 - binary_accuracy: 0.9625 - val_loss: 0.4502 - val_binary_accuracy: 0.8500\n",
      "Epoch 205/1000\n",
      "7/7 [==============================] - 0s 24ms/step - loss: 0.1778 - binary_accuracy: 0.9750 - val_loss: 0.2197 - val_binary_accuracy: 0.9700\n",
      "Epoch 206/1000\n",
      "7/7 [==============================] - 0s 23ms/step - loss: 0.1648 - binary_accuracy: 0.9775 - val_loss: 0.2546 - val_binary_accuracy: 0.9500\n",
      "Epoch 207/1000\n",
      "7/7 [==============================] - 0s 24ms/step - loss: 0.1689 - binary_accuracy: 0.9750 - val_loss: 0.4279 - val_binary_accuracy: 0.9400\n",
      "Epoch 208/1000\n",
      "7/7 [==============================] - 0s 22ms/step - loss: 0.1527 - binary_accuracy: 0.9825 - val_loss: 0.5098 - val_binary_accuracy: 0.9100\n",
      "Epoch 209/1000\n"
     ]
    },
    {
     "name": "stdout",
     "output_type": "stream",
     "text": [
      "7/7 [==============================] - 0s 22ms/step - loss: 0.1554 - binary_accuracy: 0.9725 - val_loss: 0.4827 - val_binary_accuracy: 0.9100\n",
      "Epoch 210/1000\n",
      "7/7 [==============================] - 0s 23ms/step - loss: 0.1629 - binary_accuracy: 0.9800 - val_loss: 0.2995 - val_binary_accuracy: 0.9400\n",
      "Epoch 211/1000\n",
      "7/7 [==============================] - 0s 23ms/step - loss: 0.1602 - binary_accuracy: 0.9800 - val_loss: 0.2261 - val_binary_accuracy: 0.9500\n",
      "Epoch 212/1000\n",
      "7/7 [==============================] - 0s 24ms/step - loss: 0.1389 - binary_accuracy: 0.9825 - val_loss: 0.2356 - val_binary_accuracy: 0.9500\n",
      "Epoch 213/1000\n",
      "7/7 [==============================] - 0s 22ms/step - loss: 0.1621 - binary_accuracy: 0.9700 - val_loss: 0.2196 - val_binary_accuracy: 0.9600\n",
      "Epoch 214/1000\n",
      "7/7 [==============================] - 0s 22ms/step - loss: 0.1556 - binary_accuracy: 0.9775 - val_loss: 0.2743 - val_binary_accuracy: 0.9500\n",
      "Epoch 215/1000\n",
      "7/7 [==============================] - 0s 22ms/step - loss: 0.2109 - binary_accuracy: 0.9625 - val_loss: 1.8968 - val_binary_accuracy: 0.4500\n",
      "Epoch 216/1000\n",
      "7/7 [==============================] - 0s 23ms/step - loss: 0.1862 - binary_accuracy: 0.9625 - val_loss: 2.4398 - val_binary_accuracy: 0.4300\n",
      "Epoch 217/1000\n",
      "7/7 [==============================] - 0s 23ms/step - loss: 0.1924 - binary_accuracy: 0.9650 - val_loss: 0.8641 - val_binary_accuracy: 0.6400\n",
      "Epoch 218/1000\n",
      "7/7 [==============================] - 0s 24ms/step - loss: 0.1799 - binary_accuracy: 0.9700 - val_loss: 0.6330 - val_binary_accuracy: 0.7500\n",
      "Epoch 219/1000\n",
      "7/7 [==============================] - 0s 23ms/step - loss: 0.2053 - binary_accuracy: 0.9625 - val_loss: 0.2456 - val_binary_accuracy: 0.9600\n",
      "Epoch 220/1000\n",
      "7/7 [==============================] - 0s 26ms/step - loss: 0.1766 - binary_accuracy: 0.9825 - val_loss: 0.2294 - val_binary_accuracy: 0.9600\n",
      "Epoch 221/1000\n",
      "7/7 [==============================] - 0s 23ms/step - loss: 0.1874 - binary_accuracy: 0.9700 - val_loss: 0.2693 - val_binary_accuracy: 0.9400\n",
      "Epoch 222/1000\n",
      "7/7 [==============================] - 0s 24ms/step - loss: 0.1823 - binary_accuracy: 0.9675 - val_loss: 0.2148 - val_binary_accuracy: 0.9700\n",
      "Epoch 223/1000\n",
      "7/7 [==============================] - 0s 25ms/step - loss: 0.1699 - binary_accuracy: 0.9825 - val_loss: 0.2135 - val_binary_accuracy: 0.9700\n",
      "Epoch 224/1000\n",
      "7/7 [==============================] - 0s 24ms/step - loss: 0.1797 - binary_accuracy: 0.9800 - val_loss: 0.2035 - val_binary_accuracy: 0.9700\n",
      "Epoch 225/1000\n",
      "7/7 [==============================] - 0s 22ms/step - loss: 0.1719 - binary_accuracy: 0.9725 - val_loss: 0.2237 - val_binary_accuracy: 0.9600\n",
      "Epoch 226/1000\n",
      "7/7 [==============================] - 0s 24ms/step - loss: 0.1771 - binary_accuracy: 0.9650 - val_loss: 0.2015 - val_binary_accuracy: 0.9700\n",
      "Epoch 227/1000\n",
      "7/7 [==============================] - 0s 22ms/step - loss: 0.1678 - binary_accuracy: 0.9800 - val_loss: 0.2171 - val_binary_accuracy: 0.9500\n",
      "Epoch 228/1000\n",
      "7/7 [==============================] - 0s 22ms/step - loss: 0.1726 - binary_accuracy: 0.9750 - val_loss: 0.2396 - val_binary_accuracy: 0.9600\n",
      "Epoch 229/1000\n",
      "7/7 [==============================] - 0s 24ms/step - loss: 0.1855 - binary_accuracy: 0.9675 - val_loss: 0.2207 - val_binary_accuracy: 0.9600\n",
      "Epoch 230/1000\n",
      "7/7 [==============================] - 0s 23ms/step - loss: 0.1765 - binary_accuracy: 0.9775 - val_loss: 0.3653 - val_binary_accuracy: 0.8500\n",
      "Epoch 231/1000\n",
      "7/7 [==============================] - 0s 22ms/step - loss: 0.2276 - binary_accuracy: 0.9575 - val_loss: 1.2652 - val_binary_accuracy: 0.4800\n",
      "Epoch 232/1000\n",
      "7/7 [==============================] - 0s 23ms/step - loss: 0.2012 - binary_accuracy: 0.9675 - val_loss: 1.3666 - val_binary_accuracy: 0.4800\n",
      "Epoch 233/1000\n",
      "7/7 [==============================] - 0s 22ms/step - loss: 0.2124 - binary_accuracy: 0.9650 - val_loss: 0.7939 - val_binary_accuracy: 0.6700\n",
      "Epoch 234/1000\n",
      "7/7 [==============================] - 0s 23ms/step - loss: 0.1975 - binary_accuracy: 0.9725 - val_loss: 0.6266 - val_binary_accuracy: 0.7500\n",
      "Epoch 235/1000\n",
      "7/7 [==============================] - 0s 24ms/step - loss: 0.1855 - binary_accuracy: 0.9650 - val_loss: 0.6657 - val_binary_accuracy: 0.7300\n",
      "Epoch 236/1000\n",
      "7/7 [==============================] - 0s 22ms/step - loss: 0.1675 - binary_accuracy: 0.9775 - val_loss: 0.5962 - val_binary_accuracy: 0.7400\n",
      "Epoch 237/1000\n",
      "7/7 [==============================] - 0s 23ms/step - loss: 0.1668 - binary_accuracy: 0.9725 - val_loss: 0.3822 - val_binary_accuracy: 0.8600\n",
      "Epoch 238/1000\n",
      "7/7 [==============================] - 0s 25ms/step - loss: 0.1666 - binary_accuracy: 0.9650 - val_loss: 0.3075 - val_binary_accuracy: 0.9100\n",
      "Epoch 239/1000\n",
      "7/7 [==============================] - 0s 23ms/step - loss: 0.1772 - binary_accuracy: 0.9725 - val_loss: 0.2529 - val_binary_accuracy: 0.9300\n",
      "Epoch 240/1000\n",
      "7/7 [==============================] - 0s 21ms/step - loss: 0.1807 - binary_accuracy: 0.9725 - val_loss: 0.2380 - val_binary_accuracy: 0.9500\n",
      "Epoch 241/1000\n",
      "7/7 [==============================] - 0s 21ms/step - loss: 0.1678 - binary_accuracy: 0.9800 - val_loss: 0.2144 - val_binary_accuracy: 0.9600\n",
      "Epoch 242/1000\n",
      "7/7 [==============================] - 0s 23ms/step - loss: 0.1644 - binary_accuracy: 0.9750 - val_loss: 0.4248 - val_binary_accuracy: 0.8100\n",
      "Epoch 243/1000\n",
      "7/7 [==============================] - 0s 24ms/step - loss: 0.1683 - binary_accuracy: 0.9850 - val_loss: 0.4836 - val_binary_accuracy: 0.8100\n",
      "Epoch 244/1000\n",
      "7/7 [==============================] - 0s 23ms/step - loss: 0.1711 - binary_accuracy: 0.9775 - val_loss: 0.2482 - val_binary_accuracy: 0.9500\n",
      "Epoch 245/1000\n",
      "7/7 [==============================] - 0s 22ms/step - loss: 0.1652 - binary_accuracy: 0.9675 - val_loss: 0.2082 - val_binary_accuracy: 0.9600\n",
      "Epoch 246/1000\n",
      "7/7 [==============================] - 0s 23ms/step - loss: 0.1572 - binary_accuracy: 0.9725 - val_loss: 0.2053 - val_binary_accuracy: 0.9800\n",
      "Epoch 247/1000\n",
      "7/7 [==============================] - 0s 22ms/step - loss: 0.1681 - binary_accuracy: 0.9725 - val_loss: 0.2166 - val_binary_accuracy: 0.9700\n",
      "Epoch 248/1000\n",
      "7/7 [==============================] - 0s 22ms/step - loss: 0.1480 - binary_accuracy: 0.9775 - val_loss: 0.2094 - val_binary_accuracy: 0.9800\n",
      "Epoch 249/1000\n",
      "7/7 [==============================] - 0s 22ms/step - loss: 0.1742 - binary_accuracy: 0.9725 - val_loss: 0.2142 - val_binary_accuracy: 0.9500\n",
      "Epoch 250/1000\n",
      "7/7 [==============================] - 0s 22ms/step - loss: 0.1510 - binary_accuracy: 0.9775 - val_loss: 0.2254 - val_binary_accuracy: 0.9600\n",
      "Epoch 251/1000\n",
      "7/7 [==============================] - 0s 22ms/step - loss: 0.1527 - binary_accuracy: 0.9725 - val_loss: 0.2212 - val_binary_accuracy: 0.9700\n",
      "Epoch 252/1000\n",
      "7/7 [==============================] - 0s 19ms/step - loss: 0.1650 - binary_accuracy: 0.9750 - val_loss: 0.1980 - val_binary_accuracy: 0.9700\n",
      "Epoch 253/1000\n",
      "7/7 [==============================] - 0s 22ms/step - loss: 0.1526 - binary_accuracy: 0.9800 - val_loss: 0.1997 - val_binary_accuracy: 0.9800\n",
      "Epoch 254/1000\n",
      "7/7 [==============================] - 0s 23ms/step - loss: 0.1563 - binary_accuracy: 0.9750 - val_loss: 0.1964 - val_binary_accuracy: 0.9700\n",
      "Epoch 255/1000\n",
      "7/7 [==============================] - 0s 25ms/step - loss: 0.1788 - binary_accuracy: 0.9725 - val_loss: 0.1925 - val_binary_accuracy: 0.9800\n",
      "Epoch 256/1000\n",
      "7/7 [==============================] - 0s 24ms/step - loss: 0.1604 - binary_accuracy: 0.9800 - val_loss: 0.1951 - val_binary_accuracy: 0.9700\n",
      "Epoch 257/1000\n",
      "7/7 [==============================] - 0s 22ms/step - loss: 0.1581 - binary_accuracy: 0.9800 - val_loss: 0.2578 - val_binary_accuracy: 0.9400\n",
      "Epoch 258/1000\n",
      "7/7 [==============================] - 0s 22ms/step - loss: 0.1685 - binary_accuracy: 0.9800 - val_loss: 0.1932 - val_binary_accuracy: 0.9700\n",
      "Epoch 259/1000\n",
      "7/7 [==============================] - 0s 24ms/step - loss: 0.1854 - binary_accuracy: 0.9675 - val_loss: 0.1857 - val_binary_accuracy: 0.9800\n",
      "Epoch 260/1000\n",
      "7/7 [==============================] - 0s 24ms/step - loss: 0.1664 - binary_accuracy: 0.9750 - val_loss: 0.2064 - val_binary_accuracy: 0.9700\n",
      "Epoch 261/1000\n",
      "7/7 [==============================] - 0s 23ms/step - loss: 0.1645 - binary_accuracy: 0.9725 - val_loss: 0.2041 - val_binary_accuracy: 0.9700\n",
      "Epoch 262/1000\n",
      "7/7 [==============================] - 0s 24ms/step - loss: 0.1676 - binary_accuracy: 0.9700 - val_loss: 0.1964 - val_binary_accuracy: 0.9700\n",
      "Epoch 263/1000\n",
      "7/7 [==============================] - 0s 22ms/step - loss: 0.1772 - binary_accuracy: 0.9650 - val_loss: 0.1930 - val_binary_accuracy: 0.9700\n",
      "Epoch 264/1000\n",
      "7/7 [==============================] - 0s 22ms/step - loss: 0.1560 - binary_accuracy: 0.9775 - val_loss: 0.1914 - val_binary_accuracy: 0.9800\n",
      "Epoch 265/1000\n",
      "7/7 [==============================] - 0s 24ms/step - loss: 0.1522 - binary_accuracy: 0.9725 - val_loss: 0.1844 - val_binary_accuracy: 0.9700\n",
      "Epoch 266/1000\n",
      "7/7 [==============================] - 0s 23ms/step - loss: 0.1582 - binary_accuracy: 0.9750 - val_loss: 0.1693 - val_binary_accuracy: 0.9800\n",
      "Epoch 267/1000\n",
      "7/7 [==============================] - 0s 25ms/step - loss: 0.1696 - binary_accuracy: 0.9700 - val_loss: 0.1792 - val_binary_accuracy: 0.9800\n",
      "Epoch 268/1000\n",
      "7/7 [==============================] - 0s 23ms/step - loss: 0.2009 - binary_accuracy: 0.9550 - val_loss: 0.1831 - val_binary_accuracy: 0.9800\n",
      "Epoch 269/1000\n",
      "7/7 [==============================] - 0s 22ms/step - loss: 0.1744 - binary_accuracy: 0.9775 - val_loss: 0.2057 - val_binary_accuracy: 0.9600\n",
      "Epoch 270/1000\n",
      "7/7 [==============================] - 0s 23ms/step - loss: 0.1883 - binary_accuracy: 0.9600 - val_loss: 0.2151 - val_binary_accuracy: 0.9600\n",
      "Epoch 271/1000\n",
      "7/7 [==============================] - 0s 24ms/step - loss: 0.1909 - binary_accuracy: 0.9650 - val_loss: 0.6952 - val_binary_accuracy: 0.7000\n",
      "Epoch 272/1000\n",
      "7/7 [==============================] - 0s 23ms/step - loss: 0.1800 - binary_accuracy: 0.9700 - val_loss: 2.4122 - val_binary_accuracy: 0.4400\n",
      "Epoch 273/1000\n",
      "7/7 [==============================] - 0s 24ms/step - loss: 0.1781 - binary_accuracy: 0.9650 - val_loss: 1.8945 - val_binary_accuracy: 0.4400\n",
      "Epoch 274/1000\n",
      "7/7 [==============================] - 0s 22ms/step - loss: 0.1742 - binary_accuracy: 0.9700 - val_loss: 0.5139 - val_binary_accuracy: 0.7700\n",
      "Epoch 275/1000\n",
      "7/7 [==============================] - 0s 23ms/step - loss: 0.1496 - binary_accuracy: 0.9775 - val_loss: 0.2137 - val_binary_accuracy: 0.9600\n",
      "Epoch 276/1000\n",
      "7/7 [==============================] - 0s 24ms/step - loss: 0.1591 - binary_accuracy: 0.9775 - val_loss: 0.2150 - val_binary_accuracy: 0.9500\n",
      "Epoch 277/1000\n",
      "7/7 [==============================] - 0s 23ms/step - loss: 0.1628 - binary_accuracy: 0.9750 - val_loss: 0.2245 - val_binary_accuracy: 0.9500\n",
      "Epoch 278/1000\n",
      "7/7 [==============================] - 0s 23ms/step - loss: 0.1508 - binary_accuracy: 0.9725 - val_loss: 0.1881 - val_binary_accuracy: 0.9700\n",
      "Epoch 279/1000\n",
      "7/7 [==============================] - 0s 26ms/step - loss: 0.1995 - binary_accuracy: 0.9550 - val_loss: 0.1961 - val_binary_accuracy: 0.9600\n",
      "Epoch 280/1000\n",
      "7/7 [==============================] - 0s 23ms/step - loss: 0.1529 - binary_accuracy: 0.9700 - val_loss: 0.2167 - val_binary_accuracy: 0.9600\n",
      "Epoch 281/1000\n",
      "7/7 [==============================] - 0s 22ms/step - loss: 0.1582 - binary_accuracy: 0.9775 - val_loss: 0.2392 - val_binary_accuracy: 0.9500\n",
      "Epoch 282/1000\n",
      "7/7 [==============================] - 0s 25ms/step - loss: 0.1536 - binary_accuracy: 0.9750 - val_loss: 0.1880 - val_binary_accuracy: 0.9700\n",
      "Epoch 283/1000\n",
      "7/7 [==============================] - 0s 23ms/step - loss: 0.1510 - binary_accuracy: 0.9750 - val_loss: 0.1752 - val_binary_accuracy: 0.9800\n",
      "Epoch 284/1000\n",
      "7/7 [==============================] - 0s 23ms/step - loss: 0.1756 - binary_accuracy: 0.9675 - val_loss: 0.1836 - val_binary_accuracy: 0.9700\n",
      "Epoch 285/1000\n",
      "7/7 [==============================] - 0s 23ms/step - loss: 0.1512 - binary_accuracy: 0.9825 - val_loss: 0.1861 - val_binary_accuracy: 0.9600\n",
      "Epoch 286/1000\n",
      "7/7 [==============================] - 0s 25ms/step - loss: 0.1458 - binary_accuracy: 0.9750 - val_loss: 0.1755 - val_binary_accuracy: 0.9800\n",
      "Epoch 287/1000\n",
      "7/7 [==============================] - 0s 24ms/step - loss: 0.1484 - binary_accuracy: 0.9750 - val_loss: 0.3580 - val_binary_accuracy: 0.8800\n",
      "Epoch 288/1000\n",
      "7/7 [==============================] - 0s 22ms/step - loss: 0.1538 - binary_accuracy: 0.9700 - val_loss: 0.3285 - val_binary_accuracy: 0.8900\n",
      "Epoch 289/1000\n",
      "7/7 [==============================] - 0s 22ms/step - loss: 0.1356 - binary_accuracy: 0.9750 - val_loss: 0.2004 - val_binary_accuracy: 0.9600\n",
      "Epoch 290/1000\n",
      "7/7 [==============================] - 0s 23ms/step - loss: 0.1508 - binary_accuracy: 0.9750 - val_loss: 0.2133 - val_binary_accuracy: 0.9400\n",
      "Epoch 291/1000\n",
      "7/7 [==============================] - 0s 23ms/step - loss: 0.1774 - binary_accuracy: 0.9650 - val_loss: 0.1754 - val_binary_accuracy: 0.9700\n",
      "Epoch 292/1000\n",
      "7/7 [==============================] - 0s 23ms/step - loss: 0.1611 - binary_accuracy: 0.9700 - val_loss: 0.1768 - val_binary_accuracy: 0.9800\n",
      "Epoch 293/1000\n",
      "7/7 [==============================] - 0s 21ms/step - loss: 0.1445 - binary_accuracy: 0.9750 - val_loss: 0.1898 - val_binary_accuracy: 0.9700\n",
      "Epoch 294/1000\n",
      "7/7 [==============================] - 0s 23ms/step - loss: 0.1455 - binary_accuracy: 0.9850 - val_loss: 0.1825 - val_binary_accuracy: 0.9800\n",
      "Epoch 295/1000\n",
      "7/7 [==============================] - 0s 22ms/step - loss: 0.1704 - binary_accuracy: 0.9825 - val_loss: 0.1803 - val_binary_accuracy: 0.9700\n",
      "Epoch 296/1000\n",
      "7/7 [==============================] - 0s 22ms/step - loss: 0.1433 - binary_accuracy: 0.9800 - val_loss: 0.1953 - val_binary_accuracy: 0.9700\n",
      "Epoch 297/1000\n",
      "7/7 [==============================] - 0s 22ms/step - loss: 0.1703 - binary_accuracy: 0.9675 - val_loss: 0.1797 - val_binary_accuracy: 0.9800\n",
      "Epoch 298/1000\n",
      "7/7 [==============================] - 0s 24ms/step - loss: 0.1441 - binary_accuracy: 0.9700 - val_loss: 0.2015 - val_binary_accuracy: 0.9700\n",
      "Epoch 299/1000\n",
      "7/7 [==============================] - 0s 23ms/step - loss: 0.1408 - binary_accuracy: 0.9750 - val_loss: 0.1712 - val_binary_accuracy: 0.9800\n",
      "Epoch 300/1000\n",
      "7/7 [==============================] - 0s 25ms/step - loss: 0.1466 - binary_accuracy: 0.9700 - val_loss: 0.1721 - val_binary_accuracy: 0.9800\n",
      "Epoch 301/1000\n",
      "7/7 [==============================] - 0s 24ms/step - loss: 0.1574 - binary_accuracy: 0.9650 - val_loss: 0.1726 - val_binary_accuracy: 0.9800\n",
      "Epoch 302/1000\n",
      "7/7 [==============================] - 0s 25ms/step - loss: 0.1408 - binary_accuracy: 0.9750 - val_loss: 0.1845 - val_binary_accuracy: 0.9600\n",
      "Epoch 303/1000\n",
      "7/7 [==============================] - 0s 24ms/step - loss: 0.1352 - binary_accuracy: 0.9750 - val_loss: 0.1869 - val_binary_accuracy: 0.9700\n",
      "Epoch 304/1000\n",
      "7/7 [==============================] - 0s 24ms/step - loss: 0.1648 - binary_accuracy: 0.9700 - val_loss: 0.1794 - val_binary_accuracy: 0.9700\n",
      "Epoch 305/1000\n",
      "7/7 [==============================] - 0s 23ms/step - loss: 0.1453 - binary_accuracy: 0.9700 - val_loss: 0.1850 - val_binary_accuracy: 0.9800\n",
      "Epoch 306/1000\n",
      "7/7 [==============================] - 0s 22ms/step - loss: 0.1729 - binary_accuracy: 0.9650 - val_loss: 0.1939 - val_binary_accuracy: 0.9700\n",
      "Epoch 307/1000\n",
      "7/7 [==============================] - 0s 24ms/step - loss: 0.1514 - binary_accuracy: 0.9750 - val_loss: 0.3715 - val_binary_accuracy: 0.8300\n",
      "Epoch 308/1000\n",
      "7/7 [==============================] - 0s 23ms/step - loss: 0.1611 - binary_accuracy: 0.9750 - val_loss: 0.1856 - val_binary_accuracy: 0.9700\n",
      "Epoch 309/1000\n",
      "7/7 [==============================] - 0s 24ms/step - loss: 0.1556 - binary_accuracy: 0.9775 - val_loss: 0.1829 - val_binary_accuracy: 0.9800\n",
      "Epoch 310/1000\n",
      "7/7 [==============================] - 0s 22ms/step - loss: 0.1691 - binary_accuracy: 0.9725 - val_loss: 0.2256 - val_binary_accuracy: 0.9400\n",
      "Epoch 311/1000\n",
      "7/7 [==============================] - 0s 21ms/step - loss: 0.1687 - binary_accuracy: 0.9650 - val_loss: 0.3135 - val_binary_accuracy: 0.8900\n",
      "Epoch 312/1000\n",
      "7/7 [==============================] - 0s 22ms/step - loss: 0.1487 - binary_accuracy: 0.9700 - val_loss: 0.4543 - val_binary_accuracy: 0.7800\n",
      "Epoch 313/1000\n"
     ]
    },
    {
     "name": "stdout",
     "output_type": "stream",
     "text": [
      "7/7 [==============================] - 0s 23ms/step - loss: 0.1549 - binary_accuracy: 0.9750 - val_loss: 0.2012 - val_binary_accuracy: 0.9500\n",
      "Epoch 314/1000\n",
      "7/7 [==============================] - 0s 23ms/step - loss: 0.1618 - binary_accuracy: 0.9725 - val_loss: 0.1745 - val_binary_accuracy: 0.9700\n",
      "Epoch 315/1000\n",
      "7/7 [==============================] - 0s 22ms/step - loss: 0.1463 - binary_accuracy: 0.9800 - val_loss: 0.1742 - val_binary_accuracy: 0.9700\n",
      "Epoch 316/1000\n",
      "7/7 [==============================] - 0s 22ms/step - loss: 0.1509 - binary_accuracy: 0.9750 - val_loss: 0.1763 - val_binary_accuracy: 0.9800\n",
      "Epoch 317/1000\n",
      "7/7 [==============================] - 0s 22ms/step - loss: 0.1414 - binary_accuracy: 0.9800 - val_loss: 0.1829 - val_binary_accuracy: 0.9700\n",
      "Epoch 318/1000\n",
      "7/7 [==============================] - 0s 22ms/step - loss: 0.1452 - binary_accuracy: 0.9775 - val_loss: 0.1819 - val_binary_accuracy: 0.9700\n",
      "Epoch 319/1000\n",
      "7/7 [==============================] - 0s 22ms/step - loss: 0.1572 - binary_accuracy: 0.9600 - val_loss: 0.3489 - val_binary_accuracy: 0.8700\n",
      "Epoch 320/1000\n",
      "7/7 [==============================] - 0s 22ms/step - loss: 0.1860 - binary_accuracy: 0.9625 - val_loss: 0.1950 - val_binary_accuracy: 0.9700\n",
      "Epoch 321/1000\n",
      "7/7 [==============================] - 0s 23ms/step - loss: 0.1902 - binary_accuracy: 0.9625 - val_loss: 0.2147 - val_binary_accuracy: 0.9600\n",
      "Epoch 322/1000\n",
      "7/7 [==============================] - 0s 23ms/step - loss: 0.1680 - binary_accuracy: 0.9700 - val_loss: 0.2020 - val_binary_accuracy: 0.9700\n",
      "Epoch 323/1000\n",
      "7/7 [==============================] - 0s 23ms/step - loss: 0.1842 - binary_accuracy: 0.9700 - val_loss: 0.2043 - val_binary_accuracy: 0.9700\n",
      "Epoch 324/1000\n",
      "7/7 [==============================] - 0s 24ms/step - loss: 0.1585 - binary_accuracy: 0.9750 - val_loss: 0.2045 - val_binary_accuracy: 0.9600\n",
      "Epoch 325/1000\n",
      "7/7 [==============================] - 0s 23ms/step - loss: 0.1516 - binary_accuracy: 0.9775 - val_loss: 0.1909 - val_binary_accuracy: 0.9800\n",
      "Epoch 326/1000\n",
      "7/7 [==============================] - 0s 22ms/step - loss: 0.1469 - binary_accuracy: 0.9775 - val_loss: 0.1855 - val_binary_accuracy: 0.9800\n",
      "Epoch 327/1000\n",
      "7/7 [==============================] - 0s 22ms/step - loss: 0.1505 - binary_accuracy: 0.9800 - val_loss: 0.1806 - val_binary_accuracy: 0.9800\n",
      "Epoch 328/1000\n",
      "7/7 [==============================] - 0s 22ms/step - loss: 0.1345 - binary_accuracy: 0.9775 - val_loss: 0.1777 - val_binary_accuracy: 0.9800\n",
      "Epoch 329/1000\n",
      "7/7 [==============================] - 0s 22ms/step - loss: 0.1595 - binary_accuracy: 0.9800 - val_loss: 0.1773 - val_binary_accuracy: 0.9800\n",
      "Epoch 330/1000\n",
      "7/7 [==============================] - 0s 21ms/step - loss: 0.1424 - binary_accuracy: 0.9725 - val_loss: 2.7138 - val_binary_accuracy: 0.4400\n",
      "Epoch 331/1000\n",
      "7/7 [==============================] - 0s 23ms/step - loss: 0.1641 - binary_accuracy: 0.9700 - val_loss: 0.3389 - val_binary_accuracy: 0.8700\n",
      "Epoch 332/1000\n",
      "7/7 [==============================] - 0s 23ms/step - loss: 0.1405 - binary_accuracy: 0.9750 - val_loss: 0.2099 - val_binary_accuracy: 0.9500\n",
      "Epoch 333/1000\n",
      "7/7 [==============================] - 0s 23ms/step - loss: 0.1711 - binary_accuracy: 0.9650 - val_loss: 0.1709 - val_binary_accuracy: 0.9800\n",
      "Epoch 334/1000\n",
      "7/7 [==============================] - 0s 23ms/step - loss: 0.1618 - binary_accuracy: 0.9650 - val_loss: 0.1775 - val_binary_accuracy: 0.9700\n",
      "Epoch 335/1000\n",
      "7/7 [==============================] - 0s 24ms/step - loss: 0.1503 - binary_accuracy: 0.9800 - val_loss: 0.1870 - val_binary_accuracy: 0.9700\n",
      "Epoch 336/1000\n",
      "7/7 [==============================] - 0s 21ms/step - loss: 0.1612 - binary_accuracy: 0.9750 - val_loss: 0.1875 - val_binary_accuracy: 0.9700\n",
      "Epoch 337/1000\n",
      "7/7 [==============================] - 0s 24ms/step - loss: 0.1393 - binary_accuracy: 0.9725 - val_loss: 0.1926 - val_binary_accuracy: 0.9700\n",
      "Epoch 338/1000\n",
      "7/7 [==============================] - 0s 23ms/step - loss: 0.1604 - binary_accuracy: 0.9750 - val_loss: 0.1746 - val_binary_accuracy: 0.9700\n",
      "Epoch 339/1000\n",
      "7/7 [==============================] - 0s 25ms/step - loss: 0.1516 - binary_accuracy: 0.9700 - val_loss: 0.2072 - val_binary_accuracy: 0.9500\n",
      "Epoch 340/1000\n",
      "7/7 [==============================] - 0s 24ms/step - loss: 0.1587 - binary_accuracy: 0.9725 - val_loss: 1.2775 - val_binary_accuracy: 0.4800\n",
      "Epoch 341/1000\n",
      "7/7 [==============================] - 0s 23ms/step - loss: 0.1474 - binary_accuracy: 0.9700 - val_loss: 0.3910 - val_binary_accuracy: 0.8700\n",
      "Epoch 342/1000\n",
      "7/7 [==============================] - 0s 23ms/step - loss: 0.1576 - binary_accuracy: 0.9700 - val_loss: 0.2690 - val_binary_accuracy: 0.9300\n",
      "Epoch 343/1000\n",
      "7/7 [==============================] - 0s 23ms/step - loss: 0.1823 - binary_accuracy: 0.9675 - val_loss: 0.2719 - val_binary_accuracy: 0.9200\n",
      "Epoch 344/1000\n",
      "7/7 [==============================] - 0s 24ms/step - loss: 0.1697 - binary_accuracy: 0.9675 - val_loss: 0.2397 - val_binary_accuracy: 0.9500\n",
      "Epoch 345/1000\n",
      "7/7 [==============================] - 0s 23ms/step - loss: 0.1518 - binary_accuracy: 0.9775 - val_loss: 0.2110 - val_binary_accuracy: 0.9600\n",
      "Epoch 346/1000\n",
      "7/7 [==============================] - 0s 23ms/step - loss: 0.1409 - binary_accuracy: 0.9775 - val_loss: 0.1864 - val_binary_accuracy: 0.9700\n",
      "Epoch 347/1000\n",
      "7/7 [==============================] - 0s 22ms/step - loss: 0.1509 - binary_accuracy: 0.9725 - val_loss: 0.1866 - val_binary_accuracy: 0.9700\n",
      "Epoch 348/1000\n",
      "7/7 [==============================] - 0s 22ms/step - loss: 0.1496 - binary_accuracy: 0.9825 - val_loss: 8.0446 - val_binary_accuracy: 0.4300\n",
      "Epoch 349/1000\n",
      "7/7 [==============================] - 0s 23ms/step - loss: 0.1282 - binary_accuracy: 0.9775 - val_loss: 0.1865 - val_binary_accuracy: 0.9500\n",
      "Epoch 350/1000\n",
      "7/7 [==============================] - 0s 23ms/step - loss: 0.1608 - binary_accuracy: 0.9750 - val_loss: 0.1745 - val_binary_accuracy: 0.9800\n",
      "Epoch 351/1000\n",
      "7/7 [==============================] - 0s 23ms/step - loss: 0.1562 - binary_accuracy: 0.9750 - val_loss: 0.2295 - val_binary_accuracy: 0.9300\n",
      "Epoch 352/1000\n",
      "7/7 [==============================] - 0s 24ms/step - loss: 0.1482 - binary_accuracy: 0.9750 - val_loss: 0.1853 - val_binary_accuracy: 0.9600\n",
      "Epoch 353/1000\n",
      "7/7 [==============================] - 0s 22ms/step - loss: 0.1448 - binary_accuracy: 0.9725 - val_loss: 0.1750 - val_binary_accuracy: 0.9700\n",
      "Epoch 354/1000\n",
      "7/7 [==============================] - 0s 23ms/step - loss: 0.1465 - binary_accuracy: 0.9775 - val_loss: 0.1792 - val_binary_accuracy: 0.9700\n",
      "Epoch 355/1000\n",
      "7/7 [==============================] - 0s 22ms/step - loss: 0.1237 - binary_accuracy: 0.9825 - val_loss: 0.1756 - val_binary_accuracy: 0.9700\n",
      "Epoch 356/1000\n",
      "7/7 [==============================] - 0s 24ms/step - loss: 0.1672 - binary_accuracy: 0.9625 - val_loss: 0.1744 - val_binary_accuracy: 0.9700\n",
      "Epoch 357/1000\n",
      "7/7 [==============================] - 0s 23ms/step - loss: 0.1414 - binary_accuracy: 0.9700 - val_loss: 0.1712 - val_binary_accuracy: 0.9800\n",
      "Epoch 358/1000\n",
      "7/7 [==============================] - 0s 23ms/step - loss: 0.1356 - binary_accuracy: 0.9725 - val_loss: 14.1295 - val_binary_accuracy: 0.4300\n",
      "Epoch 359/1000\n",
      "7/7 [==============================] - 0s 23ms/step - loss: 0.1542 - binary_accuracy: 0.9750 - val_loss: 0.2443 - val_binary_accuracy: 0.9400\n",
      "Epoch 360/1000\n",
      "7/7 [==============================] - 0s 23ms/step - loss: 0.1849 - binary_accuracy: 0.9650 - val_loss: 0.1894 - val_binary_accuracy: 0.9600\n",
      "Epoch 361/1000\n",
      "7/7 [==============================] - 0s 23ms/step - loss: 0.1575 - binary_accuracy: 0.9675 - val_loss: 0.1750 - val_binary_accuracy: 0.9800\n",
      "Epoch 362/1000\n",
      "7/7 [==============================] - 0s 22ms/step - loss: 0.1457 - binary_accuracy: 0.9725 - val_loss: 0.2631 - val_binary_accuracy: 0.9100\n",
      "Epoch 363/1000\n",
      "7/7 [==============================] - 0s 22ms/step - loss: 0.1694 - binary_accuracy: 0.9825 - val_loss: 0.2258 - val_binary_accuracy: 0.9300\n",
      "Epoch 364/1000\n",
      "7/7 [==============================] - 0s 24ms/step - loss: 0.1466 - binary_accuracy: 0.9725 - val_loss: 0.1814 - val_binary_accuracy: 0.9700\n",
      "Epoch 365/1000\n",
      "7/7 [==============================] - 0s 22ms/step - loss: 0.1458 - binary_accuracy: 0.9725 - val_loss: 0.1729 - val_binary_accuracy: 0.9800\n",
      "Epoch 366/1000\n",
      "7/7 [==============================] - 0s 23ms/step - loss: 0.1558 - binary_accuracy: 0.9700 - val_loss: 0.1747 - val_binary_accuracy: 0.9800\n",
      "Epoch 367/1000\n",
      "7/7 [==============================] - 0s 25ms/step - loss: 0.1393 - binary_accuracy: 0.9800 - val_loss: 0.1812 - val_binary_accuracy: 0.9700\n",
      "Epoch 368/1000\n",
      "7/7 [==============================] - 0s 22ms/step - loss: 0.1254 - binary_accuracy: 0.9800 - val_loss: 0.1798 - val_binary_accuracy: 0.9700\n",
      "Epoch 369/1000\n",
      "7/7 [==============================] - 0s 23ms/step - loss: 0.1477 - binary_accuracy: 0.9800 - val_loss: 0.9085 - val_binary_accuracy: 0.8900\n",
      "Epoch 370/1000\n",
      "7/7 [==============================] - 0s 25ms/step - loss: 0.1700 - binary_accuracy: 0.9625 - val_loss: 0.4254 - val_binary_accuracy: 0.8200\n",
      "Epoch 371/1000\n",
      "7/7 [==============================] - 0s 23ms/step - loss: 0.1429 - binary_accuracy: 0.9725 - val_loss: 0.2119 - val_binary_accuracy: 0.9600\n",
      "Epoch 372/1000\n",
      "7/7 [==============================] - 0s 24ms/step - loss: 0.1563 - binary_accuracy: 0.9800 - val_loss: 0.2151 - val_binary_accuracy: 0.9600\n",
      "Epoch 373/1000\n",
      "7/7 [==============================] - 0s 24ms/step - loss: 0.1394 - binary_accuracy: 0.9725 - val_loss: 0.1749 - val_binary_accuracy: 0.9800\n",
      "Epoch 374/1000\n",
      "7/7 [==============================] - 0s 22ms/step - loss: 0.1326 - binary_accuracy: 0.9825 - val_loss: 0.2609 - val_binary_accuracy: 0.9100\n",
      "Epoch 375/1000\n",
      "7/7 [==============================] - 0s 23ms/step - loss: 0.1897 - binary_accuracy: 0.9575 - val_loss: 0.2417 - val_binary_accuracy: 0.9100\n",
      "Epoch 376/1000\n",
      "7/7 [==============================] - 0s 24ms/step - loss: 0.1539 - binary_accuracy: 0.9675 - val_loss: 0.2375 - val_binary_accuracy: 0.9700\n",
      "Epoch 377/1000\n",
      "7/7 [==============================] - 0s 23ms/step - loss: 0.1613 - binary_accuracy: 0.9750 - val_loss: 0.2106 - val_binary_accuracy: 0.9600\n",
      "Epoch 378/1000\n",
      "7/7 [==============================] - 0s 22ms/step - loss: 0.1817 - binary_accuracy: 0.9625 - val_loss: 0.1868 - val_binary_accuracy: 0.9500\n",
      "Epoch 379/1000\n",
      "7/7 [==============================] - 0s 23ms/step - loss: 0.1638 - binary_accuracy: 0.9700 - val_loss: 0.1866 - val_binary_accuracy: 0.9600\n",
      "Epoch 380/1000\n",
      "7/7 [==============================] - 0s 22ms/step - loss: 0.1701 - binary_accuracy: 0.9625 - val_loss: 0.1862 - val_binary_accuracy: 0.9700\n",
      "Epoch 381/1000\n",
      "7/7 [==============================] - 0s 23ms/step - loss: 0.1511 - binary_accuracy: 0.9725 - val_loss: 0.2045 - val_binary_accuracy: 0.9600\n",
      "Epoch 382/1000\n",
      "7/7 [==============================] - 0s 23ms/step - loss: 0.1651 - binary_accuracy: 0.9625 - val_loss: 0.2000 - val_binary_accuracy: 0.9700\n",
      "Epoch 383/1000\n",
      "7/7 [==============================] - 0s 22ms/step - loss: 0.1588 - binary_accuracy: 0.9675 - val_loss: 0.1858 - val_binary_accuracy: 0.9700\n",
      "Epoch 384/1000\n",
      "7/7 [==============================] - 0s 23ms/step - loss: 0.1762 - binary_accuracy: 0.9600 - val_loss: 0.1823 - val_binary_accuracy: 0.9700\n",
      "Epoch 385/1000\n",
      "7/7 [==============================] - 0s 22ms/step - loss: 0.1462 - binary_accuracy: 0.9775 - val_loss: 0.1726 - val_binary_accuracy: 0.9800\n",
      "Epoch 386/1000\n",
      "7/7 [==============================] - 0s 23ms/step - loss: 0.1327 - binary_accuracy: 0.9825 - val_loss: 0.1989 - val_binary_accuracy: 0.9500\n",
      "Epoch 387/1000\n",
      "7/7 [==============================] - 0s 22ms/step - loss: 0.1491 - binary_accuracy: 0.9750 - val_loss: 0.2229 - val_binary_accuracy: 0.9400\n",
      "Epoch 388/1000\n",
      "7/7 [==============================] - 0s 23ms/step - loss: 0.1416 - binary_accuracy: 0.9750 - val_loss: 0.1768 - val_binary_accuracy: 0.9700\n",
      "Epoch 389/1000\n",
      "7/7 [==============================] - 0s 22ms/step - loss: 0.1432 - binary_accuracy: 0.9725 - val_loss: 0.1728 - val_binary_accuracy: 0.9800\n",
      "Epoch 390/1000\n",
      "7/7 [==============================] - 0s 22ms/step - loss: 0.1653 - binary_accuracy: 0.9800 - val_loss: 0.1746 - val_binary_accuracy: 0.9700\n",
      "Epoch 391/1000\n",
      "7/7 [==============================] - 0s 25ms/step - loss: 0.1632 - binary_accuracy: 0.9725 - val_loss: 0.1777 - val_binary_accuracy: 0.9800\n",
      "Epoch 392/1000\n",
      "7/7 [==============================] - 0s 23ms/step - loss: 0.1770 - binary_accuracy: 0.9625 - val_loss: 0.1861 - val_binary_accuracy: 0.9600\n",
      "Epoch 393/1000\n",
      "7/7 [==============================] - 0s 24ms/step - loss: 0.1515 - binary_accuracy: 0.9725 - val_loss: 0.1728 - val_binary_accuracy: 0.9700\n",
      "Epoch 394/1000\n",
      "7/7 [==============================] - 0s 23ms/step - loss: 0.1537 - binary_accuracy: 0.9725 - val_loss: 0.1670 - val_binary_accuracy: 0.9800\n",
      "Epoch 395/1000\n",
      "7/7 [==============================] - 0s 25ms/step - loss: 0.1580 - binary_accuracy: 0.9750 - val_loss: 0.2239 - val_binary_accuracy: 0.9400\n",
      "Epoch 396/1000\n",
      "7/7 [==============================] - 0s 23ms/step - loss: 0.1631 - binary_accuracy: 0.9700 - val_loss: 0.1726 - val_binary_accuracy: 0.9800\n",
      "Epoch 397/1000\n",
      "7/7 [==============================] - 0s 23ms/step - loss: 0.1500 - binary_accuracy: 0.9700 - val_loss: 0.1840 - val_binary_accuracy: 0.9700\n",
      "Epoch 398/1000\n",
      "7/7 [==============================] - 0s 22ms/step - loss: 0.1532 - binary_accuracy: 0.9750 - val_loss: 0.2059 - val_binary_accuracy: 0.9500\n",
      "Epoch 399/1000\n",
      "7/7 [==============================] - 0s 22ms/step - loss: 0.1492 - binary_accuracy: 0.9675 - val_loss: 0.2000 - val_binary_accuracy: 0.9600\n",
      "Epoch 400/1000\n",
      "7/7 [==============================] - 0s 23ms/step - loss: 0.1362 - binary_accuracy: 0.9775 - val_loss: 0.1935 - val_binary_accuracy: 0.9600\n",
      "Epoch 401/1000\n",
      "7/7 [==============================] - 0s 23ms/step - loss: 0.1280 - binary_accuracy: 0.9775 - val_loss: 0.1643 - val_binary_accuracy: 0.9800\n",
      "Epoch 402/1000\n",
      "7/7 [==============================] - 0s 23ms/step - loss: 0.1415 - binary_accuracy: 0.9725 - val_loss: 0.2007 - val_binary_accuracy: 0.9500\n",
      "Epoch 403/1000\n",
      "7/7 [==============================] - 0s 25ms/step - loss: 0.1385 - binary_accuracy: 0.9725 - val_loss: 0.1755 - val_binary_accuracy: 0.9700\n",
      "Epoch 404/1000\n",
      "7/7 [==============================] - 0s 23ms/step - loss: 0.1355 - binary_accuracy: 0.9775 - val_loss: 0.1784 - val_binary_accuracy: 0.9800\n",
      "Epoch 405/1000\n",
      "7/7 [==============================] - 0s 22ms/step - loss: 0.1290 - binary_accuracy: 0.9725 - val_loss: 0.1747 - val_binary_accuracy: 0.9700\n",
      "Epoch 406/1000\n",
      "7/7 [==============================] - 0s 23ms/step - loss: 0.1540 - binary_accuracy: 0.9550 - val_loss: 0.1680 - val_binary_accuracy: 0.9800\n",
      "Epoch 407/1000\n",
      "7/7 [==============================] - 0s 22ms/step - loss: 0.1236 - binary_accuracy: 0.9775 - val_loss: 0.1686 - val_binary_accuracy: 0.9800\n",
      "Epoch 408/1000\n",
      "7/7 [==============================] - 0s 21ms/step - loss: 0.1228 - binary_accuracy: 0.9800 - val_loss: 0.1668 - val_binary_accuracy: 0.9800\n",
      "Epoch 409/1000\n",
      "7/7 [==============================] - 0s 22ms/step - loss: 0.1275 - binary_accuracy: 0.9675 - val_loss: 0.1652 - val_binary_accuracy: 0.9700\n",
      "Epoch 410/1000\n",
      "7/7 [==============================] - 0s 22ms/step - loss: 0.1458 - binary_accuracy: 0.9675 - val_loss: 0.1622 - val_binary_accuracy: 0.9800\n",
      "Epoch 411/1000\n",
      "7/7 [==============================] - 0s 24ms/step - loss: 0.1441 - binary_accuracy: 0.9775 - val_loss: 0.1731 - val_binary_accuracy: 0.9700\n",
      "Epoch 412/1000\n",
      "7/7 [==============================] - 0s 23ms/step - loss: 0.1464 - binary_accuracy: 0.9700 - val_loss: 0.2227 - val_binary_accuracy: 0.9500\n",
      "Epoch 413/1000\n",
      "7/7 [==============================] - 0s 23ms/step - loss: 0.1602 - binary_accuracy: 0.9675 - val_loss: 0.2735 - val_binary_accuracy: 0.9500\n",
      "Epoch 414/1000\n",
      "7/7 [==============================] - 0s 23ms/step - loss: 0.1611 - binary_accuracy: 0.9675 - val_loss: 0.1995 - val_binary_accuracy: 0.9700\n",
      "Epoch 415/1000\n",
      "7/7 [==============================] - 0s 22ms/step - loss: 0.1600 - binary_accuracy: 0.9700 - val_loss: 0.2116 - val_binary_accuracy: 0.9600\n",
      "Epoch 416/1000\n",
      "7/7 [==============================] - 0s 22ms/step - loss: 0.1543 - binary_accuracy: 0.9725 - val_loss: 0.2287 - val_binary_accuracy: 0.9500\n",
      "Epoch 417/1000\n"
     ]
    },
    {
     "name": "stdout",
     "output_type": "stream",
     "text": [
      "7/7 [==============================] - 0s 22ms/step - loss: 0.1616 - binary_accuracy: 0.9700 - val_loss: 0.1812 - val_binary_accuracy: 0.9600\n",
      "Epoch 418/1000\n",
      "7/7 [==============================] - 0s 22ms/step - loss: 0.1435 - binary_accuracy: 0.9750 - val_loss: 0.1734 - val_binary_accuracy: 0.9800\n",
      "Epoch 419/1000\n",
      "7/7 [==============================] - 0s 22ms/step - loss: 0.1515 - binary_accuracy: 0.9675 - val_loss: 0.1822 - val_binary_accuracy: 0.9700\n",
      "Epoch 420/1000\n",
      "7/7 [==============================] - 0s 22ms/step - loss: 0.1720 - binary_accuracy: 0.9675 - val_loss: 0.2214 - val_binary_accuracy: 0.9500\n",
      "Epoch 421/1000\n",
      "7/7 [==============================] - 0s 22ms/step - loss: 0.1499 - binary_accuracy: 0.9725 - val_loss: 0.2219 - val_binary_accuracy: 0.9500\n",
      "Epoch 422/1000\n",
      "7/7 [==============================] - 0s 23ms/step - loss: 0.1441 - binary_accuracy: 0.9800 - val_loss: 0.1954 - val_binary_accuracy: 0.9500\n",
      "Epoch 423/1000\n",
      "7/7 [==============================] - 0s 22ms/step - loss: 0.1349 - binary_accuracy: 0.9775 - val_loss: 0.1922 - val_binary_accuracy: 0.9500\n",
      "Epoch 424/1000\n",
      "7/7 [==============================] - 0s 23ms/step - loss: 0.1642 - binary_accuracy: 0.9625 - val_loss: 0.1857 - val_binary_accuracy: 0.9700\n",
      "Epoch 425/1000\n",
      "7/7 [==============================] - 0s 23ms/step - loss: 0.1513 - binary_accuracy: 0.9750 - val_loss: 0.2040 - val_binary_accuracy: 0.9500\n",
      "Epoch 426/1000\n",
      "7/7 [==============================] - 0s 24ms/step - loss: 0.1363 - binary_accuracy: 0.9825 - val_loss: 0.1957 - val_binary_accuracy: 0.9600\n",
      "Epoch 427/1000\n",
      "7/7 [==============================] - 0s 22ms/step - loss: 0.1549 - binary_accuracy: 0.9700 - val_loss: 0.1876 - val_binary_accuracy: 0.9600\n",
      "Epoch 428/1000\n",
      "7/7 [==============================] - 0s 22ms/step - loss: 0.1389 - binary_accuracy: 0.9750 - val_loss: 0.1723 - val_binary_accuracy: 0.9800\n",
      "Epoch 429/1000\n",
      "7/7 [==============================] - 0s 22ms/step - loss: 0.1455 - binary_accuracy: 0.9675 - val_loss: 0.3006 - val_binary_accuracy: 0.9300\n",
      "Epoch 430/1000\n",
      "7/7 [==============================] - 0s 23ms/step - loss: 0.1452 - binary_accuracy: 0.9650 - val_loss: 0.2926 - val_binary_accuracy: 0.9400\n",
      "Epoch 431/1000\n",
      "7/7 [==============================] - 0s 22ms/step - loss: 0.1392 - binary_accuracy: 0.9825 - val_loss: 0.2009 - val_binary_accuracy: 0.9700\n",
      "Epoch 432/1000\n",
      "7/7 [==============================] - 0s 23ms/step - loss: 0.1364 - binary_accuracy: 0.9775 - val_loss: 0.1800 - val_binary_accuracy: 0.9800\n",
      "Epoch 433/1000\n",
      "7/7 [==============================] - 0s 22ms/step - loss: 0.1502 - binary_accuracy: 0.9725 - val_loss: 0.1624 - val_binary_accuracy: 0.9800\n",
      "Epoch 434/1000\n",
      "7/7 [==============================] - 0s 23ms/step - loss: 0.1424 - binary_accuracy: 0.9775 - val_loss: 0.1650 - val_binary_accuracy: 0.9800\n",
      "Epoch 435/1000\n",
      "7/7 [==============================] - 0s 23ms/step - loss: 0.1419 - binary_accuracy: 0.9750 - val_loss: 0.1732 - val_binary_accuracy: 0.9800\n",
      "Epoch 436/1000\n",
      "7/7 [==============================] - 0s 22ms/step - loss: 0.1433 - binary_accuracy: 0.9675 - val_loss: 0.1745 - val_binary_accuracy: 0.9800\n",
      "Epoch 437/1000\n",
      "7/7 [==============================] - 0s 23ms/step - loss: 0.1470 - binary_accuracy: 0.9750 - val_loss: 0.1918 - val_binary_accuracy: 0.9700\n",
      "Epoch 438/1000\n",
      "7/7 [==============================] - 0s 24ms/step - loss: 0.1612 - binary_accuracy: 0.9650 - val_loss: 0.1803 - val_binary_accuracy: 0.9800\n",
      "Epoch 439/1000\n",
      "7/7 [==============================] - 0s 25ms/step - loss: 0.1533 - binary_accuracy: 0.9750 - val_loss: 0.1941 - val_binary_accuracy: 0.9600\n",
      "Epoch 440/1000\n",
      "7/7 [==============================] - 0s 24ms/step - loss: 0.1534 - binary_accuracy: 0.9850 - val_loss: 0.1910 - val_binary_accuracy: 0.9600\n",
      "Epoch 441/1000\n",
      "7/7 [==============================] - 0s 24ms/step - loss: 0.1371 - binary_accuracy: 0.9750 - val_loss: 0.1858 - val_binary_accuracy: 0.9700\n",
      "Epoch 442/1000\n",
      "7/7 [==============================] - 0s 22ms/step - loss: 0.1737 - binary_accuracy: 0.9725 - val_loss: 0.1957 - val_binary_accuracy: 0.9700\n",
      "Epoch 443/1000\n",
      "7/7 [==============================] - 0s 23ms/step - loss: 0.1392 - binary_accuracy: 0.9750 - val_loss: 0.1951 - val_binary_accuracy: 0.9700\n",
      "Epoch 444/1000\n",
      "7/7 [==============================] - 0s 25ms/step - loss: 0.1333 - binary_accuracy: 0.9775 - val_loss: 0.1914 - val_binary_accuracy: 0.9700\n",
      "Epoch 445/1000\n",
      "7/7 [==============================] - 0s 21ms/step - loss: 0.1368 - binary_accuracy: 0.9725 - val_loss: 0.1790 - val_binary_accuracy: 0.9800\n",
      "Epoch 446/1000\n",
      "7/7 [==============================] - 0s 23ms/step - loss: 0.1493 - binary_accuracy: 0.9675 - val_loss: 0.1820 - val_binary_accuracy: 0.9700\n",
      "Epoch 447/1000\n",
      "7/7 [==============================] - 0s 25ms/step - loss: 0.1333 - binary_accuracy: 0.9750 - val_loss: 13.5423 - val_binary_accuracy: 0.4400\n",
      "Epoch 448/1000\n",
      "7/7 [==============================] - 0s 23ms/step - loss: 0.1481 - binary_accuracy: 0.9700 - val_loss: 0.2308 - val_binary_accuracy: 0.9400\n",
      "Epoch 449/1000\n",
      "7/7 [==============================] - 0s 23ms/step - loss: 0.1455 - binary_accuracy: 0.9825 - val_loss: 0.2828 - val_binary_accuracy: 0.9400\n",
      "Epoch 450/1000\n",
      "7/7 [==============================] - 0s 23ms/step - loss: 0.1249 - binary_accuracy: 0.9825 - val_loss: 0.1774 - val_binary_accuracy: 0.9800\n",
      "Epoch 451/1000\n",
      "7/7 [==============================] - 0s 23ms/step - loss: 0.1486 - binary_accuracy: 0.9775 - val_loss: 0.1738 - val_binary_accuracy: 0.9800\n",
      "Epoch 452/1000\n",
      "7/7 [==============================] - 0s 22ms/step - loss: 0.1356 - binary_accuracy: 0.9750 - val_loss: 0.1602 - val_binary_accuracy: 0.9800\n",
      "Epoch 453/1000\n",
      "7/7 [==============================] - 0s 23ms/step - loss: 0.1508 - binary_accuracy: 0.9700 - val_loss: 0.1787 - val_binary_accuracy: 0.9700\n",
      "Epoch 454/1000\n",
      "7/7 [==============================] - 0s 24ms/step - loss: 0.1445 - binary_accuracy: 0.9725 - val_loss: 0.1789 - val_binary_accuracy: 0.9700\n",
      "Epoch 455/1000\n",
      "7/7 [==============================] - 0s 23ms/step - loss: 0.1471 - binary_accuracy: 0.9725 - val_loss: 0.1788 - val_binary_accuracy: 0.9800\n",
      "Epoch 456/1000\n",
      "7/7 [==============================] - 0s 22ms/step - loss: 0.1608 - binary_accuracy: 0.9625 - val_loss: 0.1962 - val_binary_accuracy: 0.9700\n",
      "Epoch 457/1000\n",
      "7/7 [==============================] - 0s 23ms/step - loss: 0.1467 - binary_accuracy: 0.9675 - val_loss: 0.1803 - val_binary_accuracy: 0.9700\n",
      "Epoch 458/1000\n",
      "7/7 [==============================] - 0s 23ms/step - loss: 0.1338 - binary_accuracy: 0.9750 - val_loss: 0.1853 - val_binary_accuracy: 0.9700\n",
      "Epoch 459/1000\n",
      "7/7 [==============================] - 0s 22ms/step - loss: 0.1473 - binary_accuracy: 0.9675 - val_loss: 0.1791 - val_binary_accuracy: 0.9800\n",
      "Epoch 460/1000\n",
      "7/7 [==============================] - 0s 23ms/step - loss: 0.1503 - binary_accuracy: 0.9750 - val_loss: 0.2401 - val_binary_accuracy: 0.9400\n",
      "Epoch 461/1000\n",
      "7/7 [==============================] - 0s 23ms/step - loss: 0.1517 - binary_accuracy: 0.9650 - val_loss: 0.4091 - val_binary_accuracy: 0.9200\n",
      "Epoch 462/1000\n",
      "7/7 [==============================] - 0s 22ms/step - loss: 0.1415 - binary_accuracy: 0.9775 - val_loss: 0.2879 - val_binary_accuracy: 0.9400\n",
      "Epoch 463/1000\n",
      "7/7 [==============================] - 0s 24ms/step - loss: 0.1376 - binary_accuracy: 0.9775 - val_loss: 0.2124 - val_binary_accuracy: 0.9400\n",
      "Epoch 464/1000\n",
      "7/7 [==============================] - 0s 22ms/step - loss: 0.1310 - binary_accuracy: 0.9775 - val_loss: 0.1966 - val_binary_accuracy: 0.9500\n",
      "Epoch 465/1000\n",
      "7/7 [==============================] - 0s 23ms/step - loss: 0.1596 - binary_accuracy: 0.9725 - val_loss: 0.1800 - val_binary_accuracy: 0.9800\n",
      "Epoch 466/1000\n",
      "7/7 [==============================] - 0s 22ms/step - loss: 0.1428 - binary_accuracy: 0.9750 - val_loss: 0.1719 - val_binary_accuracy: 0.9800\n",
      "Epoch 467/1000\n",
      "7/7 [==============================] - 0s 23ms/step - loss: 0.1338 - binary_accuracy: 0.9725 - val_loss: 0.1686 - val_binary_accuracy: 0.9800\n",
      "Epoch 468/1000\n",
      "7/7 [==============================] - 0s 25ms/step - loss: 0.1545 - binary_accuracy: 0.9700 - val_loss: 0.1709 - val_binary_accuracy: 0.9800\n",
      "Epoch 469/1000\n",
      "7/7 [==============================] - 0s 24ms/step - loss: 0.1773 - binary_accuracy: 0.9575 - val_loss: 1.0942 - val_binary_accuracy: 0.5600\n",
      "Epoch 470/1000\n",
      "7/7 [==============================] - 0s 24ms/step - loss: 0.1831 - binary_accuracy: 0.9650 - val_loss: 0.3462 - val_binary_accuracy: 0.8600\n",
      "Epoch 471/1000\n",
      "7/7 [==============================] - 0s 24ms/step - loss: 0.1475 - binary_accuracy: 0.9675 - val_loss: 0.1876 - val_binary_accuracy: 0.9600\n",
      "Epoch 472/1000\n",
      "7/7 [==============================] - 0s 22ms/step - loss: 0.1392 - binary_accuracy: 0.9675 - val_loss: 0.1840 - val_binary_accuracy: 0.9600\n",
      "Epoch 473/1000\n",
      "7/7 [==============================] - 0s 27ms/step - loss: 0.1397 - binary_accuracy: 0.9800 - val_loss: 0.1763 - val_binary_accuracy: 0.9700\n",
      "Epoch 474/1000\n",
      "7/7 [==============================] - 0s 23ms/step - loss: 0.1541 - binary_accuracy: 0.9700 - val_loss: 0.1850 - val_binary_accuracy: 0.9600\n",
      "Epoch 475/1000\n",
      "7/7 [==============================] - 0s 24ms/step - loss: 0.1583 - binary_accuracy: 0.9675 - val_loss: 0.2048 - val_binary_accuracy: 0.9600\n",
      "Epoch 476/1000\n",
      "7/7 [==============================] - 0s 23ms/step - loss: 0.1419 - binary_accuracy: 0.9725 - val_loss: 0.2363 - val_binary_accuracy: 0.9300\n",
      "Epoch 477/1000\n",
      "7/7 [==============================] - 0s 23ms/step - loss: 0.1685 - binary_accuracy: 0.9525 - val_loss: 0.1901 - val_binary_accuracy: 0.9600\n",
      "Epoch 478/1000\n",
      "7/7 [==============================] - 0s 22ms/step - loss: 0.1500 - binary_accuracy: 0.9675 - val_loss: 0.1770 - val_binary_accuracy: 0.9600\n",
      "Epoch 479/1000\n",
      "7/7 [==============================] - 0s 22ms/step - loss: 0.1588 - binary_accuracy: 0.9600 - val_loss: 0.1949 - val_binary_accuracy: 0.9500\n",
      "Epoch 480/1000\n",
      "7/7 [==============================] - 0s 23ms/step - loss: 0.1455 - binary_accuracy: 0.9700 - val_loss: 0.2140 - val_binary_accuracy: 0.9500\n",
      "Epoch 481/1000\n",
      "7/7 [==============================] - 0s 24ms/step - loss: 0.1680 - binary_accuracy: 0.9675 - val_loss: 0.2941 - val_binary_accuracy: 0.9400\n",
      "Epoch 482/1000\n",
      "7/7 [==============================] - 0s 24ms/step - loss: 0.1441 - binary_accuracy: 0.9775 - val_loss: 0.1939 - val_binary_accuracy: 0.9700\n",
      "Epoch 483/1000\n",
      "7/7 [==============================] - 0s 25ms/step - loss: 0.1268 - binary_accuracy: 0.9850 - val_loss: 0.1922 - val_binary_accuracy: 0.9600\n",
      "Epoch 484/1000\n",
      "7/7 [==============================] - 0s 22ms/step - loss: 0.1394 - binary_accuracy: 0.9775 - val_loss: 0.1862 - val_binary_accuracy: 0.9800\n",
      "Epoch 485/1000\n",
      "7/7 [==============================] - 0s 22ms/step - loss: 0.1424 - binary_accuracy: 0.9800 - val_loss: 0.1766 - val_binary_accuracy: 0.9800\n",
      "Epoch 486/1000\n",
      "7/7 [==============================] - 0s 24ms/step - loss: 0.1584 - binary_accuracy: 0.9625 - val_loss: 0.1776 - val_binary_accuracy: 0.9800\n",
      "Epoch 487/1000\n",
      "7/7 [==============================] - 0s 22ms/step - loss: 0.1525 - binary_accuracy: 0.9725 - val_loss: 0.1887 - val_binary_accuracy: 0.9500\n",
      "Epoch 488/1000\n",
      "7/7 [==============================] - 0s 22ms/step - loss: 0.1458 - binary_accuracy: 0.9675 - val_loss: 0.2922 - val_binary_accuracy: 0.9400\n",
      "Epoch 489/1000\n",
      "7/7 [==============================] - 0s 23ms/step - loss: 0.1380 - binary_accuracy: 0.9775 - val_loss: 0.2072 - val_binary_accuracy: 0.9600\n",
      "Epoch 490/1000\n",
      "7/7 [==============================] - 0s 24ms/step - loss: 0.1405 - binary_accuracy: 0.9825 - val_loss: 0.1791 - val_binary_accuracy: 0.9800\n",
      "Epoch 491/1000\n",
      "7/7 [==============================] - 0s 23ms/step - loss: 0.1666 - binary_accuracy: 0.9650 - val_loss: 0.1791 - val_binary_accuracy: 0.9800\n",
      "Epoch 492/1000\n",
      "7/7 [==============================] - 0s 23ms/step - loss: 0.1429 - binary_accuracy: 0.9775 - val_loss: 0.1721 - val_binary_accuracy: 0.9800\n",
      "Epoch 493/1000\n",
      "7/7 [==============================] - 0s 25ms/step - loss: 0.1495 - binary_accuracy: 0.9675 - val_loss: 0.1757 - val_binary_accuracy: 0.9700\n",
      "Epoch 494/1000\n",
      "7/7 [==============================] - 0s 23ms/step - loss: 0.1314 - binary_accuracy: 0.9775 - val_loss: 1.0157 - val_binary_accuracy: 0.5500\n",
      "Epoch 495/1000\n",
      "7/7 [==============================] - 0s 23ms/step - loss: 0.1438 - binary_accuracy: 0.9725 - val_loss: 0.1691 - val_binary_accuracy: 0.9700\n",
      "Epoch 496/1000\n",
      "7/7 [==============================] - 0s 25ms/step - loss: 0.1553 - binary_accuracy: 0.9725 - val_loss: 0.1931 - val_binary_accuracy: 0.9700\n",
      "Epoch 497/1000\n",
      "7/7 [==============================] - 0s 25ms/step - loss: 0.1379 - binary_accuracy: 0.9775 - val_loss: 0.1849 - val_binary_accuracy: 0.9700\n",
      "Epoch 498/1000\n",
      "7/7 [==============================] - 0s 24ms/step - loss: 0.1631 - binary_accuracy: 0.9625 - val_loss: 0.1719 - val_binary_accuracy: 0.9800\n",
      "Epoch 499/1000\n",
      "7/7 [==============================] - 0s 25ms/step - loss: 0.1642 - binary_accuracy: 0.9600 - val_loss: 0.1786 - val_binary_accuracy: 0.9700\n",
      "Epoch 500/1000\n",
      "7/7 [==============================] - 0s 24ms/step - loss: 0.1480 - binary_accuracy: 0.9750 - val_loss: 0.1683 - val_binary_accuracy: 0.9800\n",
      "Epoch 501/1000\n",
      "7/7 [==============================] - 0s 24ms/step - loss: 0.1387 - binary_accuracy: 0.9700 - val_loss: 0.1824 - val_binary_accuracy: 0.9700\n",
      "Epoch 502/1000\n",
      "7/7 [==============================] - 0s 24ms/step - loss: 0.1356 - binary_accuracy: 0.9775 - val_loss: 0.1849 - val_binary_accuracy: 0.9800\n",
      "Epoch 503/1000\n",
      "7/7 [==============================] - 0s 25ms/step - loss: 0.1939 - binary_accuracy: 0.9625 - val_loss: 0.1896 - val_binary_accuracy: 0.9700\n",
      "Epoch 504/1000\n",
      "7/7 [==============================] - 0s 22ms/step - loss: 0.1571 - binary_accuracy: 0.9750 - val_loss: 0.1863 - val_binary_accuracy: 0.9700\n",
      "Epoch 505/1000\n",
      "7/7 [==============================] - 0s 23ms/step - loss: 0.1210 - binary_accuracy: 0.9800 - val_loss: 0.1803 - val_binary_accuracy: 0.9800\n",
      "Epoch 506/1000\n",
      "7/7 [==============================] - 0s 24ms/step - loss: 0.1394 - binary_accuracy: 0.9650 - val_loss: 0.4497 - val_binary_accuracy: 0.7700\n",
      "Epoch 507/1000\n",
      "7/7 [==============================] - 0s 22ms/step - loss: 0.1274 - binary_accuracy: 0.9750 - val_loss: 0.1718 - val_binary_accuracy: 0.9700\n",
      "Epoch 508/1000\n",
      "7/7 [==============================] - 0s 22ms/step - loss: 0.1261 - binary_accuracy: 0.9850 - val_loss: 0.1707 - val_binary_accuracy: 0.9800\n",
      "Epoch 509/1000\n",
      "7/7 [==============================] - 0s 22ms/step - loss: 0.1718 - binary_accuracy: 0.9575 - val_loss: 0.1732 - val_binary_accuracy: 0.9700\n",
      "Epoch 510/1000\n",
      "7/7 [==============================] - 0s 22ms/step - loss: 0.1599 - binary_accuracy: 0.9700 - val_loss: 0.1821 - val_binary_accuracy: 0.9700\n",
      "Epoch 511/1000\n",
      "7/7 [==============================] - 0s 23ms/step - loss: 0.1361 - binary_accuracy: 0.9800 - val_loss: 0.1951 - val_binary_accuracy: 0.9600\n",
      "Epoch 512/1000\n",
      "7/7 [==============================] - 0s 24ms/step - loss: 0.1569 - binary_accuracy: 0.9675 - val_loss: 0.1785 - val_binary_accuracy: 0.9700\n",
      "Epoch 513/1000\n",
      "7/7 [==============================] - 0s 23ms/step - loss: 0.1307 - binary_accuracy: 0.9725 - val_loss: 0.1712 - val_binary_accuracy: 0.9800\n",
      "Epoch 514/1000\n",
      "7/7 [==============================] - 0s 23ms/step - loss: 0.1366 - binary_accuracy: 0.9800 - val_loss: 0.1857 - val_binary_accuracy: 0.9600\n",
      "Epoch 515/1000\n",
      "7/7 [==============================] - 0s 23ms/step - loss: 0.1319 - binary_accuracy: 0.9800 - val_loss: 0.2211 - val_binary_accuracy: 0.9500\n",
      "Epoch 516/1000\n",
      "7/7 [==============================] - 0s 22ms/step - loss: 0.1482 - binary_accuracy: 0.9725 - val_loss: 0.1688 - val_binary_accuracy: 0.9800\n",
      "Epoch 517/1000\n",
      "7/7 [==============================] - 0s 24ms/step - loss: 0.1106 - binary_accuracy: 0.9725 - val_loss: 0.1724 - val_binary_accuracy: 0.9700\n",
      "Epoch 518/1000\n",
      "7/7 [==============================] - 0s 22ms/step - loss: 0.1547 - binary_accuracy: 0.9650 - val_loss: 0.1645 - val_binary_accuracy: 0.9800\n",
      "Epoch 519/1000\n",
      "7/7 [==============================] - 0s 24ms/step - loss: 0.1342 - binary_accuracy: 0.9750 - val_loss: 6.8180 - val_binary_accuracy: 0.4300\n",
      "Epoch 520/1000\n",
      "7/7 [==============================] - 0s 22ms/step - loss: 0.1513 - binary_accuracy: 0.9700 - val_loss: 0.1794 - val_binary_accuracy: 0.9500\n",
      "Epoch 521/1000\n"
     ]
    },
    {
     "name": "stdout",
     "output_type": "stream",
     "text": [
      "7/7 [==============================] - 0s 23ms/step - loss: 0.1164 - binary_accuracy: 0.9700 - val_loss: 0.1605 - val_binary_accuracy: 0.9800\n",
      "Epoch 522/1000\n",
      "7/7 [==============================] - 0s 22ms/step - loss: 0.1255 - binary_accuracy: 0.9750 - val_loss: 0.2193 - val_binary_accuracy: 0.9300\n",
      "Epoch 523/1000\n",
      "7/7 [==============================] - 0s 23ms/step - loss: 0.1184 - binary_accuracy: 0.9875 - val_loss: 0.2588 - val_binary_accuracy: 0.9000\n",
      "Epoch 524/1000\n",
      "7/7 [==============================] - 0s 22ms/step - loss: 0.1299 - binary_accuracy: 0.9750 - val_loss: 0.1726 - val_binary_accuracy: 0.9700\n",
      "Epoch 525/1000\n",
      "7/7 [==============================] - 0s 22ms/step - loss: 0.1321 - binary_accuracy: 0.9750 - val_loss: 0.1738 - val_binary_accuracy: 0.9700\n",
      "Epoch 526/1000\n",
      "7/7 [==============================] - 0s 23ms/step - loss: 0.1199 - binary_accuracy: 0.9850 - val_loss: 0.1730 - val_binary_accuracy: 0.9600\n",
      "Epoch 527/1000\n",
      "7/7 [==============================] - 0s 22ms/step - loss: 0.1336 - binary_accuracy: 0.9675 - val_loss: 0.1743 - val_binary_accuracy: 0.9600\n",
      "Epoch 528/1000\n",
      "7/7 [==============================] - 0s 25ms/step - loss: 0.1212 - binary_accuracy: 0.9850 - val_loss: 0.2287 - val_binary_accuracy: 0.9400\n",
      "Epoch 529/1000\n",
      "7/7 [==============================] - 0s 25ms/step - loss: 0.1188 - binary_accuracy: 0.9750 - val_loss: 0.2064 - val_binary_accuracy: 0.9400\n",
      "Epoch 530/1000\n",
      "7/7 [==============================] - 0s 24ms/step - loss: 0.1334 - binary_accuracy: 0.9825 - val_loss: 0.2058 - val_binary_accuracy: 0.9400\n",
      "Epoch 531/1000\n",
      "7/7 [==============================] - 0s 23ms/step - loss: 0.1470 - binary_accuracy: 0.9700 - val_loss: 0.1936 - val_binary_accuracy: 0.9600\n",
      "Epoch 532/1000\n",
      "7/7 [==============================] - 0s 24ms/step - loss: 0.1566 - binary_accuracy: 0.9625 - val_loss: 0.1949 - val_binary_accuracy: 0.9600\n",
      "Epoch 533/1000\n",
      "7/7 [==============================] - 0s 22ms/step - loss: 0.1450 - binary_accuracy: 0.9700 - val_loss: 0.2483 - val_binary_accuracy: 0.9500\n",
      "Epoch 534/1000\n",
      "7/7 [==============================] - 0s 22ms/step - loss: 0.1489 - binary_accuracy: 0.9675 - val_loss: 0.1849 - val_binary_accuracy: 0.9700\n",
      "Epoch 535/1000\n",
      "7/7 [==============================] - 0s 22ms/step - loss: 0.1602 - binary_accuracy: 0.9650 - val_loss: 0.2522 - val_binary_accuracy: 0.9300\n",
      "Epoch 536/1000\n",
      "7/7 [==============================] - 0s 23ms/step - loss: 0.1489 - binary_accuracy: 0.9650 - val_loss: 0.2035 - val_binary_accuracy: 0.9600\n",
      "Epoch 537/1000\n",
      "7/7 [==============================] - 0s 22ms/step - loss: 0.1470 - binary_accuracy: 0.9750 - val_loss: 0.1961 - val_binary_accuracy: 0.9700\n",
      "Epoch 538/1000\n",
      "7/7 [==============================] - 0s 26ms/step - loss: 0.1504 - binary_accuracy: 0.9600 - val_loss: 0.1916 - val_binary_accuracy: 0.9700\n",
      "Epoch 539/1000\n",
      "7/7 [==============================] - 0s 22ms/step - loss: 0.1925 - binary_accuracy: 0.9600 - val_loss: 0.2469 - val_binary_accuracy: 0.9300\n",
      "Epoch 540/1000\n",
      "7/7 [==============================] - 0s 22ms/step - loss: 0.1463 - binary_accuracy: 0.9775 - val_loss: 0.4468 - val_binary_accuracy: 0.9200\n",
      "Epoch 541/1000\n",
      "7/7 [==============================] - 0s 24ms/step - loss: 0.1607 - binary_accuracy: 0.9800 - val_loss: 0.2716 - val_binary_accuracy: 0.9500\n",
      "Epoch 542/1000\n",
      "7/7 [==============================] - 0s 24ms/step - loss: 0.1386 - binary_accuracy: 0.9750 - val_loss: 0.2377 - val_binary_accuracy: 0.9600\n",
      "Epoch 543/1000\n",
      "7/7 [==============================] - 0s 21ms/step - loss: 0.1246 - binary_accuracy: 0.9800 - val_loss: 0.2338 - val_binary_accuracy: 0.9600\n",
      "Epoch 544/1000\n",
      "7/7 [==============================] - 0s 22ms/step - loss: 0.1363 - binary_accuracy: 0.9825 - val_loss: 0.2043 - val_binary_accuracy: 0.9400\n",
      "Epoch 545/1000\n",
      "7/7 [==============================] - 0s 23ms/step - loss: 0.1515 - binary_accuracy: 0.9650 - val_loss: 0.1827 - val_binary_accuracy: 0.9600\n",
      "Epoch 546/1000\n",
      "7/7 [==============================] - 0s 22ms/step - loss: 0.1533 - binary_accuracy: 0.9600 - val_loss: 0.1827 - val_binary_accuracy: 0.9700\n",
      "Epoch 547/1000\n",
      "7/7 [==============================] - 0s 23ms/step - loss: 0.1439 - binary_accuracy: 0.9800 - val_loss: 0.1784 - val_binary_accuracy: 0.9700\n",
      "Epoch 548/1000\n",
      "7/7 [==============================] - 0s 25ms/step - loss: 0.1582 - binary_accuracy: 0.9650 - val_loss: 0.1767 - val_binary_accuracy: 0.9700\n",
      "Epoch 549/1000\n",
      "7/7 [==============================] - 0s 23ms/step - loss: 0.1499 - binary_accuracy: 0.9700 - val_loss: 0.4124 - val_binary_accuracy: 0.9100\n",
      "Epoch 550/1000\n",
      "7/7 [==============================] - 0s 22ms/step - loss: 0.1366 - binary_accuracy: 0.9675 - val_loss: 0.2103 - val_binary_accuracy: 0.9600\n",
      "Epoch 551/1000\n",
      "7/7 [==============================] - 0s 22ms/step - loss: 0.1694 - binary_accuracy: 0.9650 - val_loss: 0.1873 - val_binary_accuracy: 0.9700\n",
      "Epoch 552/1000\n",
      "7/7 [==============================] - 0s 24ms/step - loss: 0.1352 - binary_accuracy: 0.9800 - val_loss: 0.1865 - val_binary_accuracy: 0.9600\n",
      "Epoch 553/1000\n",
      "7/7 [==============================] - 0s 22ms/step - loss: 0.1779 - binary_accuracy: 0.9575 - val_loss: 0.1854 - val_binary_accuracy: 0.9800\n",
      "Epoch 554/1000\n",
      "7/7 [==============================] - 0s 22ms/step - loss: 0.1746 - binary_accuracy: 0.9650 - val_loss: 0.1753 - val_binary_accuracy: 0.9700\n",
      "Epoch 555/1000\n",
      "7/7 [==============================] - 0s 22ms/step - loss: 0.1535 - binary_accuracy: 0.9700 - val_loss: 0.1753 - val_binary_accuracy: 0.9700\n",
      "Epoch 556/1000\n",
      "7/7 [==============================] - 0s 23ms/step - loss: 0.1738 - binary_accuracy: 0.9600 - val_loss: 0.1780 - val_binary_accuracy: 0.9700\n",
      "Epoch 557/1000\n",
      "7/7 [==============================] - 0s 22ms/step - loss: 0.1555 - binary_accuracy: 0.9800 - val_loss: 0.1907 - val_binary_accuracy: 0.9700\n",
      "Epoch 558/1000\n",
      "7/7 [==============================] - 0s 22ms/step - loss: 0.1420 - binary_accuracy: 0.9775 - val_loss: 0.2004 - val_binary_accuracy: 0.9600\n",
      "Epoch 559/1000\n",
      "7/7 [==============================] - 0s 23ms/step - loss: 0.1547 - binary_accuracy: 0.9700 - val_loss: 0.1843 - val_binary_accuracy: 0.9600\n",
      "Epoch 560/1000\n",
      "7/7 [==============================] - 0s 24ms/step - loss: 0.1407 - binary_accuracy: 0.9775 - val_loss: 0.1981 - val_binary_accuracy: 0.9600\n",
      "Epoch 561/1000\n",
      "7/7 [==============================] - 0s 22ms/step - loss: 0.1426 - binary_accuracy: 0.9750 - val_loss: 0.1822 - val_binary_accuracy: 0.9700\n",
      "Epoch 562/1000\n",
      "7/7 [==============================] - 0s 22ms/step - loss: 0.1295 - binary_accuracy: 0.9775 - val_loss: 0.1994 - val_binary_accuracy: 0.9700\n",
      "Epoch 563/1000\n",
      "7/7 [==============================] - 0s 19ms/step - loss: 0.1403 - binary_accuracy: 0.9775 - val_loss: 0.1970 - val_binary_accuracy: 0.9700\n",
      "Epoch 564/1000\n",
      "7/7 [==============================] - 0s 20ms/step - loss: 0.1244 - binary_accuracy: 0.9775 - val_loss: 0.2447 - val_binary_accuracy: 0.9500\n",
      "Epoch 565/1000\n",
      "7/7 [==============================] - 0s 19ms/step - loss: 0.1159 - binary_accuracy: 0.9825 - val_loss: 0.2123 - val_binary_accuracy: 0.9700\n",
      "Epoch 566/1000\n",
      "7/7 [==============================] - 0s 22ms/step - loss: 0.1229 - binary_accuracy: 0.9825 - val_loss: 3.8417 - val_binary_accuracy: 0.4300\n",
      "Epoch 567/1000\n",
      "7/7 [==============================] - 0s 23ms/step - loss: 0.1233 - binary_accuracy: 0.9775 - val_loss: 0.2421 - val_binary_accuracy: 0.9400\n",
      "Epoch 568/1000\n",
      "7/7 [==============================] - 0s 24ms/step - loss: 0.1151 - binary_accuracy: 0.9725 - val_loss: 0.1739 - val_binary_accuracy: 0.9800\n",
      "Epoch 569/1000\n",
      "7/7 [==============================] - 0s 24ms/step - loss: 0.1442 - binary_accuracy: 0.9700 - val_loss: 0.1970 - val_binary_accuracy: 0.9600\n",
      "Epoch 570/1000\n",
      "7/7 [==============================] - 0s 23ms/step - loss: 0.1433 - binary_accuracy: 0.9775 - val_loss: 0.2966 - val_binary_accuracy: 0.9400\n",
      "Epoch 571/1000\n",
      "7/7 [==============================] - 0s 23ms/step - loss: 0.1716 - binary_accuracy: 0.9675 - val_loss: 0.2275 - val_binary_accuracy: 0.9600\n",
      "Epoch 572/1000\n",
      "7/7 [==============================] - 0s 23ms/step - loss: 0.1610 - binary_accuracy: 0.9725 - val_loss: 0.2022 - val_binary_accuracy: 0.9700\n",
      "Epoch 573/1000\n",
      "7/7 [==============================] - 0s 26ms/step - loss: 0.1741 - binary_accuracy: 0.9650 - val_loss: 0.2012 - val_binary_accuracy: 0.9600\n",
      "Epoch 574/1000\n",
      "7/7 [==============================] - 0s 24ms/step - loss: 0.1579 - binary_accuracy: 0.9650 - val_loss: 0.1967 - val_binary_accuracy: 0.9700\n",
      "Epoch 575/1000\n",
      "7/7 [==============================] - 0s 26ms/step - loss: 0.1458 - binary_accuracy: 0.9775 - val_loss: 0.2016 - val_binary_accuracy: 0.9700\n",
      "Epoch 576/1000\n",
      "7/7 [==============================] - 0s 22ms/step - loss: 0.1586 - binary_accuracy: 0.9700 - val_loss: 0.2008 - val_binary_accuracy: 0.9600\n",
      "Epoch 577/1000\n",
      "7/7 [==============================] - 0s 23ms/step - loss: 0.1534 - binary_accuracy: 0.9675 - val_loss: 0.2078 - val_binary_accuracy: 0.9600\n",
      "Epoch 578/1000\n",
      "7/7 [==============================] - 0s 23ms/step - loss: 0.1249 - binary_accuracy: 0.9825 - val_loss: 0.2152 - val_binary_accuracy: 0.9500\n",
      "Epoch 579/1000\n",
      "7/7 [==============================] - 0s 23ms/step - loss: 0.1547 - binary_accuracy: 0.9775 - val_loss: 0.2077 - val_binary_accuracy: 0.9500\n",
      "Epoch 580/1000\n",
      "7/7 [==============================] - 0s 22ms/step - loss: 0.1243 - binary_accuracy: 0.9775 - val_loss: 0.1873 - val_binary_accuracy: 0.9700\n",
      "Epoch 581/1000\n",
      "7/7 [==============================] - 0s 23ms/step - loss: 0.1425 - binary_accuracy: 0.9675 - val_loss: 0.1880 - val_binary_accuracy: 0.9700\n",
      "Epoch 582/1000\n",
      "7/7 [==============================] - 0s 23ms/step - loss: 0.1600 - binary_accuracy: 0.9750 - val_loss: 4.4169 - val_binary_accuracy: 0.4300\n",
      "Epoch 583/1000\n",
      "7/7 [==============================] - 0s 22ms/step - loss: 0.1510 - binary_accuracy: 0.9750 - val_loss: 3.1413 - val_binary_accuracy: 0.4300\n",
      "Epoch 584/1000\n",
      "7/7 [==============================] - 0s 22ms/step - loss: 0.1654 - binary_accuracy: 0.9725 - val_loss: 2.0425 - val_binary_accuracy: 0.4300\n",
      "Epoch 585/1000\n",
      "7/7 [==============================] - 0s 24ms/step - loss: 0.1482 - binary_accuracy: 0.9800 - val_loss: 1.7554 - val_binary_accuracy: 0.4400\n",
      "Epoch 586/1000\n",
      "7/7 [==============================] - 0s 22ms/step - loss: 0.1587 - binary_accuracy: 0.9675 - val_loss: 0.9335 - val_binary_accuracy: 0.5900\n",
      "Epoch 587/1000\n",
      "7/7 [==============================] - 0s 24ms/step - loss: 0.1606 - binary_accuracy: 0.9675 - val_loss: 0.3609 - val_binary_accuracy: 0.8300\n",
      "Epoch 588/1000\n",
      "7/7 [==============================] - 0s 23ms/step - loss: 0.1507 - binary_accuracy: 0.9725 - val_loss: 0.1953 - val_binary_accuracy: 0.9600\n",
      "Epoch 589/1000\n",
      "7/7 [==============================] - 0s 22ms/step - loss: 0.1531 - binary_accuracy: 0.9725 - val_loss: 0.3199 - val_binary_accuracy: 0.8900\n",
      "Epoch 590/1000\n",
      "7/7 [==============================] - 0s 23ms/step - loss: 0.1370 - binary_accuracy: 0.9750 - val_loss: 1.9268 - val_binary_accuracy: 0.4300\n",
      "Epoch 591/1000\n",
      "7/7 [==============================] - 0s 23ms/step - loss: 0.1419 - binary_accuracy: 0.9750 - val_loss: 0.2585 - val_binary_accuracy: 0.9400\n",
      "Epoch 592/1000\n",
      "7/7 [==============================] - 0s 22ms/step - loss: 0.1310 - binary_accuracy: 0.9850 - val_loss: 0.1784 - val_binary_accuracy: 0.9800\n",
      "Epoch 593/1000\n",
      "7/7 [==============================] - 0s 23ms/step - loss: 0.1573 - binary_accuracy: 0.9700 - val_loss: 0.2222 - val_binary_accuracy: 0.9400\n",
      "Epoch 594/1000\n",
      "7/7 [==============================] - 0s 23ms/step - loss: 0.1291 - binary_accuracy: 0.9775 - val_loss: 0.3067 - val_binary_accuracy: 0.8800\n",
      "Epoch 595/1000\n",
      "7/7 [==============================] - 0s 23ms/step - loss: 0.1290 - binary_accuracy: 0.9800 - val_loss: 0.3251 - val_binary_accuracy: 0.8800\n",
      "Epoch 596/1000\n",
      "7/7 [==============================] - 0s 25ms/step - loss: 0.1263 - binary_accuracy: 0.9825 - val_loss: 0.2846 - val_binary_accuracy: 0.9100\n",
      "Epoch 597/1000\n",
      "7/7 [==============================] - 0s 22ms/step - loss: 0.1515 - binary_accuracy: 0.9725 - val_loss: 0.2112 - val_binary_accuracy: 0.9500\n",
      "Epoch 598/1000\n",
      "7/7 [==============================] - 0s 23ms/step - loss: 0.1374 - binary_accuracy: 0.9750 - val_loss: 0.1779 - val_binary_accuracy: 0.9700\n",
      "Epoch 599/1000\n",
      "7/7 [==============================] - 0s 22ms/step - loss: 0.1420 - binary_accuracy: 0.9725 - val_loss: 0.1688 - val_binary_accuracy: 0.9800\n",
      "Epoch 600/1000\n",
      "7/7 [==============================] - 0s 23ms/step - loss: 0.1399 - binary_accuracy: 0.9775 - val_loss: 0.2018 - val_binary_accuracy: 0.9500\n",
      "Epoch 601/1000\n",
      "7/7 [==============================] - 0s 24ms/step - loss: 0.1249 - binary_accuracy: 0.9750 - val_loss: 0.1802 - val_binary_accuracy: 0.9700\n",
      "Epoch 602/1000\n",
      "7/7 [==============================] - 0s 23ms/step - loss: 0.1430 - binary_accuracy: 0.9800 - val_loss: 0.1815 - val_binary_accuracy: 0.9700\n",
      "Epoch 603/1000\n",
      "7/7 [==============================] - 0s 23ms/step - loss: 0.1403 - binary_accuracy: 0.9725 - val_loss: 0.1808 - val_binary_accuracy: 0.9600\n",
      "Epoch 604/1000\n",
      "7/7 [==============================] - 0s 22ms/step - loss: 0.1295 - binary_accuracy: 0.9825 - val_loss: 0.1968 - val_binary_accuracy: 0.9600\n",
      "Epoch 605/1000\n",
      "7/7 [==============================] - 0s 21ms/step - loss: 0.1648 - binary_accuracy: 0.9625 - val_loss: 0.3215 - val_binary_accuracy: 0.8800\n",
      "Epoch 606/1000\n",
      "7/7 [==============================] - 0s 22ms/step - loss: 0.1508 - binary_accuracy: 0.9800 - val_loss: 0.1764 - val_binary_accuracy: 0.9600\n",
      "Epoch 607/1000\n",
      "7/7 [==============================] - 0s 22ms/step - loss: 0.1862 - binary_accuracy: 0.9675 - val_loss: 0.1892 - val_binary_accuracy: 0.9700\n",
      "Epoch 608/1000\n",
      "7/7 [==============================] - 0s 22ms/step - loss: 0.1504 - binary_accuracy: 0.9775 - val_loss: 0.1933 - val_binary_accuracy: 0.9700\n",
      "Epoch 609/1000\n",
      "7/7 [==============================] - 0s 23ms/step - loss: 0.1469 - binary_accuracy: 0.9800 - val_loss: 0.2110 - val_binary_accuracy: 0.9500\n",
      "Epoch 610/1000\n",
      "7/7 [==============================] - 0s 22ms/step - loss: 0.1408 - binary_accuracy: 0.9825 - val_loss: 0.1859 - val_binary_accuracy: 0.9800\n",
      "Epoch 611/1000\n",
      "7/7 [==============================] - 0s 24ms/step - loss: 0.1392 - binary_accuracy: 0.9725 - val_loss: 0.1958 - val_binary_accuracy: 0.9700\n",
      "Epoch 612/1000\n",
      "7/7 [==============================] - 0s 24ms/step - loss: 0.1478 - binary_accuracy: 0.9725 - val_loss: 0.1844 - val_binary_accuracy: 0.9700\n",
      "Epoch 613/1000\n",
      "7/7 [==============================] - 0s 25ms/step - loss: 0.1338 - binary_accuracy: 0.9725 - val_loss: 0.1787 - val_binary_accuracy: 0.9700\n",
      "Epoch 614/1000\n",
      "7/7 [==============================] - 0s 24ms/step - loss: 0.1588 - binary_accuracy: 0.9625 - val_loss: 0.1874 - val_binary_accuracy: 0.9700\n",
      "Epoch 615/1000\n",
      "7/7 [==============================] - 0s 23ms/step - loss: 0.1357 - binary_accuracy: 0.9750 - val_loss: 0.1798 - val_binary_accuracy: 0.9700\n",
      "Epoch 616/1000\n",
      "7/7 [==============================] - 0s 23ms/step - loss: 0.1372 - binary_accuracy: 0.9750 - val_loss: 0.1812 - val_binary_accuracy: 0.9700\n",
      "Epoch 617/1000\n",
      "7/7 [==============================] - 0s 22ms/step - loss: 0.1608 - binary_accuracy: 0.9700 - val_loss: 0.1836 - val_binary_accuracy: 0.9700\n",
      "Epoch 618/1000\n",
      "7/7 [==============================] - 0s 23ms/step - loss: 0.1416 - binary_accuracy: 0.9800 - val_loss: 0.1924 - val_binary_accuracy: 0.9600\n",
      "Epoch 619/1000\n",
      "7/7 [==============================] - 0s 24ms/step - loss: 0.1517 - binary_accuracy: 0.9725 - val_loss: 0.1852 - val_binary_accuracy: 0.9600\n",
      "Epoch 620/1000\n",
      "7/7 [==============================] - 0s 22ms/step - loss: 0.1432 - binary_accuracy: 0.9750 - val_loss: 0.1828 - val_binary_accuracy: 0.9700\n",
      "Epoch 621/1000\n",
      "7/7 [==============================] - 0s 23ms/step - loss: 0.1394 - binary_accuracy: 0.9700 - val_loss: 0.1825 - val_binary_accuracy: 0.9800\n",
      "Epoch 622/1000\n",
      "7/7 [==============================] - 0s 23ms/step - loss: 0.1294 - binary_accuracy: 0.9825 - val_loss: 0.1904 - val_binary_accuracy: 0.9600\n",
      "Epoch 623/1000\n",
      "7/7 [==============================] - 0s 22ms/step - loss: 0.1470 - binary_accuracy: 0.9775 - val_loss: 0.1873 - val_binary_accuracy: 0.9600\n",
      "Epoch 624/1000\n",
      "7/7 [==============================] - 0s 24ms/step - loss: 0.1227 - binary_accuracy: 0.9850 - val_loss: 0.3555 - val_binary_accuracy: 0.8500\n",
      "Epoch 625/1000\n"
     ]
    },
    {
     "name": "stdout",
     "output_type": "stream",
     "text": [
      "7/7 [==============================] - 0s 22ms/step - loss: 0.1270 - binary_accuracy: 0.9825 - val_loss: 2.1221 - val_binary_accuracy: 0.4400\n",
      "Epoch 626/1000\n",
      "7/7 [==============================] - 0s 23ms/step - loss: 0.1485 - binary_accuracy: 0.9725 - val_loss: 0.2591 - val_binary_accuracy: 0.9300\n",
      "Epoch 627/1000\n",
      "7/7 [==============================] - 0s 23ms/step - loss: 0.1509 - binary_accuracy: 0.9675 - val_loss: 0.1808 - val_binary_accuracy: 0.9800\n",
      "Epoch 628/1000\n",
      "7/7 [==============================] - 0s 22ms/step - loss: 0.1286 - binary_accuracy: 0.9825 - val_loss: 0.1801 - val_binary_accuracy: 0.9600\n",
      "Epoch 629/1000\n",
      "7/7 [==============================] - 0s 22ms/step - loss: 0.1414 - binary_accuracy: 0.9825 - val_loss: 0.2422 - val_binary_accuracy: 0.9300\n",
      "Epoch 630/1000\n",
      "7/7 [==============================] - 0s 23ms/step - loss: 0.1454 - binary_accuracy: 0.9700 - val_loss: 0.2550 - val_binary_accuracy: 0.9300\n",
      "Epoch 631/1000\n",
      "7/7 [==============================] - 0s 22ms/step - loss: 0.1311 - binary_accuracy: 0.9800 - val_loss: 0.3012 - val_binary_accuracy: 0.9000\n",
      "Epoch 632/1000\n",
      "7/7 [==============================] - 0s 24ms/step - loss: 0.1634 - binary_accuracy: 0.9775 - val_loss: 0.3559 - val_binary_accuracy: 0.8300\n",
      "Epoch 633/1000\n",
      "7/7 [==============================] - 0s 22ms/step - loss: 0.1544 - binary_accuracy: 0.9775 - val_loss: 0.1826 - val_binary_accuracy: 0.9700\n",
      "Epoch 634/1000\n",
      "7/7 [==============================] - 0s 24ms/step - loss: 0.1533 - binary_accuracy: 0.9675 - val_loss: 0.1855 - val_binary_accuracy: 0.9700\n",
      "Epoch 635/1000\n",
      "7/7 [==============================] - 0s 22ms/step - loss: 0.1378 - binary_accuracy: 0.9775 - val_loss: 0.2188 - val_binary_accuracy: 0.9500\n",
      "Epoch 636/1000\n",
      "7/7 [==============================] - 0s 24ms/step - loss: 0.1316 - binary_accuracy: 0.9775 - val_loss: 0.1742 - val_binary_accuracy: 0.9800\n",
      "Epoch 637/1000\n",
      "7/7 [==============================] - 0s 22ms/step - loss: 0.1628 - binary_accuracy: 0.9725 - val_loss: 0.1772 - val_binary_accuracy: 0.9800\n",
      "Epoch 638/1000\n",
      "7/7 [==============================] - 0s 22ms/step - loss: 0.1590 - binary_accuracy: 0.9725 - val_loss: 0.1931 - val_binary_accuracy: 0.9600\n",
      "Epoch 639/1000\n",
      "7/7 [==============================] - 0s 24ms/step - loss: 0.1436 - binary_accuracy: 0.9800 - val_loss: 0.1839 - val_binary_accuracy: 0.9600\n",
      "Epoch 640/1000\n",
      "7/7 [==============================] - 0s 23ms/step - loss: 0.1561 - binary_accuracy: 0.9725 - val_loss: 0.1798 - val_binary_accuracy: 0.9700\n",
      "Epoch 641/1000\n",
      "7/7 [==============================] - 0s 22ms/step - loss: 0.1434 - binary_accuracy: 0.9775 - val_loss: 0.1684 - val_binary_accuracy: 0.9700\n",
      "Epoch 642/1000\n",
      "7/7 [==============================] - 0s 22ms/step - loss: 0.1432 - binary_accuracy: 0.9775 - val_loss: 6.0179 - val_binary_accuracy: 0.5400\n",
      "Epoch 643/1000\n",
      "7/7 [==============================] - 0s 19ms/step - loss: 0.1358 - binary_accuracy: 0.9725 - val_loss: 0.1745 - val_binary_accuracy: 0.9800\n",
      "Epoch 644/1000\n",
      "7/7 [==============================] - 0s 21ms/step - loss: 0.1314 - binary_accuracy: 0.9775 - val_loss: 0.2076 - val_binary_accuracy: 0.9500\n",
      "Epoch 645/1000\n",
      "7/7 [==============================] - 0s 21ms/step - loss: 0.1528 - binary_accuracy: 0.9775 - val_loss: 0.2338 - val_binary_accuracy: 0.9400\n",
      "Epoch 646/1000\n",
      "7/7 [==============================] - 0s 23ms/step - loss: 0.1576 - binary_accuracy: 0.9675 - val_loss: 0.1864 - val_binary_accuracy: 0.9800\n",
      "Epoch 647/1000\n",
      "7/7 [==============================] - 0s 22ms/step - loss: 0.1348 - binary_accuracy: 0.9700 - val_loss: 0.1923 - val_binary_accuracy: 0.9600\n",
      "Epoch 648/1000\n",
      "7/7 [==============================] - 0s 23ms/step - loss: 0.1412 - binary_accuracy: 0.9800 - val_loss: 0.1834 - val_binary_accuracy: 0.9700\n",
      "Epoch 649/1000\n",
      "7/7 [==============================] - 0s 23ms/step - loss: 0.1355 - binary_accuracy: 0.9725 - val_loss: 0.1751 - val_binary_accuracy: 0.9800\n",
      "Epoch 650/1000\n",
      "7/7 [==============================] - 0s 24ms/step - loss: 0.1488 - binary_accuracy: 0.9700 - val_loss: 0.1800 - val_binary_accuracy: 0.9700\n",
      "Epoch 651/1000\n",
      "7/7 [==============================] - 0s 24ms/step - loss: 0.1333 - binary_accuracy: 0.9750 - val_loss: 0.1846 - val_binary_accuracy: 0.9800\n",
      "Epoch 652/1000\n",
      "7/7 [==============================] - 0s 23ms/step - loss: 0.1490 - binary_accuracy: 0.9800 - val_loss: 0.1861 - val_binary_accuracy: 0.9600\n"
     ]
    }
   ],
   "source": [
    "regularised_bn_dropout_model.compile(optimizer=opt, loss=loss, metrics=[acc])\n",
    "history = regularised_bn_dropout_model.fit(train_dataset, epochs=20, validation_data=val_dataset, callbacks=[earlystopping])"
   ]
  },
  {
   "cell_type": "markdown",
   "metadata": {},
   "source": [
    "## Plot the learning curves"
   ]
  },
  {
   "cell_type": "code",
   "execution_count": 181,
   "metadata": {
    "scrolled": false
   },
   "outputs": [
    {
     "data": {
      "image/png": "[encoded data removed]",
      "text/plain": [
       "<Figure size 1008x288 with 2 Axes>"
      ]
     },
     "metadata": {
      "needs_background": "light"
     },
     "output_type": "display_data"
    }
   ],
   "source": [
    "import matplotlib.pyplot as plt\n",
    "\n",
    "fig = plt.figure(figsize=(14, 4))\n",
    "\n",
    "fig.add_subplot(121)\n",
    "plt.plot(history.history['loss'], label='train', color='C0', linestyle='-')\n",
    "plt.plot(history.history['val_loss'], label='valid', color='C0', linestyle=':')\n",
    "plt.title(\"Loss vs epochs\")\n",
    "plt.xlabel(\"Epochs\")\n",
    "plt.ylabel(\"Binary cross entropy loss\")\n",
    "plt.legend()\n",
    "\n",
    "fig.add_subplot(122)\n",
    "plt.plot(history.history['binary_accuracy'], label='train', color='C0', linestyle='-')\n",
    "plt.plot(history.history['val_binary_accuracy'], label='valid', color='C0', linestyle=':')\n",
    "plt.title(\"Binary accuracy vs epochs\")\n",
    "plt.xlabel(\"Epochs\")\n",
    "plt.ylabel(\"Binary accuracy\")\n",
    "plt.legend()\n",
    "\n",
    "plt.show()"
   ]
  },
  {
   "cell_type": "code",
   "execution_count": 182,
   "metadata": {
    "scrolled": true
   },
   "outputs": [
    {
     "name": "stdout",
     "output_type": "stream",
     "text": [
      "2/2 [==============================] - 0s 8ms/step - loss: 0.1861 - binary_accuracy: 0.9600\n",
      "[0.18611295521259308, 0.9599999785423279]\n"
     ]
    }
   ],
   "source": [
    "print(regularised_bn_dropout_model.evaluate(val_dataset))"
   ]
  },
  {
   "cell_type": "markdown",
   "metadata": {},
   "source": [
    "## Try random forest"
   ]
  },
  {
   "cell_type": "code",
   "execution_count": 185,
   "metadata": {
    "scrolled": false
   },
   "outputs": [
    {
     "data": {
      "text/plain": [
       "RandomForestClassifier(max_features=700, oob_score=True, random_state=0)"
      ]
     },
     "execution_count": 185,
     "metadata": {},
     "output_type": "execute_result"
    }
   ],
   "source": [
    "from sklearn.ensemble import RandomForestClassifier\n",
    "from sklearn.model_selection import train_test_split\n",
    "\n",
    "X_train, X_test, y_train, y_test = train_test_split(df_NMR_intensities, df_status, test_size=0.2, random_state=42)\n",
    "\n",
    "clf = RandomForestClassifier(100, random_state=0, oob_score=True, max_features=700)\n",
    "clf.fit(X_train, y_train)"
   ]
  },
  {
   "cell_type": "code",
   "execution_count": 186,
   "metadata": {
    "scrolled": true
   },
   "outputs": [
    {
     "name": "stdout",
     "output_type": "stream",
     "text": [
      "Train accuracy : 1.0\n",
      "Test accuracy : 0.9775\n"
     ]
    }
   ],
   "source": [
    "print(\"Train accuracy :\", clf.score(X_train, y_train))\n",
    "print(\"Test accuracy :\", clf.score(X_test, y_test))"
   ]
  },
  {
   "cell_type": "code",
   "execution_count": 1,
   "metadata": {},
   "outputs": [
    {
     "ename": "NameError",
     "evalue": "name 'np' is not defined",
     "output_type": "error",
     "traceback": [
      "\u001b[0;31m---------------------------------------------------------------------------\u001b[0m",
      "\u001b[0;31mNameError\u001b[0m                                 Traceback (most recent call last)",
      "\u001b[0;32m<ipython-input-1-b0101e489d8d>\u001b[0m in \u001b[0;36m<module>\u001b[0;34m\u001b[0m\n\u001b[1;32m      3\u001b[0m \u001b[0malpha\u001b[0m \u001b[0;34m=\u001b[0m \u001b[0;36m0.25\u001b[0m\u001b[0;34m\u001b[0m\u001b[0;34m\u001b[0m\u001b[0m\n\u001b[1;32m      4\u001b[0m \u001b[0;34m\u001b[0m\u001b[0m\n\u001b[0;32m----> 5\u001b[0;31m \u001b[0mnormal_creat\u001b[0m \u001b[0;34m=\u001b[0m \u001b[0mnp\u001b[0m\u001b[0;34m.\u001b[0m\u001b[0mrandom\u001b[0m\u001b[0;34m.\u001b[0m\u001b[0mnormal\u001b[0m\u001b[0;34m(\u001b[0m\u001b[0mloc\u001b[0m\u001b[0;34m=\u001b[0m\u001b[0mmu\u001b[0m\u001b[0;34m,\u001b[0m \u001b[0mscale\u001b[0m\u001b[0;34m=\u001b[0m\u001b[0msigma\u001b[0m\u001b[0;34m,\u001b[0m \u001b[0msize\u001b[0m\u001b[0;34m=\u001b[0m\u001b[0;36m5000\u001b[0m\u001b[0;34m)\u001b[0m\u001b[0;34m\u001b[0m\u001b[0;34m\u001b[0m\u001b[0m\n\u001b[0m\u001b[1;32m      6\u001b[0m \u001b[0mpoisoned_creat\u001b[0m \u001b[0;34m=\u001b[0m \u001b[0mnp\u001b[0m\u001b[0;34m.\u001b[0m\u001b[0mrandom\u001b[0m\u001b[0;34m.\u001b[0m\u001b[0mnormal\u001b[0m\u001b[0;34m(\u001b[0m\u001b[0mloc\u001b[0m\u001b[0;34m=\u001b[0m\u001b[0mmu\u001b[0m\u001b[0;34m*\u001b[0m\u001b[0malpha\u001b[0m\u001b[0;34m,\u001b[0m \u001b[0mscale\u001b[0m\u001b[0;34m=\u001b[0m\u001b[0msigma\u001b[0m\u001b[0;34m*\u001b[0m\u001b[0malpha\u001b[0m\u001b[0;34m,\u001b[0m \u001b[0msize\u001b[0m\u001b[0;34m=\u001b[0m\u001b[0;36m5000\u001b[0m\u001b[0;34m)\u001b[0m\u001b[0;34m\u001b[0m\u001b[0;34m\u001b[0m\u001b[0m\n",
      "\u001b[0;31mNameError\u001b[0m: name 'np' is not defined"
     ]
    }
   ],
   "source": [
    "mu = 13200\n",
    "sigma = 4100\n",
    "alpha = 0.25\n",
    "\n",
    "normal_creat = np.random.normal(loc=mu, scale=sigma, size=5000)\n",
    "poisoned_creat = np.random.normal(loc=mu*alpha, scale=sigma*alpha, size=5000)"
   ]
  },
  {
   "cell_type": "code",
   "execution_count": 322,
   "metadata": {},
   "outputs": [
    {
     "name": "stdout",
     "output_type": "stream",
     "text": [
      "9608.44212826399\n"
     ]
    }
   ],
   "source": [
    "def delta(mu, sigma, alpha):\n",
    "    return ((4*mu**2*(1-alpha)**2) - (8*sigma**2*np.log(alpha)*(1-alpha**2)))/alpha**2\n",
    "\n",
    "def border(mu, sigma, alpha):\n",
    "    return ((2*mu*(1 - alpha)/alpha) + (delta(mu, sigma, alpha)**0.5))/(2*(1-alpha**2)/alpha**2)\n",
    "\n",
    "border = border(mu, sigma, alpha)\n",
    "print(border)"
   ]
  },
  {
   "cell_type": "code",
   "execution_count": 323,
   "metadata": {},
   "outputs": [
    {
     "data": {
      "image/png": "[encoded data removed]",
      "text/plain": [
       "<Figure size 1008x288 with 1 Axes>"
      ]
     },
     "metadata": {
      "needs_background": "light"
     },
     "output_type": "display_data"
    }
   ],
   "source": [
    "import matplotlib.pyplot as plt\n",
    "\n",
    "fig = plt.figure(figsize=(14, 4))\n",
    "\n",
    "count, bins, ignored = plt.hist(normal_creat, 50, density=True)\n",
    "plt.plot(bins, 1/(sigma * np.sqrt(2 * np.pi)) *\n",
    "               np.exp( - (bins - mu)**2 / (2 * sigma**2) ),\n",
    "         linewidth=2, color='r')\n",
    "count, bins, ignored = plt.hist(poisoned_creat, 50, density=True)\n",
    "plt.plot(bins, 1/(alpha*sigma * np.sqrt(2 * np.pi)) *\n",
    "               np.exp( - (bins - alpha*mu)**2 / (2 * (alpha*sigma)**2) ),\n",
    "         linewidth=2, color='r')\n",
    "plt.axvline(x = border, color = 'b', linestyle = '-')\n",
    "plt.show()"
   ]
  },
  {
   "cell_type": "code",
   "execution_count": 324,
   "metadata": {},
   "outputs": [
    {
     "name": "stdout",
     "output_type": "stream",
     "text": [
      "0.8691832980171983\n"
     ]
    }
   ],
   "source": [
    "from scipy.stats import norm\n",
    "TN = 1 - norm.cdf(border, mu, sigma)\n",
    "TP = norm.cdf(border, alpha*mu, alpha*sigma)\n",
    "Acc = (TP + TN)/2\n",
    "print(Acc)"
   ]
  }
 ],
 "metadata": {
  "kernelspec": {
   "display_name": "Python 3",
   "language": "python",
   "name": "python3"
  },
  "language_info": {
   "codemirror_mode": {
    "name": "ipython",
    "version": 3
   },
   "file_extension": ".py",
   "mimetype": "text/x-python",
   "name": "python",
   "nbconvert_exporter": "python",
   "pygments_lexer": "ipython3",
   "version": "3.8.5"
  }
 },
 "nbformat": 4,
 "nbformat_minor": 1
}
