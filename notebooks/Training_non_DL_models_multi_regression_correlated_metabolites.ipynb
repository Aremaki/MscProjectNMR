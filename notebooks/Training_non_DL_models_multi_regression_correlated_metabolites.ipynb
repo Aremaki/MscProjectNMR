{
 "cells": [
  {
   "cell_type": "markdown",
   "metadata": {
    "collapsed": true
   },
   "source": [
    "# Training of non-DL models for Multi-regression of the metabolites concentrations on correlated metabolites"
   ]
  },
  {
   "cell_type": "markdown",
   "metadata": {},
   "source": [
    "### Install project packages"
   ]
  },
  {
   "cell_type": "code",
   "execution_count": 4,
   "metadata": {},
   "outputs": [
    {
     "name": "stdout",
     "output_type": "stream",
     "text": [
      "Defaulting to user installation because normal site-packages is not writeable\n",
      "Obtaining file:///data/ar1220/MscProjectNMR\n",
      "Installing collected packages: MscProjectNMR\n",
      "  Attempting uninstall: MscProjectNMR\n",
      "    Found existing installation: MscProjectNMR 0\n",
      "    Uninstalling MscProjectNMR-0:\n",
      "      Successfully uninstalled MscProjectNMR-0\n",
      "  Running setup.py develop for MscProjectNMR\n",
      "Successfully installed MscProjectNMR-0\n"
     ]
    }
   ],
   "source": [
    "%%bash\n",
    "pip install -e ../."
   ]
  },
  {
   "cell_type": "markdown",
   "metadata": {},
   "source": [
    "### Install required python modules"
   ]
  },
  {
   "cell_type": "code",
   "execution_count": null,
   "metadata": {},
   "outputs": [],
   "source": [
    "%%bash\n",
    "pip install -r ../requirements.txt"
   ]
  },
  {
   "cell_type": "markdown",
   "metadata": {},
   "source": [
    "### Import fucntions"
   ]
  },
  {
   "cell_type": "code",
   "execution_count": 1,
   "metadata": {},
   "outputs": [],
   "source": [
    "import tensorflow as tf\n",
    "import numpy as np\n",
    "import pandas as pd\n",
    "import matplotlib.pyplot as plt\n",
    "import time\n",
    "\n",
    "from sklearn.utils import shuffle\n",
    "from sklearn.model_selection import train_test_split, cross_validate\n",
    "from sklearn.ensemble import RandomForestRegressor\n",
    "from sklearn.metrics import mean_squared_error\n",
    "from sklearn.cross_decomposition import PLSRegression\n",
    "\n",
    "import os\n",
    "import joblib\n",
    "\n",
    "from tfrecords import read_tfrecords_concentrations, read_tfrecords_concentrations_single"
   ]
  },
  {
   "cell_type": "code",
   "execution_count": 2,
   "metadata": {
    "scrolled": true
   },
   "outputs": [
    {
     "data": {
      "text/plain": [
       "'2.4.2'"
      ]
     },
     "execution_count": 2,
     "metadata": {},
     "output_type": "execute_result"
    }
   ],
   "source": [
    "tf.__version__"
   ]
  },
  {
   "cell_type": "markdown",
   "metadata": {},
   "source": [
    "---\n",
    "# I. Read the tf.Record files"
   ]
  },
  {
   "cell_type": "markdown",
   "metadata": {},
   "source": [
    "## I.1 Small correlated dataset (1000 spectra)"
   ]
  },
  {
   "cell_type": "code",
   "execution_count": null,
   "metadata": {},
   "outputs": [],
   "source": [
    "small_corr_train_file_paths = ['../data/tfrecords/Concentrations_data/Small_correlated/train/data_{}.tfrecord'\n",
    "                               .format(i) for i in range(8)]\n",
    "small_corr_val_file_paths = ['../data/tfrecords/Concentrations_data/Small_correlated/validation/data_{}.tfrecord'\n",
    "                             .format(i) for i in range(2)]\n",
    "\n",
    "small_corr_train_dataset = read_tfrecords_concentrations(small_corr_train_file_paths, 32)\n",
    "\n",
    "small_corr_val_dataset = read_tfrecords_concentrations(small_corr_val_file_paths, 32)\n"
   ]
  },
  {
   "cell_type": "code",
   "execution_count": null,
   "metadata": {},
   "outputs": [],
   "source": [
    "X_train_small_corr = []\n",
    "y_train_small_corr = []\n",
    "\n",
    "for element in small_corr_train_dataset.unbatch():\n",
    "    X_train_small_corr.append(element[0].numpy())\n",
    "    y_train_small.append(element[1].numpy())\n",
    "    \n",
    "for element in small_corr_val_dataset.unbatch():\n",
    "    X_train_small_corr.append(element[0].numpy())\n",
    "    y_train_small.append(element[1].numpy())\n",
    "\n",
    "X_train_small_corr = pd.DataFrame(X_train_small_corr)\n",
    "y_train_small_corr = pd.DataFrame(y_train_small_corr)"
   ]
  },
  {
   "cell_type": "markdown",
   "metadata": {},
   "source": [
    "## I.2 Large correlated dataset (10000 spectra)"
   ]
  },
  {
   "cell_type": "code",
   "execution_count": null,
   "metadata": {},
   "outputs": [],
   "source": [
    "large_corr_train_file_paths = ['../data/tfrecords/Concentrations_data/Large_correlated/train/data_{}.tfrecord'\n",
    "                               .format(i) for i in range(32)]\n",
    "large_corr_val_file_paths = ['../data/tfrecords/Concentrations_data/Large_correlated/validation/data_{}.tfrecord'\n",
    "                             .format(i) for i in range(8)]\n",
    "\n",
    "large_corr_train_dataset = read_tfrecords_concentrations(large_corr_train_file_paths, 64)\n",
    "\n",
    "large_corr_val_dataset = read_tfrecords_concentrations(large_corr_val_file_paths, 64)"
   ]
  },
  {
   "cell_type": "code",
   "execution_count": null,
   "metadata": {},
   "outputs": [],
   "source": [
    "X_train_large_corr = []\n",
    "y_train_large_corr = []\n",
    "\n",
    "for element in large_corr_train_dataset.unbatch():\n",
    "    X_train_large_corr.append(element[0].numpy())\n",
    "    y_train_large_corr.append(element[1].numpy())\n",
    "\n",
    "for element in large_corr_val_dataset.unbatch():\n",
    "    X_train_large_corr.append(element[0].numpy())\n",
    "    y_train_large_corr.append(element[1].numpy())\n",
    "\n",
    "X_train_large_corr = pd.DataFrame(X_train_large_corr)\n",
    "y_train_large_corr = pd.DataFrame(y_train_large_corr)"
   ]
  },
  {
   "cell_type": "markdown",
   "metadata": {},
   "source": [
    "## I.3 Extra small correlated dataset (100 spectra)"
   ]
  },
  {
   "cell_type": "code",
   "execution_count": null,
   "metadata": {},
   "outputs": [],
   "source": [
    "xsmall_corr_train_file_paths = ['../data/tfrecords/Concentrations_data/Extra_small_correlated/train/data_{}.tfrecord'\n",
    "                               .format(i) for i in range(4)]\n",
    "xsmall_corr_val_file_paths = ['../data/tfrecords/Concentrations_data/Extra_small_correlated/validation/data_{}.tfrecord'\n",
    "                             .format(i) for i in range(1)]\n",
    "\n",
    "xsmall_corr_train_dataset = read_tfrecords_concentrations(xsmall_corr_train_file_paths, 16)\n",
    "\n",
    "xsmall_corr_val_dataset = read_tfrecords_concentrations(xsmall_corr_val_file_paths, 16)"
   ]
  },
  {
   "cell_type": "code",
   "execution_count": null,
   "metadata": {},
   "outputs": [],
   "source": [
    "X_train_xsmall_corr = []\n",
    "y_train_xsmall_corr = []\n",
    "\n",
    "for element in xsmall_corr_train_dataset.unbatch():\n",
    "    X_train_xsmall_corr.append(element[0].numpy())\n",
    "    y_train_xsmall_corr.append(element[1].numpy())\n",
    "    \n",
    "for element in xsmall_corr_val_dataset.unbatch():\n",
    "    X_train_xsmall_corr.append(element[0].numpy())\n",
    "    y_train_xsmall_corr.append(element[1].numpy())\n",
    "\n",
    "X_train_xsmall_corr = pd.DataFrame(X_train_xsmall_corr)\n",
    "y_train_xsmall_corr = pd.DataFrame(y_train_xsmall_corr)"
   ]
  },
  {
   "cell_type": "markdown",
   "metadata": {},
   "source": [
    "---\n",
    "# II. Train Models"
   ]
  },
  {
   "cell_type": "markdown",
   "metadata": {},
   "source": [
    "## II.1 Small correlated dataset"
   ]
  },
  {
   "cell_type": "markdown",
   "metadata": {},
   "source": [
    "### II.1.a Define mutli-output Random Forest"
   ]
  },
  {
   "cell_type": "code",
   "execution_count": null,
   "metadata": {},
   "outputs": [],
   "source": [
    "small_corr_multi_RF = RandomForestRegressor(10)"
   ]
  },
  {
   "cell_type": "markdown",
   "metadata": {},
   "source": [
    "### II.1.b Fit mutli-output Random Forest"
   ]
  },
  {
   "cell_type": "code",
   "execution_count": null,
   "metadata": {},
   "outputs": [],
   "source": [
    "if not os.path.exists(\"../saved_models/concentrations/small_corr_multi_RF\"):\n",
    "    os.makedirs(\"../saved_models/concentrations/small_corr_multi_RF\")\n",
    "start = time.time()\n",
    "small_corr_multi_RF.fit(X_train_small_corr, y_train_small_corr)\n",
    "time_small_corr = time.time() - start\n",
    "joblib.dump(small_corr_multi_RF, \"../saved_models/concentrations/small_corr_multi_RF/model\")\n",
    "joblib.dump(time_small_corr, \"../saved_models/concentrations/small_corr_multi_RF/time\")"
   ]
  },
  {
   "cell_type": "markdown",
   "metadata": {},
   "source": [
    "### II.1.c Define single-output Random Forest"
   ]
  },
  {
   "cell_type": "code",
   "execution_count": 24,
   "metadata": {},
   "outputs": [],
   "source": [
    "small_corr_inde_RFs = []\n",
    "\n",
    "for i in range(48):\n",
    "    small_corr_inde_RFs.append(RandomForestRegressor(10))"
   ]
  },
  {
   "cell_type": "markdown",
   "metadata": {},
   "source": [
    "### II.1.d Fit single-output Random Forest"
   ]
  },
  {
   "cell_type": "code",
   "execution_count": null,
   "metadata": {},
   "outputs": [],
   "source": [
    "for i in range(48):\n",
    "    start = time.time()\n",
    "    small_corr_inde_RFs[i].fit(X_train_small_corr, y_train_small_corr[i])\n",
    "    time_small_corr_inde = time.time() - start\n",
    "    if not os.path.exists(\"../saved_models/concentrations/small_corr_single_RF/metabolite_{}\".format(i)):\n",
    "        os.makedirs(\"../saved_models/concentrations/small_corr_single_RF/metabolite_{}\".format(i)):\n",
    "    joblib.dump(small_corr_inde_RFs[i], \"../saved_models/concentrations/small_corr_single_RF/metabolite_{}/model\"\n",
    "                .format(i))\n",
    "    joblib.dump(time_small_corr_inde, \"../saved_models/concentrations/small_corr_single_RF/metabolite_{}/time\"\n",
    "                .format(i))\n",
    "    print('\\n', '\\n', '####', '\\n', '\\n', 'Model number {} has been trained in {} seconds !'\n",
    "          .format(i, time_small_corr_inde), '\\n', '\\n', '####', '\\n', '\\n')"
   ]
  },
  {
   "cell_type": "markdown",
   "metadata": {},
   "source": [
    "### II.1.e Define partial least squares"
   ]
  },
  {
   "cell_type": "code",
   "execution_count": 27,
   "metadata": {},
   "outputs": [],
   "source": [
    "small_corr_pls = PLSRegression(200)"
   ]
  },
  {
   "cell_type": "markdown",
   "metadata": {},
   "source": [
    "### II.1.f Fit partial least squares"
   ]
  },
  {
   "cell_type": "code",
   "execution_count": null,
   "metadata": {},
   "outputs": [],
   "source": [
    "if not os.path.exists(\"../saved_models/concentrations/small_corr_pls\"):\n",
    "    os.makedirs(\"../saved_models/concentrations/small_corr_pls\")\n",
    "start = time.time()\n",
    "small_corr_pls.fit(X_train_small_corr, y_train_small_corr)\n",
    "time_small_corr = time.time() - start\n",
    "joblib.dump(small_corr_pls, \"../saved_models/concentrations/small_corr_pls/model\")\n",
    "joblib.dump(time_small_corr, \"../saved_models/concentrations/small_corr_pls/time\")"
   ]
  },
  {
   "cell_type": "markdown",
   "metadata": {},
   "source": [
    "## II.2 Large correlated dataset"
   ]
  },
  {
   "cell_type": "markdown",
   "metadata": {},
   "source": [
    "### II.2.a Define mutli-output Random Forest"
   ]
  },
  {
   "cell_type": "code",
   "execution_count": 36,
   "metadata": {},
   "outputs": [],
   "source": [
    "large_corr_multi_RF = RandomForestRegressor(10)"
   ]
  },
  {
   "cell_type": "markdown",
   "metadata": {},
   "source": [
    "### II.2.b Fit mutli-output Random Forest"
   ]
  },
  {
   "cell_type": "code",
   "execution_count": null,
   "metadata": {},
   "outputs": [],
   "source": [
    "if not os.path.exists(\"../saved_models/concentrations/large_corr_multi_RF\"):\n",
    "    os.makedirs(\"../saved_models/concentrations/large_corr_multi_RF\")\n",
    "start = time.time()\n",
    "large_corr_multi_RF.fit(X_train_large_corr, y_train_large_corr)\n",
    "time_large_corr = time.time() - start\n",
    "joblib.dump(large_corr_multi_RF, \"../saved_models/concentrations/large_corr_multi_RF/model\")\n",
    "joblib.dump(time_large_corr, \"../saved_models/concentrations/large_corr_multi_RF/time\")"
   ]
  },
  {
   "cell_type": "markdown",
   "metadata": {},
   "source": [
    "### II.2.c Define single-output Random Forest"
   ]
  },
  {
   "cell_type": "code",
   "execution_count": 24,
   "metadata": {},
   "outputs": [],
   "source": [
    "large_corr_inde_RFs = []\n",
    "\n",
    "for i in range(48):\n",
    "    large_corr_inde_RFs.append(RandomForestRegressor(10))"
   ]
  },
  {
   "cell_type": "markdown",
   "metadata": {},
   "source": [
    "### II.2.d Fit single-output Random Forest"
   ]
  },
  {
   "cell_type": "code",
   "execution_count": null,
   "metadata": {},
   "outputs": [],
   "source": [
    "if not os.path.exists(\"../saved_models/concentrations/large_corr_single_RF\"):\n",
    "    os.makedirs(\"../saved_models/concentrations/large_corr_single_RF\")\n",
    "for i in range(48):\n",
    "    start = time.time()\n",
    "    large_corr_inde_RFs[i].fit(X_train_large_corr, y_train_large_corr[i])\n",
    "    time_large_corr_inde = time.time() - start\n",
    "    if not os.path.exists(\"../saved_models/concentrations/large_corr_single_RF/metabolite_{}\".format(i)):\n",
    "        os.makedirs(\"../saved_models/concentrations/large_corr_single_RF/metabolite_{}\".format(i)):\n",
    "    joblib.dump(large_corr_inde_RFs[i], \"../saved_models/concentrations/large_corr_single_RF/metabolite_{}/model\"\n",
    "                .format(i))\n",
    "    joblib.dump(time_large_corr_inde, \"../saved_models/concentrations/large_corr_single_RF/metabolite_{}/time\"\n",
    "                .format(i))\n",
    "    print('\\n', '\\n', '####', '\\n', '\\n', 'Model number {} has been trained in {} seconds !'\n",
    "          .format(i, time_large_corr_inde), '\\n', '\\n', '####', '\\n', '\\n')"
   ]
  },
  {
   "cell_type": "markdown",
   "metadata": {},
   "source": [
    "### II.2.e Define partial least squares"
   ]
  },
  {
   "cell_type": "code",
   "execution_count": 27,
   "metadata": {},
   "outputs": [],
   "source": [
    "large_corr_pls = PLSRegression(200)"
   ]
  },
  {
   "cell_type": "markdown",
   "metadata": {},
   "source": [
    "### II.2.f Fit partial least squares"
   ]
  },
  {
   "cell_type": "code",
   "execution_count": null,
   "metadata": {},
   "outputs": [],
   "source": [
    "if not os.path.exists(\"../saved_models/concentrations/large_corr_pls\"):\n",
    "    os.makedirs(\"../saved_models/concentrations/large_corr_pls\")\n",
    "start = time.time()\n",
    "large_corr_pls.fit(X_train_large_corr, y_train_large_corr)\n",
    "time_large_corr = time.time() - start\n",
    "joblib.dump(large_corr_pls, \"../saved_models/concentrations/large_corr_pls/time\")\n",
    "joblib.dump(time_large_corr, \"../saved_models/concentrations/large_corr_pls/time\")"
   ]
  },
  {
   "cell_type": "markdown",
   "metadata": {},
   "source": [
    "## II.3 Extra small correlated dataset"
   ]
  },
  {
   "cell_type": "markdown",
   "metadata": {},
   "source": [
    "### II.3.a Define mutli-output Random Forest"
   ]
  },
  {
   "cell_type": "code",
   "execution_count": 50,
   "metadata": {},
   "outputs": [],
   "source": [
    "xsmall_corr_multi_RF = RandomForestRegressor(10)"
   ]
  },
  {
   "cell_type": "markdown",
   "metadata": {},
   "source": [
    "### II.3.b Fit mutli-output Random Forest"
   ]
  },
  {
   "cell_type": "code",
   "execution_count": null,
   "metadata": {},
   "outputs": [],
   "source": [
    "if not os.path.exists(\"../saved_models/concentrations/xsmall_corr_multi_RF\"):\n",
    "    os.makedirs(\"../saved_models/concentrations/xsmall_corr_multi_RF\")\n",
    "start = time.time()\n",
    "xsmall_corr_multi_RF.fit(X_train_small_corr, y_train_small_corr)\n",
    "time_xsmall_corr = time.time() - start\n",
    "joblib.dump(xsmall_corr_multi_RF, \"../saved_models/concentrations/xsmall_corr_multi_RF/model\")\n",
    "joblib.dump(time_xsmall_corr, \"../saved_models/concentrations/xsmall_corr_multi_RF/time\")"
   ]
  },
  {
   "cell_type": "markdown",
   "metadata": {},
   "source": [
    "### II.3.c Define single-output Random Forest"
   ]
  },
  {
   "cell_type": "code",
   "execution_count": 24,
   "metadata": {},
   "outputs": [],
   "source": [
    "xsmall_corr_inde_RFs = []\n",
    "\n",
    "for i in range(48):\n",
    "    xsmall_corr_inde_RFs.append(RandomForestRegressor(10))"
   ]
  },
  {
   "cell_type": "markdown",
   "metadata": {},
   "source": [
    "### II.3.d Fit single-output Random Forest"
   ]
  },
  {
   "cell_type": "code",
   "execution_count": null,
   "metadata": {},
   "outputs": [],
   "source": [
    "for i in range(48):\n",
    "    start = time.time()\n",
    "    xsmall_corr_inde_RFs[i].fit(X_train_xsmall_corr, y_train_xsmall_corr[i])\n",
    "    time_xsmall_corr_inde = time.time() - start\n",
    "    if not os.path.exists(\"../saved_models/concentrations/xsmall_corr_single_RF/metabolite_{}\".format(i)):\n",
    "        os.makedirs(\"../saved_models/concentrations/xsmall_corr_single_RF/metabolite_{}\".format(i)):\n",
    "    joblib.dump(xsmall_corr_inde_RFs[i], \"../saved_models/concentrations/xsmall_corr_single_RF/metabolite_{}/model\"\n",
    "                .format(i))\n",
    "    joblib.dump(time_xsmall_corr_inde, \"../saved_models/concentrations/xsmall_corr_single_RF/metabolite_{}/time\"\n",
    "                .format(i))\n",
    "    print('\\n', '\\n', '####', '\\n', '\\n', 'Model number {} has been trained in {} seconds !'\n",
    "          .format(i, time_xsmall_corr_inde), '\\n', '\\n', '####', '\\n', '\\n')"
   ]
  },
  {
   "cell_type": "markdown",
   "metadata": {},
   "source": [
    "### II.3.e Define partial least squares"
   ]
  },
  {
   "cell_type": "code",
   "execution_count": 27,
   "metadata": {},
   "outputs": [],
   "source": [
    "xsmall_corr_pls = PLSRegression(200)"
   ]
  },
  {
   "cell_type": "markdown",
   "metadata": {},
   "source": [
    "### II.3.f Fit partial least squares"
   ]
  },
  {
   "cell_type": "code",
   "execution_count": null,
   "metadata": {},
   "outputs": [],
   "source": [
    "if not os.path.exists(\"../saved_models/concentrations/xsmall_corr_pls\"):\n",
    "    os.makedirs(\"../saved_models/concentrations/xsmall_corr_pls\")\n",
    "start = time.time()\n",
    "xsmall_corr_pls.fit(X_train_xsmall_corr, y_train_xsmall_corr)\n",
    "time_xsmall_corr = time.time() - start\n",
    "joblib.dump(xsmall_corr_pls, \"../saved_models/concentrations/xsmall_corr_pls/model\")\n",
    "joblib.dump(time_xsmall_corr, \"../saved_models/concentrations/xsmall_corr_pls/time\")"
   ]
  }
 ],
 "metadata": {
  "kernelspec": {
   "display_name": "venv",
   "language": "python",
   "name": "venv"
  },
  "language_info": {
   "codemirror_mode": {
    "name": "ipython",
    "version": 3
   },
   "file_extension": ".py",
   "mimetype": "text/x-python",
   "name": "python",
   "nbconvert_exporter": "python",
   "pygments_lexer": "ipython3",
   "version": "3.8.5"
  }
 },
 "nbformat": 4,
 "nbformat_minor": 1
}
