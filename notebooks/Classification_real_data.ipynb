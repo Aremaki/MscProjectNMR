{
 "cells": [
  {
   "cell_type": "markdown",
   "metadata": {
    "collapsed": true
   },
   "source": [
    "# Classification of real data"
   ]
  },
  {
   "cell_type": "markdown",
   "metadata": {},
   "source": [
    "## Install required python modules"
   ]
  },
  {
   "cell_type": "code",
   "execution_count": null,
   "metadata": {},
   "outputs": [],
   "source": [
    "%%bash\n",
    "pip install -e ../."
   ]
  },
  {
   "cell_type": "code",
   "execution_count": null,
   "metadata": {},
   "outputs": [],
   "source": [
    "%%bash\n",
    "pip install -r ../requirements.txt"
   ]
  },
  {
   "cell_type": "markdown",
   "metadata": {},
   "source": [
    "## Import data"
   ]
  },
  {
   "cell_type": "code",
   "execution_count": 1,
   "metadata": {},
   "outputs": [],
   "source": [
    "import numpy as np\n",
    "from openpyxl import load_workbook\n",
    "import pandas as pd\n",
    "\n",
    "\n",
    "filename_data = '../data/Real_data/ST001706/1D/RCCdata.txt'\n",
    "filename_status = '../data/Real_data/ST001706/RCC_samples.xlsx'\n",
    "df_data = pd.DataFrame(np.loadtxt(filename_data, dtype=float))\n",
    "df_status = pd.read_excel(filename_status, engine='openpyxl', header=None)\n",
    "\n",
    "#Convert status into integers\n",
    "df_status[0] = df_status[0].astype('category')\n",
    "df_status = df_status.apply(lambda x: x.cat.codes)"
   ]
  },
  {
   "cell_type": "code",
   "execution_count": 3,
   "metadata": {
    "scrolled": true
   },
   "outputs": [
    {
     "name": "stdout",
     "output_type": "stream",
     "text": [
      "(256, 32697)\n",
      "(256, 1)\n"
     ]
    }
   ],
   "source": [
    "print(df_data.shape)\n",
    "print(df_status.shape)"
   ]
  },
  {
   "cell_type": "markdown",
   "metadata": {},
   "source": [
    "## Shuffle the data"
   ]
  },
  {
   "cell_type": "code",
   "execution_count": 4,
   "metadata": {},
   "outputs": [],
   "source": [
    "from sklearn.utils import shuffle\n",
    "\n",
    "df_status, df_data = shuffle(df_status, df_data)"
   ]
  },
  {
   "cell_type": "markdown",
   "metadata": {},
   "source": [
    "## Convert into tf.data"
   ]
  },
  {
   "cell_type": "code",
   "execution_count": 5,
   "metadata": {},
   "outputs": [
    {
     "data": {
      "text/plain": [
       "(TensorSpec(shape=(32697,), dtype=tf.float64, name=None),\n",
       " TensorSpec(shape=(), dtype=tf.int32, name=None))"
      ]
     },
     "execution_count": 5,
     "metadata": {},
     "output_type": "execute_result"
    }
   ],
   "source": [
    "import tensorflow as tf\n",
    "\n",
    "dataset = tf.data.Dataset.from_tensor_slices((df_data, df_status[0].tolist()))\n",
    "dataset.element_spec"
   ]
  },
  {
   "cell_type": "markdown",
   "metadata": {},
   "source": [
    "## Write tf.Record"
   ]
  },
  {
   "cell_type": "code",
   "execution_count": 6,
   "metadata": {},
   "outputs": [],
   "source": [
    "from tfrecords import write_tfrecords"
   ]
  },
  {
   "cell_type": "code",
   "execution_count": 7,
   "metadata": {},
   "outputs": [],
   "source": [
    "write_tfrecords('../data/tfrecords/Real_data', dataset=dataset, number=10)"
   ]
  },
  {
   "cell_type": "markdown",
   "metadata": {},
   "source": [
    "## Read the tf.Record files"
   ]
  },
  {
   "cell_type": "code",
   "execution_count": 8,
   "metadata": {},
   "outputs": [],
   "source": [
    "from tfrecords import read_tfrecords"
   ]
  },
  {
   "cell_type": "code",
   "execution_count": 9,
   "metadata": {},
   "outputs": [],
   "source": [
    "file_paths = ['../data/tfrecords/Real_data/data_{}.tfrecord'.format(i) for i in range(10)]\n",
    "full_dataset = read_tfrecords(file_paths)"
   ]
  },
  {
   "cell_type": "markdown",
   "metadata": {},
   "source": [
    "## Split data into train and validation datasets"
   ]
  },
  {
   "cell_type": "code",
   "execution_count": 10,
   "metadata": {},
   "outputs": [],
   "source": [
    "from models import process_dataset"
   ]
  },
  {
   "cell_type": "code",
   "execution_count": 11,
   "metadata": {},
   "outputs": [],
   "source": [
    "train_dataset, val_dataset, test_dataset = process_dataset(full_dataset, batch_sizes=[8] * 3, shuffle_buffers=1000,\n",
    "                                                           train_prop=0.8, val_prop=0.2)"
   ]
  },
  {
   "cell_type": "markdown",
   "metadata": {},
   "source": [
    "## Define Checkpoint"
   ]
  },
  {
   "cell_type": "code",
   "execution_count": 47,
   "metadata": {},
   "outputs": [],
   "source": [
    "from models import CheckpointCallback\n",
    "\n",
    "# Create a CheckpointCallback to save the model    \n",
    "ckpt = CheckpointCallback(\"../saved_models/real_data\")"
   ]
  },
  {
   "cell_type": "markdown",
   "metadata": {},
   "source": [
    "## Define MLPs"
   ]
  },
  {
   "cell_type": "code",
   "execution_count": 99,
   "metadata": {},
   "outputs": [
    {
     "name": "stdout",
     "output_type": "stream",
     "text": [
      "Model: \"functional_29\"\n",
      "_________________________________________________________________\n",
      "Layer (type)                 Output Shape              Param #   \n",
      "=================================================================\n",
      "input_15 (InputLayer)        [(None, 32697)]           0         \n",
      "_________________________________________________________________\n",
      "dense_64 (Dense)             (None, 64)                2092672   \n",
      "_________________________________________________________________\n",
      "dense_65 (Dense)             (None, 64)                4160      \n",
      "_________________________________________________________________\n",
      "dense_66 (Dense)             (None, 1)                 65        \n",
      "=================================================================\n",
      "Total params: 2,096,897\n",
      "Trainable params: 2,096,897\n",
      "Non-trainable params: 0\n",
      "_________________________________________________________________\n"
     ]
    }
   ],
   "source": [
    "from models import get_simple_mlp\n",
    "\n",
    "simple_model = get_simple_mlp(input_shape=(32697,), hidden_units=[64, 64])\n",
    "simple_model.summary()"
   ]
  },
  {
   "cell_type": "code",
   "execution_count": 100,
   "metadata": {},
   "outputs": [
    {
     "name": "stdout",
     "output_type": "stream",
     "text": [
      "Model: \"functional_31\"\n",
      "_________________________________________________________________\n",
      "Layer (type)                 Output Shape              Param #   \n",
      "=================================================================\n",
      "input_16 (InputLayer)        [(None, 32697)]           0         \n",
      "_________________________________________________________________\n",
      "dense_67 (Dense)             (None, 1024)              33482752  \n",
      "_________________________________________________________________\n",
      "batch_normalization_36 (Batc (None, 1024)              4096      \n",
      "_________________________________________________________________\n",
      "dropout_36 (Dropout)         (None, 1024)              0         \n",
      "_________________________________________________________________\n",
      "dense_68 (Dense)             (None, 1024)              1049600   \n",
      "_________________________________________________________________\n",
      "batch_normalization_37 (Batc (None, 1024)              4096      \n",
      "_________________________________________________________________\n",
      "dropout_37 (Dropout)         (None, 1024)              0         \n",
      "_________________________________________________________________\n",
      "dense_69 (Dense)             (None, 1024)              1049600   \n",
      "_________________________________________________________________\n",
      "batch_normalization_38 (Batc (None, 1024)              4096      \n",
      "_________________________________________________________________\n",
      "dropout_38 (Dropout)         (None, 1024)              0         \n",
      "_________________________________________________________________\n",
      "dense_70 (Dense)             (None, 512)               524800    \n",
      "_________________________________________________________________\n",
      "batch_normalization_39 (Batc (None, 512)               2048      \n",
      "_________________________________________________________________\n",
      "dropout_39 (Dropout)         (None, 512)               0         \n",
      "_________________________________________________________________\n",
      "dense_71 (Dense)             (None, 512)               262656    \n",
      "_________________________________________________________________\n",
      "batch_normalization_40 (Batc (None, 512)               2048      \n",
      "_________________________________________________________________\n",
      "dropout_40 (Dropout)         (None, 512)               0         \n",
      "_________________________________________________________________\n",
      "dense_72 (Dense)             (None, 512)               262656    \n",
      "_________________________________________________________________\n",
      "batch_normalization_41 (Batc (None, 512)               2048      \n",
      "_________________________________________________________________\n",
      "dropout_41 (Dropout)         (None, 512)               0         \n",
      "_________________________________________________________________\n",
      "dense_73 (Dense)             (None, 1)                 513       \n",
      "=================================================================\n",
      "Total params: 36,651,009\n",
      "Trainable params: 36,641,793\n",
      "Non-trainable params: 9,216\n",
      "_________________________________________________________________\n"
     ]
    }
   ],
   "source": [
    "from models import get_regularised_bn_dropout_mlp\n",
    "\n",
    "regularised_bn_dropout_model = get_regularised_bn_dropout_mlp(input_shape=(32697,), hidden_units=[1024, 1024, 1024, 512, 512, 512],\n",
    "                                l2_reg_coeff=0.0001, dropout_rate=0.5)\n",
    "regularised_bn_dropout_model.summary()"
   ]
  },
  {
   "cell_type": "markdown",
   "metadata": {},
   "source": [
    "## Compile model"
   ]
  },
  {
   "cell_type": "code",
   "execution_count": 102,
   "metadata": {},
   "outputs": [],
   "source": [
    "import tensorflow as tf\n",
    "opt = tf.keras.optimizers.Adam(lr=0.0005)\n",
    "loss = tf.keras.losses.BinaryCrossentropy(from_logits=False)\n",
    "acc = tf.keras.metrics.BinaryAccuracy()\n",
    "earlystopping = tf.keras.callbacks.EarlyStopping(patience=100)"
   ]
  },
  {
   "cell_type": "code",
   "execution_count": 103,
   "metadata": {
    "scrolled": false
   },
   "outputs": [
    {
     "name": "stdout",
     "output_type": "stream",
     "text": [
      "Epoch 1/1000\n",
      "25/25 [==============================] - 0s 14ms/step - loss: 0.8308 - binary_accuracy: 0.6750 - val_loss: 0.4868 - val_binary_accuracy: 0.8200\n",
      "Epoch 2/1000\n",
      "25/25 [==============================] - 0s 11ms/step - loss: 0.3958 - binary_accuracy: 0.8450 - val_loss: 0.2551 - val_binary_accuracy: 0.9000\n",
      "Epoch 3/1000\n",
      "25/25 [==============================] - 0s 9ms/step - loss: 0.3098 - binary_accuracy: 0.8500 - val_loss: 0.3567 - val_binary_accuracy: 0.8200\n",
      "Epoch 4/1000\n",
      "25/25 [==============================] - 0s 11ms/step - loss: 0.2423 - binary_accuracy: 0.9200 - val_loss: 0.2141 - val_binary_accuracy: 0.9200\n",
      "Epoch 5/1000\n",
      "25/25 [==============================] - 0s 8ms/step - loss: 0.1876 - binary_accuracy: 0.9400 - val_loss: 0.2141 - val_binary_accuracy: 0.9200\n",
      "Epoch 6/1000\n",
      "25/25 [==============================] - 0s 10ms/step - loss: 0.1620 - binary_accuracy: 0.9450 - val_loss: 0.2032 - val_binary_accuracy: 0.8800\n",
      "Epoch 7/1000\n",
      "25/25 [==============================] - 0s 9ms/step - loss: 0.1986 - binary_accuracy: 0.9300 - val_loss: 0.3222 - val_binary_accuracy: 0.8800\n",
      "Epoch 8/1000\n",
      "25/25 [==============================] - 0s 9ms/step - loss: 0.1239 - binary_accuracy: 0.9550 - val_loss: 0.2119 - val_binary_accuracy: 0.9200\n",
      "Epoch 9/1000\n",
      "25/25 [==============================] - 0s 9ms/step - loss: 0.0977 - binary_accuracy: 0.9650 - val_loss: 0.2340 - val_binary_accuracy: 0.9400\n",
      "Epoch 10/1000\n",
      "25/25 [==============================] - 0s 9ms/step - loss: 0.0948 - binary_accuracy: 0.9650 - val_loss: 0.2605 - val_binary_accuracy: 0.9200\n",
      "Epoch 11/1000\n",
      "25/25 [==============================] - 0s 10ms/step - loss: 0.0663 - binary_accuracy: 0.9750 - val_loss: 0.1764 - val_binary_accuracy: 0.9400\n",
      "Epoch 12/1000\n",
      "25/25 [==============================] - 0s 9ms/step - loss: 0.0611 - binary_accuracy: 0.9900 - val_loss: 0.2705 - val_binary_accuracy: 0.9200\n",
      "Epoch 13/1000\n",
      "25/25 [==============================] - 0s 8ms/step - loss: 0.0651 - binary_accuracy: 0.9800 - val_loss: 0.1913 - val_binary_accuracy: 0.9200\n",
      "Epoch 14/1000\n",
      "25/25 [==============================] - 0s 8ms/step - loss: 0.0744 - binary_accuracy: 0.9700 - val_loss: 0.1884 - val_binary_accuracy: 0.9400\n",
      "Epoch 15/1000\n",
      "25/25 [==============================] - 0s 8ms/step - loss: 0.0587 - binary_accuracy: 0.9800 - val_loss: 0.3815 - val_binary_accuracy: 0.8800\n",
      "Epoch 16/1000\n",
      "25/25 [==============================] - 0s 8ms/step - loss: 0.1034 - binary_accuracy: 0.9650 - val_loss: 0.3601 - val_binary_accuracy: 0.8600\n",
      "Epoch 17/1000\n",
      "25/25 [==============================] - 0s 9ms/step - loss: 0.0471 - binary_accuracy: 0.9850 - val_loss: 0.2977 - val_binary_accuracy: 0.9200\n",
      "Epoch 18/1000\n",
      "25/25 [==============================] - 0s 9ms/step - loss: 0.0216 - binary_accuracy: 0.9950 - val_loss: 0.3341 - val_binary_accuracy: 0.9000\n",
      "Epoch 19/1000\n",
      "25/25 [==============================] - 0s 9ms/step - loss: 0.0192 - binary_accuracy: 1.0000 - val_loss: 0.3486 - val_binary_accuracy: 0.9000\n",
      "Epoch 20/1000\n",
      "25/25 [==============================] - 0s 9ms/step - loss: 0.0175 - binary_accuracy: 1.0000 - val_loss: 0.3469 - val_binary_accuracy: 0.9000\n",
      "Epoch 21/1000\n",
      "25/25 [==============================] - 0s 8ms/step - loss: 0.0143 - binary_accuracy: 1.0000 - val_loss: 0.3528 - val_binary_accuracy: 0.9000\n",
      "Epoch 22/1000\n",
      "25/25 [==============================] - 0s 9ms/step - loss: 0.0100 - binary_accuracy: 1.0000 - val_loss: 0.2489 - val_binary_accuracy: 0.9400\n",
      "Epoch 23/1000\n",
      "25/25 [==============================] - 0s 8ms/step - loss: 0.0195 - binary_accuracy: 1.0000 - val_loss: 0.5010 - val_binary_accuracy: 0.8800\n",
      "Epoch 24/1000\n",
      "25/25 [==============================] - 0s 9ms/step - loss: 0.0130 - binary_accuracy: 1.0000 - val_loss: 0.3992 - val_binary_accuracy: 0.9000\n",
      "Epoch 25/1000\n",
      "25/25 [==============================] - 0s 9ms/step - loss: 0.0088 - binary_accuracy: 1.0000 - val_loss: 0.3767 - val_binary_accuracy: 0.9000\n",
      "Epoch 26/1000\n",
      "25/25 [==============================] - 0s 8ms/step - loss: 0.0060 - binary_accuracy: 1.0000 - val_loss: 0.3968 - val_binary_accuracy: 0.9000\n",
      "Epoch 27/1000\n",
      "25/25 [==============================] - 0s 9ms/step - loss: 0.0058 - binary_accuracy: 1.0000 - val_loss: 0.3551 - val_binary_accuracy: 0.9200\n",
      "Epoch 28/1000\n",
      "25/25 [==============================] - 0s 8ms/step - loss: 0.0048 - binary_accuracy: 1.0000 - val_loss: 0.3278 - val_binary_accuracy: 0.9200\n",
      "Epoch 29/1000\n",
      "25/25 [==============================] - 0s 8ms/step - loss: 0.0045 - binary_accuracy: 1.0000 - val_loss: 0.4248 - val_binary_accuracy: 0.9000\n",
      "Epoch 30/1000\n",
      "25/25 [==============================] - 0s 8ms/step - loss: 0.0042 - binary_accuracy: 1.0000 - val_loss: 0.3722 - val_binary_accuracy: 0.9200\n",
      "Epoch 31/1000\n",
      "25/25 [==============================] - 0s 9ms/step - loss: 0.0040 - binary_accuracy: 1.0000 - val_loss: 0.4143 - val_binary_accuracy: 0.9000\n",
      "Epoch 32/1000\n",
      "25/25 [==============================] - 0s 8ms/step - loss: 0.0037 - binary_accuracy: 1.0000 - val_loss: 0.3977 - val_binary_accuracy: 0.9200\n",
      "Epoch 33/1000\n",
      "25/25 [==============================] - 0s 8ms/step - loss: 0.0033 - binary_accuracy: 1.0000 - val_loss: 0.3905 - val_binary_accuracy: 0.9200\n",
      "Epoch 34/1000\n",
      "25/25 [==============================] - 0s 8ms/step - loss: 0.0032 - binary_accuracy: 1.0000 - val_loss: 0.3774 - val_binary_accuracy: 0.9200\n",
      "Epoch 35/1000\n",
      "25/25 [==============================] - 0s 8ms/step - loss: 0.0027 - binary_accuracy: 1.0000 - val_loss: 0.4449 - val_binary_accuracy: 0.9000\n",
      "Epoch 36/1000\n",
      "25/25 [==============================] - 0s 8ms/step - loss: 0.0027 - binary_accuracy: 1.0000 - val_loss: 0.4064 - val_binary_accuracy: 0.9200\n",
      "Epoch 37/1000\n",
      "25/25 [==============================] - 0s 8ms/step - loss: 0.0025 - binary_accuracy: 1.0000 - val_loss: 0.4604 - val_binary_accuracy: 0.9000\n",
      "Epoch 38/1000\n",
      "25/25 [==============================] - 0s 9ms/step - loss: 0.0024 - binary_accuracy: 1.0000 - val_loss: 0.4304 - val_binary_accuracy: 0.9200\n",
      "Epoch 39/1000\n",
      "25/25 [==============================] - 0s 9ms/step - loss: 0.0022 - binary_accuracy: 1.0000 - val_loss: 0.4375 - val_binary_accuracy: 0.9000\n",
      "Epoch 40/1000\n",
      "25/25 [==============================] - 0s 8ms/step - loss: 0.0020 - binary_accuracy: 1.0000 - val_loss: 0.4161 - val_binary_accuracy: 0.9200\n",
      "Epoch 41/1000\n",
      "25/25 [==============================] - 0s 9ms/step - loss: 0.0020 - binary_accuracy: 1.0000 - val_loss: 0.4095 - val_binary_accuracy: 0.9200\n",
      "Epoch 42/1000\n",
      "25/25 [==============================] - 0s 9ms/step - loss: 0.0018 - binary_accuracy: 1.0000 - val_loss: 0.4633 - val_binary_accuracy: 0.9000\n",
      "Epoch 43/1000\n",
      "25/25 [==============================] - 0s 9ms/step - loss: 0.0017 - binary_accuracy: 1.0000 - val_loss: 0.4836 - val_binary_accuracy: 0.9000\n",
      "Epoch 44/1000\n",
      "25/25 [==============================] - 0s 9ms/step - loss: 0.0017 - binary_accuracy: 1.0000 - val_loss: 0.4298 - val_binary_accuracy: 0.9200\n",
      "Epoch 45/1000\n",
      "25/25 [==============================] - 0s 8ms/step - loss: 0.0016 - binary_accuracy: 1.0000 - val_loss: 0.4528 - val_binary_accuracy: 0.9200\n",
      "Epoch 46/1000\n",
      "25/25 [==============================] - 0s 9ms/step - loss: 0.0014 - binary_accuracy: 1.0000 - val_loss: 0.5051 - val_binary_accuracy: 0.9000\n",
      "Epoch 47/1000\n",
      "25/25 [==============================] - 0s 8ms/step - loss: 0.0013 - binary_accuracy: 1.0000 - val_loss: 0.4593 - val_binary_accuracy: 0.9200\n",
      "Epoch 48/1000\n",
      "25/25 [==============================] - 0s 8ms/step - loss: 0.0013 - binary_accuracy: 1.0000 - val_loss: 0.4673 - val_binary_accuracy: 0.9200\n",
      "Epoch 49/1000\n",
      "25/25 [==============================] - 0s 8ms/step - loss: 0.0013 - binary_accuracy: 1.0000 - val_loss: 0.5490 - val_binary_accuracy: 0.9000\n",
      "Epoch 50/1000\n",
      "25/25 [==============================] - 0s 8ms/step - loss: 0.0012 - binary_accuracy: 1.0000 - val_loss: 0.4815 - val_binary_accuracy: 0.9200\n",
      "Epoch 51/1000\n",
      "25/25 [==============================] - 0s 9ms/step - loss: 0.0011 - binary_accuracy: 1.0000 - val_loss: 0.4937 - val_binary_accuracy: 0.9000\n",
      "Epoch 52/1000\n",
      "25/25 [==============================] - 0s 8ms/step - loss: 0.0011 - binary_accuracy: 1.0000 - val_loss: 0.5126 - val_binary_accuracy: 0.9000\n",
      "Epoch 53/1000\n"
     ]
    },
    {
     "name": "stdout",
     "output_type": "stream",
     "text": [
      "25/25 [==============================] - 0s 8ms/step - loss: 0.0010 - binary_accuracy: 1.0000 - val_loss: 0.5182 - val_binary_accuracy: 0.9000\n",
      "Epoch 54/1000\n",
      "25/25 [==============================] - 0s 9ms/step - loss: 9.2263e-04 - binary_accuracy: 1.0000 - val_loss: 0.4841 - val_binary_accuracy: 0.9200\n",
      "Epoch 55/1000\n",
      "25/25 [==============================] - 0s 9ms/step - loss: 9.1747e-04 - binary_accuracy: 1.0000 - val_loss: 0.5073 - val_binary_accuracy: 0.9000\n",
      "Epoch 56/1000\n",
      "25/25 [==============================] - 0s 8ms/step - loss: 8.5173e-04 - binary_accuracy: 1.0000 - val_loss: 0.5155 - val_binary_accuracy: 0.9000\n",
      "Epoch 57/1000\n",
      "25/25 [==============================] - 0s 9ms/step - loss: 8.4121e-04 - binary_accuracy: 1.0000 - val_loss: 0.5229 - val_binary_accuracy: 0.9000\n",
      "Epoch 58/1000\n",
      "25/25 [==============================] - 0s 8ms/step - loss: 7.8844e-04 - binary_accuracy: 1.0000 - val_loss: 0.4981 - val_binary_accuracy: 0.9200\n",
      "Epoch 59/1000\n",
      "25/25 [==============================] - 0s 9ms/step - loss: 7.6937e-04 - binary_accuracy: 1.0000 - val_loss: 0.5031 - val_binary_accuracy: 0.9200\n",
      "Epoch 60/1000\n",
      "25/25 [==============================] - 0s 8ms/step - loss: 7.3398e-04 - binary_accuracy: 1.0000 - val_loss: 0.5245 - val_binary_accuracy: 0.9000\n",
      "Epoch 61/1000\n",
      "25/25 [==============================] - 0s 8ms/step - loss: 6.8911e-04 - binary_accuracy: 1.0000 - val_loss: 0.5459 - val_binary_accuracy: 0.9000\n",
      "Epoch 62/1000\n",
      "25/25 [==============================] - 0s 9ms/step - loss: 6.8690e-04 - binary_accuracy: 1.0000 - val_loss: 0.5069 - val_binary_accuracy: 0.9200\n",
      "Epoch 63/1000\n",
      "25/25 [==============================] - 0s 8ms/step - loss: 6.5147e-04 - binary_accuracy: 1.0000 - val_loss: 0.5356 - val_binary_accuracy: 0.9000\n",
      "Epoch 64/1000\n",
      "25/25 [==============================] - 0s 9ms/step - loss: 6.2783e-04 - binary_accuracy: 1.0000 - val_loss: 0.5263 - val_binary_accuracy: 0.9000\n",
      "Epoch 65/1000\n",
      "25/25 [==============================] - 0s 9ms/step - loss: 6.0700e-04 - binary_accuracy: 1.0000 - val_loss: 0.5208 - val_binary_accuracy: 0.9200\n",
      "Epoch 66/1000\n",
      "25/25 [==============================] - 0s 8ms/step - loss: 5.6898e-04 - binary_accuracy: 1.0000 - val_loss: 0.5504 - val_binary_accuracy: 0.9000\n",
      "Epoch 67/1000\n",
      "25/25 [==============================] - 0s 9ms/step - loss: 5.6701e-04 - binary_accuracy: 1.0000 - val_loss: 0.5481 - val_binary_accuracy: 0.9000\n",
      "Epoch 68/1000\n",
      "25/25 [==============================] - 0s 9ms/step - loss: 5.3809e-04 - binary_accuracy: 1.0000 - val_loss: 0.5537 - val_binary_accuracy: 0.9000\n",
      "Epoch 69/1000\n",
      "25/25 [==============================] - 0s 8ms/step - loss: 5.1765e-04 - binary_accuracy: 1.0000 - val_loss: 0.5504 - val_binary_accuracy: 0.9000\n",
      "Epoch 70/1000\n",
      "25/25 [==============================] - 0s 8ms/step - loss: 4.9777e-04 - binary_accuracy: 1.0000 - val_loss: 0.5495 - val_binary_accuracy: 0.9000\n",
      "Epoch 71/1000\n",
      "25/25 [==============================] - 0s 8ms/step - loss: 4.9370e-04 - binary_accuracy: 1.0000 - val_loss: 0.5330 - val_binary_accuracy: 0.9200\n",
      "Epoch 72/1000\n",
      "25/25 [==============================] - 0s 9ms/step - loss: 4.6736e-04 - binary_accuracy: 1.0000 - val_loss: 0.5575 - val_binary_accuracy: 0.9000\n",
      "Epoch 73/1000\n",
      "25/25 [==============================] - 0s 9ms/step - loss: 4.5495e-04 - binary_accuracy: 1.0000 - val_loss: 0.5736 - val_binary_accuracy: 0.9000\n",
      "Epoch 74/1000\n",
      "25/25 [==============================] - 0s 9ms/step - loss: 4.4183e-04 - binary_accuracy: 1.0000 - val_loss: 0.5437 - val_binary_accuracy: 0.9000\n",
      "Epoch 75/1000\n",
      "25/25 [==============================] - 0s 8ms/step - loss: 4.2997e-04 - binary_accuracy: 1.0000 - val_loss: 0.5497 - val_binary_accuracy: 0.9000\n",
      "Epoch 76/1000\n",
      "25/25 [==============================] - 0s 9ms/step - loss: 4.1499e-04 - binary_accuracy: 1.0000 - val_loss: 0.5534 - val_binary_accuracy: 0.9000\n",
      "Epoch 77/1000\n",
      "25/25 [==============================] - 0s 8ms/step - loss: 3.9639e-04 - binary_accuracy: 1.0000 - val_loss: 0.5704 - val_binary_accuracy: 0.9000\n",
      "Epoch 78/1000\n",
      "25/25 [==============================] - 0s 9ms/step - loss: 3.9608e-04 - binary_accuracy: 1.0000 - val_loss: 0.5610 - val_binary_accuracy: 0.9000\n",
      "Epoch 79/1000\n",
      "25/25 [==============================] - 0s 9ms/step - loss: 3.7523e-04 - binary_accuracy: 1.0000 - val_loss: 0.5576 - val_binary_accuracy: 0.9000\n",
      "Epoch 80/1000\n",
      "25/25 [==============================] - 0s 9ms/step - loss: 3.6990e-04 - binary_accuracy: 1.0000 - val_loss: 0.5783 - val_binary_accuracy: 0.9000\n",
      "Epoch 81/1000\n",
      "25/25 [==============================] - 0s 9ms/step - loss: 3.5769e-04 - binary_accuracy: 1.0000 - val_loss: 0.5679 - val_binary_accuracy: 0.9000\n",
      "Epoch 82/1000\n",
      "25/25 [==============================] - 0s 9ms/step - loss: 3.4459e-04 - binary_accuracy: 1.0000 - val_loss: 0.5544 - val_binary_accuracy: 0.9200\n",
      "Epoch 83/1000\n",
      "25/25 [==============================] - 0s 9ms/step - loss: 3.4470e-04 - binary_accuracy: 1.0000 - val_loss: 0.5747 - val_binary_accuracy: 0.9000\n",
      "Epoch 84/1000\n",
      "25/25 [==============================] - 0s 8ms/step - loss: 3.3263e-04 - binary_accuracy: 1.0000 - val_loss: 0.5714 - val_binary_accuracy: 0.9000\n",
      "Epoch 85/1000\n",
      "25/25 [==============================] - 0s 8ms/step - loss: 3.1746e-04 - binary_accuracy: 1.0000 - val_loss: 0.5854 - val_binary_accuracy: 0.9000\n",
      "Epoch 86/1000\n",
      "25/25 [==============================] - 0s 9ms/step - loss: 3.1613e-04 - binary_accuracy: 1.0000 - val_loss: 0.5577 - val_binary_accuracy: 0.9200\n",
      "Epoch 87/1000\n",
      "25/25 [==============================] - 0s 8ms/step - loss: 3.0681e-04 - binary_accuracy: 1.0000 - val_loss: 0.5805 - val_binary_accuracy: 0.9000\n",
      "Epoch 88/1000\n",
      "25/25 [==============================] - 0s 9ms/step - loss: 2.8836e-04 - binary_accuracy: 1.0000 - val_loss: 0.5840 - val_binary_accuracy: 0.9000\n",
      "Epoch 89/1000\n",
      "25/25 [==============================] - 0s 8ms/step - loss: 2.8177e-04 - binary_accuracy: 1.0000 - val_loss: 0.5931 - val_binary_accuracy: 0.9000\n",
      "Epoch 90/1000\n",
      "25/25 [==============================] - 0s 8ms/step - loss: 2.7767e-04 - binary_accuracy: 1.0000 - val_loss: 0.5907 - val_binary_accuracy: 0.9000\n",
      "Epoch 91/1000\n",
      "25/25 [==============================] - 0s 9ms/step - loss: 2.6480e-04 - binary_accuracy: 1.0000 - val_loss: 0.5816 - val_binary_accuracy: 0.9000\n",
      "Epoch 92/1000\n",
      "25/25 [==============================] - 0s 9ms/step - loss: 2.6057e-04 - binary_accuracy: 1.0000 - val_loss: 0.5943 - val_binary_accuracy: 0.9000\n",
      "Epoch 93/1000\n",
      "25/25 [==============================] - 0s 9ms/step - loss: 2.5588e-04 - binary_accuracy: 1.0000 - val_loss: 0.5813 - val_binary_accuracy: 0.9000\n",
      "Epoch 94/1000\n",
      "25/25 [==============================] - 0s 8ms/step - loss: 2.4320e-04 - binary_accuracy: 1.0000 - val_loss: 0.5979 - val_binary_accuracy: 0.9000\n",
      "Epoch 95/1000\n",
      "25/25 [==============================] - 0s 9ms/step - loss: 2.4205e-04 - binary_accuracy: 1.0000 - val_loss: 0.6043 - val_binary_accuracy: 0.9000\n",
      "Epoch 96/1000\n",
      "25/25 [==============================] - 0s 9ms/step - loss: 2.3089e-04 - binary_accuracy: 1.0000 - val_loss: 0.5912 - val_binary_accuracy: 0.9000\n",
      "Epoch 97/1000\n",
      "25/25 [==============================] - 0s 8ms/step - loss: 2.2745e-04 - binary_accuracy: 1.0000 - val_loss: 0.6018 - val_binary_accuracy: 0.9000\n",
      "Epoch 98/1000\n",
      "25/25 [==============================] - 0s 8ms/step - loss: 2.2091e-04 - binary_accuracy: 1.0000 - val_loss: 0.5983 - val_binary_accuracy: 0.9000\n",
      "Epoch 99/1000\n",
      "25/25 [==============================] - 0s 9ms/step - loss: 2.1567e-04 - binary_accuracy: 1.0000 - val_loss: 0.6123 - val_binary_accuracy: 0.9000\n",
      "Epoch 100/1000\n",
      "25/25 [==============================] - 0s 9ms/step - loss: 2.1424e-04 - binary_accuracy: 1.0000 - val_loss: 0.6140 - val_binary_accuracy: 0.9000\n",
      "Epoch 101/1000\n",
      "25/25 [==============================] - 0s 8ms/step - loss: 2.0771e-04 - binary_accuracy: 1.0000 - val_loss: 0.6084 - val_binary_accuracy: 0.9000\n",
      "Epoch 102/1000\n",
      "25/25 [==============================] - 0s 9ms/step - loss: 2.0088e-04 - binary_accuracy: 1.0000 - val_loss: 0.5912 - val_binary_accuracy: 0.9200\n",
      "Epoch 103/1000\n",
      "25/25 [==============================] - 0s 8ms/step - loss: 1.9862e-04 - binary_accuracy: 1.0000 - val_loss: 0.6111 - val_binary_accuracy: 0.9000\n"
     ]
    },
    {
     "name": "stdout",
     "output_type": "stream",
     "text": [
      "Epoch 104/1000\n",
      "25/25 [==============================] - 0s 9ms/step - loss: 1.9017e-04 - binary_accuracy: 1.0000 - val_loss: 0.6091 - val_binary_accuracy: 0.9000\n",
      "Epoch 105/1000\n",
      "25/25 [==============================] - 0s 8ms/step - loss: 1.8791e-04 - binary_accuracy: 1.0000 - val_loss: 0.6062 - val_binary_accuracy: 0.9000\n",
      "Epoch 106/1000\n",
      "25/25 [==============================] - 0s 8ms/step - loss: 1.8016e-04 - binary_accuracy: 1.0000 - val_loss: 0.6107 - val_binary_accuracy: 0.9000\n",
      "Epoch 107/1000\n",
      "25/25 [==============================] - 0s 9ms/step - loss: 1.7754e-04 - binary_accuracy: 1.0000 - val_loss: 0.6128 - val_binary_accuracy: 0.9000\n",
      "Epoch 108/1000\n",
      "25/25 [==============================] - 0s 9ms/step - loss: 1.7301e-04 - binary_accuracy: 1.0000 - val_loss: 0.6236 - val_binary_accuracy: 0.9000\n",
      "Epoch 109/1000\n",
      "25/25 [==============================] - 0s 9ms/step - loss: 1.6948e-04 - binary_accuracy: 1.0000 - val_loss: 0.6215 - val_binary_accuracy: 0.9000\n",
      "Epoch 110/1000\n",
      "25/25 [==============================] - 0s 9ms/step - loss: 1.7063e-04 - binary_accuracy: 1.0000 - val_loss: 0.6371 - val_binary_accuracy: 0.9000\n",
      "Epoch 111/1000\n",
      "25/25 [==============================] - 0s 9ms/step - loss: 1.6893e-04 - binary_accuracy: 1.0000 - val_loss: 0.6128 - val_binary_accuracy: 0.9000\n"
     ]
    }
   ],
   "source": [
    "simple_model.compile(optimizer=opt, loss=loss, metrics=[acc])\n",
    "history = simple_model.fit(train_dataset, epochs=1000, validation_data=val_dataset, callbacks=[ckpt, earlystopping])"
   ]
  },
  {
   "cell_type": "markdown",
   "metadata": {},
   "source": [
    "## Plot the learning curves"
   ]
  },
  {
   "cell_type": "code",
   "execution_count": 104,
   "metadata": {},
   "outputs": [
    {
     "data": {
      "image/png": "[encoded data removed]",
      "text/plain": [
       "<Figure size 1008x288 with 2 Axes>"
      ]
     },
     "metadata": {
      "needs_background": "light"
     },
     "output_type": "display_data"
    }
   ],
   "source": [
    "import matplotlib.pyplot as plt\n",
    "\n",
    "fig = plt.figure(figsize=(14, 4))\n",
    "\n",
    "fig.add_subplot(121)\n",
    "plt.plot(history.history['loss'], label='train', color='C0', linestyle='-')\n",
    "plt.plot(history.history['val_loss'], label='valid', color='C0', linestyle=':')\n",
    "plt.title(\"Loss vs epochs\")\n",
    "plt.xlabel(\"Epochs\")\n",
    "plt.ylabel(\"Binary cross entropy loss\")\n",
    "plt.legend()\n",
    "\n",
    "fig.add_subplot(122)\n",
    "plt.plot(history.history['binary_accuracy'], label='train', color='C0', linestyle='-')\n",
    "plt.plot(history.history['val_binary_accuracy'], label='valid', color='C0', linestyle=':')\n",
    "plt.title(\"Binary accuracy vs epochs\")\n",
    "plt.xlabel(\"Epochs\")\n",
    "plt.ylabel(\"Binary accuracy\")\n",
    "plt.legend()\n",
    "\n",
    "plt.show()\n",
    "print(simple_model.evaluate(val_dataset, return_dict=True, verbose=0))"
   ]
  },
  {
   "cell_type": "markdown",
   "metadata": {},
   "source": [
    "## Load saved model"
   ]
  },
  {
   "cell_type": "code",
   "execution_count": 107,
   "metadata": {},
   "outputs": [
    {
     "name": "stdout",
     "output_type": "stream",
     "text": [
      "Model: \"functional_33\"\n",
      "_________________________________________________________________\n",
      "Layer (type)                 Output Shape              Param #   \n",
      "=================================================================\n",
      "input_17 (InputLayer)        [(None, 32697)]           0         \n",
      "_________________________________________________________________\n",
      "dense_74 (Dense)             (None, 64)                2092672   \n",
      "_________________________________________________________________\n",
      "dense_75 (Dense)             (None, 64)                4160      \n",
      "_________________________________________________________________\n",
      "dense_76 (Dense)             (None, 1)                 65        \n",
      "=================================================================\n",
      "Total params: 2,096,897\n",
      "Trainable params: 2,096,897\n",
      "Non-trainable params: 0\n",
      "_________________________________________________________________\n"
     ]
    },
    {
     "data": {
      "text/plain": [
       "{'loss': 0.17636698484420776, 'binary_accuracy': 0.9399999976158142}"
      ]
     },
     "execution_count": 107,
     "metadata": {},
     "output_type": "execute_result"
    }
   ],
   "source": [
    "from models import get_simple_mlp\n",
    "import tensorflow as tf\n",
    "\n",
    "\n",
    "simple_model_load = get_simple_mlp(input_shape=(32697,), hidden_units=[64, 64])\n",
    "opt = tf.keras.optimizers.Adam(lr=0.0005)\n",
    "loss = tf.keras.losses.BinaryCrossentropy(from_logits=False)\n",
    "acc = tf.keras.metrics.BinaryAccuracy()\n",
    "simple_model_load.compile(optimizer=opt, loss=loss, metrics=[acc])\n",
    "status = tf.train.Checkpoint(model=simple_model_load).restore(tf.train.latest_checkpoint('../saved_models/real_data')).expect_partial()\n",
    "status.assert_existing_objects_matched()\n",
    "simple_model_load.evaluate(val_dataset, return_dict=True, verbose=0)\n"
   ]
  },
  {
   "cell_type": "markdown",
   "metadata": {},
   "source": [
    "## Plot examples with predictions"
   ]
  },
  {
   "cell_type": "code",
   "execution_count": 127,
   "metadata": {},
   "outputs": [
    {
     "data": {
      "image/png": "[encoded data removed]",
      "text/plain": [
       "<Figure size 2160x1080 with 3 Axes>"
      ]
     },
     "metadata": {
      "needs_background": "light"
     },
     "output_type": "display_data"
    }
   ],
   "source": [
    "#Plot samples\n",
    "import matplotlib.pyplot as plt\n",
    "import numpy as np\n",
    "\n",
    "for parsed_record in val_dataset.shuffle(10).take(1):\n",
    "    data_points_0 = parsed_record[0][0]\n",
    "    data_points_1 = parsed_record[0][1]\n",
    "    data_points_2 = parsed_record[0][2]\n",
    "    true_status_0 = parsed_record[1][0].numpy()\n",
    "    true_status_1 = parsed_record[1][1].numpy()\n",
    "    true_status_2 = parsed_record[1][2].numpy()\n",
    "    pred_status_0 = simple_model.predict(parsed_record[0])[0][0]\n",
    "    pred_status_1 = simple_model.predict(parsed_record[0])[1][0]\n",
    "    pred_status_2 = simple_model.predict(parsed_record[0])[2][0]\n",
    "\n",
    "\n",
    "import matplotlib.pyplot as plt\n",
    "\n",
    "label_0 = '\\n'.join((\n",
    "    r'true status: {}'.format(true_status_0),\n",
    "    r'pred status: {}'.format(pred_status_0)))\n",
    "\n",
    "label_1 = '\\n'.join((\n",
    "    r'true status: {}'.format(true_status_1),\n",
    "    r'pred status: {}'.format(pred_status_1)))\n",
    "\n",
    "label_2 = '\\n'.join((\n",
    "    r'true status: {}'.format(true_status_2),\n",
    "    r'pred status: {}'.format(pred_status_2)))\n",
    "\n",
    "# these are matplotlib.patch.Patch properties\n",
    "props = dict(boxstyle='round', facecolor='wheat', alpha=0.5)\n",
    "\n",
    "\n",
    "\n",
    "n_rows, n_cols = 1, 3\n",
    "fig, axes = plt.subplots(n_rows, n_cols, figsize=(30, 15))\n",
    "x_axis_0 = np.linspace(-1, 10, num=data_points_0.shape[0])\n",
    "x_axis_1 = np.linspace(-1, 10, num=data_points_1.shape[0])\n",
    "x_axis_2 = np.linspace(-1, 10, num=data_points_2.shape[0])\n",
    "axes[0].plot(x_axis_0, data_points_0, label=[('true status: ', true_status_0), ('pred status: ', pred_status_0)])\n",
    "axes[1].plot(x_axis_1, data_points_1)\n",
    "axes[2].plot(x_axis_2, data_points_2)\n",
    "\n",
    "# place a text box in upper left in axes coords\n",
    "axes[0].text(0.05, 0.95, label_0, transform=axes[0].transAxes, fontsize=14,\n",
    "        verticalalignment='top', bbox=props)\n",
    "axes[1].text(0.05, 0.95, label_1, transform=axes[1].transAxes, fontsize=14,\n",
    "        verticalalignment='top', bbox=props)\n",
    "axes[2].text(0.05, 0.95, label_2, transform=axes[2].transAxes, fontsize=14,\n",
    "        verticalalignment='top', bbox=props)\n",
    "\n",
    "plt.show()"
   ]
  },
  {
   "cell_type": "markdown",
   "metadata": {},
   "source": [
    "## Try random forest"
   ]
  },
  {
   "cell_type": "code",
   "execution_count": 96,
   "metadata": {},
   "outputs": [
    {
     "data": {
      "text/plain": [
       "RandomForestClassifier(max_features=700, n_estimators=1000, oob_score=True,\n",
       "                       random_state=0)"
      ]
     },
     "execution_count": 96,
     "metadata": {},
     "output_type": "execute_result"
    }
   ],
   "source": [
    "from sklearn.ensemble import RandomForestClassifier\n",
    "from sklearn.model_selection import train_test_split\n",
    "\n",
    "X_train, X_test, y_train, y_test = train_test_split(df_data, df_status[0], test_size=0.2, random_state=42)\n",
    "\n",
    "clf = RandomForestClassifier(1000, random_state=0, oob_score=True, max_features=700)\n",
    "clf.fit(X_train, y_train)"
   ]
  },
  {
   "cell_type": "code",
   "execution_count": 97,
   "metadata": {},
   "outputs": [
    {
     "name": "stdout",
     "output_type": "stream",
     "text": [
      "Train accuracy : 1.0\n",
      "Test accuracy : 0.9230769230769231\n"
     ]
    }
   ],
   "source": [
    "print(\"Train accuracy :\", clf.score(X_train, y_train))\n",
    "print(\"Test accuracy :\", clf.score(X_test, y_test))"
   ]
  }
 ],
 "metadata": {
  "kernelspec": {
   "display_name": "Python 3",
   "language": "python",
   "name": "python3"
  },
  "language_info": {
   "codemirror_mode": {
    "name": "ipython",
    "version": 3
   },
   "file_extension": ".py",
   "mimetype": "text/x-python",
   "name": "python",
   "nbconvert_exporter": "python",
   "pygments_lexer": "ipython3",
   "version": "3.8.5"
  }
 },
 "nbformat": 4,
 "nbformat_minor": 1
}
